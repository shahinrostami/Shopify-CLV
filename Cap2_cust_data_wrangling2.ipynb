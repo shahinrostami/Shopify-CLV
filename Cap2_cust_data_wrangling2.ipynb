{
 "cells": [
  {
   "cell_type": "markdown",
   "metadata": {},
   "source": [
    "## Second Data Wrangling and Pre-processing\n",
    "In the first notebook, we removed all of the data that could be revealing of an individual purchaser. <br>\n",
    "In this notebook, we'll eliminate some unnecessary columns and create some more important feature columns that we can then look at in more detail in the Exploratory Data Analysis."
   ]
  },
  {
   "cell_type": "markdown",
   "metadata": {},
   "source": [
    "## Goal: Eliminate unnecessary columns, create some obvious features, minimize Nan values, and separate into Items, Orders, and Customers"
   ]
  },
  {
   "cell_type": "code",
   "execution_count": 86,
   "metadata": {},
   "outputs": [],
   "source": [
    "import os\n",
    "import pandas as pd\n",
    "import numpy as np\n",
    "import datetime\n",
    "import pickle"
   ]
  },
  {
   "cell_type": "code",
   "execution_count": 87,
   "metadata": {},
   "outputs": [
    {
     "data": {
      "text/html": [
       "<div>\n",
       "<style scoped>\n",
       "    .dataframe tbody tr th:only-of-type {\n",
       "        vertical-align: middle;\n",
       "    }\n",
       "\n",
       "    .dataframe tbody tr th {\n",
       "        vertical-align: top;\n",
       "    }\n",
       "\n",
       "    .dataframe thead th {\n",
       "        text-align: right;\n",
       "    }\n",
       "</style>\n",
       "<table border=\"1\" class=\"dataframe\">\n",
       "  <thead>\n",
       "    <tr style=\"text-align: right;\">\n",
       "      <th></th>\n",
       "      <th>Name</th>\n",
       "      <th>Financial Status</th>\n",
       "      <th>Paid at</th>\n",
       "      <th>Fulfillment Status</th>\n",
       "      <th>Fulfilled at</th>\n",
       "      <th>Accepts Marketing</th>\n",
       "      <th>Currency</th>\n",
       "      <th>Subtotal</th>\n",
       "      <th>Shipping</th>\n",
       "      <th>Taxes</th>\n",
       "      <th>...</th>\n",
       "      <th>Tax 3 Name</th>\n",
       "      <th>Tax 3 Value</th>\n",
       "      <th>Tax 4 Name</th>\n",
       "      <th>Tax 4 Value</th>\n",
       "      <th>Tax 5 Name</th>\n",
       "      <th>Tax 5 Value</th>\n",
       "      <th>Receipt Number</th>\n",
       "      <th>Server</th>\n",
       "      <th>ship_bill</th>\n",
       "      <th>Cust_ID</th>\n",
       "    </tr>\n",
       "  </thead>\n",
       "  <tbody>\n",
       "    <tr>\n",
       "      <th>0</th>\n",
       "      <td>#64088</td>\n",
       "      <td>paid</td>\n",
       "      <td>2020-09-12 05:49:40 -0700</td>\n",
       "      <td>unfulfilled</td>\n",
       "      <td>NaN</td>\n",
       "      <td>no</td>\n",
       "      <td>USD</td>\n",
       "      <td>25.00</td>\n",
       "      <td>0.0</td>\n",
       "      <td>0.0</td>\n",
       "      <td>...</td>\n",
       "      <td>NaN</td>\n",
       "      <td>NaN</td>\n",
       "      <td>NaN</td>\n",
       "      <td>NaN</td>\n",
       "      <td>NaN</td>\n",
       "      <td>NaN</td>\n",
       "      <td>NaN</td>\n",
       "      <td>gmail.com</td>\n",
       "      <td>True</td>\n",
       "      <td>2.779653e+12</td>\n",
       "    </tr>\n",
       "    <tr>\n",
       "      <th>1</th>\n",
       "      <td>#64087</td>\n",
       "      <td>paid</td>\n",
       "      <td>2020-09-12 05:36:26 -0700</td>\n",
       "      <td>unfulfilled</td>\n",
       "      <td>NaN</td>\n",
       "      <td>no</td>\n",
       "      <td>USD</td>\n",
       "      <td>90.68</td>\n",
       "      <td>0.0</td>\n",
       "      <td>0.0</td>\n",
       "      <td>...</td>\n",
       "      <td>NaN</td>\n",
       "      <td>NaN</td>\n",
       "      <td>NaN</td>\n",
       "      <td>NaN</td>\n",
       "      <td>NaN</td>\n",
       "      <td>NaN</td>\n",
       "      <td>NaN</td>\n",
       "      <td>gmail.com</td>\n",
       "      <td>True</td>\n",
       "      <td>2.779539e+12</td>\n",
       "    </tr>\n",
       "    <tr>\n",
       "      <th>2</th>\n",
       "      <td>#64087</td>\n",
       "      <td>NaN</td>\n",
       "      <td>NaN</td>\n",
       "      <td>NaN</td>\n",
       "      <td>NaN</td>\n",
       "      <td>NaN</td>\n",
       "      <td>NaN</td>\n",
       "      <td>NaN</td>\n",
       "      <td>NaN</td>\n",
       "      <td>NaN</td>\n",
       "      <td>...</td>\n",
       "      <td>NaN</td>\n",
       "      <td>NaN</td>\n",
       "      <td>NaN</td>\n",
       "      <td>NaN</td>\n",
       "      <td>NaN</td>\n",
       "      <td>NaN</td>\n",
       "      <td>NaN</td>\n",
       "      <td>gmail.com</td>\n",
       "      <td>False</td>\n",
       "      <td>2.779539e+12</td>\n",
       "    </tr>\n",
       "    <tr>\n",
       "      <th>3</th>\n",
       "      <td>#64087</td>\n",
       "      <td>NaN</td>\n",
       "      <td>NaN</td>\n",
       "      <td>NaN</td>\n",
       "      <td>NaN</td>\n",
       "      <td>NaN</td>\n",
       "      <td>NaN</td>\n",
       "      <td>NaN</td>\n",
       "      <td>NaN</td>\n",
       "      <td>NaN</td>\n",
       "      <td>...</td>\n",
       "      <td>NaN</td>\n",
       "      <td>NaN</td>\n",
       "      <td>NaN</td>\n",
       "      <td>NaN</td>\n",
       "      <td>NaN</td>\n",
       "      <td>NaN</td>\n",
       "      <td>NaN</td>\n",
       "      <td>gmail.com</td>\n",
       "      <td>False</td>\n",
       "      <td>2.779539e+12</td>\n",
       "    </tr>\n",
       "    <tr>\n",
       "      <th>4</th>\n",
       "      <td>#64086</td>\n",
       "      <td>paid</td>\n",
       "      <td>2020-09-12 05:28:27 -0700</td>\n",
       "      <td>unfulfilled</td>\n",
       "      <td>NaN</td>\n",
       "      <td>yes</td>\n",
       "      <td>USD</td>\n",
       "      <td>54.97</td>\n",
       "      <td>0.0</td>\n",
       "      <td>0.0</td>\n",
       "      <td>...</td>\n",
       "      <td>NaN</td>\n",
       "      <td>NaN</td>\n",
       "      <td>NaN</td>\n",
       "      <td>NaN</td>\n",
       "      <td>NaN</td>\n",
       "      <td>NaN</td>\n",
       "      <td>NaN</td>\n",
       "      <td>gmail.com</td>\n",
       "      <td>True</td>\n",
       "      <td>2.779470e+12</td>\n",
       "    </tr>\n",
       "    <tr>\n",
       "      <th>5</th>\n",
       "      <td>#64086</td>\n",
       "      <td>NaN</td>\n",
       "      <td>NaN</td>\n",
       "      <td>NaN</td>\n",
       "      <td>NaN</td>\n",
       "      <td>NaN</td>\n",
       "      <td>NaN</td>\n",
       "      <td>NaN</td>\n",
       "      <td>NaN</td>\n",
       "      <td>NaN</td>\n",
       "      <td>...</td>\n",
       "      <td>NaN</td>\n",
       "      <td>NaN</td>\n",
       "      <td>NaN</td>\n",
       "      <td>NaN</td>\n",
       "      <td>NaN</td>\n",
       "      <td>NaN</td>\n",
       "      <td>NaN</td>\n",
       "      <td>gmail.com</td>\n",
       "      <td>False</td>\n",
       "      <td>2.779470e+12</td>\n",
       "    </tr>\n",
       "    <tr>\n",
       "      <th>6</th>\n",
       "      <td>#64085</td>\n",
       "      <td>paid</td>\n",
       "      <td>2020-09-12 05:26:56 -0700</td>\n",
       "      <td>unfulfilled</td>\n",
       "      <td>NaN</td>\n",
       "      <td>no</td>\n",
       "      <td>USD</td>\n",
       "      <td>54.97</td>\n",
       "      <td>5.0</td>\n",
       "      <td>0.0</td>\n",
       "      <td>...</td>\n",
       "      <td>NaN</td>\n",
       "      <td>NaN</td>\n",
       "      <td>NaN</td>\n",
       "      <td>NaN</td>\n",
       "      <td>NaN</td>\n",
       "      <td>NaN</td>\n",
       "      <td>NaN</td>\n",
       "      <td>gmail.com</td>\n",
       "      <td>True</td>\n",
       "      <td>2.779457e+12</td>\n",
       "    </tr>\n",
       "    <tr>\n",
       "      <th>7</th>\n",
       "      <td>#64085</td>\n",
       "      <td>NaN</td>\n",
       "      <td>NaN</td>\n",
       "      <td>NaN</td>\n",
       "      <td>NaN</td>\n",
       "      <td>NaN</td>\n",
       "      <td>NaN</td>\n",
       "      <td>NaN</td>\n",
       "      <td>NaN</td>\n",
       "      <td>NaN</td>\n",
       "      <td>...</td>\n",
       "      <td>NaN</td>\n",
       "      <td>NaN</td>\n",
       "      <td>NaN</td>\n",
       "      <td>NaN</td>\n",
       "      <td>NaN</td>\n",
       "      <td>NaN</td>\n",
       "      <td>NaN</td>\n",
       "      <td>gmail.com</td>\n",
       "      <td>False</td>\n",
       "      <td>2.779457e+12</td>\n",
       "    </tr>\n",
       "    <tr>\n",
       "      <th>8</th>\n",
       "      <td>#64084</td>\n",
       "      <td>paid</td>\n",
       "      <td>2020-09-12 05:07:11 -0700</td>\n",
       "      <td>unfulfilled</td>\n",
       "      <td>NaN</td>\n",
       "      <td>no</td>\n",
       "      <td>USD</td>\n",
       "      <td>24.98</td>\n",
       "      <td>3.0</td>\n",
       "      <td>0.0</td>\n",
       "      <td>...</td>\n",
       "      <td>NaN</td>\n",
       "      <td>NaN</td>\n",
       "      <td>NaN</td>\n",
       "      <td>NaN</td>\n",
       "      <td>NaN</td>\n",
       "      <td>NaN</td>\n",
       "      <td>NaN</td>\n",
       "      <td>gmail.com</td>\n",
       "      <td>True</td>\n",
       "      <td>2.779303e+12</td>\n",
       "    </tr>\n",
       "    <tr>\n",
       "      <th>9</th>\n",
       "      <td>#64084</td>\n",
       "      <td>NaN</td>\n",
       "      <td>NaN</td>\n",
       "      <td>NaN</td>\n",
       "      <td>NaN</td>\n",
       "      <td>NaN</td>\n",
       "      <td>NaN</td>\n",
       "      <td>NaN</td>\n",
       "      <td>NaN</td>\n",
       "      <td>NaN</td>\n",
       "      <td>...</td>\n",
       "      <td>NaN</td>\n",
       "      <td>NaN</td>\n",
       "      <td>NaN</td>\n",
       "      <td>NaN</td>\n",
       "      <td>NaN</td>\n",
       "      <td>NaN</td>\n",
       "      <td>NaN</td>\n",
       "      <td>gmail.com</td>\n",
       "      <td>False</td>\n",
       "      <td>2.779303e+12</td>\n",
       "    </tr>\n",
       "  </tbody>\n",
       "</table>\n",
       "<p>10 rows × 53 columns</p>\n",
       "</div>"
      ],
      "text/plain": [
       "     Name Financial Status                    Paid at Fulfillment Status  \\\n",
       "0  #64088             paid  2020-09-12 05:49:40 -0700        unfulfilled   \n",
       "1  #64087             paid  2020-09-12 05:36:26 -0700        unfulfilled   \n",
       "2  #64087              NaN                        NaN                NaN   \n",
       "3  #64087              NaN                        NaN                NaN   \n",
       "4  #64086             paid  2020-09-12 05:28:27 -0700        unfulfilled   \n",
       "5  #64086              NaN                        NaN                NaN   \n",
       "6  #64085             paid  2020-09-12 05:26:56 -0700        unfulfilled   \n",
       "7  #64085              NaN                        NaN                NaN   \n",
       "8  #64084             paid  2020-09-12 05:07:11 -0700        unfulfilled   \n",
       "9  #64084              NaN                        NaN                NaN   \n",
       "\n",
       "  Fulfilled at Accepts Marketing Currency  Subtotal  Shipping  Taxes  ...  \\\n",
       "0          NaN                no      USD     25.00       0.0    0.0  ...   \n",
       "1          NaN                no      USD     90.68       0.0    0.0  ...   \n",
       "2          NaN               NaN      NaN       NaN       NaN    NaN  ...   \n",
       "3          NaN               NaN      NaN       NaN       NaN    NaN  ...   \n",
       "4          NaN               yes      USD     54.97       0.0    0.0  ...   \n",
       "5          NaN               NaN      NaN       NaN       NaN    NaN  ...   \n",
       "6          NaN                no      USD     54.97       5.0    0.0  ...   \n",
       "7          NaN               NaN      NaN       NaN       NaN    NaN  ...   \n",
       "8          NaN                no      USD     24.98       3.0    0.0  ...   \n",
       "9          NaN               NaN      NaN       NaN       NaN    NaN  ...   \n",
       "\n",
       "   Tax 3 Name Tax 3 Value  Tax 4 Name Tax 4 Value Tax 5 Name  Tax 5 Value  \\\n",
       "0         NaN         NaN         NaN         NaN        NaN          NaN   \n",
       "1         NaN         NaN         NaN         NaN        NaN          NaN   \n",
       "2         NaN         NaN         NaN         NaN        NaN          NaN   \n",
       "3         NaN         NaN         NaN         NaN        NaN          NaN   \n",
       "4         NaN         NaN         NaN         NaN        NaN          NaN   \n",
       "5         NaN         NaN         NaN         NaN        NaN          NaN   \n",
       "6         NaN         NaN         NaN         NaN        NaN          NaN   \n",
       "7         NaN         NaN         NaN         NaN        NaN          NaN   \n",
       "8         NaN         NaN         NaN         NaN        NaN          NaN   \n",
       "9         NaN         NaN         NaN         NaN        NaN          NaN   \n",
       "\n",
       "  Receipt Number     Server  ship_bill       Cust_ID  \n",
       "0            NaN  gmail.com       True  2.779653e+12  \n",
       "1            NaN  gmail.com       True  2.779539e+12  \n",
       "2            NaN  gmail.com      False  2.779539e+12  \n",
       "3            NaN  gmail.com      False  2.779539e+12  \n",
       "4            NaN  gmail.com       True  2.779470e+12  \n",
       "5            NaN  gmail.com      False  2.779470e+12  \n",
       "6            NaN  gmail.com       True  2.779457e+12  \n",
       "7            NaN  gmail.com      False  2.779457e+12  \n",
       "8            NaN  gmail.com       True  2.779303e+12  \n",
       "9            NaN  gmail.com      False  2.779303e+12  \n",
       "\n",
       "[10 rows x 53 columns]"
      ]
     },
     "execution_count": 87,
     "metadata": {},
     "output_type": "execute_result"
    }
   ],
   "source": [
    "# change to the path with the raw csv file data\n",
    "os.chdir(\"C:\\Springboard\\Github\\Capstone2_cust\\Intermediate_Data\")\n",
    "# load the pickled version of the \n",
    "df = pickle.load(open(\"cust_pub3.pkl\", \"rb\"))\n",
    "# look at the first 10 rows of this file\n",
    "df.head(10)"
   ]
  },
  {
   "cell_type": "code",
   "execution_count": 88,
   "metadata": {},
   "outputs": [],
   "source": [
    "# let's drop all of the tax columns from this DF\n",
    "df.drop(['Tax 1 Name', 'Tax 1 Value', 'Tax 2 Name', 'Tax 2 Value', 'Tax 3 Name', 'Tax 3 Value', 'Tax 4 Name', 'Tax 4 Value',\n",
    "       'Tax 5 Name', 'Tax 5 Value'], axis=1, inplace=True)"
   ]
  },
  {
   "cell_type": "code",
   "execution_count": 89,
   "metadata": {},
   "outputs": [
    {
     "name": "stdout",
     "output_type": "stream",
     "text": [
      "<class 'pandas.core.frame.DataFrame'>\n",
      "RangeIndex: 142224 entries, 0 to 142223\n",
      "Data columns (total 43 columns):\n",
      " #   Column                       Non-Null Count   Dtype  \n",
      "---  ------                       --------------   -----  \n",
      " 0   Name                         142224 non-null  object \n",
      " 1   Financial Status             63084 non-null   object \n",
      " 2   Paid at                      61027 non-null   object \n",
      " 3   Fulfillment Status           63084 non-null   object \n",
      " 4   Fulfilled at                 62270 non-null   object \n",
      " 5   Accepts Marketing            63084 non-null   object \n",
      " 6   Currency                     63084 non-null   object \n",
      " 7   Subtotal                     63084 non-null   float64\n",
      " 8   Shipping                     63084 non-null   float64\n",
      " 9   Taxes                        63084 non-null   float64\n",
      " 10  Total                        63084 non-null   float64\n",
      " 11  Discount Code                7212 non-null    object \n",
      " 12  Discount Amount              63084 non-null   float64\n",
      " 13  Shipping Method              62285 non-null   object \n",
      " 14  Created at                   142224 non-null  object \n",
      " 15  Lineitem quantity            142224 non-null  int64  \n",
      " 16  Lineitem name                142224 non-null  object \n",
      " 17  Lineitem price               142224 non-null  float64\n",
      " 18  Lineitem compare at price    23289 non-null   float64\n",
      " 19  Lineitem sku                 136664 non-null  object \n",
      " 20  Lineitem requires shipping   142224 non-null  bool   \n",
      " 21  Lineitem taxable             142224 non-null  bool   \n",
      " 22  Lineitem fulfillment status  142224 non-null  object \n",
      " 23  Notes                        932 non-null     object \n",
      " 24  Note Attributes              801 non-null     object \n",
      " 25  Cancelled at                 308 non-null     object \n",
      " 26  Payment Method               59681 non-null   object \n",
      " 27  Payment Reference            61651 non-null   object \n",
      " 28  Refunded Amount              63084 non-null   float64\n",
      " 29  Vendor                       142204 non-null  float64\n",
      " 30  Outstanding Balance          63084 non-null   float64\n",
      " 31  Employee                     142224 non-null  bool   \n",
      " 32  Location                     23 non-null      object \n",
      " 33  Device ID                    0 non-null       float64\n",
      " 34  Id                           63084 non-null   float64\n",
      " 35  Tags                         11266 non-null   object \n",
      " 36  Risk Level                   63084 non-null   object \n",
      " 37  Source                       63084 non-null   object \n",
      " 38  Lineitem discount            142224 non-null  float64\n",
      " 39  Receipt Number               0 non-null       float64\n",
      " 40  Server                       142224 non-null  object \n",
      " 41  ship_bill                    142224 non-null  bool   \n",
      " 42  Cust_ID                      142224 non-null  float64\n",
      "dtypes: bool(4), float64(15), int64(1), object(23)\n",
      "memory usage: 42.9+ MB\n"
     ]
    }
   ],
   "source": [
    "df.info()"
   ]
  },
  {
   "cell_type": "code",
   "execution_count": 90,
   "metadata": {},
   "outputs": [],
   "source": [
    "# we noticed from the first 10 rows that some of these values aren't filled. Let's use forward fill since that is the same order\n",
    "df['Paid at'].fillna(method='ffill', inplace=True, limit=None)"
   ]
  },
  {
   "cell_type": "code",
   "execution_count": 91,
   "metadata": {},
   "outputs": [],
   "source": [
    "# we need to convert the \"Paid at\" column into datetime\n",
    "df['Paid at'] = pd.to_datetime(df['Paid at'], infer_datetime_format=True)"
   ]
  },
  {
   "cell_type": "code",
   "execution_count": 92,
   "metadata": {},
   "outputs": [
    {
     "data": {
      "text/html": [
       "<div>\n",
       "<style scoped>\n",
       "    .dataframe tbody tr th:only-of-type {\n",
       "        vertical-align: middle;\n",
       "    }\n",
       "\n",
       "    .dataframe tbody tr th {\n",
       "        vertical-align: top;\n",
       "    }\n",
       "\n",
       "    .dataframe thead th {\n",
       "        text-align: right;\n",
       "    }\n",
       "</style>\n",
       "<table border=\"1\" class=\"dataframe\">\n",
       "  <thead>\n",
       "    <tr style=\"text-align: right;\">\n",
       "      <th></th>\n",
       "      <th>Name</th>\n",
       "      <th>Financial Status</th>\n",
       "      <th>Paid at</th>\n",
       "      <th>Fulfillment Status</th>\n",
       "      <th>Fulfilled at</th>\n",
       "      <th>Accepts Marketing</th>\n",
       "      <th>Currency</th>\n",
       "      <th>Subtotal</th>\n",
       "      <th>Shipping</th>\n",
       "      <th>Taxes</th>\n",
       "      <th>...</th>\n",
       "      <th>Device ID</th>\n",
       "      <th>Id</th>\n",
       "      <th>Tags</th>\n",
       "      <th>Risk Level</th>\n",
       "      <th>Source</th>\n",
       "      <th>Lineitem discount</th>\n",
       "      <th>Receipt Number</th>\n",
       "      <th>Server</th>\n",
       "      <th>ship_bill</th>\n",
       "      <th>Cust_ID</th>\n",
       "    </tr>\n",
       "  </thead>\n",
       "  <tbody>\n",
       "    <tr>\n",
       "      <th>0</th>\n",
       "      <td>#64088</td>\n",
       "      <td>paid</td>\n",
       "      <td>2020-09-12 05:49:40-07:00</td>\n",
       "      <td>unfulfilled</td>\n",
       "      <td>NaN</td>\n",
       "      <td>no</td>\n",
       "      <td>USD</td>\n",
       "      <td>25.00</td>\n",
       "      <td>0.0</td>\n",
       "      <td>0.0</td>\n",
       "      <td>...</td>\n",
       "      <td>NaN</td>\n",
       "      <td>2.779653e+12</td>\n",
       "      <td>NaN</td>\n",
       "      <td>Low</td>\n",
       "      <td>web</td>\n",
       "      <td>0.0</td>\n",
       "      <td>NaN</td>\n",
       "      <td>gmail.com</td>\n",
       "      <td>True</td>\n",
       "      <td>2.779653e+12</td>\n",
       "    </tr>\n",
       "    <tr>\n",
       "      <th>1</th>\n",
       "      <td>#64087</td>\n",
       "      <td>paid</td>\n",
       "      <td>2020-09-12 05:36:26-07:00</td>\n",
       "      <td>unfulfilled</td>\n",
       "      <td>NaN</td>\n",
       "      <td>no</td>\n",
       "      <td>USD</td>\n",
       "      <td>90.68</td>\n",
       "      <td>0.0</td>\n",
       "      <td>0.0</td>\n",
       "      <td>...</td>\n",
       "      <td>NaN</td>\n",
       "      <td>2.779539e+12</td>\n",
       "      <td>NaN</td>\n",
       "      <td>Low</td>\n",
       "      <td>web</td>\n",
       "      <td>0.0</td>\n",
       "      <td>NaN</td>\n",
       "      <td>gmail.com</td>\n",
       "      <td>True</td>\n",
       "      <td>2.779539e+12</td>\n",
       "    </tr>\n",
       "    <tr>\n",
       "      <th>2</th>\n",
       "      <td>#64087</td>\n",
       "      <td>NaN</td>\n",
       "      <td>2020-09-12 05:36:26-07:00</td>\n",
       "      <td>NaN</td>\n",
       "      <td>NaN</td>\n",
       "      <td>NaN</td>\n",
       "      <td>NaN</td>\n",
       "      <td>NaN</td>\n",
       "      <td>NaN</td>\n",
       "      <td>NaN</td>\n",
       "      <td>...</td>\n",
       "      <td>NaN</td>\n",
       "      <td>NaN</td>\n",
       "      <td>NaN</td>\n",
       "      <td>NaN</td>\n",
       "      <td>NaN</td>\n",
       "      <td>0.0</td>\n",
       "      <td>NaN</td>\n",
       "      <td>gmail.com</td>\n",
       "      <td>False</td>\n",
       "      <td>2.779539e+12</td>\n",
       "    </tr>\n",
       "    <tr>\n",
       "      <th>3</th>\n",
       "      <td>#64087</td>\n",
       "      <td>NaN</td>\n",
       "      <td>2020-09-12 05:36:26-07:00</td>\n",
       "      <td>NaN</td>\n",
       "      <td>NaN</td>\n",
       "      <td>NaN</td>\n",
       "      <td>NaN</td>\n",
       "      <td>NaN</td>\n",
       "      <td>NaN</td>\n",
       "      <td>NaN</td>\n",
       "      <td>...</td>\n",
       "      <td>NaN</td>\n",
       "      <td>NaN</td>\n",
       "      <td>NaN</td>\n",
       "      <td>NaN</td>\n",
       "      <td>NaN</td>\n",
       "      <td>0.0</td>\n",
       "      <td>NaN</td>\n",
       "      <td>gmail.com</td>\n",
       "      <td>False</td>\n",
       "      <td>2.779539e+12</td>\n",
       "    </tr>\n",
       "    <tr>\n",
       "      <th>4</th>\n",
       "      <td>#64086</td>\n",
       "      <td>paid</td>\n",
       "      <td>2020-09-12 05:28:27-07:00</td>\n",
       "      <td>unfulfilled</td>\n",
       "      <td>NaN</td>\n",
       "      <td>yes</td>\n",
       "      <td>USD</td>\n",
       "      <td>54.97</td>\n",
       "      <td>0.0</td>\n",
       "      <td>0.0</td>\n",
       "      <td>...</td>\n",
       "      <td>NaN</td>\n",
       "      <td>2.779470e+12</td>\n",
       "      <td>NaN</td>\n",
       "      <td>Low</td>\n",
       "      <td>web</td>\n",
       "      <td>0.0</td>\n",
       "      <td>NaN</td>\n",
       "      <td>gmail.com</td>\n",
       "      <td>True</td>\n",
       "      <td>2.779470e+12</td>\n",
       "    </tr>\n",
       "    <tr>\n",
       "      <th>5</th>\n",
       "      <td>#64086</td>\n",
       "      <td>NaN</td>\n",
       "      <td>2020-09-12 05:28:27-07:00</td>\n",
       "      <td>NaN</td>\n",
       "      <td>NaN</td>\n",
       "      <td>NaN</td>\n",
       "      <td>NaN</td>\n",
       "      <td>NaN</td>\n",
       "      <td>NaN</td>\n",
       "      <td>NaN</td>\n",
       "      <td>...</td>\n",
       "      <td>NaN</td>\n",
       "      <td>NaN</td>\n",
       "      <td>NaN</td>\n",
       "      <td>NaN</td>\n",
       "      <td>NaN</td>\n",
       "      <td>0.0</td>\n",
       "      <td>NaN</td>\n",
       "      <td>gmail.com</td>\n",
       "      <td>False</td>\n",
       "      <td>2.779470e+12</td>\n",
       "    </tr>\n",
       "    <tr>\n",
       "      <th>6</th>\n",
       "      <td>#64085</td>\n",
       "      <td>paid</td>\n",
       "      <td>2020-09-12 05:26:56-07:00</td>\n",
       "      <td>unfulfilled</td>\n",
       "      <td>NaN</td>\n",
       "      <td>no</td>\n",
       "      <td>USD</td>\n",
       "      <td>54.97</td>\n",
       "      <td>5.0</td>\n",
       "      <td>0.0</td>\n",
       "      <td>...</td>\n",
       "      <td>NaN</td>\n",
       "      <td>2.779457e+12</td>\n",
       "      <td>NaN</td>\n",
       "      <td>Low</td>\n",
       "      <td>web</td>\n",
       "      <td>0.0</td>\n",
       "      <td>NaN</td>\n",
       "      <td>gmail.com</td>\n",
       "      <td>True</td>\n",
       "      <td>2.779457e+12</td>\n",
       "    </tr>\n",
       "    <tr>\n",
       "      <th>7</th>\n",
       "      <td>#64085</td>\n",
       "      <td>NaN</td>\n",
       "      <td>2020-09-12 05:26:56-07:00</td>\n",
       "      <td>NaN</td>\n",
       "      <td>NaN</td>\n",
       "      <td>NaN</td>\n",
       "      <td>NaN</td>\n",
       "      <td>NaN</td>\n",
       "      <td>NaN</td>\n",
       "      <td>NaN</td>\n",
       "      <td>...</td>\n",
       "      <td>NaN</td>\n",
       "      <td>NaN</td>\n",
       "      <td>NaN</td>\n",
       "      <td>NaN</td>\n",
       "      <td>NaN</td>\n",
       "      <td>0.0</td>\n",
       "      <td>NaN</td>\n",
       "      <td>gmail.com</td>\n",
       "      <td>False</td>\n",
       "      <td>2.779457e+12</td>\n",
       "    </tr>\n",
       "    <tr>\n",
       "      <th>8</th>\n",
       "      <td>#64084</td>\n",
       "      <td>paid</td>\n",
       "      <td>2020-09-12 05:07:11-07:00</td>\n",
       "      <td>unfulfilled</td>\n",
       "      <td>NaN</td>\n",
       "      <td>no</td>\n",
       "      <td>USD</td>\n",
       "      <td>24.98</td>\n",
       "      <td>3.0</td>\n",
       "      <td>0.0</td>\n",
       "      <td>...</td>\n",
       "      <td>NaN</td>\n",
       "      <td>2.779303e+12</td>\n",
       "      <td>NaN</td>\n",
       "      <td>Low</td>\n",
       "      <td>web</td>\n",
       "      <td>0.0</td>\n",
       "      <td>NaN</td>\n",
       "      <td>gmail.com</td>\n",
       "      <td>True</td>\n",
       "      <td>2.779303e+12</td>\n",
       "    </tr>\n",
       "    <tr>\n",
       "      <th>9</th>\n",
       "      <td>#64084</td>\n",
       "      <td>NaN</td>\n",
       "      <td>2020-09-12 05:07:11-07:00</td>\n",
       "      <td>NaN</td>\n",
       "      <td>NaN</td>\n",
       "      <td>NaN</td>\n",
       "      <td>NaN</td>\n",
       "      <td>NaN</td>\n",
       "      <td>NaN</td>\n",
       "      <td>NaN</td>\n",
       "      <td>...</td>\n",
       "      <td>NaN</td>\n",
       "      <td>NaN</td>\n",
       "      <td>NaN</td>\n",
       "      <td>NaN</td>\n",
       "      <td>NaN</td>\n",
       "      <td>0.0</td>\n",
       "      <td>NaN</td>\n",
       "      <td>gmail.com</td>\n",
       "      <td>False</td>\n",
       "      <td>2.779303e+12</td>\n",
       "    </tr>\n",
       "  </tbody>\n",
       "</table>\n",
       "<p>10 rows × 43 columns</p>\n",
       "</div>"
      ],
      "text/plain": [
       "     Name Financial Status                    Paid at Fulfillment Status  \\\n",
       "0  #64088             paid  2020-09-12 05:49:40-07:00        unfulfilled   \n",
       "1  #64087             paid  2020-09-12 05:36:26-07:00        unfulfilled   \n",
       "2  #64087              NaN  2020-09-12 05:36:26-07:00                NaN   \n",
       "3  #64087              NaN  2020-09-12 05:36:26-07:00                NaN   \n",
       "4  #64086             paid  2020-09-12 05:28:27-07:00        unfulfilled   \n",
       "5  #64086              NaN  2020-09-12 05:28:27-07:00                NaN   \n",
       "6  #64085             paid  2020-09-12 05:26:56-07:00        unfulfilled   \n",
       "7  #64085              NaN  2020-09-12 05:26:56-07:00                NaN   \n",
       "8  #64084             paid  2020-09-12 05:07:11-07:00        unfulfilled   \n",
       "9  #64084              NaN  2020-09-12 05:07:11-07:00                NaN   \n",
       "\n",
       "  Fulfilled at Accepts Marketing Currency  Subtotal  Shipping  Taxes  ...  \\\n",
       "0          NaN                no      USD     25.00       0.0    0.0  ...   \n",
       "1          NaN                no      USD     90.68       0.0    0.0  ...   \n",
       "2          NaN               NaN      NaN       NaN       NaN    NaN  ...   \n",
       "3          NaN               NaN      NaN       NaN       NaN    NaN  ...   \n",
       "4          NaN               yes      USD     54.97       0.0    0.0  ...   \n",
       "5          NaN               NaN      NaN       NaN       NaN    NaN  ...   \n",
       "6          NaN                no      USD     54.97       5.0    0.0  ...   \n",
       "7          NaN               NaN      NaN       NaN       NaN    NaN  ...   \n",
       "8          NaN                no      USD     24.98       3.0    0.0  ...   \n",
       "9          NaN               NaN      NaN       NaN       NaN    NaN  ...   \n",
       "\n",
       "   Device ID            Id  Tags Risk Level Source  Lineitem discount  \\\n",
       "0        NaN  2.779653e+12   NaN        Low    web                0.0   \n",
       "1        NaN  2.779539e+12   NaN        Low    web                0.0   \n",
       "2        NaN           NaN   NaN        NaN    NaN                0.0   \n",
       "3        NaN           NaN   NaN        NaN    NaN                0.0   \n",
       "4        NaN  2.779470e+12   NaN        Low    web                0.0   \n",
       "5        NaN           NaN   NaN        NaN    NaN                0.0   \n",
       "6        NaN  2.779457e+12   NaN        Low    web                0.0   \n",
       "7        NaN           NaN   NaN        NaN    NaN                0.0   \n",
       "8        NaN  2.779303e+12   NaN        Low    web                0.0   \n",
       "9        NaN           NaN   NaN        NaN    NaN                0.0   \n",
       "\n",
       "  Receipt Number     Server  ship_bill       Cust_ID  \n",
       "0            NaN  gmail.com       True  2.779653e+12  \n",
       "1            NaN  gmail.com       True  2.779539e+12  \n",
       "2            NaN  gmail.com      False  2.779539e+12  \n",
       "3            NaN  gmail.com      False  2.779539e+12  \n",
       "4            NaN  gmail.com       True  2.779470e+12  \n",
       "5            NaN  gmail.com      False  2.779470e+12  \n",
       "6            NaN  gmail.com       True  2.779457e+12  \n",
       "7            NaN  gmail.com      False  2.779457e+12  \n",
       "8            NaN  gmail.com       True  2.779303e+12  \n",
       "9            NaN  gmail.com      False  2.779303e+12  \n",
       "\n",
       "[10 rows x 43 columns]"
      ]
     },
     "execution_count": 92,
     "metadata": {},
     "output_type": "execute_result"
    }
   ],
   "source": [
    "df.head(10)"
   ]
  },
  {
   "cell_type": "code",
   "execution_count": 93,
   "metadata": {},
   "outputs": [],
   "source": [
    "# let's drop some more useless columns\n",
    "df.drop(['Taxes', 'Notes', 'Note Attributes',\n",
    "       'Cancelled at'], axis=1, inplace=True)"
   ]
  },
  {
   "cell_type": "code",
   "execution_count": 94,
   "metadata": {},
   "outputs": [
    {
     "name": "stdout",
     "output_type": "stream",
     "text": [
      "<class 'pandas.core.frame.DataFrame'>\n",
      "RangeIndex: 142224 entries, 0 to 142223\n",
      "Data columns (total 39 columns):\n",
      " #   Column                       Non-Null Count   Dtype  \n",
      "---  ------                       --------------   -----  \n",
      " 0   Name                         142224 non-null  object \n",
      " 1   Financial Status             63084 non-null   object \n",
      " 2   Paid at                      142224 non-null  object \n",
      " 3   Fulfillment Status           63084 non-null   object \n",
      " 4   Fulfilled at                 62270 non-null   object \n",
      " 5   Accepts Marketing            63084 non-null   object \n",
      " 6   Currency                     63084 non-null   object \n",
      " 7   Subtotal                     63084 non-null   float64\n",
      " 8   Shipping                     63084 non-null   float64\n",
      " 9   Total                        63084 non-null   float64\n",
      " 10  Discount Code                7212 non-null    object \n",
      " 11  Discount Amount              63084 non-null   float64\n",
      " 12  Shipping Method              62285 non-null   object \n",
      " 13  Created at                   142224 non-null  object \n",
      " 14  Lineitem quantity            142224 non-null  int64  \n",
      " 15  Lineitem name                142224 non-null  object \n",
      " 16  Lineitem price               142224 non-null  float64\n",
      " 17  Lineitem compare at price    23289 non-null   float64\n",
      " 18  Lineitem sku                 136664 non-null  object \n",
      " 19  Lineitem requires shipping   142224 non-null  bool   \n",
      " 20  Lineitem taxable             142224 non-null  bool   \n",
      " 21  Lineitem fulfillment status  142224 non-null  object \n",
      " 22  Payment Method               59681 non-null   object \n",
      " 23  Payment Reference            61651 non-null   object \n",
      " 24  Refunded Amount              63084 non-null   float64\n",
      " 25  Vendor                       142204 non-null  float64\n",
      " 26  Outstanding Balance          63084 non-null   float64\n",
      " 27  Employee                     142224 non-null  bool   \n",
      " 28  Location                     23 non-null      object \n",
      " 29  Device ID                    0 non-null       float64\n",
      " 30  Id                           63084 non-null   float64\n",
      " 31  Tags                         11266 non-null   object \n",
      " 32  Risk Level                   63084 non-null   object \n",
      " 33  Source                       63084 non-null   object \n",
      " 34  Lineitem discount            142224 non-null  float64\n",
      " 35  Receipt Number               0 non-null       float64\n",
      " 36  Server                       142224 non-null  object \n",
      " 37  ship_bill                    142224 non-null  bool   \n",
      " 38  Cust_ID                      142224 non-null  float64\n",
      "dtypes: bool(4), float64(14), int64(1), object(20)\n",
      "memory usage: 38.5+ MB\n"
     ]
    }
   ],
   "source": [
    "df.info()"
   ]
  },
  {
   "cell_type": "code",
   "execution_count": 95,
   "metadata": {},
   "outputs": [],
   "source": [
    "# Reciept Number is empty - drop that\n",
    "# Fullfilled at is missing a lot of values - we are using 'Paid at '\n",
    "# remove a few more columns that are too sparse to be useful in modeling\n",
    "df.drop(['Fulfilled at', 'Receipt Number', 'Location', 'Device ID', 'Id', 'Risk Level'], axis=1, inplace=True)"
   ]
  },
  {
   "cell_type": "code",
   "execution_count": 96,
   "metadata": {
    "scrolled": true
   },
   "outputs": [
    {
     "data": {
      "text/plain": [
       "USD    63084\n",
       "Name: Currency, dtype: int64"
      ]
     },
     "execution_count": 96,
     "metadata": {},
     "output_type": "execute_result"
    }
   ],
   "source": [
    "# Let's see what currencies are used\n",
    "df['Currency'].value_counts()"
   ]
  },
  {
   "cell_type": "code",
   "execution_count": 97,
   "metadata": {},
   "outputs": [],
   "source": [
    "# it's just USD ($) or NaN. Not worth keeping that column\n",
    "df.drop(['Currency'], axis=1, inplace=True)"
   ]
  },
  {
   "cell_type": "code",
   "execution_count": 98,
   "metadata": {
    "scrolled": false
   },
   "outputs": [
    {
     "data": {
      "text/html": [
       "<div>\n",
       "<style scoped>\n",
       "    .dataframe tbody tr th:only-of-type {\n",
       "        vertical-align: middle;\n",
       "    }\n",
       "\n",
       "    .dataframe tbody tr th {\n",
       "        vertical-align: top;\n",
       "    }\n",
       "\n",
       "    .dataframe thead th {\n",
       "        text-align: right;\n",
       "    }\n",
       "</style>\n",
       "<table border=\"1\" class=\"dataframe\">\n",
       "  <thead>\n",
       "    <tr style=\"text-align: right;\">\n",
       "      <th></th>\n",
       "      <th>Paid at</th>\n",
       "      <th>Created at</th>\n",
       "    </tr>\n",
       "  </thead>\n",
       "  <tbody>\n",
       "    <tr>\n",
       "      <th>42524</th>\n",
       "      <td>2020-06-05 18:54:05-07:00</td>\n",
       "      <td>2020-06-05 18:54:04 -0700</td>\n",
       "    </tr>\n",
       "    <tr>\n",
       "      <th>31277</th>\n",
       "      <td>2020-07-01 11:15:19-07:00</td>\n",
       "      <td>2020-07-01 11:15:18 -0700</td>\n",
       "    </tr>\n",
       "    <tr>\n",
       "      <th>2441</th>\n",
       "      <td>2020-09-03 09:39:06-07:00</td>\n",
       "      <td>2020-09-03 09:39:05 -0700</td>\n",
       "    </tr>\n",
       "    <tr>\n",
       "      <th>92113</th>\n",
       "      <td>2020-01-20 12:50:56-08:00</td>\n",
       "      <td>2020-01-20 12:50:56 -0800</td>\n",
       "    </tr>\n",
       "    <tr>\n",
       "      <th>97049</th>\n",
       "      <td>2020-01-07 23:16:02-08:00</td>\n",
       "      <td>2020-01-07 23:16:00 -0800</td>\n",
       "    </tr>\n",
       "    <tr>\n",
       "      <th>73091</th>\n",
       "      <td>2020-03-25 15:19:03-07:00</td>\n",
       "      <td>2020-03-25 15:19:02 -0700</td>\n",
       "    </tr>\n",
       "    <tr>\n",
       "      <th>18392</th>\n",
       "      <td>2020-07-31 04:12:17-07:00</td>\n",
       "      <td>2020-07-31 04:12:16 -0700</td>\n",
       "    </tr>\n",
       "    <tr>\n",
       "      <th>35968</th>\n",
       "      <td>2020-06-19 13:53:53-07:00</td>\n",
       "      <td>2020-06-19 13:53:52 -0700</td>\n",
       "    </tr>\n",
       "    <tr>\n",
       "      <th>114395</th>\n",
       "      <td>2019-11-21 16:28:48-08:00</td>\n",
       "      <td>2019-11-21 16:28:47 -0800</td>\n",
       "    </tr>\n",
       "    <tr>\n",
       "      <th>50413</th>\n",
       "      <td>2020-05-20 12:56:10-07:00</td>\n",
       "      <td>2020-05-20 12:56:10 -0700</td>\n",
       "    </tr>\n",
       "  </tbody>\n",
       "</table>\n",
       "</div>"
      ],
      "text/plain": [
       "                          Paid at                 Created at\n",
       "42524   2020-06-05 18:54:05-07:00  2020-06-05 18:54:04 -0700\n",
       "31277   2020-07-01 11:15:19-07:00  2020-07-01 11:15:18 -0700\n",
       "2441    2020-09-03 09:39:06-07:00  2020-09-03 09:39:05 -0700\n",
       "92113   2020-01-20 12:50:56-08:00  2020-01-20 12:50:56 -0800\n",
       "97049   2020-01-07 23:16:02-08:00  2020-01-07 23:16:00 -0800\n",
       "73091   2020-03-25 15:19:03-07:00  2020-03-25 15:19:02 -0700\n",
       "18392   2020-07-31 04:12:17-07:00  2020-07-31 04:12:16 -0700\n",
       "35968   2020-06-19 13:53:53-07:00  2020-06-19 13:53:52 -0700\n",
       "114395  2019-11-21 16:28:48-08:00  2019-11-21 16:28:47 -0800\n",
       "50413   2020-05-20 12:56:10-07:00  2020-05-20 12:56:10 -0700"
      ]
     },
     "execution_count": 98,
     "metadata": {},
     "output_type": "execute_result"
    }
   ],
   "source": [
    "# let's look at Paid at vs. Created at\n",
    "df[['Paid at', 'Created at']].sample(10)"
   ]
  },
  {
   "cell_type": "markdown",
   "metadata": {},
   "source": [
    "Those looks to be identical except for a 1-2 second lag for the payment. I'm good with dropping the paid at column"
   ]
  },
  {
   "cell_type": "code",
   "execution_count": 99,
   "metadata": {},
   "outputs": [],
   "source": [
    "df.drop(['Paid at'], axis=1, inplace=True)"
   ]
  },
  {
   "cell_type": "code",
   "execution_count": 100,
   "metadata": {},
   "outputs": [],
   "source": [
    "# since we are using 'Created at' as the time stamp, let's convert it to date time\n",
    "# we need to convert the \"Paid at\" column into datetime\n",
    "df['Created at'] = pd.to_datetime(df['Created at'], infer_datetime_format=True, utc=True)"
   ]
  },
  {
   "cell_type": "code",
   "execution_count": 101,
   "metadata": {},
   "outputs": [
    {
     "name": "stdout",
     "output_type": "stream",
     "text": [
      "<class 'pandas.core.frame.DataFrame'>\n",
      "RangeIndex: 142224 entries, 0 to 142223\n",
      "Data columns (total 31 columns):\n",
      " #   Column                       Non-Null Count   Dtype              \n",
      "---  ------                       --------------   -----              \n",
      " 0   Name                         142224 non-null  object             \n",
      " 1   Financial Status             63084 non-null   object             \n",
      " 2   Fulfillment Status           63084 non-null   object             \n",
      " 3   Accepts Marketing            63084 non-null   object             \n",
      " 4   Subtotal                     63084 non-null   float64            \n",
      " 5   Shipping                     63084 non-null   float64            \n",
      " 6   Total                        63084 non-null   float64            \n",
      " 7   Discount Code                7212 non-null    object             \n",
      " 8   Discount Amount              63084 non-null   float64            \n",
      " 9   Shipping Method              62285 non-null   object             \n",
      " 10  Created at                   142224 non-null  datetime64[ns, UTC]\n",
      " 11  Lineitem quantity            142224 non-null  int64              \n",
      " 12  Lineitem name                142224 non-null  object             \n",
      " 13  Lineitem price               142224 non-null  float64            \n",
      " 14  Lineitem compare at price    23289 non-null   float64            \n",
      " 15  Lineitem sku                 136664 non-null  object             \n",
      " 16  Lineitem requires shipping   142224 non-null  bool               \n",
      " 17  Lineitem taxable             142224 non-null  bool               \n",
      " 18  Lineitem fulfillment status  142224 non-null  object             \n",
      " 19  Payment Method               59681 non-null   object             \n",
      " 20  Payment Reference            61651 non-null   object             \n",
      " 21  Refunded Amount              63084 non-null   float64            \n",
      " 22  Vendor                       142204 non-null  float64            \n",
      " 23  Outstanding Balance          63084 non-null   float64            \n",
      " 24  Employee                     142224 non-null  bool               \n",
      " 25  Tags                         11266 non-null   object             \n",
      " 26  Source                       63084 non-null   object             \n",
      " 27  Lineitem discount            142224 non-null  float64            \n",
      " 28  Server                       142224 non-null  object             \n",
      " 29  ship_bill                    142224 non-null  bool               \n",
      " 30  Cust_ID                      142224 non-null  float64            \n",
      "dtypes: bool(4), datetime64[ns, UTC](1), float64(11), int64(1), object(14)\n",
      "memory usage: 29.8+ MB\n"
     ]
    }
   ],
   "source": [
    "df.info()"
   ]
  },
  {
   "cell_type": "markdown",
   "metadata": {},
   "source": [
    "### These look pretty good. Now, it's time to start filling in some of the NaN values"
   ]
  },
  {
   "cell_type": "code",
   "execution_count": 102,
   "metadata": {
    "scrolled": true
   },
   "outputs": [
    {
     "data": {
      "text/plain": [
       "paid                  61766\n",
       "refunded                690\n",
       "partially_refunded      616\n",
       "partially_paid            7\n",
       "pending                   5\n",
       "Name: Financial Status, dtype: int64"
      ]
     },
     "execution_count": 102,
     "metadata": {},
     "output_type": "execute_result"
    }
   ],
   "source": [
    "# For financial status\n",
    "df['Financial Status'].value_counts()"
   ]
  },
  {
   "cell_type": "code",
   "execution_count": 103,
   "metadata": {},
   "outputs": [],
   "source": [
    "# it looks like the first line of an order has that Financial Status; we'll forward fill\n",
    "df['Financial Status'].fillna(method='ffill', inplace=True, limit=25)"
   ]
  },
  {
   "cell_type": "code",
   "execution_count": 104,
   "metadata": {},
   "outputs": [],
   "source": [
    "# same applies for Fulfillment Status\n",
    "df['Fulfillment Status'].fillna(method='ffill', inplace=True, limit=25)"
   ]
  },
  {
   "cell_type": "code",
   "execution_count": 105,
   "metadata": {},
   "outputs": [],
   "source": [
    "# same is true for Accepts Marketing\n",
    "df['Accepts Marketing'].fillna(method='ffill', inplace=True, limit=25)"
   ]
  },
  {
   "cell_type": "code",
   "execution_count": 106,
   "metadata": {
    "scrolled": false
   },
   "outputs": [
    {
     "data": {
      "text/plain": [
       "Subscription, Subscription Recurring Order                                                                                     1113\n",
       "Subscription, Subscription First Order                                                                                          896\n",
       "recurring_order                                                                                                                 480\n",
       "0-3DB542442Y809192H, carthook-checkout, ch_FID_carthook-checkout, ch_id_0htFEtCty4bxpLxlrrqK                                      3\n",
       "0-100137263438, CartHook Checkout, carthook-skinquiz-minikits, ch_FID_carthook-skinquiz-minikit, ch_id_H7WWZqswDx8D5DW9jH9d       3\n",
       "                                                                                                                               ... \n",
       "0-17A85825SW0119916, carthook-checkout, ch_FID_carthook-checkout, ch_id_gSZFKoS417bJStT8Gssc                                      1\n",
       "0-9KF295619G013161G, carthook-checkout, ch_FID_carthook-checkout, ch_id_bbhXe7az5OrJBhfVkpZw                                      1\n",
       "0-6ET005511E4913812, carthook-checkout, ch_FID_carthook-checkout, ch_id_Go7hVGi1irQeBfOXG7JS                                      1\n",
       "0-100137622249, CartHook Checkout, carthook-skinquiz-minikits, ch_FID_carthook-skinquiz-minikit, ch_id_cyyjTxaolTiBOeb2grgD       1\n",
       "0-100136030461, CartHook Checkout, carthook-skinquiz-minikits, ch_FID_carthook-skinquiz-minikit, ch_id_DFUq43iGzOHMH7Jqi4dT       1\n",
       "Name: Tags, Length: 8657, dtype: int64"
      ]
     },
     "execution_count": 106,
     "metadata": {},
     "output_type": "execute_result"
    }
   ],
   "source": [
    "df['Tags'].value_counts()"
   ]
  },
  {
   "cell_type": "code",
   "execution_count": 107,
   "metadata": {},
   "outputs": [],
   "source": [
    "# these look unnecessarily complicated, so we'll drop\n",
    "df.drop(['Tags'], axis=1, inplace=True)"
   ]
  },
  {
   "cell_type": "code",
   "execution_count": 108,
   "metadata": {},
   "outputs": [
    {
     "name": "stdout",
     "output_type": "stream",
     "text": [
      "<class 'pandas.core.frame.DataFrame'>\n",
      "RangeIndex: 142224 entries, 0 to 142223\n",
      "Data columns (total 30 columns):\n",
      " #   Column                       Non-Null Count   Dtype              \n",
      "---  ------                       --------------   -----              \n",
      " 0   Name                         142224 non-null  object             \n",
      " 1   Financial Status             142217 non-null  object             \n",
      " 2   Fulfillment Status           142217 non-null  object             \n",
      " 3   Accepts Marketing            142217 non-null  object             \n",
      " 4   Subtotal                     63084 non-null   float64            \n",
      " 5   Shipping                     63084 non-null   float64            \n",
      " 6   Total                        63084 non-null   float64            \n",
      " 7   Discount Code                7212 non-null    object             \n",
      " 8   Discount Amount              63084 non-null   float64            \n",
      " 9   Shipping Method              62285 non-null   object             \n",
      " 10  Created at                   142224 non-null  datetime64[ns, UTC]\n",
      " 11  Lineitem quantity            142224 non-null  int64              \n",
      " 12  Lineitem name                142224 non-null  object             \n",
      " 13  Lineitem price               142224 non-null  float64            \n",
      " 14  Lineitem compare at price    23289 non-null   float64            \n",
      " 15  Lineitem sku                 136664 non-null  object             \n",
      " 16  Lineitem requires shipping   142224 non-null  bool               \n",
      " 17  Lineitem taxable             142224 non-null  bool               \n",
      " 18  Lineitem fulfillment status  142224 non-null  object             \n",
      " 19  Payment Method               59681 non-null   object             \n",
      " 20  Payment Reference            61651 non-null   object             \n",
      " 21  Refunded Amount              63084 non-null   float64            \n",
      " 22  Vendor                       142204 non-null  float64            \n",
      " 23  Outstanding Balance          63084 non-null   float64            \n",
      " 24  Employee                     142224 non-null  bool               \n",
      " 25  Source                       63084 non-null   object             \n",
      " 26  Lineitem discount            142224 non-null  float64            \n",
      " 27  Server                       142224 non-null  object             \n",
      " 28  ship_bill                    142224 non-null  bool               \n",
      " 29  Cust_ID                      142224 non-null  float64            \n",
      "dtypes: bool(4), datetime64[ns, UTC](1), float64(11), int64(1), object(13)\n",
      "memory usage: 28.8+ MB\n"
     ]
    }
   ],
   "source": [
    "df.info()"
   ]
  },
  {
   "cell_type": "code",
   "execution_count": 109,
   "metadata": {
    "scrolled": true
   },
   "outputs": [
    {
     "data": {
      "text/plain": [
       "c12047268741177.1    1\n",
       "#54614.1             1\n",
       "#59270.1             1\n",
       "#56142.1             1\n",
       "c14227404521640.1    1\n",
       "                    ..\n",
       "#58255.1             1\n",
       "c11835502723129.1    1\n",
       "c11999264473145.1    1\n",
       "c14430360207528.1    1\n",
       "c11994906853433.1    1\n",
       "Name: Payment Reference, Length: 61651, dtype: int64"
      ]
     },
     "execution_count": 109,
     "metadata": {},
     "output_type": "execute_result"
    }
   ],
   "source": [
    "# let's look at Payment Reference\n",
    "df['Payment Reference'].value_counts()"
   ]
  },
  {
   "cell_type": "code",
   "execution_count": 110,
   "metadata": {},
   "outputs": [],
   "source": [
    "# let's drop it\n",
    "df.drop(['Payment Reference'], axis=1, inplace=True)"
   ]
  },
  {
   "cell_type": "code",
   "execution_count": 111,
   "metadata": {},
   "outputs": [],
   "source": [
    "# let's create one more feature that would be usable: total items in an order\n",
    "df['ITEMS'] = df.groupby('Name')['Lineitem quantity'].transform('sum')"
   ]
  },
  {
   "cell_type": "code",
   "execution_count": 112,
   "metadata": {
    "scrolled": false
   },
   "outputs": [
    {
     "data": {
      "text/plain": [
       "array([  1,   3,   2,   5,   4,   6,  10,   7,   8,  11,  12,   9,  14,\n",
       "        22,  15,  80,  20,  40,  19,  18,  30,  50,  52,  45,  33,  16,\n",
       "        13, 100,  25,  35,  26,  21,  17], dtype=int64)"
      ]
     },
     "execution_count": 112,
     "metadata": {},
     "output_type": "execute_result"
    }
   ],
   "source": [
    "df['ITEMS'].unique()"
   ]
  },
  {
   "cell_type": "code",
   "execution_count": 113,
   "metadata": {},
   "outputs": [
    {
     "data": {
      "text/plain": [
       "#5957     33\n",
       "#60457    22\n",
       "#34086    20\n",
       "#25140    19\n",
       "#10488    16\n",
       "          ..\n",
       "#38866     1\n",
       "#10925     1\n",
       "#63638     1\n",
       "#23742     1\n",
       "#46976     1\n",
       "Name: Name, Length: 63084, dtype: int64"
      ]
     },
     "execution_count": 113,
     "metadata": {},
     "output_type": "execute_result"
    }
   ],
   "source": [
    "# see how many unique \"names\" are in the DF\n",
    "df['Name'].value_counts()"
   ]
  },
  {
   "cell_type": "markdown",
   "metadata": {},
   "source": [
    "This looks like the same number of \"subtotal\" and some other fields that are order specific."
   ]
  },
  {
   "cell_type": "code",
   "execution_count": 114,
   "metadata": {},
   "outputs": [],
   "source": [
    "# let see if we can use the compare at price relative to the lineitem price as another feature\n",
    "df['compared'] = (df['Lineitem compare at price'] - df['Lineitem price'])/df['Lineitem price']\n",
    "# positive values mean the line item price is cheaper\n",
    "# this relative price is more important than the absolute"
   ]
  },
  {
   "cell_type": "code",
   "execution_count": 115,
   "metadata": {},
   "outputs": [],
   "source": [
    "# let's convert this to a difference in price\n",
    "df['Lineitem compare at price'] = df['Lineitem compare at price'] - df['Lineitem price']"
   ]
  },
  {
   "cell_type": "markdown",
   "metadata": {},
   "source": [
    "### Separate the Dataframe <br>\n",
    "Right now, the items and the orders are each lines in the DataFrame; we are going to separate out the orders and items in the order into 2 separate dataframes:\n",
    "### 1. Order - contains the order information\n",
    "### 2. Items - line by line items contained in an order\n",
    "### 3. Customers - contains the sum of the orders and items"
   ]
  },
  {
   "cell_type": "code",
   "execution_count": 131,
   "metadata": {},
   "outputs": [],
   "source": [
    "# create Order DF by taking the first line of a name\n",
    "Order = df.groupby('Name').first()\n",
    "\n",
    "# or I could do it groupby Name and then take the value that has a subtotal that is not null"
   ]
  },
  {
   "cell_type": "code",
   "execution_count": 132,
   "metadata": {
    "scrolled": false
   },
   "outputs": [
    {
     "name": "stdout",
     "output_type": "stream",
     "text": [
      "<class 'pandas.core.frame.DataFrame'>\n",
      "Index: 63084 entries, #10000 to #9999\n",
      "Data columns (total 30 columns):\n",
      " #   Column                       Non-Null Count  Dtype              \n",
      "---  ------                       --------------  -----              \n",
      " 0   Financial Status             63084 non-null  object             \n",
      " 1   Fulfillment Status           63084 non-null  object             \n",
      " 2   Accepts Marketing            63084 non-null  object             \n",
      " 3   Subtotal                     63084 non-null  float64            \n",
      " 4   Shipping                     63084 non-null  float64            \n",
      " 5   Total                        63084 non-null  float64            \n",
      " 6   Discount Code                7212 non-null   object             \n",
      " 7   Discount Amount              63084 non-null  float64            \n",
      " 8   Shipping Method              62285 non-null  object             \n",
      " 9   Created at                   63084 non-null  datetime64[ns, UTC]\n",
      " 10  Lineitem quantity            63084 non-null  int64              \n",
      " 11  Lineitem name                63084 non-null  object             \n",
      " 12  Lineitem price               63084 non-null  float64            \n",
      " 13  Lineitem compare at price    20733 non-null  float64            \n",
      " 14  Lineitem sku                 61034 non-null  object             \n",
      " 15  Lineitem requires shipping   63084 non-null  bool               \n",
      " 16  Lineitem taxable             63084 non-null  bool               \n",
      " 17  Lineitem fulfillment status  63084 non-null  object             \n",
      " 18  Payment Method               59681 non-null  object             \n",
      " 19  Refunded Amount              63084 non-null  float64            \n",
      " 20  Vendor                       63068 non-null  float64            \n",
      " 21  Outstanding Balance          63084 non-null  float64            \n",
      " 22  Employee                     63084 non-null  bool               \n",
      " 23  Source                       63084 non-null  object             \n",
      " 24  Lineitem discount            63084 non-null  float64            \n",
      " 25  Server                       63084 non-null  object             \n",
      " 26  ship_bill                    63084 non-null  bool               \n",
      " 27  Cust_ID                      63084 non-null  float64            \n",
      " 28  ITEMS                        63084 non-null  int64              \n",
      " 29  compared                     20733 non-null  float64            \n",
      "dtypes: bool(4), datetime64[ns, UTC](1), float64(12), int64(2), object(11)\n",
      "memory usage: 13.2+ MB\n"
     ]
    }
   ],
   "source": [
    "Order.info()"
   ]
  },
  {
   "cell_type": "code",
   "execution_count": 133,
   "metadata": {
    "scrolled": true
   },
   "outputs": [
    {
     "data": {
      "text/plain": [
       "BAMBUBEAUTY            1404\n",
       "THANKYOU10              664\n",
       "save10                  559\n",
       "Custom discount         274\n",
       "CARACLARKNUTRITION      221\n",
       "                       ... \n",
       "Seeding Erika Anne        1\n",
       "1c780f2526cf              1\n",
       "$10OFF-bc9334a84150       1\n",
       "WEMISSYOU                 1\n",
       "RealSavingsc9e838f9       1\n",
       "Name: Discount Code, Length: 920, dtype: int64"
      ]
     },
     "execution_count": 133,
     "metadata": {},
     "output_type": "execute_result"
    }
   ],
   "source": [
    "# let's look at discount codes\n",
    "Order['Discount Code'].value_counts()"
   ]
  },
  {
   "cell_type": "markdown",
   "metadata": {},
   "source": [
    "The most popular discount codes are used largely enough that they could provide some value, but the largest code is used on 2% of all orders; discount codes are used on 11% of orders. I think it's best to just consider the discount amount to start and that's already contained in another column, so we'll drop this column."
   ]
  },
  {
   "cell_type": "code",
   "execution_count": 134,
   "metadata": {},
   "outputs": [],
   "source": [
    "Order.drop(['Discount Code'], axis=1, inplace=True)"
   ]
  },
  {
   "cell_type": "code",
   "execution_count": 135,
   "metadata": {},
   "outputs": [],
   "source": [
    "# for orders, it shouldn't matter if that particular items is taxable, so we'll drop that or the fulfillment status\n",
    "Order.drop(['Lineitem taxable', 'Lineitem fulfillment status'], axis=1, inplace=True)"
   ]
  },
  {
   "cell_type": "code",
   "execution_count": 136,
   "metadata": {},
   "outputs": [
    {
     "name": "stdout",
     "output_type": "stream",
     "text": [
      "<class 'pandas.core.frame.DataFrame'>\n",
      "Index: 63084 entries, #10000 to #9999\n",
      "Data columns (total 27 columns):\n",
      " #   Column                      Non-Null Count  Dtype              \n",
      "---  ------                      --------------  -----              \n",
      " 0   Financial Status            63084 non-null  object             \n",
      " 1   Fulfillment Status          63084 non-null  object             \n",
      " 2   Accepts Marketing           63084 non-null  object             \n",
      " 3   Subtotal                    63084 non-null  float64            \n",
      " 4   Shipping                    63084 non-null  float64            \n",
      " 5   Total                       63084 non-null  float64            \n",
      " 6   Discount Amount             63084 non-null  float64            \n",
      " 7   Shipping Method             62285 non-null  object             \n",
      " 8   Created at                  63084 non-null  datetime64[ns, UTC]\n",
      " 9   Lineitem quantity           63084 non-null  int64              \n",
      " 10  Lineitem name               63084 non-null  object             \n",
      " 11  Lineitem price              63084 non-null  float64            \n",
      " 12  Lineitem compare at price   20733 non-null  float64            \n",
      " 13  Lineitem sku                61034 non-null  object             \n",
      " 14  Lineitem requires shipping  63084 non-null  bool               \n",
      " 15  Payment Method              59681 non-null  object             \n",
      " 16  Refunded Amount             63084 non-null  float64            \n",
      " 17  Vendor                      63068 non-null  float64            \n",
      " 18  Outstanding Balance         63084 non-null  float64            \n",
      " 19  Employee                    63084 non-null  bool               \n",
      " 20  Source                      63084 non-null  object             \n",
      " 21  Lineitem discount           63084 non-null  float64            \n",
      " 22  Server                      63084 non-null  object             \n",
      " 23  ship_bill                   63084 non-null  bool               \n",
      " 24  Cust_ID                     63084 non-null  float64            \n",
      " 25  ITEMS                       63084 non-null  int64              \n",
      " 26  compared                    20733 non-null  float64            \n",
      "dtypes: bool(3), datetime64[ns, UTC](1), float64(12), int64(2), object(9)\n",
      "memory usage: 12.2+ MB\n"
     ]
    }
   ],
   "source": [
    "Order.info()"
   ]
  },
  {
   "cell_type": "code",
   "execution_count": 137,
   "metadata": {},
   "outputs": [],
   "source": [
    "# let's fill the payment method with \"unknown for the missing values\"\n",
    "Order['Payment Method'].fillna(value='Unknown', inplace=True)"
   ]
  },
  {
   "cell_type": "code",
   "execution_count": 138,
   "metadata": {},
   "outputs": [
    {
     "data": {
      "text/plain": [
       "True     33591\n",
       "False    29493\n",
       "Name: Lineitem requires shipping, dtype: int64"
      ]
     },
     "execution_count": 138,
     "metadata": {},
     "output_type": "execute_result"
    }
   ],
   "source": [
    "# let's look at Line item requires shipping\n",
    "Order['Lineitem requires shipping'].value_counts()"
   ]
  },
  {
   "cell_type": "markdown",
   "metadata": {},
   "source": [
    "That seems reasonable enough; let's keep that"
   ]
  },
  {
   "cell_type": "code",
   "execution_count": 139,
   "metadata": {},
   "outputs": [],
   "source": [
    "# let's drop some more unnecessary info; line item name should be covered in the sku\n",
    "Order['Lineitem sku'].fillna(value=Order['Lineitem name'], inplace=True)\n",
    "Order.drop(['Lineitem name'], axis=1, inplace=True)"
   ]
  },
  {
   "cell_type": "code",
   "execution_count": 140,
   "metadata": {
    "scrolled": false
   },
   "outputs": [
    {
     "name": "stdout",
     "output_type": "stream",
     "text": [
      "<class 'pandas.core.frame.DataFrame'>\n",
      "Index: 63084 entries, #10000 to #9999\n",
      "Data columns (total 26 columns):\n",
      " #   Column                      Non-Null Count  Dtype              \n",
      "---  ------                      --------------  -----              \n",
      " 0   Financial Status            63084 non-null  object             \n",
      " 1   Fulfillment Status          63084 non-null  object             \n",
      " 2   Accepts Marketing           63084 non-null  object             \n",
      " 3   Subtotal                    63084 non-null  float64            \n",
      " 4   Shipping                    63084 non-null  float64            \n",
      " 5   Total                       63084 non-null  float64            \n",
      " 6   Discount Amount             63084 non-null  float64            \n",
      " 7   Shipping Method             62285 non-null  object             \n",
      " 8   Created at                  63084 non-null  datetime64[ns, UTC]\n",
      " 9   Lineitem quantity           63084 non-null  int64              \n",
      " 10  Lineitem price              63084 non-null  float64            \n",
      " 11  Lineitem compare at price   20733 non-null  float64            \n",
      " 12  Lineitem sku                63084 non-null  object             \n",
      " 13  Lineitem requires shipping  63084 non-null  bool               \n",
      " 14  Payment Method              63084 non-null  object             \n",
      " 15  Refunded Amount             63084 non-null  float64            \n",
      " 16  Vendor                      63068 non-null  float64            \n",
      " 17  Outstanding Balance         63084 non-null  float64            \n",
      " 18  Employee                    63084 non-null  bool               \n",
      " 19  Source                      63084 non-null  object             \n",
      " 20  Lineitem discount           63084 non-null  float64            \n",
      " 21  Server                      63084 non-null  object             \n",
      " 22  ship_bill                   63084 non-null  bool               \n",
      " 23  Cust_ID                     63084 non-null  float64            \n",
      " 24  ITEMS                       63084 non-null  int64              \n",
      " 25  compared                    20733 non-null  float64            \n",
      "dtypes: bool(3), datetime64[ns, UTC](1), float64(12), int64(2), object(8)\n",
      "memory usage: 11.7+ MB\n"
     ]
    }
   ],
   "source": [
    "Order.info()"
   ]
  },
  {
   "cell_type": "code",
   "execution_count": 141,
   "metadata": {
    "scrolled": false
   },
   "outputs": [
    {
     "data": {
      "text/plain": [
       "Standard Shipping (5-7 Business Days)             20338\n",
       "USPS First Class Package (5-7 Business Days)      14909\n",
       "USPS First Class Package (2-5 Business Days)       7680\n",
       "Free Shipping (5-8 Business Days)                  6902\n",
       "Priority Mail                                      2349\n",
       "Fedex 2Day (2-3 Business Days)                     1124\n",
       "First Class Package                                 925\n",
       "Flat Rate Shipping                                  818\n",
       "Standard Shipping (5-8 Business Days)               781\n",
       "USPS Priority Mail (1-3 Business Days)              772\n",
       "Free shipping                                       742\n",
       "Standard Shipping (free)                            696\n",
       "Priority Mail (2-4 Business Days)                   569\n",
       "UPS® Ground                                         539\n",
       "USPS First Class International                      503\n",
       "Always Free Shipping                                480\n",
       "Free shipping for orders over $99                   463\n",
       "USPS First Class                                    216\n",
       "2-3 Day Priority Mail (USPS)                        178\n",
       "Free Shipping (5-7 Business Days)                   172\n",
       "USPS First Class International Package              162\n",
       "Fedex Ground (2-5 Business Days)                    139\n",
       "USPS                                                102\n",
       "USPS Priority Mail                                   77\n",
       "First Class Package International                    77\n",
       "Free shipping on orders $75+                         77\n",
       "Pick up at our location in Mission Viejo, CA         73\n",
       "Free Standard Shipping on Orders of $75+             68\n",
       "UPS 2nd Day Air®                                     63\n",
       "Priority Mail Express                                48\n",
       "Pick up at our Trabuco Canyon, CA location           46\n",
       "Free Shipping on Orders of $75+                      36\n",
       "USPS Priority Mail (3-5 Business Days)               27\n",
       "USPS Priority Mail Express (1-2 Business Days)       17\n",
       "Pick Up in Havelock, NC                              12\n",
       "UPS 2nd Day Air (2-3 Business Days)                  12\n",
       "Free local pick up                                   11\n",
       "International                                        10\n",
       "Priority Mail Express International                  10\n",
       "Free shipping for orders over $49                    10\n",
       "Priority Mail International                           8\n",
       "UPS Ground (2-6 Business Days)                        8\n",
       "Standard International                                8\n",
       "Rush Shipping                                         6\n",
       "FREE SHIPPING today only!                             5\n",
       "Pick Up (Long Beach, CA)                              4\n",
       "Digital Free                                          3\n",
       "Shipping invoiced at time of shipment                 2\n",
       "Aus. Shipping                                         1\n",
       "Shipping charges invoiced at time of shipment         1\n",
       "Canada Post                                           1\n",
       "Custom                                                1\n",
       "Flat Rate                                             1\n",
       "Large Flat Rate Box                                   1\n",
       "Shipping                                              1\n",
       "Shipping not required                                 1\n",
       "Name: Shipping Method, dtype: int64"
      ]
     },
     "execution_count": 141,
     "metadata": {},
     "output_type": "execute_result"
    }
   ],
   "source": [
    "# let's find out how this shipping method looks\n",
    "Order['Shipping Method'].value_counts()"
   ]
  },
  {
   "cell_type": "code",
   "execution_count": 142,
   "metadata": {},
   "outputs": [],
   "source": [
    "# let's fill that shipping method with unknown - Shipping Method\n",
    "Order['Shipping Method'].fillna(value='Unknown', inplace=True)"
   ]
  },
  {
   "cell_type": "markdown",
   "metadata": {},
   "source": [
    "### I think that wraps it up for the Order DF\n",
    "\n",
    "### On to the Items DF that contains all of the line items in the orders"
   ]
  },
  {
   "cell_type": "code",
   "execution_count": null,
   "metadata": {},
   "outputs": [],
   "source": [
    "# every row in the dataframe represents a line item, so we'll keep them in \n",
    "Items = df1.copy()"
   ]
  },
  {
   "cell_type": "markdown",
   "metadata": {},
   "source": [
    "### That takes care of the Items DF\n",
    "\n",
    "### Still have to work on the Customer DF"
   ]
  },
  {
   "cell_type": "code",
   "execution_count": null,
   "metadata": {},
   "outputs": [],
   "source": []
  },
  {
   "cell_type": "code",
   "execution_count": null,
   "metadata": {},
   "outputs": [],
   "source": []
  },
  {
   "cell_type": "code",
   "execution_count": null,
   "metadata": {},
   "outputs": [],
   "source": []
  },
  {
   "cell_type": "code",
   "execution_count": null,
   "metadata": {},
   "outputs": [],
   "source": []
  }
 ],
 "metadata": {
  "kernelspec": {
   "display_name": "Python 3",
   "language": "python",
   "name": "python3"
  },
  "language_info": {
   "codemirror_mode": {
    "name": "ipython",
    "version": 3
   },
   "file_extension": ".py",
   "mimetype": "text/x-python",
   "name": "python",
   "nbconvert_exporter": "python",
   "pygments_lexer": "ipython3",
   "version": "3.7.6"
  }
 },
 "nbformat": 4,
 "nbformat_minor": 4
}
