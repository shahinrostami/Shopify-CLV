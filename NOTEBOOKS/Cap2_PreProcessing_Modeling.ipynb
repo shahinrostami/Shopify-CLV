{
 "cells": [
  {
   "cell_type": "markdown",
   "metadata": {},
   "source": [
    "### Goals of this notebook:\n",
    "### 1. Preprocesses the data to prepare for modeling\n",
    "### 2. Modeling using a number of different models\n"
   ]
  },
  {
   "cell_type": "code",
   "execution_count": 113,
   "metadata": {},
   "outputs": [],
   "source": [
    "#load python packages\n",
    "import os\n",
    "import pandas as pd\n",
    "import datetime\n",
    "import seaborn as sns\n",
    "import matplotlib.pyplot as plt\n",
    "import numpy as np\n",
    "from sklearn import preprocessing\n",
    "import xgboost as xgb"
   ]
  },
  {
   "cell_type": "markdown",
   "metadata": {},
   "source": [
    "## I. Preprocessing\n",
    "We get the data ready to model by dropping some features, creating dummy variables for catagorical features, and scaling the features."
   ]
  },
  {
   "cell_type": "code",
   "execution_count": 114,
   "metadata": {},
   "outputs": [],
   "source": [
    "import pickle\n",
    "os.chdir(\"C:\\Springboard\\Github\\Capstone2_cust\\Intermediate_Data\")"
   ]
  },
  {
   "cell_type": "code",
   "execution_count": 115,
   "metadata": {},
   "outputs": [
    {
     "data": {
      "text/html": [
       "<div>\n",
       "<style scoped>\n",
       "    .dataframe tbody tr th:only-of-type {\n",
       "        vertical-align: middle;\n",
       "    }\n",
       "\n",
       "    .dataframe tbody tr th {\n",
       "        vertical-align: top;\n",
       "    }\n",
       "\n",
       "    .dataframe thead th {\n",
       "        text-align: right;\n",
       "    }\n",
       "</style>\n",
       "<table border=\"1\" class=\"dataframe\">\n",
       "  <thead>\n",
       "    <tr style=\"text-align: right;\">\n",
       "      <th></th>\n",
       "      <th>first_total</th>\n",
       "      <th>Marketing_first</th>\n",
       "      <th>first_items</th>\n",
       "      <th>first_order</th>\n",
       "      <th>server</th>\n",
       "      <th>Vendor</th>\n",
       "      <th>Source</th>\n",
       "      <th>Area_Code</th>\n",
       "      <th>Ship_Zip</th>\n",
       "      <th>lead_sku</th>\n",
       "      <th>weekday</th>\n",
       "      <th>mon</th>\n",
       "      <th>first_tot_lg</th>\n",
       "      <th>first_it_lg</th>\n",
       "      <th>boost</th>\n",
       "    </tr>\n",
       "  </thead>\n",
       "  <tbody>\n",
       "    <tr>\n",
       "      <th>1</th>\n",
       "      <td>145.58</td>\n",
       "      <td>1</td>\n",
       "      <td>2</td>\n",
       "      <td>2019-11-26 21:44:16+00:00</td>\n",
       "      <td>custom</td>\n",
       "      <td>1.0</td>\n",
       "      <td>web</td>\n",
       "      <td>404</td>\n",
       "      <td>30087</td>\n",
       "      <td>other</td>\n",
       "      <td>Tuesday</td>\n",
       "      <td>November</td>\n",
       "      <td>2.163102</td>\n",
       "      <td>0.30103</td>\n",
       "      <td>1</td>\n",
       "    </tr>\n",
       "    <tr>\n",
       "      <th>2</th>\n",
       "      <td>137.55</td>\n",
       "      <td>0</td>\n",
       "      <td>5</td>\n",
       "      <td>2019-11-26 20:52:08+00:00</td>\n",
       "      <td>custom</td>\n",
       "      <td>1.0</td>\n",
       "      <td>web</td>\n",
       "      <td>845</td>\n",
       "      <td>12545</td>\n",
       "      <td>other</td>\n",
       "      <td>Tuesday</td>\n",
       "      <td>November</td>\n",
       "      <td>2.138461</td>\n",
       "      <td>0.69897</td>\n",
       "      <td>1</td>\n",
       "    </tr>\n",
       "    <tr>\n",
       "      <th>3</th>\n",
       "      <td>22.98</td>\n",
       "      <td>1</td>\n",
       "      <td>2</td>\n",
       "      <td>2019-11-26 18:12:04+00:00</td>\n",
       "      <td>custom</td>\n",
       "      <td>1.0</td>\n",
       "      <td>web</td>\n",
       "      <td>262</td>\n",
       "      <td>53402</td>\n",
       "      <td>ROUTEINS10</td>\n",
       "      <td>Tuesday</td>\n",
       "      <td>November</td>\n",
       "      <td>1.361350</td>\n",
       "      <td>0.30103</td>\n",
       "      <td>1</td>\n",
       "    </tr>\n",
       "    <tr>\n",
       "      <th>4</th>\n",
       "      <td>28.00</td>\n",
       "      <td>0</td>\n",
       "      <td>1</td>\n",
       "      <td>2019-08-07 18:14:49+00:00</td>\n",
       "      <td>custom</td>\n",
       "      <td>0.0</td>\n",
       "      <td>web</td>\n",
       "      <td>617</td>\n",
       "      <td>01983</td>\n",
       "      <td>BEM1003</td>\n",
       "      <td>Wednesday</td>\n",
       "      <td>August</td>\n",
       "      <td>1.447158</td>\n",
       "      <td>0.00000</td>\n",
       "      <td>1</td>\n",
       "    </tr>\n",
       "    <tr>\n",
       "      <th>5</th>\n",
       "      <td>12.00</td>\n",
       "      <td>1</td>\n",
       "      <td>1</td>\n",
       "      <td>2019-08-07 18:05:28+00:00</td>\n",
       "      <td>custom</td>\n",
       "      <td>0.0</td>\n",
       "      <td>web</td>\n",
       "      <td>740</td>\n",
       "      <td>43143</td>\n",
       "      <td>other</td>\n",
       "      <td>Wednesday</td>\n",
       "      <td>August</td>\n",
       "      <td>1.079181</td>\n",
       "      <td>0.00000</td>\n",
       "      <td>1</td>\n",
       "    </tr>\n",
       "    <tr>\n",
       "      <th>6</th>\n",
       "      <td>42.00</td>\n",
       "      <td>0</td>\n",
       "      <td>2</td>\n",
       "      <td>2019-08-07 03:45:52+00:00</td>\n",
       "      <td>custom</td>\n",
       "      <td>0.0</td>\n",
       "      <td>web</td>\n",
       "      <td>701</td>\n",
       "      <td>58801</td>\n",
       "      <td>BES1006</td>\n",
       "      <td>Wednesday</td>\n",
       "      <td>August</td>\n",
       "      <td>1.623249</td>\n",
       "      <td>0.30103</td>\n",
       "      <td>1</td>\n",
       "    </tr>\n",
       "    <tr>\n",
       "      <th>7</th>\n",
       "      <td>27.20</td>\n",
       "      <td>1</td>\n",
       "      <td>1</td>\n",
       "      <td>2019-08-06 22:00:54+00:00</td>\n",
       "      <td>custom</td>\n",
       "      <td>0.0</td>\n",
       "      <td>web</td>\n",
       "      <td>754</td>\n",
       "      <td>33026</td>\n",
       "      <td>BEM6001</td>\n",
       "      <td>Tuesday</td>\n",
       "      <td>August</td>\n",
       "      <td>1.434569</td>\n",
       "      <td>0.00000</td>\n",
       "      <td>1</td>\n",
       "    </tr>\n",
       "    <tr>\n",
       "      <th>8</th>\n",
       "      <td>22.00</td>\n",
       "      <td>1</td>\n",
       "      <td>2</td>\n",
       "      <td>2019-08-06 20:22:25+00:00</td>\n",
       "      <td>custom</td>\n",
       "      <td>0.0</td>\n",
       "      <td>web</td>\n",
       "      <td>unknown</td>\n",
       "      <td>01880</td>\n",
       "      <td>BES5001</td>\n",
       "      <td>Tuesday</td>\n",
       "      <td>August</td>\n",
       "      <td>1.342423</td>\n",
       "      <td>0.30103</td>\n",
       "      <td>1</td>\n",
       "    </tr>\n",
       "    <tr>\n",
       "      <th>9</th>\n",
       "      <td>100.00</td>\n",
       "      <td>1</td>\n",
       "      <td>5</td>\n",
       "      <td>2019-08-06 19:59:05+00:00</td>\n",
       "      <td>custom</td>\n",
       "      <td>0.0</td>\n",
       "      <td>web</td>\n",
       "      <td>617</td>\n",
       "      <td>01880</td>\n",
       "      <td>BEM1007</td>\n",
       "      <td>Tuesday</td>\n",
       "      <td>August</td>\n",
       "      <td>2.000000</td>\n",
       "      <td>0.69897</td>\n",
       "      <td>1</td>\n",
       "    </tr>\n",
       "    <tr>\n",
       "      <th>10</th>\n",
       "      <td>36.64</td>\n",
       "      <td>1</td>\n",
       "      <td>2</td>\n",
       "      <td>2019-08-06 19:14:49+00:00</td>\n",
       "      <td>custom</td>\n",
       "      <td>0.0</td>\n",
       "      <td>web</td>\n",
       "      <td>626</td>\n",
       "      <td>92887</td>\n",
       "      <td>BEM1007</td>\n",
       "      <td>Tuesday</td>\n",
       "      <td>August</td>\n",
       "      <td>1.563955</td>\n",
       "      <td>0.30103</td>\n",
       "      <td>1</td>\n",
       "    </tr>\n",
       "  </tbody>\n",
       "</table>\n",
       "</div>"
      ],
      "text/plain": [
       "    first_total  Marketing_first  first_items               first_order  \\\n",
       "1        145.58                1            2 2019-11-26 21:44:16+00:00   \n",
       "2        137.55                0            5 2019-11-26 20:52:08+00:00   \n",
       "3         22.98                1            2 2019-11-26 18:12:04+00:00   \n",
       "4         28.00                0            1 2019-08-07 18:14:49+00:00   \n",
       "5         12.00                1            1 2019-08-07 18:05:28+00:00   \n",
       "6         42.00                0            2 2019-08-07 03:45:52+00:00   \n",
       "7         27.20                1            1 2019-08-06 22:00:54+00:00   \n",
       "8         22.00                1            2 2019-08-06 20:22:25+00:00   \n",
       "9        100.00                1            5 2019-08-06 19:59:05+00:00   \n",
       "10        36.64                1            2 2019-08-06 19:14:49+00:00   \n",
       "\n",
       "    server  Vendor Source Area_Code Ship_Zip    lead_sku    weekday       mon  \\\n",
       "1   custom     1.0    web       404    30087       other    Tuesday  November   \n",
       "2   custom     1.0    web       845    12545       other    Tuesday  November   \n",
       "3   custom     1.0    web       262    53402  ROUTEINS10    Tuesday  November   \n",
       "4   custom     0.0    web       617    01983     BEM1003  Wednesday    August   \n",
       "5   custom     0.0    web       740    43143       other  Wednesday    August   \n",
       "6   custom     0.0    web       701    58801     BES1006  Wednesday    August   \n",
       "7   custom     0.0    web       754    33026     BEM6001    Tuesday    August   \n",
       "8   custom     0.0    web   unknown    01880     BES5001    Tuesday    August   \n",
       "9   custom     0.0    web       617    01880     BEM1007    Tuesday    August   \n",
       "10  custom     0.0    web       626    92887     BEM1007    Tuesday    August   \n",
       "\n",
       "    first_tot_lg  first_it_lg  boost  \n",
       "1       2.163102      0.30103      1  \n",
       "2       2.138461      0.69897      1  \n",
       "3       1.361350      0.30103      1  \n",
       "4       1.447158      0.00000      1  \n",
       "5       1.079181      0.00000      1  \n",
       "6       1.623249      0.30103      1  \n",
       "7       1.434569      0.00000      1  \n",
       "8       1.342423      0.30103      1  \n",
       "9       2.000000      0.69897      1  \n",
       "10      1.563955      0.30103      1  "
      ]
     },
     "execution_count": 115,
     "metadata": {},
     "output_type": "execute_result"
    }
   ],
   "source": [
    "# load picked version of X\n",
    "X = pickle.load(open(\"X2.pkl\", \"rb\"))\n",
    "# look at the first 10 rows of this file\n",
    "X.head(10)"
   ]
  },
  {
   "cell_type": "markdown",
   "metadata": {},
   "source": [
    "That looks pretty good. Let's review what each column means: <br>\n",
    "- first_total: total $ spend on first order <br>\n",
    "- Marketing_first: whether they accept marketing on the first order <br>\n",
    "- first_items: number of items on first order <br>\n",
    "- first_order: date-time of first order <br>\n",
    "- server: domain name of the customer email server <br>\n",
    "- vendor: 0 = first order from company; 1 = first order from outside source <br>\n",
    "- Source: web or iphone\n",
    "- Area_Code: area code of order placed\n",
    "- Ship_Zip: zip code of shipping address\n",
    "- lead_sku: name of SKU that was lead item on purchase\n",
    "- weekday: day of week first order was placed\n",
    "- mon: month that first order was placed\n",
    "- first_tot_lg: log of first order total\n",
    "- first_it_lg: log of number of items in first order <br>\n",
    "<br>\n",
    "The values for some of these catagorical features need to be converted to numbers"
   ]
  },
  {
   "cell_type": "code",
   "execution_count": 116,
   "metadata": {},
   "outputs": [
    {
     "data": {
      "text/plain": [
       "web        33949\n",
       "1356615     5423\n",
       "294517       273\n",
       "457101        67\n",
       "580111        16\n",
       "412739         2\n",
       "Name: Source, dtype: int64"
      ]
     },
     "execution_count": 116,
     "metadata": {},
     "output_type": "execute_result"
    }
   ],
   "source": [
    "X['Source'].value_counts()"
   ]
  },
  {
   "cell_type": "code",
   "execution_count": 117,
   "metadata": {},
   "outputs": [],
   "source": [
    "# let's drop first order item log\n",
    "X.drop('first_it_lg', axis=1, inplace=True)"
   ]
  },
  {
   "cell_type": "code",
   "execution_count": 118,
   "metadata": {},
   "outputs": [
    {
     "name": "stdout",
     "output_type": "stream",
     "text": [
      "<class 'pandas.core.frame.DataFrame'>\n",
      "Int64Index: 39730 entries, 1 to 39770\n",
      "Data columns (total 14 columns):\n",
      " #   Column           Non-Null Count  Dtype              \n",
      "---  ------           --------------  -----              \n",
      " 0   first_total      39730 non-null  float64            \n",
      " 1   Marketing_first  39730 non-null  int64              \n",
      " 2   first_items      39730 non-null  int64              \n",
      " 3   first_order      39730 non-null  datetime64[ns, UTC]\n",
      " 4   server           39730 non-null  object             \n",
      " 5   Vendor           39730 non-null  float64            \n",
      " 6   Source           39730 non-null  object             \n",
      " 7   Area_Code        39730 non-null  object             \n",
      " 8   Ship_Zip         39730 non-null  object             \n",
      " 9   lead_sku         39730 non-null  object             \n",
      " 10  weekday          39730 non-null  object             \n",
      " 11  mon              39730 non-null  object             \n",
      " 12  first_tot_lg     39730 non-null  float64            \n",
      " 13  boost            39730 non-null  int64              \n",
      "dtypes: datetime64[ns, UTC](1), float64(3), int64(3), object(7)\n",
      "memory usage: 4.5+ MB\n"
     ]
    }
   ],
   "source": [
    "X.info()"
   ]
  },
  {
   "cell_type": "markdown",
   "metadata": {},
   "source": [
    "traditional regression can't handle date-time, so we'll drop that"
   ]
  },
  {
   "cell_type": "code",
   "execution_count": 119,
   "metadata": {},
   "outputs": [],
   "source": [
    "# drop date-time\n",
    "X.drop('first_order', axis=1, inplace=True)"
   ]
  },
  {
   "cell_type": "markdown",
   "metadata": {},
   "source": [
    "features that need dummy variables:\n",
    "- server\n",
    "- source\n",
    "- Area_Code\n",
    "- Ship_Zip\n",
    "- lead_sku\n",
    "- weekday\n",
    "- mon <br>\n",
    "<br>\n",
    "Let's look at the size of these"
   ]
  },
  {
   "cell_type": "code",
   "execution_count": 120,
   "metadata": {},
   "outputs": [
    {
     "data": {
      "text/plain": [
       "26"
      ]
     },
     "execution_count": 120,
     "metadata": {},
     "output_type": "execute_result"
    }
   ],
   "source": [
    "X['server'].nunique()"
   ]
  },
  {
   "cell_type": "code",
   "execution_count": 121,
   "metadata": {},
   "outputs": [
    {
     "data": {
      "text/plain": [
       "6"
      ]
     },
     "execution_count": 121,
     "metadata": {},
     "output_type": "execute_result"
    }
   ],
   "source": [
    "X['Source'].nunique()"
   ]
  },
  {
   "cell_type": "code",
   "execution_count": 122,
   "metadata": {},
   "outputs": [
    {
     "data": {
      "text/plain": [
       "373"
      ]
     },
     "execution_count": 122,
     "metadata": {},
     "output_type": "execute_result"
    }
   ],
   "source": [
    "X['Area_Code'].nunique()"
   ]
  },
  {
   "cell_type": "markdown",
   "metadata": {},
   "source": [
    "This is too man catagorical variables for this feature. I wonder if there are high concentrations of purchases in some zip codes that we could account for"
   ]
  },
  {
   "cell_type": "code",
   "execution_count": 123,
   "metadata": {},
   "outputs": [
    {
     "data": {
      "text/plain": [
       "unknown    21387\n",
       "949          273\n",
       "714          204\n",
       "720          161\n",
       "760          155\n",
       "310          148\n",
       "214          144\n",
       "512          144\n",
       "817          139\n",
       "801          135\n",
       "757          132\n",
       "917          131\n",
       "208          131\n",
       "909          130\n",
       "503          130\n",
       "916          129\n",
       "704          129\n",
       "360          128\n",
       "619          127\n",
       "480          121\n",
       "Name: Area_Code, dtype: int64"
      ]
     },
     "execution_count": 123,
     "metadata": {},
     "output_type": "execute_result"
    }
   ],
   "source": [
    "X['Area_Code'].value_counts().head(20)"
   ]
  },
  {
   "cell_type": "markdown",
   "metadata": {},
   "source": [
    "There are 40k customers, so the largest area code makes up 0.68% of total orders. I think this feature is too small and would add unnecessary dimensions. We will drop."
   ]
  },
  {
   "cell_type": "code",
   "execution_count": 124,
   "metadata": {},
   "outputs": [],
   "source": [
    "X.drop('Area_Code', axis=1, inplace=True)"
   ]
  },
  {
   "cell_type": "code",
   "execution_count": 125,
   "metadata": {
    "scrolled": true
   },
   "outputs": [
    {
     "data": {
      "text/plain": [
       "15930"
      ]
     },
     "execution_count": 125,
     "metadata": {},
     "output_type": "execute_result"
    }
   ],
   "source": [
    "X['Ship_Zip'].nunique()"
   ]
  },
  {
   "cell_type": "markdown",
   "metadata": {},
   "source": [
    "That is way too many features. Unless they are very concentrated in a few zip codes, we'll drop it."
   ]
  },
  {
   "cell_type": "code",
   "execution_count": 126,
   "metadata": {
    "scrolled": false
   },
   "outputs": [
    {
     "data": {
      "text/plain": [
       "92688      48\n",
       "92692      48\n",
       "unknown    48\n",
       "92691      46\n",
       "28532      41\n",
       "92694      40\n",
       "92630      39\n",
       "92627      38\n",
       "92656      31\n",
       "92679      29\n",
       "92677      27\n",
       "92675      25\n",
       "92672      24\n",
       "92626      23\n",
       "92592      22\n",
       "92629      22\n",
       "80013      22\n",
       "92660      21\n",
       "79936      20\n",
       "93551      20\n",
       "Name: Ship_Zip, dtype: int64"
      ]
     },
     "execution_count": 126,
     "metadata": {},
     "output_type": "execute_result"
    }
   ],
   "source": [
    "X['Ship_Zip'].value_counts().head(20)"
   ]
  },
  {
   "cell_type": "markdown",
   "metadata": {},
   "source": [
    "The largest zip code is still WAY too small. We'll drop this feature."
   ]
  },
  {
   "cell_type": "code",
   "execution_count": 127,
   "metadata": {},
   "outputs": [],
   "source": [
    "# drop that feature\n",
    "X.drop('Ship_Zip', axis=1, inplace=True)"
   ]
  },
  {
   "cell_type": "code",
   "execution_count": 128,
   "metadata": {},
   "outputs": [
    {
     "data": {
      "text/plain": [
       "26"
      ]
     },
     "execution_count": 128,
     "metadata": {},
     "output_type": "execute_result"
    }
   ],
   "source": [
    "X['lead_sku'].nunique()"
   ]
  },
  {
   "cell_type": "markdown",
   "metadata": {},
   "source": [
    "We know how many variables for days of the week and month there are. This means we should see: <br>\n",
    "- server: 26\n",
    "- source: 6\n",
    "- lead_sku: 26\n",
    "- weekday: 7\n",
    "- mon: 12 <br>\n",
    "- total: 77 more freatures <br>\n",
    "<br>\n",
    "That seems reasonable"
   ]
  },
  {
   "cell_type": "code",
   "execution_count": 129,
   "metadata": {},
   "outputs": [],
   "source": [
    "# dummy for server ##\n",
    "dfs = X['server']\n",
    "dummy_server = pd.get_dummies(dfs)\n",
    "X = pd.concat([X.drop('server', axis=1), dummy_server], axis=1)"
   ]
  },
  {
   "cell_type": "code",
   "execution_count": 130,
   "metadata": {},
   "outputs": [],
   "source": [
    "# Dummy for Source\n",
    "dfs = X['Source']\n",
    "dummy_source = pd.get_dummies(dfs)\n",
    "X = pd.concat([X.drop('Source', axis=1), dummy_source], axis=1)"
   ]
  },
  {
   "cell_type": "code",
   "execution_count": 131,
   "metadata": {},
   "outputs": [],
   "source": [
    "# Dummy for lead_sku\n",
    "dfs = X['lead_sku']\n",
    "dummy_source = pd.get_dummies(dfs)\n",
    "X = pd.concat([X.drop('lead_sku', axis=1), dummy_source], axis=1)"
   ]
  },
  {
   "cell_type": "code",
   "execution_count": 132,
   "metadata": {},
   "outputs": [],
   "source": [
    "# Dummy for weekday\n",
    "dfs = X['weekday']\n",
    "dummy_source = pd.get_dummies(dfs)\n",
    "X = pd.concat([X.drop('weekday', axis=1), dummy_source], axis=1)"
   ]
  },
  {
   "cell_type": "code",
   "execution_count": 133,
   "metadata": {},
   "outputs": [
    {
     "data": {
      "text/html": [
       "<div>\n",
       "<style scoped>\n",
       "    .dataframe tbody tr th:only-of-type {\n",
       "        vertical-align: middle;\n",
       "    }\n",
       "\n",
       "    .dataframe tbody tr th {\n",
       "        vertical-align: top;\n",
       "    }\n",
       "\n",
       "    .dataframe thead th {\n",
       "        text-align: right;\n",
       "    }\n",
       "</style>\n",
       "<table border=\"1\" class=\"dataframe\">\n",
       "  <thead>\n",
       "    <tr style=\"text-align: right;\">\n",
       "      <th></th>\n",
       "      <th>first_total</th>\n",
       "      <th>Marketing_first</th>\n",
       "      <th>first_items</th>\n",
       "      <th>Vendor</th>\n",
       "      <th>first_tot_lg</th>\n",
       "      <th>boost</th>\n",
       "      <th>aim.com</th>\n",
       "      <th>aol.com</th>\n",
       "      <th>att.net</th>\n",
       "      <th>bellsouth.net</th>\n",
       "      <th>...</th>\n",
       "      <th>December</th>\n",
       "      <th>February</th>\n",
       "      <th>January</th>\n",
       "      <th>July</th>\n",
       "      <th>June</th>\n",
       "      <th>March</th>\n",
       "      <th>May</th>\n",
       "      <th>November</th>\n",
       "      <th>October</th>\n",
       "      <th>September</th>\n",
       "    </tr>\n",
       "  </thead>\n",
       "  <tbody>\n",
       "    <tr>\n",
       "      <th>1</th>\n",
       "      <td>145.58</td>\n",
       "      <td>1</td>\n",
       "      <td>2</td>\n",
       "      <td>1.0</td>\n",
       "      <td>2.163102</td>\n",
       "      <td>1</td>\n",
       "      <td>0</td>\n",
       "      <td>0</td>\n",
       "      <td>0</td>\n",
       "      <td>0</td>\n",
       "      <td>...</td>\n",
       "      <td>0</td>\n",
       "      <td>0</td>\n",
       "      <td>0</td>\n",
       "      <td>0</td>\n",
       "      <td>0</td>\n",
       "      <td>0</td>\n",
       "      <td>0</td>\n",
       "      <td>1</td>\n",
       "      <td>0</td>\n",
       "      <td>0</td>\n",
       "    </tr>\n",
       "    <tr>\n",
       "      <th>2</th>\n",
       "      <td>137.55</td>\n",
       "      <td>0</td>\n",
       "      <td>5</td>\n",
       "      <td>1.0</td>\n",
       "      <td>2.138461</td>\n",
       "      <td>1</td>\n",
       "      <td>0</td>\n",
       "      <td>0</td>\n",
       "      <td>0</td>\n",
       "      <td>0</td>\n",
       "      <td>...</td>\n",
       "      <td>0</td>\n",
       "      <td>0</td>\n",
       "      <td>0</td>\n",
       "      <td>0</td>\n",
       "      <td>0</td>\n",
       "      <td>0</td>\n",
       "      <td>0</td>\n",
       "      <td>1</td>\n",
       "      <td>0</td>\n",
       "      <td>0</td>\n",
       "    </tr>\n",
       "    <tr>\n",
       "      <th>3</th>\n",
       "      <td>22.98</td>\n",
       "      <td>1</td>\n",
       "      <td>2</td>\n",
       "      <td>1.0</td>\n",
       "      <td>1.361350</td>\n",
       "      <td>1</td>\n",
       "      <td>0</td>\n",
       "      <td>0</td>\n",
       "      <td>0</td>\n",
       "      <td>0</td>\n",
       "      <td>...</td>\n",
       "      <td>0</td>\n",
       "      <td>0</td>\n",
       "      <td>0</td>\n",
       "      <td>0</td>\n",
       "      <td>0</td>\n",
       "      <td>0</td>\n",
       "      <td>0</td>\n",
       "      <td>1</td>\n",
       "      <td>0</td>\n",
       "      <td>0</td>\n",
       "    </tr>\n",
       "    <tr>\n",
       "      <th>4</th>\n",
       "      <td>28.00</td>\n",
       "      <td>0</td>\n",
       "      <td>1</td>\n",
       "      <td>0.0</td>\n",
       "      <td>1.447158</td>\n",
       "      <td>1</td>\n",
       "      <td>0</td>\n",
       "      <td>0</td>\n",
       "      <td>0</td>\n",
       "      <td>0</td>\n",
       "      <td>...</td>\n",
       "      <td>0</td>\n",
       "      <td>0</td>\n",
       "      <td>0</td>\n",
       "      <td>0</td>\n",
       "      <td>0</td>\n",
       "      <td>0</td>\n",
       "      <td>0</td>\n",
       "      <td>0</td>\n",
       "      <td>0</td>\n",
       "      <td>0</td>\n",
       "    </tr>\n",
       "    <tr>\n",
       "      <th>5</th>\n",
       "      <td>12.00</td>\n",
       "      <td>1</td>\n",
       "      <td>1</td>\n",
       "      <td>0.0</td>\n",
       "      <td>1.079181</td>\n",
       "      <td>1</td>\n",
       "      <td>0</td>\n",
       "      <td>0</td>\n",
       "      <td>0</td>\n",
       "      <td>0</td>\n",
       "      <td>...</td>\n",
       "      <td>0</td>\n",
       "      <td>0</td>\n",
       "      <td>0</td>\n",
       "      <td>0</td>\n",
       "      <td>0</td>\n",
       "      <td>0</td>\n",
       "      <td>0</td>\n",
       "      <td>0</td>\n",
       "      <td>0</td>\n",
       "      <td>0</td>\n",
       "    </tr>\n",
       "    <tr>\n",
       "      <th>...</th>\n",
       "      <td>...</td>\n",
       "      <td>...</td>\n",
       "      <td>...</td>\n",
       "      <td>...</td>\n",
       "      <td>...</td>\n",
       "      <td>...</td>\n",
       "      <td>...</td>\n",
       "      <td>...</td>\n",
       "      <td>...</td>\n",
       "      <td>...</td>\n",
       "      <td>...</td>\n",
       "      <td>...</td>\n",
       "      <td>...</td>\n",
       "      <td>...</td>\n",
       "      <td>...</td>\n",
       "      <td>...</td>\n",
       "      <td>...</td>\n",
       "      <td>...</td>\n",
       "      <td>...</td>\n",
       "      <td>...</td>\n",
       "      <td>...</td>\n",
       "    </tr>\n",
       "    <tr>\n",
       "      <th>39766</th>\n",
       "      <td>27.98</td>\n",
       "      <td>0</td>\n",
       "      <td>2</td>\n",
       "      <td>1.0</td>\n",
       "      <td>1.446848</td>\n",
       "      <td>1</td>\n",
       "      <td>0</td>\n",
       "      <td>0</td>\n",
       "      <td>0</td>\n",
       "      <td>0</td>\n",
       "      <td>...</td>\n",
       "      <td>0</td>\n",
       "      <td>0</td>\n",
       "      <td>0</td>\n",
       "      <td>0</td>\n",
       "      <td>0</td>\n",
       "      <td>0</td>\n",
       "      <td>0</td>\n",
       "      <td>0</td>\n",
       "      <td>0</td>\n",
       "      <td>1</td>\n",
       "    </tr>\n",
       "    <tr>\n",
       "      <th>39767</th>\n",
       "      <td>59.97</td>\n",
       "      <td>0</td>\n",
       "      <td>2</td>\n",
       "      <td>1.0</td>\n",
       "      <td>1.777934</td>\n",
       "      <td>1</td>\n",
       "      <td>0</td>\n",
       "      <td>0</td>\n",
       "      <td>0</td>\n",
       "      <td>0</td>\n",
       "      <td>...</td>\n",
       "      <td>0</td>\n",
       "      <td>0</td>\n",
       "      <td>0</td>\n",
       "      <td>0</td>\n",
       "      <td>0</td>\n",
       "      <td>0</td>\n",
       "      <td>0</td>\n",
       "      <td>0</td>\n",
       "      <td>0</td>\n",
       "      <td>1</td>\n",
       "    </tr>\n",
       "    <tr>\n",
       "      <th>39768</th>\n",
       "      <td>54.97</td>\n",
       "      <td>1</td>\n",
       "      <td>2</td>\n",
       "      <td>1.0</td>\n",
       "      <td>1.740126</td>\n",
       "      <td>1</td>\n",
       "      <td>0</td>\n",
       "      <td>0</td>\n",
       "      <td>0</td>\n",
       "      <td>0</td>\n",
       "      <td>...</td>\n",
       "      <td>0</td>\n",
       "      <td>0</td>\n",
       "      <td>0</td>\n",
       "      <td>0</td>\n",
       "      <td>0</td>\n",
       "      <td>0</td>\n",
       "      <td>0</td>\n",
       "      <td>0</td>\n",
       "      <td>0</td>\n",
       "      <td>1</td>\n",
       "    </tr>\n",
       "    <tr>\n",
       "      <th>39769</th>\n",
       "      <td>90.68</td>\n",
       "      <td>0</td>\n",
       "      <td>3</td>\n",
       "      <td>1.0</td>\n",
       "      <td>1.957512</td>\n",
       "      <td>1</td>\n",
       "      <td>0</td>\n",
       "      <td>0</td>\n",
       "      <td>0</td>\n",
       "      <td>0</td>\n",
       "      <td>...</td>\n",
       "      <td>0</td>\n",
       "      <td>0</td>\n",
       "      <td>0</td>\n",
       "      <td>0</td>\n",
       "      <td>0</td>\n",
       "      <td>0</td>\n",
       "      <td>0</td>\n",
       "      <td>0</td>\n",
       "      <td>0</td>\n",
       "      <td>1</td>\n",
       "    </tr>\n",
       "    <tr>\n",
       "      <th>39770</th>\n",
       "      <td>25.00</td>\n",
       "      <td>0</td>\n",
       "      <td>1</td>\n",
       "      <td>0.0</td>\n",
       "      <td>1.397940</td>\n",
       "      <td>1</td>\n",
       "      <td>0</td>\n",
       "      <td>0</td>\n",
       "      <td>0</td>\n",
       "      <td>0</td>\n",
       "      <td>...</td>\n",
       "      <td>0</td>\n",
       "      <td>0</td>\n",
       "      <td>0</td>\n",
       "      <td>0</td>\n",
       "      <td>0</td>\n",
       "      <td>0</td>\n",
       "      <td>0</td>\n",
       "      <td>0</td>\n",
       "      <td>0</td>\n",
       "      <td>1</td>\n",
       "    </tr>\n",
       "  </tbody>\n",
       "</table>\n",
       "<p>39730 rows × 83 columns</p>\n",
       "</div>"
      ],
      "text/plain": [
       "       first_total  Marketing_first  first_items  Vendor  first_tot_lg  boost  \\\n",
       "1           145.58                1            2     1.0      2.163102      1   \n",
       "2           137.55                0            5     1.0      2.138461      1   \n",
       "3            22.98                1            2     1.0      1.361350      1   \n",
       "4            28.00                0            1     0.0      1.447158      1   \n",
       "5            12.00                1            1     0.0      1.079181      1   \n",
       "...            ...              ...          ...     ...           ...    ...   \n",
       "39766        27.98                0            2     1.0      1.446848      1   \n",
       "39767        59.97                0            2     1.0      1.777934      1   \n",
       "39768        54.97                1            2     1.0      1.740126      1   \n",
       "39769        90.68                0            3     1.0      1.957512      1   \n",
       "39770        25.00                0            1     0.0      1.397940      1   \n",
       "\n",
       "       aim.com  aol.com  att.net  bellsouth.net  ...  December  February  \\\n",
       "1            0        0        0              0  ...         0         0   \n",
       "2            0        0        0              0  ...         0         0   \n",
       "3            0        0        0              0  ...         0         0   \n",
       "4            0        0        0              0  ...         0         0   \n",
       "5            0        0        0              0  ...         0         0   \n",
       "...        ...      ...      ...            ...  ...       ...       ...   \n",
       "39766        0        0        0              0  ...         0         0   \n",
       "39767        0        0        0              0  ...         0         0   \n",
       "39768        0        0        0              0  ...         0         0   \n",
       "39769        0        0        0              0  ...         0         0   \n",
       "39770        0        0        0              0  ...         0         0   \n",
       "\n",
       "       January  July  June  March  May  November  October  September  \n",
       "1            0     0     0      0    0         1        0          0  \n",
       "2            0     0     0      0    0         1        0          0  \n",
       "3            0     0     0      0    0         1        0          0  \n",
       "4            0     0     0      0    0         0        0          0  \n",
       "5            0     0     0      0    0         0        0          0  \n",
       "...        ...   ...   ...    ...  ...       ...      ...        ...  \n",
       "39766        0     0     0      0    0         0        0          1  \n",
       "39767        0     0     0      0    0         0        0          1  \n",
       "39768        0     0     0      0    0         0        0          1  \n",
       "39769        0     0     0      0    0         0        0          1  \n",
       "39770        0     0     0      0    0         0        0          1  \n",
       "\n",
       "[39730 rows x 83 columns]"
      ]
     },
     "execution_count": 133,
     "metadata": {},
     "output_type": "execute_result"
    }
   ],
   "source": [
    "# Dummy for weekday\n",
    "dfs = X['mon']\n",
    "dummy_source = pd.get_dummies(dfs)\n",
    "X = pd.concat([X.drop('mon', axis=1), dummy_source], axis=1)\n",
    "X"
   ]
  },
  {
   "cell_type": "markdown",
   "metadata": {},
   "source": [
    "That looks good. Let's load Y."
   ]
  },
  {
   "cell_type": "code",
   "execution_count": 134,
   "metadata": {},
   "outputs": [
    {
     "data": {
      "text/plain": [
       "1     2.163102\n",
       "2     2.138461\n",
       "3     1.361350\n",
       "4     1.447158\n",
       "5     1.079181\n",
       "6     1.623249\n",
       "7     1.434569\n",
       "8     1.342423\n",
       "9     2.000000\n",
       "10    1.563955\n",
       "Name: life_lg, dtype: float64"
      ]
     },
     "execution_count": 134,
     "metadata": {},
     "output_type": "execute_result"
    }
   ],
   "source": [
    "# load picked version of X\n",
    "y = pickle.load(open(\"Y2.pkl\", \"rb\"))\n",
    "# look at the first 10 rows of this file\n",
    "y.head(10)"
   ]
  },
  {
   "cell_type": "code",
   "execution_count": 135,
   "metadata": {},
   "outputs": [],
   "source": [
    "# let's scale the X values\n",
    "# Here we use the StandardScaler() method of the preprocessing package, and then call the fit() method with parameter X \n",
    "scaler = preprocessing.StandardScaler().fit(X)\n",
    "# Declare a variable called X_scaled, and assign it the result of calling the transform() method with parameter X \n",
    "X_scaled=scaler.transform(X)"
   ]
  },
  {
   "cell_type": "code",
   "execution_count": 136,
   "metadata": {},
   "outputs": [],
   "source": [
    "# let's split the training and test sets\n",
    "from sklearn.model_selection import train_test_split\n",
    "\n",
    "# Get the 1-dimensional flattened array of our response variable y by calling the ravel() function on y\n",
    "y = y.ravel()\n",
    "\n",
    "# let's do the split\n",
    "X_train, X_test, y_train, y_test = train_test_split(X_scaled, y, test_size=0.20, random_state=1)"
   ]
  },
  {
   "cell_type": "code",
   "execution_count": 137,
   "metadata": {
    "scrolled": true
   },
   "outputs": [
    {
     "data": {
      "text/plain": [
       "(1.8158008483225205, 1.8162965793223824)"
      ]
     },
     "execution_count": 137,
     "metadata": {},
     "output_type": "execute_result"
    }
   ],
   "source": [
    "# let's quickly check that the Y means to make sure the data sets are similiar\n",
    "y_train.mean(), y_test.mean()"
   ]
  },
  {
   "cell_type": "markdown",
   "metadata": {},
   "source": [
    "Those look reasonably close. <br>\n",
    "<br>\n",
    "That is the end of preprocessing. Time to model. "
   ]
  },
  {
   "cell_type": "markdown",
   "metadata": {},
   "source": [
    "## II. Modeling\n",
    "We will try a few different models: <br>\n",
    "- Linear Regression\n",
    "- Random Forest Regressor\n",
    "- Dummy Model (assume every customer is average)\n",
    "- Gradient Boost Regression"
   ]
  },
  {
   "cell_type": "code",
   "execution_count": 138,
   "metadata": {},
   "outputs": [],
   "source": [
    "# create list to track model performance\n",
    "perform = pd.DataFrame(columns=['Model', 'MAE', 'MSE', 'RMSE'])"
   ]
  },
  {
   "cell_type": "markdown",
   "metadata": {},
   "source": [
    "#### Model 1: Linear Regression"
   ]
  },
  {
   "cell_type": "code",
   "execution_count": 139,
   "metadata": {},
   "outputs": [],
   "source": [
    "#first model from X-train\n",
    "from sklearn import linear_model\n",
    "from sklearn.metrics import explained_variance_score, mean_absolute_error, mean_squared_error\n",
    "lm = linear_model.LinearRegression()\n",
    "model = lm.fit(X_train,y_train)"
   ]
  },
  {
   "cell_type": "code",
   "execution_count": 140,
   "metadata": {},
   "outputs": [
    {
     "data": {
      "text/plain": [
       "10413803859.800573"
      ]
     },
     "execution_count": 140,
     "metadata": {},
     "output_type": "execute_result"
    }
   ],
   "source": [
    "# predicted results from the first model on the X_test values\n",
    "y_pred = model.predict(X_test)\n",
    "# Mean Absolute Error\n",
    "m1_MAE = mean_absolute_error(y_test, y_pred)\n",
    "m1_MAE"
   ]
  },
  {
   "cell_type": "code",
   "execution_count": 141,
   "metadata": {},
   "outputs": [
    {
     "data": {
      "text/plain": [
       "4.3086116591378785e+23"
      ]
     },
     "execution_count": 141,
     "metadata": {},
     "output_type": "execute_result"
    }
   ],
   "source": [
    "# Mean Squared Error\n",
    "m1_MSE = mean_squared_error(y_test, y_pred)\n",
    "m1_MSE"
   ]
  },
  {
   "cell_type": "markdown",
   "metadata": {},
   "source": [
    "These values seem extremely high. I want to look at some of the values in the model really quick."
   ]
  },
  {
   "cell_type": "code",
   "execution_count": 142,
   "metadata": {},
   "outputs": [
    {
     "name": "stdout",
     "output_type": "stream",
     "text": [
      "2082760773.7394059\n"
     ]
    }
   ],
   "source": [
    "print(lm.intercept_)"
   ]
  },
  {
   "cell_type": "markdown",
   "metadata": {},
   "source": [
    "That seems way off with linear regression. Let's see if Random Forest Regressor looks any better"
   ]
  },
  {
   "cell_type": "code",
   "execution_count": 143,
   "metadata": {},
   "outputs": [],
   "source": [
    "# root mean squared error\n",
    "m1_RMSE = m1_MSE**0.5"
   ]
  },
  {
   "cell_type": "code",
   "execution_count": 144,
   "metadata": {
    "scrolled": true
   },
   "outputs": [],
   "source": [
    "perform = perform.append({'Model':'Linear Regression 1', 'MAE':m1_MAE, 'MSE':m1_MSE, 'RMSE':m1_RMSE}, ignore_index=True)"
   ]
  },
  {
   "cell_type": "markdown",
   "metadata": {},
   "source": [
    "#### 2. Random Forest Regressor"
   ]
  },
  {
   "cell_type": "code",
   "execution_count": 145,
   "metadata": {},
   "outputs": [],
   "source": [
    "from sklearn.ensemble import RandomForestRegressor"
   ]
  },
  {
   "cell_type": "code",
   "execution_count": 146,
   "metadata": {},
   "outputs": [],
   "source": [
    "# using a minimum sample of 40 or 1/1000th of the total number of customers\n",
    "regr = RandomForestRegressor(min_samples_leaf=40, random_state=33)\n",
    "model_rf = regr.fit(X_train,y_train)\n",
    "y_pred_rf = regr.predict(X_test)"
   ]
  },
  {
   "cell_type": "code",
   "execution_count": 147,
   "metadata": {},
   "outputs": [
    {
     "data": {
      "text/plain": [
       "0.184755203593603"
      ]
     },
     "execution_count": 147,
     "metadata": {},
     "output_type": "execute_result"
    }
   ],
   "source": [
    "# Mean Absolute Error\n",
    "m2_MAE = mean_absolute_error(y_test, y_pred_rf)\n",
    "m2_MAE"
   ]
  },
  {
   "cell_type": "code",
   "execution_count": 148,
   "metadata": {},
   "outputs": [
    {
     "data": {
      "text/plain": [
       "0.06807909868651355"
      ]
     },
     "execution_count": 148,
     "metadata": {},
     "output_type": "execute_result"
    }
   ],
   "source": [
    "# Mean Squared Error\n",
    "m2_MSE = mean_squared_error(y_test, y_pred_rf)\n",
    "m2_MSE"
   ]
  },
  {
   "cell_type": "code",
   "execution_count": 149,
   "metadata": {},
   "outputs": [
    {
     "data": {
      "text/plain": [
       "0.26091971693705623"
      ]
     },
     "execution_count": 149,
     "metadata": {},
     "output_type": "execute_result"
    }
   ],
   "source": [
    "# root mean squared error\n",
    "m2_RMSE = m2_MSE**0.5\n",
    "m2_RMSE"
   ]
  },
  {
   "cell_type": "markdown",
   "metadata": {},
   "source": [
    "That is so much better! <br>\n",
    "Let's look at the importance of each feature"
   ]
  },
  {
   "cell_type": "code",
   "execution_count": 150,
   "metadata": {},
   "outputs": [
    {
     "data": {
      "text/html": [
       "<div>\n",
       "<style scoped>\n",
       "    .dataframe tbody tr th:only-of-type {\n",
       "        vertical-align: middle;\n",
       "    }\n",
       "\n",
       "    .dataframe tbody tr th {\n",
       "        vertical-align: top;\n",
       "    }\n",
       "\n",
       "    .dataframe thead th {\n",
       "        text-align: right;\n",
       "    }\n",
       "</style>\n",
       "<table border=\"1\" class=\"dataframe\">\n",
       "  <thead>\n",
       "    <tr style=\"text-align: right;\">\n",
       "      <th></th>\n",
       "      <th>Importance</th>\n",
       "    </tr>\n",
       "  </thead>\n",
       "  <tbody>\n",
       "    <tr>\n",
       "      <th>first_tot_lg</th>\n",
       "      <td>0.480089</td>\n",
       "    </tr>\n",
       "    <tr>\n",
       "      <th>first_total</th>\n",
       "      <td>0.460997</td>\n",
       "    </tr>\n",
       "    <tr>\n",
       "      <th>November</th>\n",
       "      <td>0.011767</td>\n",
       "    </tr>\n",
       "    <tr>\n",
       "      <th>1356615</th>\n",
       "      <td>0.007362</td>\n",
       "    </tr>\n",
       "    <tr>\n",
       "      <th>first_items</th>\n",
       "      <td>0.003836</td>\n",
       "    </tr>\n",
       "    <tr>\n",
       "      <th>gmail.com</th>\n",
       "      <td>0.003755</td>\n",
       "    </tr>\n",
       "    <tr>\n",
       "      <th>December</th>\n",
       "      <td>0.002959</td>\n",
       "    </tr>\n",
       "    <tr>\n",
       "      <th>Marketing_first</th>\n",
       "      <td>0.002906</td>\n",
       "    </tr>\n",
       "    <tr>\n",
       "      <th>January</th>\n",
       "      <td>0.002185</td>\n",
       "    </tr>\n",
       "    <tr>\n",
       "      <th>July</th>\n",
       "      <td>0.002086</td>\n",
       "    </tr>\n",
       "    <tr>\n",
       "      <th>February</th>\n",
       "      <td>0.001912</td>\n",
       "    </tr>\n",
       "    <tr>\n",
       "      <th>ROUTEINS10</th>\n",
       "      <td>0.001487</td>\n",
       "    </tr>\n",
       "    <tr>\n",
       "      <th>April</th>\n",
       "      <td>0.001370</td>\n",
       "    </tr>\n",
       "    <tr>\n",
       "      <th>Vendor</th>\n",
       "      <td>0.001357</td>\n",
       "    </tr>\n",
       "    <tr>\n",
       "      <th>June</th>\n",
       "      <td>0.001306</td>\n",
       "    </tr>\n",
       "    <tr>\n",
       "      <th>other</th>\n",
       "      <td>0.001299</td>\n",
       "    </tr>\n",
       "    <tr>\n",
       "      <th>yahoo.com</th>\n",
       "      <td>0.001150</td>\n",
       "    </tr>\n",
       "    <tr>\n",
       "      <th>May</th>\n",
       "      <td>0.000953</td>\n",
       "    </tr>\n",
       "    <tr>\n",
       "      <th>Monday</th>\n",
       "      <td>0.000923</td>\n",
       "    </tr>\n",
       "    <tr>\n",
       "      <th>web</th>\n",
       "      <td>0.000889</td>\n",
       "    </tr>\n",
       "  </tbody>\n",
       "</table>\n",
       "</div>"
      ],
      "text/plain": [
       "                 Importance\n",
       "first_tot_lg       0.480089\n",
       "first_total        0.460997\n",
       "November           0.011767\n",
       "1356615            0.007362\n",
       "first_items        0.003836\n",
       "gmail.com          0.003755\n",
       "December           0.002959\n",
       "Marketing_first    0.002906\n",
       "January            0.002185\n",
       "July               0.002086\n",
       "February           0.001912\n",
       "ROUTEINS10         0.001487\n",
       "April              0.001370\n",
       "Vendor             0.001357\n",
       "June               0.001306\n",
       "other              0.001299\n",
       "yahoo.com          0.001150\n",
       "May                0.000953\n",
       "Monday             0.000923\n",
       "web                0.000889"
      ]
     },
     "execution_count": 150,
     "metadata": {},
     "output_type": "execute_result"
    }
   ],
   "source": [
    "coff_m2 = pd.DataFrame(model_rf.feature_importances_, X.columns, columns=['Importance'])\n",
    "coff_m2.sort_values('Importance', ascending=False).head(20)"
   ]
  },
  {
   "cell_type": "markdown",
   "metadata": {},
   "source": [
    "These are good see. <br>\n",
    "We may want to use these values to eliminate some variable from the regression model, but first let's compare the RMSE and AMSE to a dummy model that just assumes very customer is average "
   ]
  },
  {
   "cell_type": "code",
   "execution_count": 151,
   "metadata": {
    "scrolled": false
   },
   "outputs": [
    {
     "data": {
      "text/html": [
       "<div>\n",
       "<style scoped>\n",
       "    .dataframe tbody tr th:only-of-type {\n",
       "        vertical-align: middle;\n",
       "    }\n",
       "\n",
       "    .dataframe tbody tr th {\n",
       "        vertical-align: top;\n",
       "    }\n",
       "\n",
       "    .dataframe thead th {\n",
       "        text-align: right;\n",
       "    }\n",
       "</style>\n",
       "<table border=\"1\" class=\"dataframe\">\n",
       "  <thead>\n",
       "    <tr style=\"text-align: right;\">\n",
       "      <th></th>\n",
       "      <th>Importance</th>\n",
       "    </tr>\n",
       "  </thead>\n",
       "  <tbody>\n",
       "    <tr>\n",
       "      <th>BEM1007</th>\n",
       "      <td>0.0</td>\n",
       "    </tr>\n",
       "    <tr>\n",
       "      <th>me.com</th>\n",
       "      <td>0.0</td>\n",
       "    </tr>\n",
       "    <tr>\n",
       "      <th>msn.com</th>\n",
       "      <td>0.0</td>\n",
       "    </tr>\n",
       "    <tr>\n",
       "      <th>outlook.com</th>\n",
       "      <td>0.0</td>\n",
       "    </tr>\n",
       "    <tr>\n",
       "      <th>rocketmail.com</th>\n",
       "      <td>0.0</td>\n",
       "    </tr>\n",
       "    <tr>\n",
       "      <th>sbcglobal.net</th>\n",
       "      <td>0.0</td>\n",
       "    </tr>\n",
       "    <tr>\n",
       "      <th>vendor</th>\n",
       "      <td>0.0</td>\n",
       "    </tr>\n",
       "    <tr>\n",
       "      <th>mac.com</th>\n",
       "      <td>0.0</td>\n",
       "    </tr>\n",
       "    <tr>\n",
       "      <th>verizon.net</th>\n",
       "      <td>0.0</td>\n",
       "    </tr>\n",
       "    <tr>\n",
       "      <th>BES1005</th>\n",
       "      <td>0.0</td>\n",
       "    </tr>\n",
       "    <tr>\n",
       "      <th>ymail.com</th>\n",
       "      <td>0.0</td>\n",
       "    </tr>\n",
       "    <tr>\n",
       "      <th>412739</th>\n",
       "      <td>0.0</td>\n",
       "    </tr>\n",
       "    <tr>\n",
       "      <th>457101</th>\n",
       "      <td>0.0</td>\n",
       "    </tr>\n",
       "    <tr>\n",
       "      <th>580111</th>\n",
       "      <td>0.0</td>\n",
       "    </tr>\n",
       "    <tr>\n",
       "      <th>BEM1009</th>\n",
       "      <td>0.0</td>\n",
       "    </tr>\n",
       "    <tr>\n",
       "      <th>windstream.net</th>\n",
       "      <td>0.0</td>\n",
       "    </tr>\n",
       "    <tr>\n",
       "      <th>live.com</th>\n",
       "      <td>0.0</td>\n",
       "    </tr>\n",
       "    <tr>\n",
       "      <th>optonline.net</th>\n",
       "      <td>0.0</td>\n",
       "    </tr>\n",
       "    <tr>\n",
       "      <th>charter.net</th>\n",
       "      <td>0.0</td>\n",
       "    </tr>\n",
       "    <tr>\n",
       "      <th>hold</th>\n",
       "      <td>0.0</td>\n",
       "    </tr>\n",
       "    <tr>\n",
       "      <th>earthlink.net</th>\n",
       "      <td>0.0</td>\n",
       "    </tr>\n",
       "    <tr>\n",
       "      <th>cox.net</th>\n",
       "      <td>0.0</td>\n",
       "    </tr>\n",
       "    <tr>\n",
       "      <th>BES3003</th>\n",
       "      <td>0.0</td>\n",
       "    </tr>\n",
       "    <tr>\n",
       "      <th>BES5001</th>\n",
       "      <td>0.0</td>\n",
       "    </tr>\n",
       "    <tr>\n",
       "      <th>bellsouth.net</th>\n",
       "      <td>0.0</td>\n",
       "    </tr>\n",
       "  </tbody>\n",
       "</table>\n",
       "</div>"
      ],
      "text/plain": [
       "                Importance\n",
       "BEM1007                0.0\n",
       "me.com                 0.0\n",
       "msn.com                0.0\n",
       "outlook.com            0.0\n",
       "rocketmail.com         0.0\n",
       "sbcglobal.net          0.0\n",
       "vendor                 0.0\n",
       "mac.com                0.0\n",
       "verizon.net            0.0\n",
       "BES1005                0.0\n",
       "ymail.com              0.0\n",
       "412739                 0.0\n",
       "457101                 0.0\n",
       "580111                 0.0\n",
       "BEM1009                0.0\n",
       "windstream.net         0.0\n",
       "live.com               0.0\n",
       "optonline.net          0.0\n",
       "charter.net            0.0\n",
       "hold                   0.0\n",
       "earthlink.net          0.0\n",
       "cox.net                0.0\n",
       "BES3003                0.0\n",
       "BES5001                0.0\n",
       "bellsouth.net          0.0"
      ]
     },
     "execution_count": 151,
     "metadata": {},
     "output_type": "execute_result"
    }
   ],
   "source": [
    "# find the least important values\n",
    "m2_unimportant = coff_m2.sort_values('Importance', ascending=True).head(25)\n",
    "m2_unimportant"
   ]
  },
  {
   "cell_type": "markdown",
   "metadata": {},
   "source": [
    "All of these features have literally no importance on this Random Forest Regressor. We will use these later to drop from the features so that we can build a model that works with the important features only and doesn't waste time on these features."
   ]
  },
  {
   "cell_type": "code",
   "execution_count": 152,
   "metadata": {},
   "outputs": [],
   "source": [
    "perform = perform.append({'Model':'Random Forest 1', 'MAE':m2_MAE, 'MSE':m2_MSE, 'RMSE':m2_RMSE}, ignore_index=True)"
   ]
  },
  {
   "cell_type": "markdown",
   "metadata": {},
   "source": [
    "#### 3. Dummy Model (average)"
   ]
  },
  {
   "cell_type": "code",
   "execution_count": 153,
   "metadata": {},
   "outputs": [
    {
     "data": {
      "text/plain": [
       "1.8158008483225205"
      ]
     },
     "execution_count": 153,
     "metadata": {},
     "output_type": "execute_result"
    }
   ],
   "source": [
    "# dummy model is the average\n",
    "y_train.mean()"
   ]
  },
  {
   "cell_type": "code",
   "execution_count": 154,
   "metadata": {},
   "outputs": [
    {
     "data": {
      "text/plain": [
       "0.29065108266816125"
      ]
     },
     "execution_count": 154,
     "metadata": {},
     "output_type": "execute_result"
    }
   ],
   "source": [
    "# assume the model is the average of the training data (we know this value)\n",
    "y_pred_dm = np.full(y_test.size, y_train.mean())\n",
    "# Mean Absolute Error\n",
    "m3_MAE = mean_absolute_error(y_test, y_pred_dm)\n",
    "m3_MAE"
   ]
  },
  {
   "cell_type": "code",
   "execution_count": 155,
   "metadata": {},
   "outputs": [
    {
     "data": {
      "text/plain": [
       "0.14451655741084168"
      ]
     },
     "execution_count": 155,
     "metadata": {},
     "output_type": "execute_result"
    }
   ],
   "source": [
    "# Mean Squared Error\n",
    "m3_MSE = mean_squared_error(y_test, y_pred_dm)\n",
    "m3_MSE"
   ]
  },
  {
   "cell_type": "code",
   "execution_count": 156,
   "metadata": {},
   "outputs": [
    {
     "data": {
      "text/plain": [
       "0.38015333407829227"
      ]
     },
     "execution_count": 156,
     "metadata": {},
     "output_type": "execute_result"
    }
   ],
   "source": [
    "# root mean squared error\n",
    "m3_RMSE = m3_MSE**0.5\n",
    "m3_RMSE"
   ]
  },
  {
   "cell_type": "markdown",
   "metadata": {},
   "source": [
    "These are worse than the Random Forest Regressor, so that's a good thing"
   ]
  },
  {
   "cell_type": "code",
   "execution_count": 157,
   "metadata": {},
   "outputs": [
    {
     "data": {
      "text/plain": [
       "0.11923361714123604"
      ]
     },
     "execution_count": 157,
     "metadata": {},
     "output_type": "execute_result"
    }
   ],
   "source": [
    "# difference in root mean squared error between the two models\n",
    "diff = m3_RMSE - m2_RMSE\n",
    "diff"
   ]
  },
  {
   "cell_type": "code",
   "execution_count": 158,
   "metadata": {},
   "outputs": [
    {
     "data": {
      "text/plain": [
       "1.315932512657726"
      ]
     },
     "execution_count": 158,
     "metadata": {},
     "output_type": "execute_result"
    }
   ],
   "source": [
    "# lifetime dollar value of that difference\n",
    "10**diff"
   ]
  },
  {
   "cell_type": "markdown",
   "metadata": {},
   "source": [
    "That is honestly not that impressive, but is still better than the dummy model, but that is considering that difference near 0 on the log scale. Since the log scale is exponential, that difference is much greater even near the mean. <br>\n",
    "<br>\n"
   ]
  },
  {
   "cell_type": "code",
   "execution_count": 159,
   "metadata": {},
   "outputs": [
    {
     "data": {
      "text/plain": [
       "20.67260325601194"
      ]
     },
     "execution_count": 159,
     "metadata": {},
     "output_type": "execute_result"
    }
   ],
   "source": [
    "diff_mean = 10**(y_train.mean() + diff) - 10**y_train.mean()\n",
    "diff_mean"
   ]
  },
  {
   "cell_type": "markdown",
   "metadata": {},
   "source": [
    "Let's see if we can use those results to improve the models after we try the Gradient Boosting Regression"
   ]
  },
  {
   "cell_type": "code",
   "execution_count": 160,
   "metadata": {},
   "outputs": [],
   "source": [
    "perform = perform.append({'Model':'Dummy Model (average)', 'MAE':m3_MAE, 'MSE':m3_MSE, 'RMSE':m3_RMSE}, ignore_index=True)"
   ]
  },
  {
   "cell_type": "markdown",
   "metadata": {},
   "source": [
    "#### 4. Gradient Boosting Regression"
   ]
  },
  {
   "cell_type": "code",
   "execution_count": 161,
   "metadata": {},
   "outputs": [],
   "source": [
    "from sklearn.ensemble import GradientBoostingRegressor"
   ]
  },
  {
   "cell_type": "code",
   "execution_count": 162,
   "metadata": {},
   "outputs": [
    {
     "data": {
      "text/plain": [
       "0.184755203593603"
      ]
     },
     "execution_count": 162,
     "metadata": {},
     "output_type": "execute_result"
    }
   ],
   "source": [
    "# create regressor\n",
    "reg_gb = GradientBoostingRegressor(min_samples_leaf=40, random_state=0)\n",
    "# fit the regressor\n",
    "model_gb = reg_gb.fit(X_train,y_train)\n",
    "# use regressor to predict on test data\n",
    "y_pred_gb = regr.predict(X_test)\n",
    "# compare test data for a score - Mean Absolute Error\n",
    "m4_MAE = mean_absolute_error(y_test, y_pred_gb)\n",
    "m4_MAE"
   ]
  },
  {
   "cell_type": "code",
   "execution_count": 163,
   "metadata": {},
   "outputs": [
    {
     "data": {
      "text/plain": [
       "0.06807909868651355"
      ]
     },
     "execution_count": 163,
     "metadata": {},
     "output_type": "execute_result"
    }
   ],
   "source": [
    "# Mean Squared Error\n",
    "m4_MSE = mean_squared_error(y_test, y_pred_gb)\n",
    "m4_MSE"
   ]
  },
  {
   "cell_type": "code",
   "execution_count": 164,
   "metadata": {},
   "outputs": [
    {
     "data": {
      "text/plain": [
       "0.26091971693705623"
      ]
     },
     "execution_count": 164,
     "metadata": {},
     "output_type": "execute_result"
    }
   ],
   "source": [
    "# root mean squared error\n",
    "m4_RMSE = m4_MSE**0.5\n",
    "m4_RMSE"
   ]
  },
  {
   "cell_type": "markdown",
   "metadata": {},
   "source": [
    "These results are extremely good; they are very similar to the results from the Random Forest Regressor. We probably should improve these two models to get the best results. Let's look at the importance of each feature in the GB Regressor"
   ]
  },
  {
   "cell_type": "code",
   "execution_count": 165,
   "metadata": {
    "scrolled": false
   },
   "outputs": [
    {
     "data": {
      "text/html": [
       "<div>\n",
       "<style scoped>\n",
       "    .dataframe tbody tr th:only-of-type {\n",
       "        vertical-align: middle;\n",
       "    }\n",
       "\n",
       "    .dataframe tbody tr th {\n",
       "        vertical-align: top;\n",
       "    }\n",
       "\n",
       "    .dataframe thead th {\n",
       "        text-align: right;\n",
       "    }\n",
       "</style>\n",
       "<table border=\"1\" class=\"dataframe\">\n",
       "  <thead>\n",
       "    <tr style=\"text-align: right;\">\n",
       "      <th></th>\n",
       "      <th>Importance</th>\n",
       "    </tr>\n",
       "  </thead>\n",
       "  <tbody>\n",
       "    <tr>\n",
       "      <th>first_total</th>\n",
       "      <td>0.490292</td>\n",
       "    </tr>\n",
       "    <tr>\n",
       "      <th>first_tot_lg</th>\n",
       "      <td>0.456609</td>\n",
       "    </tr>\n",
       "    <tr>\n",
       "      <th>November</th>\n",
       "      <td>0.010038</td>\n",
       "    </tr>\n",
       "    <tr>\n",
       "      <th>1356615</th>\n",
       "      <td>0.006983</td>\n",
       "    </tr>\n",
       "    <tr>\n",
       "      <th>294517</th>\n",
       "      <td>0.003973</td>\n",
       "    </tr>\n",
       "    <tr>\n",
       "      <th>first_items</th>\n",
       "      <td>0.003904</td>\n",
       "    </tr>\n",
       "    <tr>\n",
       "      <th>457101</th>\n",
       "      <td>0.002933</td>\n",
       "    </tr>\n",
       "    <tr>\n",
       "      <th>BES1011</th>\n",
       "      <td>0.002509</td>\n",
       "    </tr>\n",
       "    <tr>\n",
       "      <th>July</th>\n",
       "      <td>0.002429</td>\n",
       "    </tr>\n",
       "    <tr>\n",
       "      <th>December</th>\n",
       "      <td>0.002158</td>\n",
       "    </tr>\n",
       "    <tr>\n",
       "      <th>September</th>\n",
       "      <td>0.001842</td>\n",
       "    </tr>\n",
       "    <tr>\n",
       "      <th>August</th>\n",
       "      <td>0.001454</td>\n",
       "    </tr>\n",
       "    <tr>\n",
       "      <th>February</th>\n",
       "      <td>0.001301</td>\n",
       "    </tr>\n",
       "    <tr>\n",
       "      <th>BES1010</th>\n",
       "      <td>0.001234</td>\n",
       "    </tr>\n",
       "    <tr>\n",
       "      <th>custom</th>\n",
       "      <td>0.001187</td>\n",
       "    </tr>\n",
       "    <tr>\n",
       "      <th>other</th>\n",
       "      <td>0.001159</td>\n",
       "    </tr>\n",
       "    <tr>\n",
       "      <th>boost</th>\n",
       "      <td>0.001090</td>\n",
       "    </tr>\n",
       "    <tr>\n",
       "      <th>June</th>\n",
       "      <td>0.001029</td>\n",
       "    </tr>\n",
       "    <tr>\n",
       "      <th>October</th>\n",
       "      <td>0.000958</td>\n",
       "    </tr>\n",
       "    <tr>\n",
       "      <th>ROUTEINS10</th>\n",
       "      <td>0.000945</td>\n",
       "    </tr>\n",
       "  </tbody>\n",
       "</table>\n",
       "</div>"
      ],
      "text/plain": [
       "              Importance\n",
       "first_total     0.490292\n",
       "first_tot_lg    0.456609\n",
       "November        0.010038\n",
       "1356615         0.006983\n",
       "294517          0.003973\n",
       "first_items     0.003904\n",
       "457101          0.002933\n",
       "BES1011         0.002509\n",
       "July            0.002429\n",
       "December        0.002158\n",
       "September       0.001842\n",
       "August          0.001454\n",
       "February        0.001301\n",
       "BES1010         0.001234\n",
       "custom          0.001187\n",
       "other           0.001159\n",
       "boost           0.001090\n",
       "June            0.001029\n",
       "October         0.000958\n",
       "ROUTEINS10      0.000945"
      ]
     },
     "execution_count": 165,
     "metadata": {},
     "output_type": "execute_result"
    }
   ],
   "source": [
    "# find the most important features\n",
    "coff_m4 = pd.DataFrame(model_gb.feature_importances_, X.columns, columns=['Importance'])\n",
    "coff_m4.sort_values('Importance', ascending=False).head(20)"
   ]
  },
  {
   "cell_type": "code",
   "execution_count": 166,
   "metadata": {},
   "outputs": [
    {
     "data": {
      "text/html": [
       "<div>\n",
       "<style scoped>\n",
       "    .dataframe tbody tr th:only-of-type {\n",
       "        vertical-align: middle;\n",
       "    }\n",
       "\n",
       "    .dataframe tbody tr th {\n",
       "        vertical-align: top;\n",
       "    }\n",
       "\n",
       "    .dataframe thead th {\n",
       "        text-align: right;\n",
       "    }\n",
       "</style>\n",
       "<table border=\"1\" class=\"dataframe\">\n",
       "  <thead>\n",
       "    <tr style=\"text-align: right;\">\n",
       "      <th></th>\n",
       "      <th>Importance</th>\n",
       "    </tr>\n",
       "  </thead>\n",
       "  <tbody>\n",
       "    <tr>\n",
       "      <th>BEM1007</th>\n",
       "      <td>0.0</td>\n",
       "    </tr>\n",
       "    <tr>\n",
       "      <th>optonline.net</th>\n",
       "      <td>0.0</td>\n",
       "    </tr>\n",
       "    <tr>\n",
       "      <th>outlook.com</th>\n",
       "      <td>0.0</td>\n",
       "    </tr>\n",
       "    <tr>\n",
       "      <th>rocketmail.com</th>\n",
       "      <td>0.0</td>\n",
       "    </tr>\n",
       "    <tr>\n",
       "      <th>sbcglobal.net</th>\n",
       "      <td>0.0</td>\n",
       "    </tr>\n",
       "    <tr>\n",
       "      <th>vendor</th>\n",
       "      <td>0.0</td>\n",
       "    </tr>\n",
       "    <tr>\n",
       "      <th>verizon.net</th>\n",
       "      <td>0.0</td>\n",
       "    </tr>\n",
       "    <tr>\n",
       "      <th>windstream.net</th>\n",
       "      <td>0.0</td>\n",
       "    </tr>\n",
       "    <tr>\n",
       "      <th>ymail.com</th>\n",
       "      <td>0.0</td>\n",
       "    </tr>\n",
       "    <tr>\n",
       "      <th>BES3003</th>\n",
       "      <td>0.0</td>\n",
       "    </tr>\n",
       "    <tr>\n",
       "      <th>BES1005</th>\n",
       "      <td>0.0</td>\n",
       "    </tr>\n",
       "    <tr>\n",
       "      <th>412739</th>\n",
       "      <td>0.0</td>\n",
       "    </tr>\n",
       "    <tr>\n",
       "      <th>580111</th>\n",
       "      <td>0.0</td>\n",
       "    </tr>\n",
       "    <tr>\n",
       "      <th>BEM6739</th>\n",
       "      <td>0.0</td>\n",
       "    </tr>\n",
       "    <tr>\n",
       "      <th>BEM6738</th>\n",
       "      <td>0.0</td>\n",
       "    </tr>\n",
       "    <tr>\n",
       "      <th>BEM6737</th>\n",
       "      <td>0.0</td>\n",
       "    </tr>\n",
       "    <tr>\n",
       "      <th>BEM6729</th>\n",
       "      <td>0.0</td>\n",
       "    </tr>\n",
       "    <tr>\n",
       "      <th>BEM6728</th>\n",
       "      <td>0.0</td>\n",
       "    </tr>\n",
       "    <tr>\n",
       "      <th>msn.com</th>\n",
       "      <td>0.0</td>\n",
       "    </tr>\n",
       "    <tr>\n",
       "      <th>BEM1009</th>\n",
       "      <td>0.0</td>\n",
       "    </tr>\n",
       "    <tr>\n",
       "      <th>me.com</th>\n",
       "      <td>0.0</td>\n",
       "    </tr>\n",
       "    <tr>\n",
       "      <th>live.com</th>\n",
       "      <td>0.0</td>\n",
       "    </tr>\n",
       "    <tr>\n",
       "      <th>Saturday</th>\n",
       "      <td>0.0</td>\n",
       "    </tr>\n",
       "    <tr>\n",
       "      <th>Friday</th>\n",
       "      <td>0.0</td>\n",
       "    </tr>\n",
       "    <tr>\n",
       "      <th>ROUTEINS22</th>\n",
       "      <td>0.0</td>\n",
       "    </tr>\n",
       "    <tr>\n",
       "      <th>aim.com</th>\n",
       "      <td>0.0</td>\n",
       "    </tr>\n",
       "    <tr>\n",
       "      <th>aol.com</th>\n",
       "      <td>0.0</td>\n",
       "    </tr>\n",
       "    <tr>\n",
       "      <th>att.net</th>\n",
       "      <td>0.0</td>\n",
       "    </tr>\n",
       "    <tr>\n",
       "      <th>mac.com</th>\n",
       "      <td>0.0</td>\n",
       "    </tr>\n",
       "    <tr>\n",
       "      <th>charter.net</th>\n",
       "      <td>0.0</td>\n",
       "    </tr>\n",
       "    <tr>\n",
       "      <th>bellsouth.net</th>\n",
       "      <td>0.0</td>\n",
       "    </tr>\n",
       "    <tr>\n",
       "      <th>comcast.net</th>\n",
       "      <td>0.0</td>\n",
       "    </tr>\n",
       "    <tr>\n",
       "      <th>ROUTEINS19</th>\n",
       "      <td>0.0</td>\n",
       "    </tr>\n",
       "    <tr>\n",
       "      <th>ROUTEINS18</th>\n",
       "      <td>0.0</td>\n",
       "    </tr>\n",
       "    <tr>\n",
       "      <th>earthlink.net</th>\n",
       "      <td>0.0</td>\n",
       "    </tr>\n",
       "    <tr>\n",
       "      <th>BES5001</th>\n",
       "      <td>0.0</td>\n",
       "    </tr>\n",
       "    <tr>\n",
       "      <th>hold</th>\n",
       "      <td>0.0</td>\n",
       "    </tr>\n",
       "    <tr>\n",
       "      <th>icloud.com</th>\n",
       "      <td>0.0</td>\n",
       "    </tr>\n",
       "    <tr>\n",
       "      <th>BEM6008</th>\n",
       "      <td>0.0</td>\n",
       "    </tr>\n",
       "  </tbody>\n",
       "</table>\n",
       "</div>"
      ],
      "text/plain": [
       "                Importance\n",
       "BEM1007                0.0\n",
       "optonline.net          0.0\n",
       "outlook.com            0.0\n",
       "rocketmail.com         0.0\n",
       "sbcglobal.net          0.0\n",
       "vendor                 0.0\n",
       "verizon.net            0.0\n",
       "windstream.net         0.0\n",
       "ymail.com              0.0\n",
       "BES3003                0.0\n",
       "BES1005                0.0\n",
       "412739                 0.0\n",
       "580111                 0.0\n",
       "BEM6739                0.0\n",
       "BEM6738                0.0\n",
       "BEM6737                0.0\n",
       "BEM6729                0.0\n",
       "BEM6728                0.0\n",
       "msn.com                0.0\n",
       "BEM1009                0.0\n",
       "me.com                 0.0\n",
       "live.com               0.0\n",
       "Saturday               0.0\n",
       "Friday                 0.0\n",
       "ROUTEINS22             0.0\n",
       "aim.com                0.0\n",
       "aol.com                0.0\n",
       "att.net                0.0\n",
       "mac.com                0.0\n",
       "charter.net            0.0\n",
       "bellsouth.net          0.0\n",
       "comcast.net            0.0\n",
       "ROUTEINS19             0.0\n",
       "ROUTEINS18             0.0\n",
       "earthlink.net          0.0\n",
       "BES5001                0.0\n",
       "hold                   0.0\n",
       "icloud.com             0.0\n",
       "BEM6008                0.0"
      ]
     },
     "execution_count": 166,
     "metadata": {},
     "output_type": "execute_result"
    }
   ],
   "source": [
    "# find the LEAST important features and eliminate those features from the X data set; then run the models again\n",
    "m4_unimportant = coff_m4.sort_values('Importance', ascending=True).head(39)\n",
    "m4_unimportant"
   ]
  },
  {
   "cell_type": "markdown",
   "metadata": {},
   "source": [
    "All of these features have literally no importance on this Gradient Boosting Regressor. We will use these to drop the features so that we can build a model that works with the important features only and doesn't waste time on these features."
   ]
  },
  {
   "cell_type": "code",
   "execution_count": 167,
   "metadata": {
    "scrolled": true
   },
   "outputs": [
    {
     "data": {
      "text/html": [
       "<div>\n",
       "<style scoped>\n",
       "    .dataframe tbody tr th:only-of-type {\n",
       "        vertical-align: middle;\n",
       "    }\n",
       "\n",
       "    .dataframe tbody tr th {\n",
       "        vertical-align: top;\n",
       "    }\n",
       "\n",
       "    .dataframe thead th {\n",
       "        text-align: right;\n",
       "    }\n",
       "</style>\n",
       "<table border=\"1\" class=\"dataframe\">\n",
       "  <thead>\n",
       "    <tr style=\"text-align: right;\">\n",
       "      <th></th>\n",
       "      <th>Model</th>\n",
       "      <th>MAE</th>\n",
       "      <th>MSE</th>\n",
       "      <th>RMSE</th>\n",
       "    </tr>\n",
       "  </thead>\n",
       "  <tbody>\n",
       "    <tr>\n",
       "      <th>1</th>\n",
       "      <td>Random Forest 1</td>\n",
       "      <td>1.847552e-01</td>\n",
       "      <td>6.807910e-02</td>\n",
       "      <td>2.609197e-01</td>\n",
       "    </tr>\n",
       "    <tr>\n",
       "      <th>3</th>\n",
       "      <td>Gradient Boost 1</td>\n",
       "      <td>1.847552e-01</td>\n",
       "      <td>6.807910e-02</td>\n",
       "      <td>2.609197e-01</td>\n",
       "    </tr>\n",
       "    <tr>\n",
       "      <th>2</th>\n",
       "      <td>Dummy Model (average)</td>\n",
       "      <td>2.906511e-01</td>\n",
       "      <td>1.445166e-01</td>\n",
       "      <td>3.801533e-01</td>\n",
       "    </tr>\n",
       "    <tr>\n",
       "      <th>0</th>\n",
       "      <td>Linear Regression 1</td>\n",
       "      <td>1.041380e+10</td>\n",
       "      <td>4.308612e+23</td>\n",
       "      <td>6.564002e+11</td>\n",
       "    </tr>\n",
       "  </tbody>\n",
       "</table>\n",
       "</div>"
      ],
      "text/plain": [
       "                   Model           MAE           MSE          RMSE\n",
       "1        Random Forest 1  1.847552e-01  6.807910e-02  2.609197e-01\n",
       "3       Gradient Boost 1  1.847552e-01  6.807910e-02  2.609197e-01\n",
       "2  Dummy Model (average)  2.906511e-01  1.445166e-01  3.801533e-01\n",
       "0    Linear Regression 1  1.041380e+10  4.308612e+23  6.564002e+11"
      ]
     },
     "execution_count": 167,
     "metadata": {},
     "output_type": "execute_result"
    }
   ],
   "source": [
    "perform = perform.append({'Model':'Gradient Boost 1', 'MAE':m4_MAE, 'MSE':m4_MSE, 'RMSE':m4_RMSE}, ignore_index=True)\n",
    "perform.sort_values('MSE', ascending=True)"
   ]
  },
  {
   "cell_type": "markdown",
   "metadata": {},
   "source": [
    "### III. Remove unimportant features\n",
    "The results from the first round of modeling were good, but there was a lot of unimportant features that were still considered by the models. Let's eliminate those features and see if we the models perform better."
   ]
  },
  {
   "cell_type": "markdown",
   "metadata": {},
   "source": [
    "We remove the unimportant features found in either GB or RF and then we try to run the same models again. We will try a few different models: <br>\n",
    "- Linear Regression\n",
    "- Random Forest Regressor\n",
    "- Gradient Boost Regression"
   ]
  },
  {
   "cell_type": "code",
   "execution_count": 168,
   "metadata": {
    "scrolled": true
   },
   "outputs": [
    {
     "data": {
      "text/html": [
       "<div>\n",
       "<style scoped>\n",
       "    .dataframe tbody tr th:only-of-type {\n",
       "        vertical-align: middle;\n",
       "    }\n",
       "\n",
       "    .dataframe tbody tr th {\n",
       "        vertical-align: top;\n",
       "    }\n",
       "\n",
       "    .dataframe thead th {\n",
       "        text-align: right;\n",
       "    }\n",
       "</style>\n",
       "<table border=\"1\" class=\"dataframe\">\n",
       "  <thead>\n",
       "    <tr style=\"text-align: right;\">\n",
       "      <th></th>\n",
       "      <th>first_total</th>\n",
       "      <th>Marketing_first</th>\n",
       "      <th>first_items</th>\n",
       "      <th>Vendor</th>\n",
       "      <th>first_tot_lg</th>\n",
       "      <th>boost</th>\n",
       "      <th>custom</th>\n",
       "      <th>gmail.com</th>\n",
       "      <th>hotmail.com</th>\n",
       "      <th>yahoo.com</th>\n",
       "      <th>...</th>\n",
       "      <th>December</th>\n",
       "      <th>February</th>\n",
       "      <th>January</th>\n",
       "      <th>July</th>\n",
       "      <th>June</th>\n",
       "      <th>March</th>\n",
       "      <th>May</th>\n",
       "      <th>November</th>\n",
       "      <th>October</th>\n",
       "      <th>September</th>\n",
       "    </tr>\n",
       "  </thead>\n",
       "  <tbody>\n",
       "    <tr>\n",
       "      <th>1</th>\n",
       "      <td>145.58</td>\n",
       "      <td>1</td>\n",
       "      <td>2</td>\n",
       "      <td>1.0</td>\n",
       "      <td>2.163102</td>\n",
       "      <td>1</td>\n",
       "      <td>1</td>\n",
       "      <td>0</td>\n",
       "      <td>0</td>\n",
       "      <td>0</td>\n",
       "      <td>...</td>\n",
       "      <td>0</td>\n",
       "      <td>0</td>\n",
       "      <td>0</td>\n",
       "      <td>0</td>\n",
       "      <td>0</td>\n",
       "      <td>0</td>\n",
       "      <td>0</td>\n",
       "      <td>1</td>\n",
       "      <td>0</td>\n",
       "      <td>0</td>\n",
       "    </tr>\n",
       "    <tr>\n",
       "      <th>2</th>\n",
       "      <td>137.55</td>\n",
       "      <td>0</td>\n",
       "      <td>5</td>\n",
       "      <td>1.0</td>\n",
       "      <td>2.138461</td>\n",
       "      <td>1</td>\n",
       "      <td>1</td>\n",
       "      <td>0</td>\n",
       "      <td>0</td>\n",
       "      <td>0</td>\n",
       "      <td>...</td>\n",
       "      <td>0</td>\n",
       "      <td>0</td>\n",
       "      <td>0</td>\n",
       "      <td>0</td>\n",
       "      <td>0</td>\n",
       "      <td>0</td>\n",
       "      <td>0</td>\n",
       "      <td>1</td>\n",
       "      <td>0</td>\n",
       "      <td>0</td>\n",
       "    </tr>\n",
       "    <tr>\n",
       "      <th>3</th>\n",
       "      <td>22.98</td>\n",
       "      <td>1</td>\n",
       "      <td>2</td>\n",
       "      <td>1.0</td>\n",
       "      <td>1.361350</td>\n",
       "      <td>1</td>\n",
       "      <td>1</td>\n",
       "      <td>0</td>\n",
       "      <td>0</td>\n",
       "      <td>0</td>\n",
       "      <td>...</td>\n",
       "      <td>0</td>\n",
       "      <td>0</td>\n",
       "      <td>0</td>\n",
       "      <td>0</td>\n",
       "      <td>0</td>\n",
       "      <td>0</td>\n",
       "      <td>0</td>\n",
       "      <td>1</td>\n",
       "      <td>0</td>\n",
       "      <td>0</td>\n",
       "    </tr>\n",
       "    <tr>\n",
       "      <th>4</th>\n",
       "      <td>28.00</td>\n",
       "      <td>0</td>\n",
       "      <td>1</td>\n",
       "      <td>0.0</td>\n",
       "      <td>1.447158</td>\n",
       "      <td>1</td>\n",
       "      <td>1</td>\n",
       "      <td>0</td>\n",
       "      <td>0</td>\n",
       "      <td>0</td>\n",
       "      <td>...</td>\n",
       "      <td>0</td>\n",
       "      <td>0</td>\n",
       "      <td>0</td>\n",
       "      <td>0</td>\n",
       "      <td>0</td>\n",
       "      <td>0</td>\n",
       "      <td>0</td>\n",
       "      <td>0</td>\n",
       "      <td>0</td>\n",
       "      <td>0</td>\n",
       "    </tr>\n",
       "    <tr>\n",
       "      <th>5</th>\n",
       "      <td>12.00</td>\n",
       "      <td>1</td>\n",
       "      <td>1</td>\n",
       "      <td>0.0</td>\n",
       "      <td>1.079181</td>\n",
       "      <td>1</td>\n",
       "      <td>1</td>\n",
       "      <td>0</td>\n",
       "      <td>0</td>\n",
       "      <td>0</td>\n",
       "      <td>...</td>\n",
       "      <td>0</td>\n",
       "      <td>0</td>\n",
       "      <td>0</td>\n",
       "      <td>0</td>\n",
       "      <td>0</td>\n",
       "      <td>0</td>\n",
       "      <td>0</td>\n",
       "      <td>0</td>\n",
       "      <td>0</td>\n",
       "      <td>0</td>\n",
       "    </tr>\n",
       "    <tr>\n",
       "      <th>...</th>\n",
       "      <td>...</td>\n",
       "      <td>...</td>\n",
       "      <td>...</td>\n",
       "      <td>...</td>\n",
       "      <td>...</td>\n",
       "      <td>...</td>\n",
       "      <td>...</td>\n",
       "      <td>...</td>\n",
       "      <td>...</td>\n",
       "      <td>...</td>\n",
       "      <td>...</td>\n",
       "      <td>...</td>\n",
       "      <td>...</td>\n",
       "      <td>...</td>\n",
       "      <td>...</td>\n",
       "      <td>...</td>\n",
       "      <td>...</td>\n",
       "      <td>...</td>\n",
       "      <td>...</td>\n",
       "      <td>...</td>\n",
       "      <td>...</td>\n",
       "    </tr>\n",
       "    <tr>\n",
       "      <th>39766</th>\n",
       "      <td>27.98</td>\n",
       "      <td>0</td>\n",
       "      <td>2</td>\n",
       "      <td>1.0</td>\n",
       "      <td>1.446848</td>\n",
       "      <td>1</td>\n",
       "      <td>0</td>\n",
       "      <td>1</td>\n",
       "      <td>0</td>\n",
       "      <td>0</td>\n",
       "      <td>...</td>\n",
       "      <td>0</td>\n",
       "      <td>0</td>\n",
       "      <td>0</td>\n",
       "      <td>0</td>\n",
       "      <td>0</td>\n",
       "      <td>0</td>\n",
       "      <td>0</td>\n",
       "      <td>0</td>\n",
       "      <td>0</td>\n",
       "      <td>1</td>\n",
       "    </tr>\n",
       "    <tr>\n",
       "      <th>39767</th>\n",
       "      <td>59.97</td>\n",
       "      <td>0</td>\n",
       "      <td>2</td>\n",
       "      <td>1.0</td>\n",
       "      <td>1.777934</td>\n",
       "      <td>1</td>\n",
       "      <td>0</td>\n",
       "      <td>1</td>\n",
       "      <td>0</td>\n",
       "      <td>0</td>\n",
       "      <td>...</td>\n",
       "      <td>0</td>\n",
       "      <td>0</td>\n",
       "      <td>0</td>\n",
       "      <td>0</td>\n",
       "      <td>0</td>\n",
       "      <td>0</td>\n",
       "      <td>0</td>\n",
       "      <td>0</td>\n",
       "      <td>0</td>\n",
       "      <td>1</td>\n",
       "    </tr>\n",
       "    <tr>\n",
       "      <th>39768</th>\n",
       "      <td>54.97</td>\n",
       "      <td>1</td>\n",
       "      <td>2</td>\n",
       "      <td>1.0</td>\n",
       "      <td>1.740126</td>\n",
       "      <td>1</td>\n",
       "      <td>0</td>\n",
       "      <td>1</td>\n",
       "      <td>0</td>\n",
       "      <td>0</td>\n",
       "      <td>...</td>\n",
       "      <td>0</td>\n",
       "      <td>0</td>\n",
       "      <td>0</td>\n",
       "      <td>0</td>\n",
       "      <td>0</td>\n",
       "      <td>0</td>\n",
       "      <td>0</td>\n",
       "      <td>0</td>\n",
       "      <td>0</td>\n",
       "      <td>1</td>\n",
       "    </tr>\n",
       "    <tr>\n",
       "      <th>39769</th>\n",
       "      <td>90.68</td>\n",
       "      <td>0</td>\n",
       "      <td>3</td>\n",
       "      <td>1.0</td>\n",
       "      <td>1.957512</td>\n",
       "      <td>1</td>\n",
       "      <td>0</td>\n",
       "      <td>1</td>\n",
       "      <td>0</td>\n",
       "      <td>0</td>\n",
       "      <td>...</td>\n",
       "      <td>0</td>\n",
       "      <td>0</td>\n",
       "      <td>0</td>\n",
       "      <td>0</td>\n",
       "      <td>0</td>\n",
       "      <td>0</td>\n",
       "      <td>0</td>\n",
       "      <td>0</td>\n",
       "      <td>0</td>\n",
       "      <td>1</td>\n",
       "    </tr>\n",
       "    <tr>\n",
       "      <th>39770</th>\n",
       "      <td>25.00</td>\n",
       "      <td>0</td>\n",
       "      <td>1</td>\n",
       "      <td>0.0</td>\n",
       "      <td>1.397940</td>\n",
       "      <td>1</td>\n",
       "      <td>0</td>\n",
       "      <td>1</td>\n",
       "      <td>0</td>\n",
       "      <td>0</td>\n",
       "      <td>...</td>\n",
       "      <td>0</td>\n",
       "      <td>0</td>\n",
       "      <td>0</td>\n",
       "      <td>0</td>\n",
       "      <td>0</td>\n",
       "      <td>0</td>\n",
       "      <td>0</td>\n",
       "      <td>0</td>\n",
       "      <td>0</td>\n",
       "      <td>1</td>\n",
       "    </tr>\n",
       "  </tbody>\n",
       "</table>\n",
       "<p>39730 rows × 42 columns</p>\n",
       "</div>"
      ],
      "text/plain": [
       "       first_total  Marketing_first  first_items  Vendor  first_tot_lg  boost  \\\n",
       "1           145.58                1            2     1.0      2.163102      1   \n",
       "2           137.55                0            5     1.0      2.138461      1   \n",
       "3            22.98                1            2     1.0      1.361350      1   \n",
       "4            28.00                0            1     0.0      1.447158      1   \n",
       "5            12.00                1            1     0.0      1.079181      1   \n",
       "...            ...              ...          ...     ...           ...    ...   \n",
       "39766        27.98                0            2     1.0      1.446848      1   \n",
       "39767        59.97                0            2     1.0      1.777934      1   \n",
       "39768        54.97                1            2     1.0      1.740126      1   \n",
       "39769        90.68                0            3     1.0      1.957512      1   \n",
       "39770        25.00                0            1     0.0      1.397940      1   \n",
       "\n",
       "       custom  gmail.com  hotmail.com  yahoo.com  ...  December  February  \\\n",
       "1           1          0            0          0  ...         0         0   \n",
       "2           1          0            0          0  ...         0         0   \n",
       "3           1          0            0          0  ...         0         0   \n",
       "4           1          0            0          0  ...         0         0   \n",
       "5           1          0            0          0  ...         0         0   \n",
       "...       ...        ...          ...        ...  ...       ...       ...   \n",
       "39766       0          1            0          0  ...         0         0   \n",
       "39767       0          1            0          0  ...         0         0   \n",
       "39768       0          1            0          0  ...         0         0   \n",
       "39769       0          1            0          0  ...         0         0   \n",
       "39770       0          1            0          0  ...         0         0   \n",
       "\n",
       "       January  July  June  March  May  November  October  September  \n",
       "1            0     0     0      0    0         1        0          0  \n",
       "2            0     0     0      0    0         1        0          0  \n",
       "3            0     0     0      0    0         1        0          0  \n",
       "4            0     0     0      0    0         0        0          0  \n",
       "5            0     0     0      0    0         0        0          0  \n",
       "...        ...   ...   ...    ...  ...       ...      ...        ...  \n",
       "39766        0     0     0      0    0         0        0          1  \n",
       "39767        0     0     0      0    0         0        0          1  \n",
       "39768        0     0     0      0    0         0        0          1  \n",
       "39769        0     0     0      0    0         0        0          1  \n",
       "39770        0     0     0      0    0         0        0          1  \n",
       "\n",
       "[39730 rows x 42 columns]"
      ]
     },
     "execution_count": 168,
     "metadata": {},
     "output_type": "execute_result"
    }
   ],
   "source": [
    "# create a list of the unimportant features\n",
    "unimport = list(set(m4_unimportant.index.tolist()) | set(m2_unimportant.index.tolist()))\n",
    "# remove unimportant features from Gradient Boosting\n",
    "X1 = X.drop(unimport, axis=1)\n",
    "X1"
   ]
  },
  {
   "cell_type": "markdown",
   "metadata": {},
   "source": [
    "That eliminated a lot of features and took us down to just 40 features! Excellent! <br>\n",
    "<br>\n",
    "Let's model with those features"
   ]
  },
  {
   "cell_type": "code",
   "execution_count": 169,
   "metadata": {},
   "outputs": [
    {
     "data": {
      "text/plain": [
       "(1.8158008483225205, 1.8162965793223824)"
      ]
     },
     "execution_count": 169,
     "metadata": {},
     "output_type": "execute_result"
    }
   ],
   "source": [
    "# let's scale the X values\n",
    "scaler1 = preprocessing.StandardScaler().fit(X1)\n",
    "X1_scaled=scaler1.transform(X1)\n",
    "\n",
    "# split the X and y values again\n",
    "X1_train, X1_test, y_train, y_test = train_test_split(X1_scaled, y, test_size=0.20, random_state=1)\n",
    "# check the mean values of the y to make sure this is a good split\n",
    "y_train.mean(), y_test.mean()\n"
   ]
  },
  {
   "cell_type": "markdown",
   "metadata": {},
   "source": [
    "#### 5. Linear regression on reduced feature data set"
   ]
  },
  {
   "cell_type": "code",
   "execution_count": 170,
   "metadata": {},
   "outputs": [],
   "source": [
    "# try standard linear regression on the data set with less features\n",
    "lm5 = linear_model.LinearRegression()\n",
    "model5 = lm5.fit(X1_train,y_train)"
   ]
  },
  {
   "cell_type": "code",
   "execution_count": 171,
   "metadata": {},
   "outputs": [],
   "source": [
    "# predicted results from the first model on the X_test values\n",
    "y5_pred = model5.predict(X1_test)\n",
    "# Mean Absolute Error\n",
    "m5_MAE = mean_absolute_error(y_test, y5_pred)"
   ]
  },
  {
   "cell_type": "code",
   "execution_count": 172,
   "metadata": {},
   "outputs": [],
   "source": [
    "# Mean Squared Error\n",
    "m5_MSE = mean_squared_error(y_test, y5_pred)"
   ]
  },
  {
   "cell_type": "code",
   "execution_count": 173,
   "metadata": {},
   "outputs": [],
   "source": [
    "# Root Mean Squared Error\n",
    "m5_RMSE = m5_MSE**0.5"
   ]
  },
  {
   "cell_type": "code",
   "execution_count": 174,
   "metadata": {
    "scrolled": true
   },
   "outputs": [
    {
     "data": {
      "text/html": [
       "<div>\n",
       "<style scoped>\n",
       "    .dataframe tbody tr th:only-of-type {\n",
       "        vertical-align: middle;\n",
       "    }\n",
       "\n",
       "    .dataframe tbody tr th {\n",
       "        vertical-align: top;\n",
       "    }\n",
       "\n",
       "    .dataframe thead th {\n",
       "        text-align: right;\n",
       "    }\n",
       "</style>\n",
       "<table border=\"1\" class=\"dataframe\">\n",
       "  <thead>\n",
       "    <tr style=\"text-align: right;\">\n",
       "      <th></th>\n",
       "      <th>Model</th>\n",
       "      <th>MAE</th>\n",
       "      <th>MSE</th>\n",
       "      <th>RMSE</th>\n",
       "    </tr>\n",
       "  </thead>\n",
       "  <tbody>\n",
       "    <tr>\n",
       "      <th>4</th>\n",
       "      <td>Linear Regression 2</td>\n",
       "      <td>1.859726e-01</td>\n",
       "      <td>6.770457e-02</td>\n",
       "      <td>2.602010e-01</td>\n",
       "    </tr>\n",
       "    <tr>\n",
       "      <th>1</th>\n",
       "      <td>Random Forest 1</td>\n",
       "      <td>1.847552e-01</td>\n",
       "      <td>6.807910e-02</td>\n",
       "      <td>2.609197e-01</td>\n",
       "    </tr>\n",
       "    <tr>\n",
       "      <th>3</th>\n",
       "      <td>Gradient Boost 1</td>\n",
       "      <td>1.847552e-01</td>\n",
       "      <td>6.807910e-02</td>\n",
       "      <td>2.609197e-01</td>\n",
       "    </tr>\n",
       "    <tr>\n",
       "      <th>2</th>\n",
       "      <td>Dummy Model (average)</td>\n",
       "      <td>2.906511e-01</td>\n",
       "      <td>1.445166e-01</td>\n",
       "      <td>3.801533e-01</td>\n",
       "    </tr>\n",
       "    <tr>\n",
       "      <th>0</th>\n",
       "      <td>Linear Regression 1</td>\n",
       "      <td>1.041380e+10</td>\n",
       "      <td>4.308612e+23</td>\n",
       "      <td>6.564002e+11</td>\n",
       "    </tr>\n",
       "  </tbody>\n",
       "</table>\n",
       "</div>"
      ],
      "text/plain": [
       "                   Model           MAE           MSE          RMSE\n",
       "4    Linear Regression 2  1.859726e-01  6.770457e-02  2.602010e-01\n",
       "1        Random Forest 1  1.847552e-01  6.807910e-02  2.609197e-01\n",
       "3       Gradient Boost 1  1.847552e-01  6.807910e-02  2.609197e-01\n",
       "2  Dummy Model (average)  2.906511e-01  1.445166e-01  3.801533e-01\n",
       "0    Linear Regression 1  1.041380e+10  4.308612e+23  6.564002e+11"
      ]
     },
     "execution_count": 174,
     "metadata": {},
     "output_type": "execute_result"
    }
   ],
   "source": [
    "perform = perform.append({'Model':'Linear Regression 2', 'MAE':m5_MAE, 'MSE':m5_MSE, 'RMSE':m5_RMSE}, ignore_index=True)\n",
    "perform.sort_values('RMSE', ascending=True)"
   ]
  },
  {
   "cell_type": "markdown",
   "metadata": {},
   "source": [
    "This updated version of linear regression actually performed better than the first attempt at Random Forest Regression or Gradient Boost Regression. That's great to see that eliminating those features lead to such improvement."
   ]
  },
  {
   "cell_type": "markdown",
   "metadata": {},
   "source": [
    "#### 6. Random Forest Regression with reduced features"
   ]
  },
  {
   "cell_type": "code",
   "execution_count": 61,
   "metadata": {},
   "outputs": [],
   "source": [
    "# using a minimum sample of 40 or 1/1000th of the total number of customers\n",
    "regr1 = RandomForestRegressor(min_samples_leaf=40, random_state=33)\n",
    "model1_rf = regr.fit(X1_train,y_train)\n",
    "y_pred1_rf = regr.predict(X1_test)"
   ]
  },
  {
   "cell_type": "code",
   "execution_count": 62,
   "metadata": {
    "scrolled": true
   },
   "outputs": [
    {
     "data": {
      "text/html": [
       "<div>\n",
       "<style scoped>\n",
       "    .dataframe tbody tr th:only-of-type {\n",
       "        vertical-align: middle;\n",
       "    }\n",
       "\n",
       "    .dataframe tbody tr th {\n",
       "        vertical-align: top;\n",
       "    }\n",
       "\n",
       "    .dataframe thead th {\n",
       "        text-align: right;\n",
       "    }\n",
       "</style>\n",
       "<table border=\"1\" class=\"dataframe\">\n",
       "  <thead>\n",
       "    <tr style=\"text-align: right;\">\n",
       "      <th></th>\n",
       "      <th>Model</th>\n",
       "      <th>MAE</th>\n",
       "      <th>MSE</th>\n",
       "      <th>RMSE</th>\n",
       "    </tr>\n",
       "  </thead>\n",
       "  <tbody>\n",
       "    <tr>\n",
       "      <th>4</th>\n",
       "      <td>Linear Regression 2</td>\n",
       "      <td>1.859726e-01</td>\n",
       "      <td>6.770457e-02</td>\n",
       "      <td>2.602010e-01</td>\n",
       "    </tr>\n",
       "    <tr>\n",
       "      <th>1</th>\n",
       "      <td>Random Forest 1</td>\n",
       "      <td>1.847552e-01</td>\n",
       "      <td>6.807910e-02</td>\n",
       "      <td>2.609197e-01</td>\n",
       "    </tr>\n",
       "    <tr>\n",
       "      <th>3</th>\n",
       "      <td>Gradient Boost 1</td>\n",
       "      <td>1.847552e-01</td>\n",
       "      <td>6.807910e-02</td>\n",
       "      <td>2.609197e-01</td>\n",
       "    </tr>\n",
       "    <tr>\n",
       "      <th>5</th>\n",
       "      <td>Random Forest 2</td>\n",
       "      <td>1.847164e-01</td>\n",
       "      <td>6.809799e-02</td>\n",
       "      <td>2.609559e-01</td>\n",
       "    </tr>\n",
       "    <tr>\n",
       "      <th>2</th>\n",
       "      <td>Dummy Model (average)</td>\n",
       "      <td>2.906511e-01</td>\n",
       "      <td>1.445166e-01</td>\n",
       "      <td>3.801533e-01</td>\n",
       "    </tr>\n",
       "    <tr>\n",
       "      <th>0</th>\n",
       "      <td>Linear Regression</td>\n",
       "      <td>1.041380e+10</td>\n",
       "      <td>4.308612e+23</td>\n",
       "      <td>6.564002e+11</td>\n",
       "    </tr>\n",
       "  </tbody>\n",
       "</table>\n",
       "</div>"
      ],
      "text/plain": [
       "                   Model           MAE           MSE          RMSE\n",
       "4    Linear Regression 2  1.859726e-01  6.770457e-02  2.602010e-01\n",
       "1        Random Forest 1  1.847552e-01  6.807910e-02  2.609197e-01\n",
       "3       Gradient Boost 1  1.847552e-01  6.807910e-02  2.609197e-01\n",
       "5        Random Forest 2  1.847164e-01  6.809799e-02  2.609559e-01\n",
       "2  Dummy Model (average)  2.906511e-01  1.445166e-01  3.801533e-01\n",
       "0      Linear Regression  1.041380e+10  4.308612e+23  6.564002e+11"
      ]
     },
     "execution_count": 62,
     "metadata": {},
     "output_type": "execute_result"
    }
   ],
   "source": [
    "# Mean Absolute Error\n",
    "m6_MAE = mean_absolute_error(y_test, y_pred1_rf)\n",
    "# Mean Squared Error\n",
    "m6_MSE = mean_squared_error(y_test, y_pred1_rf)\n",
    "# root mean squared error\n",
    "m6_RMSE = m6_MSE**0.5\n",
    "# add to performance DF\n",
    "perform = perform.append({'Model':'Random Forest 2', 'MAE':m6_MAE, 'MSE':m6_MSE, 'RMSE':m6_RMSE}, ignore_index=True)\n",
    "perform.sort_values('RMSE', ascending=True)\n"
   ]
  },
  {
   "cell_type": "markdown",
   "metadata": {},
   "source": [
    "these values look good, but similar to previous models"
   ]
  },
  {
   "cell_type": "markdown",
   "metadata": {},
   "source": [
    "#### 7. Gradient Boost with Reduced Features"
   ]
  },
  {
   "cell_type": "code",
   "execution_count": 63,
   "metadata": {
    "scrolled": false
   },
   "outputs": [
    {
     "data": {
      "text/html": [
       "<div>\n",
       "<style scoped>\n",
       "    .dataframe tbody tr th:only-of-type {\n",
       "        vertical-align: middle;\n",
       "    }\n",
       "\n",
       "    .dataframe tbody tr th {\n",
       "        vertical-align: top;\n",
       "    }\n",
       "\n",
       "    .dataframe thead th {\n",
       "        text-align: right;\n",
       "    }\n",
       "</style>\n",
       "<table border=\"1\" class=\"dataframe\">\n",
       "  <thead>\n",
       "    <tr style=\"text-align: right;\">\n",
       "      <th></th>\n",
       "      <th>Model</th>\n",
       "      <th>MAE</th>\n",
       "      <th>MSE</th>\n",
       "      <th>RMSE</th>\n",
       "    </tr>\n",
       "  </thead>\n",
       "  <tbody>\n",
       "    <tr>\n",
       "      <th>4</th>\n",
       "      <td>Linear Regression 2</td>\n",
       "      <td>1.859726e-01</td>\n",
       "      <td>6.770457e-02</td>\n",
       "      <td>2.602010e-01</td>\n",
       "    </tr>\n",
       "    <tr>\n",
       "      <th>1</th>\n",
       "      <td>Random Forest 1</td>\n",
       "      <td>1.847552e-01</td>\n",
       "      <td>6.807910e-02</td>\n",
       "      <td>2.609197e-01</td>\n",
       "    </tr>\n",
       "    <tr>\n",
       "      <th>3</th>\n",
       "      <td>Gradient Boost 1</td>\n",
       "      <td>1.847552e-01</td>\n",
       "      <td>6.807910e-02</td>\n",
       "      <td>2.609197e-01</td>\n",
       "    </tr>\n",
       "    <tr>\n",
       "      <th>5</th>\n",
       "      <td>Random Forest 2</td>\n",
       "      <td>1.847164e-01</td>\n",
       "      <td>6.809799e-02</td>\n",
       "      <td>2.609559e-01</td>\n",
       "    </tr>\n",
       "    <tr>\n",
       "      <th>6</th>\n",
       "      <td>Gradient Boost 2</td>\n",
       "      <td>1.847164e-01</td>\n",
       "      <td>6.809799e-02</td>\n",
       "      <td>2.609559e-01</td>\n",
       "    </tr>\n",
       "    <tr>\n",
       "      <th>2</th>\n",
       "      <td>Dummy Model (average)</td>\n",
       "      <td>2.906511e-01</td>\n",
       "      <td>1.445166e-01</td>\n",
       "      <td>3.801533e-01</td>\n",
       "    </tr>\n",
       "    <tr>\n",
       "      <th>0</th>\n",
       "      <td>Linear Regression</td>\n",
       "      <td>1.041380e+10</td>\n",
       "      <td>4.308612e+23</td>\n",
       "      <td>6.564002e+11</td>\n",
       "    </tr>\n",
       "  </tbody>\n",
       "</table>\n",
       "</div>"
      ],
      "text/plain": [
       "                   Model           MAE           MSE          RMSE\n",
       "4    Linear Regression 2  1.859726e-01  6.770457e-02  2.602010e-01\n",
       "1        Random Forest 1  1.847552e-01  6.807910e-02  2.609197e-01\n",
       "3       Gradient Boost 1  1.847552e-01  6.807910e-02  2.609197e-01\n",
       "5        Random Forest 2  1.847164e-01  6.809799e-02  2.609559e-01\n",
       "6       Gradient Boost 2  1.847164e-01  6.809799e-02  2.609559e-01\n",
       "2  Dummy Model (average)  2.906511e-01  1.445166e-01  3.801533e-01\n",
       "0      Linear Regression  1.041380e+10  4.308612e+23  6.564002e+11"
      ]
     },
     "execution_count": 63,
     "metadata": {},
     "output_type": "execute_result"
    }
   ],
   "source": [
    "# create regressor\n",
    "reg1_gb = GradientBoostingRegressor(min_samples_leaf=40, random_state=0)\n",
    "model1_gb = reg_gb.fit(X1_train,y_train)\n",
    "# use regressor to predict on test data\n",
    "y_pred1_gb = regr.predict(X1_test)\n",
    "# compare test data for a score - Mean Absolute Error\n",
    "m7_MAE = mean_absolute_error(y_test, y_pred1_gb)\n",
    "# Mean Squared Error\n",
    "m7_MSE = mean_squared_error(y_test, y_pred1_gb)\n",
    "# root mean squared error\n",
    "m7_RMSE = m7_MSE**0.5\n",
    "perform = perform.append({'Model':'Gradient Boost 2', 'MAE':m7_MAE, 'MSE':m7_MSE, 'RMSE':m7_RMSE}, ignore_index=True)\n",
    "perform.sort_values('RMSE', ascending=True)\n"
   ]
  },
  {
   "cell_type": "markdown",
   "metadata": {},
   "source": [
    "These look like great models (except for the first Linear Regression). Let's try XGBoost model next before moving on to hyperparameter tuning."
   ]
  },
  {
   "cell_type": "markdown",
   "metadata": {},
   "source": [
    "#### 8. XGBoost"
   ]
  },
  {
   "cell_type": "code",
   "execution_count": 64,
   "metadata": {},
   "outputs": [
    {
     "data": {
      "text/html": [
       "<div>\n",
       "<style scoped>\n",
       "    .dataframe tbody tr th:only-of-type {\n",
       "        vertical-align: middle;\n",
       "    }\n",
       "\n",
       "    .dataframe tbody tr th {\n",
       "        vertical-align: top;\n",
       "    }\n",
       "\n",
       "    .dataframe thead th {\n",
       "        text-align: right;\n",
       "    }\n",
       "</style>\n",
       "<table border=\"1\" class=\"dataframe\">\n",
       "  <thead>\n",
       "    <tr style=\"text-align: right;\">\n",
       "      <th></th>\n",
       "      <th>Model</th>\n",
       "      <th>MAE</th>\n",
       "      <th>MSE</th>\n",
       "      <th>RMSE</th>\n",
       "    </tr>\n",
       "  </thead>\n",
       "  <tbody>\n",
       "    <tr>\n",
       "      <th>4</th>\n",
       "      <td>Linear Regression 2</td>\n",
       "      <td>1.859726e-01</td>\n",
       "      <td>6.770457e-02</td>\n",
       "      <td>2.602010e-01</td>\n",
       "    </tr>\n",
       "    <tr>\n",
       "      <th>1</th>\n",
       "      <td>Random Forest 1</td>\n",
       "      <td>1.847552e-01</td>\n",
       "      <td>6.807910e-02</td>\n",
       "      <td>2.609197e-01</td>\n",
       "    </tr>\n",
       "    <tr>\n",
       "      <th>3</th>\n",
       "      <td>Gradient Boost 1</td>\n",
       "      <td>1.847552e-01</td>\n",
       "      <td>6.807910e-02</td>\n",
       "      <td>2.609197e-01</td>\n",
       "    </tr>\n",
       "    <tr>\n",
       "      <th>5</th>\n",
       "      <td>Random Forest 2</td>\n",
       "      <td>1.847164e-01</td>\n",
       "      <td>6.809799e-02</td>\n",
       "      <td>2.609559e-01</td>\n",
       "    </tr>\n",
       "    <tr>\n",
       "      <th>6</th>\n",
       "      <td>Gradient Boost 2</td>\n",
       "      <td>1.847164e-01</td>\n",
       "      <td>6.809799e-02</td>\n",
       "      <td>2.609559e-01</td>\n",
       "    </tr>\n",
       "    <tr>\n",
       "      <th>2</th>\n",
       "      <td>Dummy Model (average)</td>\n",
       "      <td>2.906511e-01</td>\n",
       "      <td>1.445166e-01</td>\n",
       "      <td>3.801533e-01</td>\n",
       "    </tr>\n",
       "    <tr>\n",
       "      <th>7</th>\n",
       "      <td>X Gradient Boost</td>\n",
       "      <td>4.628376e-01</td>\n",
       "      <td>3.046849e-01</td>\n",
       "      <td>5.519827e-01</td>\n",
       "    </tr>\n",
       "    <tr>\n",
       "      <th>0</th>\n",
       "      <td>Linear Regression</td>\n",
       "      <td>1.041380e+10</td>\n",
       "      <td>4.308612e+23</td>\n",
       "      <td>6.564002e+11</td>\n",
       "    </tr>\n",
       "  </tbody>\n",
       "</table>\n",
       "</div>"
      ],
      "text/plain": [
       "                   Model           MAE           MSE          RMSE\n",
       "4    Linear Regression 2  1.859726e-01  6.770457e-02  2.602010e-01\n",
       "1        Random Forest 1  1.847552e-01  6.807910e-02  2.609197e-01\n",
       "3       Gradient Boost 1  1.847552e-01  6.807910e-02  2.609197e-01\n",
       "5        Random Forest 2  1.847164e-01  6.809799e-02  2.609559e-01\n",
       "6       Gradient Boost 2  1.847164e-01  6.809799e-02  2.609559e-01\n",
       "2  Dummy Model (average)  2.906511e-01  1.445166e-01  3.801533e-01\n",
       "7       X Gradient Boost  4.628376e-01  3.046849e-01  5.519827e-01\n",
       "0      Linear Regression  1.041380e+10  4.308612e+23  6.564002e+11"
      ]
     },
     "execution_count": 64,
     "metadata": {},
     "output_type": "execute_result"
    }
   ],
   "source": [
    "# initiate the XGB Regressor\n",
    "xg_reg = xgb.XGBRegressor(objective ='reg:squarederror', colsample_bytree = 0.3, learning_rate = 0.1,\n",
    "                max_depth = 5, alpha = 10, n_estimators = 10)\n",
    "# fit the model\n",
    "xg_reg.fit(X1_train,y_train)\n",
    "# predict on the model\n",
    "y_pred1_xgb = xg_reg.predict(X1_test)\n",
    "# get scores of the model\n",
    "m8_MAE = mean_absolute_error(y_test, y_pred1_xgb)\n",
    "m8_MSE = mean_squared_error(y_test, y_pred1_xgb)\n",
    "m8_RMSE = m8_MSE**0.5\n",
    "perform = perform.append({'Model':'X Gradient Boost', 'MAE':m8_MAE, 'MSE':m8_MSE, 'RMSE':m8_RMSE}, ignore_index=True)\n",
    "perform.sort_values('RMSE', ascending=True)"
   ]
  },
  {
   "cell_type": "markdown",
   "metadata": {},
   "source": [
    "XGBoost performed worse than the other models; maybe it's possible to Let's see if tuning the hyperparameters can make them better."
   ]
  },
  {
   "cell_type": "markdown",
   "metadata": {},
   "source": [
    "## IV. Hyperparameter Tuning"
   ]
  },
  {
   "cell_type": "markdown",
   "metadata": {},
   "source": [
    "We took a guess at a good hyperparameter of 40 for the minimum number of leaves per node. That looked like a good start relative to the Linear Regression results. Instead, we should also consider multiple values for the hyperparameter for both the Gradient Boost and Random Forest Regressions"
   ]
  },
  {
   "cell_type": "markdown",
   "metadata": {},
   "source": [
    "#### 9. Random Forest with Hyperparameter Tuning"
   ]
  },
  {
   "cell_type": "code",
   "execution_count": 65,
   "metadata": {},
   "outputs": [
    {
     "data": {
      "text/html": [
       "<div>\n",
       "<style scoped>\n",
       "    .dataframe tbody tr th:only-of-type {\n",
       "        vertical-align: middle;\n",
       "    }\n",
       "\n",
       "    .dataframe tbody tr th {\n",
       "        vertical-align: top;\n",
       "    }\n",
       "\n",
       "    .dataframe thead th {\n",
       "        text-align: right;\n",
       "    }\n",
       "</style>\n",
       "<table border=\"1\" class=\"dataframe\">\n",
       "  <thead>\n",
       "    <tr style=\"text-align: right;\">\n",
       "      <th></th>\n",
       "      <th>Model</th>\n",
       "      <th>Node_size</th>\n",
       "      <th>MAE</th>\n",
       "      <th>MSE</th>\n",
       "      <th>RMSE</th>\n",
       "    </tr>\n",
       "  </thead>\n",
       "  <tbody>\n",
       "    <tr>\n",
       "      <th>18</th>\n",
       "      <td>Random Forest</td>\n",
       "      <td>100</td>\n",
       "      <td>0.186482</td>\n",
       "      <td>0.068421</td>\n",
       "      <td>0.261575</td>\n",
       "    </tr>\n",
       "    <tr>\n",
       "      <th>15</th>\n",
       "      <td>Random Forest</td>\n",
       "      <td>115</td>\n",
       "      <td>0.186776</td>\n",
       "      <td>0.068471</td>\n",
       "      <td>0.261669</td>\n",
       "    </tr>\n",
       "    <tr>\n",
       "      <th>0</th>\n",
       "      <td>Random Forest</td>\n",
       "      <td>134</td>\n",
       "      <td>0.187082</td>\n",
       "      <td>0.068559</td>\n",
       "      <td>0.261838</td>\n",
       "    </tr>\n",
       "    <tr>\n",
       "      <th>9</th>\n",
       "      <td>Random Forest</td>\n",
       "      <td>159</td>\n",
       "      <td>0.187473</td>\n",
       "      <td>0.068676</td>\n",
       "      <td>0.262060</td>\n",
       "    </tr>\n",
       "    <tr>\n",
       "      <th>16</th>\n",
       "      <td>Random Forest</td>\n",
       "      <td>176</td>\n",
       "      <td>0.187689</td>\n",
       "      <td>0.068750</td>\n",
       "      <td>0.262203</td>\n",
       "    </tr>\n",
       "    <tr>\n",
       "      <th>6</th>\n",
       "      <td>Random Forest</td>\n",
       "      <td>206</td>\n",
       "      <td>0.188195</td>\n",
       "      <td>0.068873</td>\n",
       "      <td>0.262437</td>\n",
       "    </tr>\n",
       "    <tr>\n",
       "      <th>8</th>\n",
       "      <td>Random Forest</td>\n",
       "      <td>232</td>\n",
       "      <td>0.188576</td>\n",
       "      <td>0.068982</td>\n",
       "      <td>0.262645</td>\n",
       "    </tr>\n",
       "    <tr>\n",
       "      <th>14</th>\n",
       "      <td>Random Forest</td>\n",
       "      <td>279</td>\n",
       "      <td>0.189011</td>\n",
       "      <td>0.069079</td>\n",
       "      <td>0.262828</td>\n",
       "    </tr>\n",
       "    <tr>\n",
       "      <th>13</th>\n",
       "      <td>Random Forest</td>\n",
       "      <td>387</td>\n",
       "      <td>0.190149</td>\n",
       "      <td>0.069434</td>\n",
       "      <td>0.263504</td>\n",
       "    </tr>\n",
       "    <tr>\n",
       "      <th>5</th>\n",
       "      <td>Random Forest</td>\n",
       "      <td>442</td>\n",
       "      <td>0.190785</td>\n",
       "      <td>0.069646</td>\n",
       "      <td>0.263906</td>\n",
       "    </tr>\n",
       "    <tr>\n",
       "      <th>4</th>\n",
       "      <td>Random Forest</td>\n",
       "      <td>517</td>\n",
       "      <td>0.191253</td>\n",
       "      <td>0.069819</td>\n",
       "      <td>0.264233</td>\n",
       "    </tr>\n",
       "    <tr>\n",
       "      <th>1</th>\n",
       "      <td>Random Forest</td>\n",
       "      <td>553</td>\n",
       "      <td>0.191384</td>\n",
       "      <td>0.069888</td>\n",
       "      <td>0.264364</td>\n",
       "    </tr>\n",
       "    <tr>\n",
       "      <th>10</th>\n",
       "      <td>Random Forest</td>\n",
       "      <td>616</td>\n",
       "      <td>0.191610</td>\n",
       "      <td>0.069940</td>\n",
       "      <td>0.264461</td>\n",
       "    </tr>\n",
       "    <tr>\n",
       "      <th>17</th>\n",
       "      <td>Random Forest</td>\n",
       "      <td>625</td>\n",
       "      <td>0.191670</td>\n",
       "      <td>0.069958</td>\n",
       "      <td>0.264496</td>\n",
       "    </tr>\n",
       "    <tr>\n",
       "      <th>2</th>\n",
       "      <td>Random Forest</td>\n",
       "      <td>632</td>\n",
       "      <td>0.191721</td>\n",
       "      <td>0.069972</td>\n",
       "      <td>0.264523</td>\n",
       "    </tr>\n",
       "    <tr>\n",
       "      <th>11</th>\n",
       "      <td>Random Forest</td>\n",
       "      <td>756</td>\n",
       "      <td>0.192431</td>\n",
       "      <td>0.070285</td>\n",
       "      <td>0.265113</td>\n",
       "    </tr>\n",
       "    <tr>\n",
       "      <th>19</th>\n",
       "      <td>Random Forest</td>\n",
       "      <td>879</td>\n",
       "      <td>0.192539</td>\n",
       "      <td>0.070382</td>\n",
       "      <td>0.265296</td>\n",
       "    </tr>\n",
       "    <tr>\n",
       "      <th>3</th>\n",
       "      <td>Random Forest</td>\n",
       "      <td>894</td>\n",
       "      <td>0.192514</td>\n",
       "      <td>0.070395</td>\n",
       "      <td>0.265320</td>\n",
       "    </tr>\n",
       "    <tr>\n",
       "      <th>12</th>\n",
       "      <td>Random Forest</td>\n",
       "      <td>893</td>\n",
       "      <td>0.192521</td>\n",
       "      <td>0.070397</td>\n",
       "      <td>0.265324</td>\n",
       "    </tr>\n",
       "    <tr>\n",
       "      <th>7</th>\n",
       "      <td>Random Forest</td>\n",
       "      <td>965</td>\n",
       "      <td>0.192768</td>\n",
       "      <td>0.070588</td>\n",
       "      <td>0.265684</td>\n",
       "    </tr>\n",
       "  </tbody>\n",
       "</table>\n",
       "</div>"
      ],
      "text/plain": [
       "            Model Node_size       MAE       MSE      RMSE\n",
       "18  Random Forest       100  0.186482  0.068421  0.261575\n",
       "15  Random Forest       115  0.186776  0.068471  0.261669\n",
       "0   Random Forest       134  0.187082  0.068559  0.261838\n",
       "9   Random Forest       159  0.187473  0.068676  0.262060\n",
       "16  Random Forest       176  0.187689  0.068750  0.262203\n",
       "6   Random Forest       206  0.188195  0.068873  0.262437\n",
       "8   Random Forest       232  0.188576  0.068982  0.262645\n",
       "14  Random Forest       279  0.189011  0.069079  0.262828\n",
       "13  Random Forest       387  0.190149  0.069434  0.263504\n",
       "5   Random Forest       442  0.190785  0.069646  0.263906\n",
       "4   Random Forest       517  0.191253  0.069819  0.264233\n",
       "1   Random Forest       553  0.191384  0.069888  0.264364\n",
       "10  Random Forest       616  0.191610  0.069940  0.264461\n",
       "17  Random Forest       625  0.191670  0.069958  0.264496\n",
       "2   Random Forest       632  0.191721  0.069972  0.264523\n",
       "11  Random Forest       756  0.192431  0.070285  0.265113\n",
       "19  Random Forest       879  0.192539  0.070382  0.265296\n",
       "3   Random Forest       894  0.192514  0.070395  0.265320\n",
       "12  Random Forest       893  0.192521  0.070397  0.265324\n",
       "7   Random Forest       965  0.192768  0.070588  0.265684"
      ]
     },
     "execution_count": 65,
     "metadata": {},
     "output_type": "execute_result"
    }
   ],
   "source": [
    "import random\n",
    "node_size = random.sample(range(10,1000), 20)\n",
    "\n",
    "perform_h = pd.DataFrame(columns=['Model', 'Node_size', 'MAE', 'MSE', 'RMSE'])\n",
    "\n",
    "# loops through the number of leaves\n",
    "for n in node_size:\n",
    "    reg_h = RandomForestRegressor(min_samples_leaf=n, random_state=33)\n",
    "    model_rf_h = reg_h.fit(X1_train,y_train)\n",
    "    y_pred1_rf_h = reg_h.predict(X1_test)\n",
    "    # Mean Absolute Error\n",
    "    MAE1 = mean_absolute_error(y_test, y_pred1_rf_h)\n",
    "    # Mean Squared Error\n",
    "    MSE1 = mean_squared_error(y_test, y_pred1_rf_h)\n",
    "    # root mean squared error\n",
    "    RMSE1 = MSE1**0.5\n",
    "    # add to performance DF\n",
    "    perform_h = perform_h.append({'Model':'Random Forest', 'Node_size':n, 'MAE':MAE1, 'MSE': MSE1, 'RMSE':RMSE1}, ignore_index=True)\n",
    "\n",
    "perform_h.sort_values('RMSE', ascending=True)"
   ]
  },
  {
   "cell_type": "markdown",
   "metadata": {},
   "source": [
    "These all look extremely similiar, let's plot the results"
   ]
  },
  {
   "cell_type": "code",
   "execution_count": 66,
   "metadata": {
    "scrolled": false
   },
   "outputs": [
    {
     "data": {
      "image/png": "[encoded data removed]",
      "text/plain": [
       "<Figure size 432x288 with 1 Axes>"
      ]
     },
     "metadata": {
      "needs_background": "light"
     },
     "output_type": "display_data"
    }
   ],
   "source": [
    "# plot the minimum node size versus the RSME\n",
    "plt.scatter(perform_h['Node_size'], perform_h['RMSE'])\n",
    "plt.xlabel('Minimum Node size')\n",
    "plt.ylabel('RSME')\n",
    "plt.show()"
   ]
  },
  {
   "cell_type": "markdown",
   "metadata": {},
   "source": [
    "That looks like it trends downwards with smaller minimum node size, as it's allowed to fit the model more closely to the data. Let's try a different range of values to select from and iterate one more time on that hyperparameter"
   ]
  },
  {
   "cell_type": "code",
   "execution_count": 67,
   "metadata": {},
   "outputs": [
    {
     "data": {
      "text/html": [
       "<div>\n",
       "<style scoped>\n",
       "    .dataframe tbody tr th:only-of-type {\n",
       "        vertical-align: middle;\n",
       "    }\n",
       "\n",
       "    .dataframe tbody tr th {\n",
       "        vertical-align: top;\n",
       "    }\n",
       "\n",
       "    .dataframe thead th {\n",
       "        text-align: right;\n",
       "    }\n",
       "</style>\n",
       "<table border=\"1\" class=\"dataframe\">\n",
       "  <thead>\n",
       "    <tr style=\"text-align: right;\">\n",
       "      <th></th>\n",
       "      <th>Model</th>\n",
       "      <th>Node_size</th>\n",
       "      <th>MAE</th>\n",
       "      <th>MSE</th>\n",
       "      <th>RMSE</th>\n",
       "    </tr>\n",
       "  </thead>\n",
       "  <tbody>\n",
       "    <tr>\n",
       "      <th>36</th>\n",
       "      <td>Random Forest Tune 1</td>\n",
       "      <td>26</td>\n",
       "      <td>0.183902</td>\n",
       "      <td>0.067985</td>\n",
       "      <td>0.260739</td>\n",
       "    </tr>\n",
       "    <tr>\n",
       "      <th>35</th>\n",
       "      <td>Random Forest Tune 1</td>\n",
       "      <td>27</td>\n",
       "      <td>0.183972</td>\n",
       "      <td>0.067993</td>\n",
       "      <td>0.260755</td>\n",
       "    </tr>\n",
       "    <tr>\n",
       "      <th>34</th>\n",
       "      <td>Random Forest Tune 1</td>\n",
       "      <td>28</td>\n",
       "      <td>0.184057</td>\n",
       "      <td>0.068003</td>\n",
       "      <td>0.260774</td>\n",
       "    </tr>\n",
       "    <tr>\n",
       "      <th>33</th>\n",
       "      <td>Random Forest Tune 1</td>\n",
       "      <td>29</td>\n",
       "      <td>0.184104</td>\n",
       "      <td>0.068008</td>\n",
       "      <td>0.260783</td>\n",
       "    </tr>\n",
       "    <tr>\n",
       "      <th>39</th>\n",
       "      <td>Random Forest Tune 1</td>\n",
       "      <td>23</td>\n",
       "      <td>0.183768</td>\n",
       "      <td>0.068012</td>\n",
       "      <td>0.260790</td>\n",
       "    </tr>\n",
       "    <tr>\n",
       "      <th>27</th>\n",
       "      <td>Random Forest Tune 1</td>\n",
       "      <td>25</td>\n",
       "      <td>0.183886</td>\n",
       "      <td>0.068017</td>\n",
       "      <td>0.260800</td>\n",
       "    </tr>\n",
       "    <tr>\n",
       "      <th>21</th>\n",
       "      <td>Random Forest Tune 1</td>\n",
       "      <td>21</td>\n",
       "      <td>0.183686</td>\n",
       "      <td>0.068017</td>\n",
       "      <td>0.260801</td>\n",
       "    </tr>\n",
       "    <tr>\n",
       "      <th>25</th>\n",
       "      <td>Random Forest Tune 1</td>\n",
       "      <td>19</td>\n",
       "      <td>0.183530</td>\n",
       "      <td>0.068024</td>\n",
       "      <td>0.260814</td>\n",
       "    </tr>\n",
       "    <tr>\n",
       "      <th>23</th>\n",
       "      <td>Random Forest Tune 1</td>\n",
       "      <td>24</td>\n",
       "      <td>0.183825</td>\n",
       "      <td>0.068027</td>\n",
       "      <td>0.260821</td>\n",
       "    </tr>\n",
       "    <tr>\n",
       "      <th>22</th>\n",
       "      <td>Random Forest Tune 1</td>\n",
       "      <td>22</td>\n",
       "      <td>0.183772</td>\n",
       "      <td>0.068033</td>\n",
       "      <td>0.260831</td>\n",
       "    </tr>\n",
       "    <tr>\n",
       "      <th>20</th>\n",
       "      <td>Random Forest Tune 1</td>\n",
       "      <td>20</td>\n",
       "      <td>0.183665</td>\n",
       "      <td>0.068039</td>\n",
       "      <td>0.260842</td>\n",
       "    </tr>\n",
       "    <tr>\n",
       "      <th>37</th>\n",
       "      <td>Random Forest Tune 1</td>\n",
       "      <td>18</td>\n",
       "      <td>0.183516</td>\n",
       "      <td>0.068054</td>\n",
       "      <td>0.260872</td>\n",
       "    </tr>\n",
       "    <tr>\n",
       "      <th>24</th>\n",
       "      <td>Random Forest Tune 1</td>\n",
       "      <td>15</td>\n",
       "      <td>0.183342</td>\n",
       "      <td>0.068154</td>\n",
       "      <td>0.261063</td>\n",
       "    </tr>\n",
       "    <tr>\n",
       "      <th>28</th>\n",
       "      <td>Random Forest Tune 1</td>\n",
       "      <td>12</td>\n",
       "      <td>0.183076</td>\n",
       "      <td>0.068228</td>\n",
       "      <td>0.261205</td>\n",
       "    </tr>\n",
       "    <tr>\n",
       "      <th>32</th>\n",
       "      <td>Random Forest Tune 1</td>\n",
       "      <td>11</td>\n",
       "      <td>0.182952</td>\n",
       "      <td>0.068289</td>\n",
       "      <td>0.261322</td>\n",
       "    </tr>\n",
       "    <tr>\n",
       "      <th>38</th>\n",
       "      <td>Random Forest Tune 1</td>\n",
       "      <td>10</td>\n",
       "      <td>0.182863</td>\n",
       "      <td>0.068381</td>\n",
       "      <td>0.261498</td>\n",
       "    </tr>\n",
       "    <tr>\n",
       "      <th>18</th>\n",
       "      <td>Random Forest</td>\n",
       "      <td>100</td>\n",
       "      <td>0.186482</td>\n",
       "      <td>0.068421</td>\n",
       "      <td>0.261575</td>\n",
       "    </tr>\n",
       "    <tr>\n",
       "      <th>15</th>\n",
       "      <td>Random Forest</td>\n",
       "      <td>115</td>\n",
       "      <td>0.186776</td>\n",
       "      <td>0.068471</td>\n",
       "      <td>0.261669</td>\n",
       "    </tr>\n",
       "    <tr>\n",
       "      <th>30</th>\n",
       "      <td>Random Forest Tune 1</td>\n",
       "      <td>9</td>\n",
       "      <td>0.182736</td>\n",
       "      <td>0.068472</td>\n",
       "      <td>0.261672</td>\n",
       "    </tr>\n",
       "    <tr>\n",
       "      <th>0</th>\n",
       "      <td>Random Forest</td>\n",
       "      <td>134</td>\n",
       "      <td>0.187082</td>\n",
       "      <td>0.068559</td>\n",
       "      <td>0.261838</td>\n",
       "    </tr>\n",
       "    <tr>\n",
       "      <th>31</th>\n",
       "      <td>Random Forest Tune 1</td>\n",
       "      <td>8</td>\n",
       "      <td>0.182726</td>\n",
       "      <td>0.068671</td>\n",
       "      <td>0.262051</td>\n",
       "    </tr>\n",
       "    <tr>\n",
       "      <th>9</th>\n",
       "      <td>Random Forest</td>\n",
       "      <td>159</td>\n",
       "      <td>0.187473</td>\n",
       "      <td>0.068676</td>\n",
       "      <td>0.262060</td>\n",
       "    </tr>\n",
       "    <tr>\n",
       "      <th>16</th>\n",
       "      <td>Random Forest</td>\n",
       "      <td>176</td>\n",
       "      <td>0.187689</td>\n",
       "      <td>0.068750</td>\n",
       "      <td>0.262203</td>\n",
       "    </tr>\n",
       "    <tr>\n",
       "      <th>26</th>\n",
       "      <td>Random Forest Tune 1</td>\n",
       "      <td>7</td>\n",
       "      <td>0.182776</td>\n",
       "      <td>0.068873</td>\n",
       "      <td>0.262437</td>\n",
       "    </tr>\n",
       "    <tr>\n",
       "      <th>6</th>\n",
       "      <td>Random Forest</td>\n",
       "      <td>206</td>\n",
       "      <td>0.188195</td>\n",
       "      <td>0.068873</td>\n",
       "      <td>0.262437</td>\n",
       "    </tr>\n",
       "    <tr>\n",
       "      <th>8</th>\n",
       "      <td>Random Forest</td>\n",
       "      <td>232</td>\n",
       "      <td>0.188576</td>\n",
       "      <td>0.068982</td>\n",
       "      <td>0.262645</td>\n",
       "    </tr>\n",
       "    <tr>\n",
       "      <th>14</th>\n",
       "      <td>Random Forest</td>\n",
       "      <td>279</td>\n",
       "      <td>0.189011</td>\n",
       "      <td>0.069079</td>\n",
       "      <td>0.262828</td>\n",
       "    </tr>\n",
       "    <tr>\n",
       "      <th>13</th>\n",
       "      <td>Random Forest</td>\n",
       "      <td>387</td>\n",
       "      <td>0.190149</td>\n",
       "      <td>0.069434</td>\n",
       "      <td>0.263504</td>\n",
       "    </tr>\n",
       "    <tr>\n",
       "      <th>5</th>\n",
       "      <td>Random Forest</td>\n",
       "      <td>442</td>\n",
       "      <td>0.190785</td>\n",
       "      <td>0.069646</td>\n",
       "      <td>0.263906</td>\n",
       "    </tr>\n",
       "    <tr>\n",
       "      <th>29</th>\n",
       "      <td>Random Forest Tune 1</td>\n",
       "      <td>5</td>\n",
       "      <td>0.183144</td>\n",
       "      <td>0.069658</td>\n",
       "      <td>0.263928</td>\n",
       "    </tr>\n",
       "    <tr>\n",
       "      <th>4</th>\n",
       "      <td>Random Forest</td>\n",
       "      <td>517</td>\n",
       "      <td>0.191253</td>\n",
       "      <td>0.069819</td>\n",
       "      <td>0.264233</td>\n",
       "    </tr>\n",
       "    <tr>\n",
       "      <th>1</th>\n",
       "      <td>Random Forest</td>\n",
       "      <td>553</td>\n",
       "      <td>0.191384</td>\n",
       "      <td>0.069888</td>\n",
       "      <td>0.264364</td>\n",
       "    </tr>\n",
       "    <tr>\n",
       "      <th>10</th>\n",
       "      <td>Random Forest</td>\n",
       "      <td>616</td>\n",
       "      <td>0.191610</td>\n",
       "      <td>0.069940</td>\n",
       "      <td>0.264461</td>\n",
       "    </tr>\n",
       "    <tr>\n",
       "      <th>17</th>\n",
       "      <td>Random Forest</td>\n",
       "      <td>625</td>\n",
       "      <td>0.191670</td>\n",
       "      <td>0.069958</td>\n",
       "      <td>0.264496</td>\n",
       "    </tr>\n",
       "    <tr>\n",
       "      <th>2</th>\n",
       "      <td>Random Forest</td>\n",
       "      <td>632</td>\n",
       "      <td>0.191721</td>\n",
       "      <td>0.069972</td>\n",
       "      <td>0.264523</td>\n",
       "    </tr>\n",
       "    <tr>\n",
       "      <th>11</th>\n",
       "      <td>Random Forest</td>\n",
       "      <td>756</td>\n",
       "      <td>0.192431</td>\n",
       "      <td>0.070285</td>\n",
       "      <td>0.265113</td>\n",
       "    </tr>\n",
       "    <tr>\n",
       "      <th>19</th>\n",
       "      <td>Random Forest</td>\n",
       "      <td>879</td>\n",
       "      <td>0.192539</td>\n",
       "      <td>0.070382</td>\n",
       "      <td>0.265296</td>\n",
       "    </tr>\n",
       "    <tr>\n",
       "      <th>3</th>\n",
       "      <td>Random Forest</td>\n",
       "      <td>894</td>\n",
       "      <td>0.192514</td>\n",
       "      <td>0.070395</td>\n",
       "      <td>0.265320</td>\n",
       "    </tr>\n",
       "    <tr>\n",
       "      <th>12</th>\n",
       "      <td>Random Forest</td>\n",
       "      <td>893</td>\n",
       "      <td>0.192521</td>\n",
       "      <td>0.070397</td>\n",
       "      <td>0.265324</td>\n",
       "    </tr>\n",
       "    <tr>\n",
       "      <th>7</th>\n",
       "      <td>Random Forest</td>\n",
       "      <td>965</td>\n",
       "      <td>0.192768</td>\n",
       "      <td>0.070588</td>\n",
       "      <td>0.265684</td>\n",
       "    </tr>\n",
       "  </tbody>\n",
       "</table>\n",
       "</div>"
      ],
      "text/plain": [
       "                   Model Node_size       MAE       MSE      RMSE\n",
       "36  Random Forest Tune 1        26  0.183902  0.067985  0.260739\n",
       "35  Random Forest Tune 1        27  0.183972  0.067993  0.260755\n",
       "34  Random Forest Tune 1        28  0.184057  0.068003  0.260774\n",
       "33  Random Forest Tune 1        29  0.184104  0.068008  0.260783\n",
       "39  Random Forest Tune 1        23  0.183768  0.068012  0.260790\n",
       "27  Random Forest Tune 1        25  0.183886  0.068017  0.260800\n",
       "21  Random Forest Tune 1        21  0.183686  0.068017  0.260801\n",
       "25  Random Forest Tune 1        19  0.183530  0.068024  0.260814\n",
       "23  Random Forest Tune 1        24  0.183825  0.068027  0.260821\n",
       "22  Random Forest Tune 1        22  0.183772  0.068033  0.260831\n",
       "20  Random Forest Tune 1        20  0.183665  0.068039  0.260842\n",
       "37  Random Forest Tune 1        18  0.183516  0.068054  0.260872\n",
       "24  Random Forest Tune 1        15  0.183342  0.068154  0.261063\n",
       "28  Random Forest Tune 1        12  0.183076  0.068228  0.261205\n",
       "32  Random Forest Tune 1        11  0.182952  0.068289  0.261322\n",
       "38  Random Forest Tune 1        10  0.182863  0.068381  0.261498\n",
       "18         Random Forest       100  0.186482  0.068421  0.261575\n",
       "15         Random Forest       115  0.186776  0.068471  0.261669\n",
       "30  Random Forest Tune 1         9  0.182736  0.068472  0.261672\n",
       "0          Random Forest       134  0.187082  0.068559  0.261838\n",
       "31  Random Forest Tune 1         8  0.182726  0.068671  0.262051\n",
       "9          Random Forest       159  0.187473  0.068676  0.262060\n",
       "16         Random Forest       176  0.187689  0.068750  0.262203\n",
       "26  Random Forest Tune 1         7  0.182776  0.068873  0.262437\n",
       "6          Random Forest       206  0.188195  0.068873  0.262437\n",
       "8          Random Forest       232  0.188576  0.068982  0.262645\n",
       "14         Random Forest       279  0.189011  0.069079  0.262828\n",
       "13         Random Forest       387  0.190149  0.069434  0.263504\n",
       "5          Random Forest       442  0.190785  0.069646  0.263906\n",
       "29  Random Forest Tune 1         5  0.183144  0.069658  0.263928\n",
       "4          Random Forest       517  0.191253  0.069819  0.264233\n",
       "1          Random Forest       553  0.191384  0.069888  0.264364\n",
       "10         Random Forest       616  0.191610  0.069940  0.264461\n",
       "17         Random Forest       625  0.191670  0.069958  0.264496\n",
       "2          Random Forest       632  0.191721  0.069972  0.264523\n",
       "11         Random Forest       756  0.192431  0.070285  0.265113\n",
       "19         Random Forest       879  0.192539  0.070382  0.265296\n",
       "3          Random Forest       894  0.192514  0.070395  0.265320\n",
       "12         Random Forest       893  0.192521  0.070397  0.265324\n",
       "7          Random Forest       965  0.192768  0.070588  0.265684"
      ]
     },
     "execution_count": 67,
     "metadata": {},
     "output_type": "execute_result"
    }
   ],
   "source": [
    "# much smaller minimum node size \n",
    "node_size = random.sample(range(5,30), 20)\n",
    "\n",
    "# we'll add on to the existing DF so we get a better look at the full curve\n",
    "\n",
    "# loops through the number of leaves\n",
    "for n in node_size:\n",
    "    reg_h = RandomForestRegressor(min_samples_leaf=n, random_state=33)\n",
    "    model_rf_h = reg_h.fit(X1_train,y_train)\n",
    "    y_pred1_rf_h = reg_h.predict(X1_test)\n",
    "    # Mean Absolute Error\n",
    "    MAE1 = mean_absolute_error(y_test, y_pred1_rf_h)\n",
    "    # Mean Squared Error\n",
    "    MSE1 = mean_squared_error(y_test, y_pred1_rf_h)\n",
    "    # root mean squared error\n",
    "    RMSE1 = MSE1**0.5\n",
    "    # add to performance DF\n",
    "    perform_h = perform_h.append({'Model':'Random Forest Tune 1', 'Node_size':n, 'MAE':MAE1, 'MSE': MSE1, 'RMSE':RMSE1}, ignore_index=True)\n",
    "\n",
    "perform_h.sort_values('RMSE', ascending=True)"
   ]
  },
  {
   "cell_type": "code",
   "execution_count": 68,
   "metadata": {
    "scrolled": false
   },
   "outputs": [
    {
     "data": {
      "image/png": "[encoded data removed]",
      "text/plain": [
       "<Figure size 432x288 with 1 Axes>"
      ]
     },
     "metadata": {
      "needs_background": "light"
     },
     "output_type": "display_data"
    }
   ],
   "source": [
    "# plot the minimum node size versus the RSME\n",
    "plt.scatter(perform_h['Node_size'], perform_h['RMSE'])\n",
    "plt.xlabel('Minimum Node size')\n",
    "plt.ylabel('RSME')\n",
    "plt.show()"
   ]
  },
  {
   "cell_type": "markdown",
   "metadata": {},
   "source": [
    "That is the dip that I wanted to see to consider a balance between under and over-fitting to the data. Let's find the best value."
   ]
  },
  {
   "cell_type": "code",
   "execution_count": 69,
   "metadata": {
    "scrolled": false
   },
   "outputs": [
    {
     "data": {
      "text/html": [
       "<div>\n",
       "<style scoped>\n",
       "    .dataframe tbody tr th:only-of-type {\n",
       "        vertical-align: middle;\n",
       "    }\n",
       "\n",
       "    .dataframe tbody tr th {\n",
       "        vertical-align: top;\n",
       "    }\n",
       "\n",
       "    .dataframe thead th {\n",
       "        text-align: right;\n",
       "    }\n",
       "</style>\n",
       "<table border=\"1\" class=\"dataframe\">\n",
       "  <thead>\n",
       "    <tr style=\"text-align: right;\">\n",
       "      <th></th>\n",
       "      <th>Model</th>\n",
       "      <th>Node_size</th>\n",
       "      <th>MAE</th>\n",
       "      <th>MSE</th>\n",
       "      <th>RMSE</th>\n",
       "    </tr>\n",
       "  </thead>\n",
       "  <tbody>\n",
       "    <tr>\n",
       "      <th>36</th>\n",
       "      <td>Random Forest Tune 1</td>\n",
       "      <td>26</td>\n",
       "      <td>0.183902</td>\n",
       "      <td>0.067985</td>\n",
       "      <td>0.260739</td>\n",
       "    </tr>\n",
       "    <tr>\n",
       "      <th>35</th>\n",
       "      <td>Random Forest Tune 1</td>\n",
       "      <td>27</td>\n",
       "      <td>0.183972</td>\n",
       "      <td>0.067993</td>\n",
       "      <td>0.260755</td>\n",
       "    </tr>\n",
       "    <tr>\n",
       "      <th>34</th>\n",
       "      <td>Random Forest Tune 1</td>\n",
       "      <td>28</td>\n",
       "      <td>0.184057</td>\n",
       "      <td>0.068003</td>\n",
       "      <td>0.260774</td>\n",
       "    </tr>\n",
       "    <tr>\n",
       "      <th>33</th>\n",
       "      <td>Random Forest Tune 1</td>\n",
       "      <td>29</td>\n",
       "      <td>0.184104</td>\n",
       "      <td>0.068008</td>\n",
       "      <td>0.260783</td>\n",
       "    </tr>\n",
       "    <tr>\n",
       "      <th>39</th>\n",
       "      <td>Random Forest Tune 1</td>\n",
       "      <td>23</td>\n",
       "      <td>0.183768</td>\n",
       "      <td>0.068012</td>\n",
       "      <td>0.260790</td>\n",
       "    </tr>\n",
       "    <tr>\n",
       "      <th>27</th>\n",
       "      <td>Random Forest Tune 1</td>\n",
       "      <td>25</td>\n",
       "      <td>0.183886</td>\n",
       "      <td>0.068017</td>\n",
       "      <td>0.260800</td>\n",
       "    </tr>\n",
       "    <tr>\n",
       "      <th>21</th>\n",
       "      <td>Random Forest Tune 1</td>\n",
       "      <td>21</td>\n",
       "      <td>0.183686</td>\n",
       "      <td>0.068017</td>\n",
       "      <td>0.260801</td>\n",
       "    </tr>\n",
       "    <tr>\n",
       "      <th>25</th>\n",
       "      <td>Random Forest Tune 1</td>\n",
       "      <td>19</td>\n",
       "      <td>0.183530</td>\n",
       "      <td>0.068024</td>\n",
       "      <td>0.260814</td>\n",
       "    </tr>\n",
       "    <tr>\n",
       "      <th>23</th>\n",
       "      <td>Random Forest Tune 1</td>\n",
       "      <td>24</td>\n",
       "      <td>0.183825</td>\n",
       "      <td>0.068027</td>\n",
       "      <td>0.260821</td>\n",
       "    </tr>\n",
       "    <tr>\n",
       "      <th>22</th>\n",
       "      <td>Random Forest Tune 1</td>\n",
       "      <td>22</td>\n",
       "      <td>0.183772</td>\n",
       "      <td>0.068033</td>\n",
       "      <td>0.260831</td>\n",
       "    </tr>\n",
       "  </tbody>\n",
       "</table>\n",
       "</div>"
      ],
      "text/plain": [
       "                   Model Node_size       MAE       MSE      RMSE\n",
       "36  Random Forest Tune 1        26  0.183902  0.067985  0.260739\n",
       "35  Random Forest Tune 1        27  0.183972  0.067993  0.260755\n",
       "34  Random Forest Tune 1        28  0.184057  0.068003  0.260774\n",
       "33  Random Forest Tune 1        29  0.184104  0.068008  0.260783\n",
       "39  Random Forest Tune 1        23  0.183768  0.068012  0.260790\n",
       "27  Random Forest Tune 1        25  0.183886  0.068017  0.260800\n",
       "21  Random Forest Tune 1        21  0.183686  0.068017  0.260801\n",
       "25  Random Forest Tune 1        19  0.183530  0.068024  0.260814\n",
       "23  Random Forest Tune 1        24  0.183825  0.068027  0.260821\n",
       "22  Random Forest Tune 1        22  0.183772  0.068033  0.260831"
      ]
     },
     "execution_count": 69,
     "metadata": {},
     "output_type": "execute_result"
    }
   ],
   "source": [
    "perform_h.sort_values('RMSE', ascending=True).head(10)"
   ]
  },
  {
   "cell_type": "markdown",
   "metadata": {},
   "source": [
    "It looks like 26 is the best minimum node size for Random Forest Regression with this data. We'll add this to the overall performance dataframe."
   ]
  },
  {
   "cell_type": "code",
   "execution_count": 70,
   "metadata": {},
   "outputs": [
    {
     "data": {
      "text/html": [
       "<div>\n",
       "<style scoped>\n",
       "    .dataframe tbody tr th:only-of-type {\n",
       "        vertical-align: middle;\n",
       "    }\n",
       "\n",
       "    .dataframe tbody tr th {\n",
       "        vertical-align: top;\n",
       "    }\n",
       "\n",
       "    .dataframe thead th {\n",
       "        text-align: right;\n",
       "    }\n",
       "</style>\n",
       "<table border=\"1\" class=\"dataframe\">\n",
       "  <thead>\n",
       "    <tr style=\"text-align: right;\">\n",
       "      <th></th>\n",
       "      <th>Model</th>\n",
       "      <th>MAE</th>\n",
       "      <th>MSE</th>\n",
       "      <th>RMSE</th>\n",
       "      <th>Node_size</th>\n",
       "    </tr>\n",
       "  </thead>\n",
       "  <tbody>\n",
       "    <tr>\n",
       "      <th>4</th>\n",
       "      <td>Linear Regression 2</td>\n",
       "      <td>1.859726e-01</td>\n",
       "      <td>6.770457e-02</td>\n",
       "      <td>2.602010e-01</td>\n",
       "      <td>NaN</td>\n",
       "    </tr>\n",
       "    <tr>\n",
       "      <th>8</th>\n",
       "      <td>Random Forest Tune 1</td>\n",
       "      <td>1.839021e-01</td>\n",
       "      <td>6.798485e-02</td>\n",
       "      <td>2.607391e-01</td>\n",
       "      <td>26</td>\n",
       "    </tr>\n",
       "    <tr>\n",
       "      <th>1</th>\n",
       "      <td>Random Forest 1</td>\n",
       "      <td>1.847552e-01</td>\n",
       "      <td>6.807910e-02</td>\n",
       "      <td>2.609197e-01</td>\n",
       "      <td>NaN</td>\n",
       "    </tr>\n",
       "    <tr>\n",
       "      <th>3</th>\n",
       "      <td>Gradient Boost 1</td>\n",
       "      <td>1.847552e-01</td>\n",
       "      <td>6.807910e-02</td>\n",
       "      <td>2.609197e-01</td>\n",
       "      <td>NaN</td>\n",
       "    </tr>\n",
       "    <tr>\n",
       "      <th>5</th>\n",
       "      <td>Random Forest 2</td>\n",
       "      <td>1.847164e-01</td>\n",
       "      <td>6.809799e-02</td>\n",
       "      <td>2.609559e-01</td>\n",
       "      <td>NaN</td>\n",
       "    </tr>\n",
       "    <tr>\n",
       "      <th>6</th>\n",
       "      <td>Gradient Boost 2</td>\n",
       "      <td>1.847164e-01</td>\n",
       "      <td>6.809799e-02</td>\n",
       "      <td>2.609559e-01</td>\n",
       "      <td>NaN</td>\n",
       "    </tr>\n",
       "    <tr>\n",
       "      <th>2</th>\n",
       "      <td>Dummy Model (average)</td>\n",
       "      <td>2.906511e-01</td>\n",
       "      <td>1.445166e-01</td>\n",
       "      <td>3.801533e-01</td>\n",
       "      <td>NaN</td>\n",
       "    </tr>\n",
       "    <tr>\n",
       "      <th>7</th>\n",
       "      <td>X Gradient Boost</td>\n",
       "      <td>4.628376e-01</td>\n",
       "      <td>3.046849e-01</td>\n",
       "      <td>5.519827e-01</td>\n",
       "      <td>NaN</td>\n",
       "    </tr>\n",
       "    <tr>\n",
       "      <th>0</th>\n",
       "      <td>Linear Regression</td>\n",
       "      <td>1.041380e+10</td>\n",
       "      <td>4.308612e+23</td>\n",
       "      <td>6.564002e+11</td>\n",
       "      <td>NaN</td>\n",
       "    </tr>\n",
       "  </tbody>\n",
       "</table>\n",
       "</div>"
      ],
      "text/plain": [
       "                   Model           MAE           MSE          RMSE Node_size\n",
       "4    Linear Regression 2  1.859726e-01  6.770457e-02  2.602010e-01       NaN\n",
       "8   Random Forest Tune 1  1.839021e-01  6.798485e-02  2.607391e-01        26\n",
       "1        Random Forest 1  1.847552e-01  6.807910e-02  2.609197e-01       NaN\n",
       "3       Gradient Boost 1  1.847552e-01  6.807910e-02  2.609197e-01       NaN\n",
       "5        Random Forest 2  1.847164e-01  6.809799e-02  2.609559e-01       NaN\n",
       "6       Gradient Boost 2  1.847164e-01  6.809799e-02  2.609559e-01       NaN\n",
       "2  Dummy Model (average)  2.906511e-01  1.445166e-01  3.801533e-01       NaN\n",
       "7       X Gradient Boost  4.628376e-01  3.046849e-01  5.519827e-01       NaN\n",
       "0      Linear Regression  1.041380e+10  4.308612e+23  6.564002e+11       NaN"
      ]
     },
     "execution_count": 70,
     "metadata": {},
     "output_type": "execute_result"
    }
   ],
   "source": [
    "perform = perform.append(perform_h.sort_values('RMSE', ascending=True).head(1), ignore_index=True)\n",
    "perform.sort_values('RMSE', ascending=True)\n"
   ]
  },
  {
   "cell_type": "markdown",
   "metadata": {},
   "source": [
    "The tuned RF did perform slightly better than the previous implementations of random forest, but still not as good as the 2nd attempt at Linear Regression. Let's try to tune the Gradient Boosting next."
   ]
  },
  {
   "cell_type": "markdown",
   "metadata": {},
   "source": [
    "#### 10. Gradient Boosting with Hyperparameter Tuning"
   ]
  },
  {
   "cell_type": "markdown",
   "metadata": {},
   "source": [
    "Let's do the same hyperparameter tuning, but with Gradient Boosting. Learning Rate is the most important parameter in GB, so we'll tune that throughout the range."
   ]
  },
  {
   "cell_type": "code",
   "execution_count": 71,
   "metadata": {},
   "outputs": [
    {
     "data": {
      "text/html": [
       "<div>\n",
       "<style scoped>\n",
       "    .dataframe tbody tr th:only-of-type {\n",
       "        vertical-align: middle;\n",
       "    }\n",
       "\n",
       "    .dataframe tbody tr th {\n",
       "        vertical-align: top;\n",
       "    }\n",
       "\n",
       "    .dataframe thead th {\n",
       "        text-align: right;\n",
       "    }\n",
       "</style>\n",
       "<table border=\"1\" class=\"dataframe\">\n",
       "  <thead>\n",
       "    <tr style=\"text-align: right;\">\n",
       "      <th></th>\n",
       "      <th>Model</th>\n",
       "      <th>Learning_rate</th>\n",
       "      <th>MAE</th>\n",
       "      <th>MSE</th>\n",
       "      <th>RMSE</th>\n",
       "    </tr>\n",
       "  </thead>\n",
       "  <tbody>\n",
       "    <tr>\n",
       "      <th>0</th>\n",
       "      <td>Gradient Boost</td>\n",
       "      <td>0.386675</td>\n",
       "      <td>0.184716</td>\n",
       "      <td>0.068098</td>\n",
       "      <td>0.260956</td>\n",
       "    </tr>\n",
       "    <tr>\n",
       "      <th>17</th>\n",
       "      <td>Gradient Boost</td>\n",
       "      <td>0.190392</td>\n",
       "      <td>0.184716</td>\n",
       "      <td>0.068098</td>\n",
       "      <td>0.260956</td>\n",
       "    </tr>\n",
       "    <tr>\n",
       "      <th>16</th>\n",
       "      <td>Gradient Boost</td>\n",
       "      <td>0.186822</td>\n",
       "      <td>0.184716</td>\n",
       "      <td>0.068098</td>\n",
       "      <td>0.260956</td>\n",
       "    </tr>\n",
       "    <tr>\n",
       "      <th>15</th>\n",
       "      <td>Gradient Boost</td>\n",
       "      <td>0.220271</td>\n",
       "      <td>0.184716</td>\n",
       "      <td>0.068098</td>\n",
       "      <td>0.260956</td>\n",
       "    </tr>\n",
       "    <tr>\n",
       "      <th>14</th>\n",
       "      <td>Gradient Boost</td>\n",
       "      <td>0.231161</td>\n",
       "      <td>0.184716</td>\n",
       "      <td>0.068098</td>\n",
       "      <td>0.260956</td>\n",
       "    </tr>\n",
       "    <tr>\n",
       "      <th>13</th>\n",
       "      <td>Gradient Boost</td>\n",
       "      <td>0.053926</td>\n",
       "      <td>0.184716</td>\n",
       "      <td>0.068098</td>\n",
       "      <td>0.260956</td>\n",
       "    </tr>\n",
       "    <tr>\n",
       "      <th>12</th>\n",
       "      <td>Gradient Boost</td>\n",
       "      <td>0.022280</td>\n",
       "      <td>0.184716</td>\n",
       "      <td>0.068098</td>\n",
       "      <td>0.260956</td>\n",
       "    </tr>\n",
       "    <tr>\n",
       "      <th>11</th>\n",
       "      <td>Gradient Boost</td>\n",
       "      <td>0.282555</td>\n",
       "      <td>0.184716</td>\n",
       "      <td>0.068098</td>\n",
       "      <td>0.260956</td>\n",
       "    </tr>\n",
       "    <tr>\n",
       "      <th>10</th>\n",
       "      <td>Gradient Boost</td>\n",
       "      <td>0.008016</td>\n",
       "      <td>0.184716</td>\n",
       "      <td>0.068098</td>\n",
       "      <td>0.260956</td>\n",
       "    </tr>\n",
       "    <tr>\n",
       "      <th>9</th>\n",
       "      <td>Gradient Boost</td>\n",
       "      <td>0.313403</td>\n",
       "      <td>0.184716</td>\n",
       "      <td>0.068098</td>\n",
       "      <td>0.260956</td>\n",
       "    </tr>\n",
       "  </tbody>\n",
       "</table>\n",
       "</div>"
      ],
      "text/plain": [
       "             Model  Learning_rate       MAE       MSE      RMSE\n",
       "0   Gradient Boost       0.386675  0.184716  0.068098  0.260956\n",
       "17  Gradient Boost       0.190392  0.184716  0.068098  0.260956\n",
       "16  Gradient Boost       0.186822  0.184716  0.068098  0.260956\n",
       "15  Gradient Boost       0.220271  0.184716  0.068098  0.260956\n",
       "14  Gradient Boost       0.231161  0.184716  0.068098  0.260956\n",
       "13  Gradient Boost       0.053926  0.184716  0.068098  0.260956\n",
       "12  Gradient Boost       0.022280  0.184716  0.068098  0.260956\n",
       "11  Gradient Boost       0.282555  0.184716  0.068098  0.260956\n",
       "10  Gradient Boost       0.008016  0.184716  0.068098  0.260956\n",
       "9   Gradient Boost       0.313403  0.184716  0.068098  0.260956"
      ]
     },
     "execution_count": 71,
     "metadata": {},
     "output_type": "execute_result"
    }
   ],
   "source": [
    "# much smaller minimum node size \n",
    "learn_rt = [random.random()*0.4 for x in range(20)]\n",
    "\n",
    "# we'll add on to the existing DF so we get a better look at the full curve\n",
    "perform_gb = pd.DataFrame(columns=['Model', 'Learning_rate', 'MAE', 'MSE', 'RMSE'])\n",
    "\n",
    "# loops through the number of leaves\n",
    "for r in learn_rt:\n",
    "    reg_gb = GradientBoostingRegressor(learning_rate=r, random_state=0)\n",
    "    model_gb = reg_gb.fit(X1_train,y_train)\n",
    "    # use regressor to predict on test data\n",
    "    y_pred_gb = regr.predict(X1_test)\n",
    "    # Mean Absolute Error\n",
    "    MAE1 = mean_absolute_error(y_test, y_pred_gb)\n",
    "    # Mean Squared Error\n",
    "    MSE1 = mean_squared_error(y_test, y_pred_gb)\n",
    "    # root mean squared error\n",
    "    RMSE1 = MSE1**0.5\n",
    "    # add to performance DF\n",
    "    perform_gb = perform_gb.append({'Model':'Gradient Boost', 'Learning_rate':r, 'MAE':MAE1, 'MSE': MSE1, 'RMSE':RMSE1}, ignore_index=True)\n",
    "\n",
    "perform_gb.sort_values('RMSE', ascending=True).head(10)"
   ]
  },
  {
   "cell_type": "code",
   "execution_count": 72,
   "metadata": {},
   "outputs": [
    {
     "data": {
      "image/png": "[encoded data removed]",
      "text/plain": [
       "<Figure size 432x288 with 1 Axes>"
      ]
     },
     "metadata": {
      "needs_background": "light"
     },
     "output_type": "display_data"
    }
   ],
   "source": [
    "# plot the minimum node size versus the RSME\n",
    "plt.scatter(perform_gb['Learning_rate'], perform_gb['RMSE'])\n",
    "plt.xlabel('Learning Rate')\n",
    "plt.ylabel('RSME')\n",
    "plt.show()"
   ]
  },
  {
   "cell_type": "markdown",
   "metadata": {},
   "source": [
    "Looks like the results are pretty much exactly as we planned them to be. "
   ]
  },
  {
   "cell_type": "markdown",
   "metadata": {},
   "source": [
    "## V. More Extensive Hyperparameter Tuning"
   ]
  },
  {
   "cell_type": "markdown",
   "metadata": {},
   "source": [
    "In the previous section, we did some hyperparameter tuning, but this was just using a random search of one parameter. It may not even be the best parameter to tune. Instead, we will focus on doing a more extensive search in this section. We will form a grid for both Random Forest and Gradient Boosting. We will then using random search to pick out some points on that grid."
   ]
  },
  {
   "cell_type": "markdown",
   "metadata": {},
   "source": [
    "#### 11. Random Forest Regression with more extensive Hyperparameter Tuning (using multiple hyperparameters)"
   ]
  },
  {
   "cell_type": "code",
   "execution_count": 73,
   "metadata": {},
   "outputs": [
    {
     "name": "stdout",
     "output_type": "stream",
     "text": [
      "{'n_estimators': [200, 400, 600, 800, 1000, 1200, 1400, 1600, 1800, 2000], 'max_features': ['auto', 'sqrt'], 'max_depth': [10, 20, 30, 40, 50, 60, 70, 80, 90, 100, 110, None], 'min_samples_split': [5, 10, 26, 40], 'min_samples_leaf': [5, 10, 26, 40], 'bootstrap': [True, False]}\n"
     ]
    }
   ],
   "source": [
    "### create the grid of hyperparameters to use\n",
    "\n",
    "from sklearn.model_selection import RandomizedSearchCV\n",
    "# Number of trees in random forest\n",
    "n_estimators = [int(x) for x in np.linspace(start = 200, stop = 2000, num = 10)]\n",
    "# Number of features to consider at every split\n",
    "max_features = ['auto', 'sqrt']\n",
    "# Maximum number of levels in tree\n",
    "max_depth = [int(x) for x in np.linspace(10, 110, num = 11)]\n",
    "max_depth.append(None)\n",
    "# Minimum number of samples required to split a node\n",
    "min_samples_split = [5, 10, 26, 40]\n",
    "# Minimum number of samples required at each leaf node\n",
    "min_samples_leaf = [5, 10, 26, 40]\n",
    "# Method of selecting samples for training each tree\n",
    "bootstrap = [True, False]\n",
    "# Create the random grid\n",
    "random_grid = {'n_estimators': n_estimators,\n",
    "               'max_features': max_features,\n",
    "               'max_depth': max_depth,\n",
    "               'min_samples_split': min_samples_split,\n",
    "               'min_samples_leaf': min_samples_leaf,\n",
    "               'bootstrap': bootstrap}\n",
    "print(random_grid)\n"
   ]
  },
  {
   "cell_type": "code",
   "execution_count": 74,
   "metadata": {},
   "outputs": [
    {
     "name": "stdout",
     "output_type": "stream",
     "text": [
      "Fitting 3 folds for each of 150 candidates, totalling 450 fits\n"
     ]
    },
    {
     "name": "stderr",
     "output_type": "stream",
     "text": [
      "[Parallel(n_jobs=-1)]: Using backend LokyBackend with 4 concurrent workers.\n",
      "[Parallel(n_jobs=-1)]: Done  33 tasks      | elapsed: 33.0min\n",
      "[Parallel(n_jobs=-1)]: Done 154 tasks      | elapsed: 103.7min\n",
      "[Parallel(n_jobs=-1)]: Done 357 tasks      | elapsed: 206.1min\n",
      "[Parallel(n_jobs=-1)]: Done 450 out of 450 | elapsed: 296.7min finished\n"
     ]
    },
    {
     "data": {
      "text/plain": [
       "RandomizedSearchCV(cv=3, error_score=nan,\n",
       "                   estimator=RandomForestRegressor(bootstrap=True,\n",
       "                                                   ccp_alpha=0.0,\n",
       "                                                   criterion='mse',\n",
       "                                                   max_depth=None,\n",
       "                                                   max_features='auto',\n",
       "                                                   max_leaf_nodes=None,\n",
       "                                                   max_samples=None,\n",
       "                                                   min_impurity_decrease=0.0,\n",
       "                                                   min_impurity_split=None,\n",
       "                                                   min_samples_leaf=1,\n",
       "                                                   min_samples_split=2,\n",
       "                                                   min_weight_fraction_leaf=0.0,\n",
       "                                                   n_estimators=100,\n",
       "                                                   n_jobs=None, oob_score=Fals...\n",
       "                   param_distributions={'bootstrap': [True, False],\n",
       "                                        'max_depth': [10, 20, 30, 40, 50, 60,\n",
       "                                                      70, 80, 90, 100, 110,\n",
       "                                                      None],\n",
       "                                        'max_features': ['auto', 'sqrt'],\n",
       "                                        'min_samples_leaf': [5, 10, 26, 40],\n",
       "                                        'min_samples_split': [5, 10, 26, 40],\n",
       "                                        'n_estimators': [200, 400, 600, 800,\n",
       "                                                         1000, 1200, 1400, 1600,\n",
       "                                                         1800, 2000]},\n",
       "                   pre_dispatch='2*n_jobs', random_state=33, refit=True,\n",
       "                   return_train_score=False, scoring=None, verbose=2)"
      ]
     },
     "execution_count": 74,
     "metadata": {},
     "output_type": "execute_result"
    }
   ],
   "source": [
    "## run the random search of that grid that we just created\n",
    "\n",
    "# First create the base model to tune\n",
    "rf = RandomForestRegressor()\n",
    "# Random search of parameters, using 3 fold cross validation, \n",
    "# search across 100 different combinations, and use all available cores\n",
    "rf_random = RandomizedSearchCV(estimator = rf, param_distributions = random_grid, n_iter = 150, cv = 3, verbose=2, random_state=33, n_jobs = -1)\n",
    "# Fit the random search model\n",
    "rf_random.fit(X1_train, y_train)\n"
   ]
  },
  {
   "cell_type": "code",
   "execution_count": 75,
   "metadata": {},
   "outputs": [
    {
     "data": {
      "text/plain": [
       "{'n_estimators': 600,\n",
       " 'min_samples_split': 26,\n",
       " 'min_samples_leaf': 5,\n",
       " 'max_features': 'sqrt',\n",
       " 'max_depth': 20,\n",
       " 'bootstrap': True}"
      ]
     },
     "execution_count": 75,
     "metadata": {},
     "output_type": "execute_result"
    }
   ],
   "source": [
    "# print the best parameters\n",
    "rf_random.best_params_"
   ]
  },
  {
   "cell_type": "code",
   "execution_count": 76,
   "metadata": {},
   "outputs": [
    {
     "data": {
      "text/plain": [
       "RandomForestRegressor(bootstrap=True, ccp_alpha=0.0, criterion='mse',\n",
       "                      max_depth=20, max_features='sqrt', max_leaf_nodes=None,\n",
       "                      max_samples=None, min_impurity_decrease=0.0,\n",
       "                      min_impurity_split=None, min_samples_leaf=5,\n",
       "                      min_samples_split=26, min_weight_fraction_leaf=0.0,\n",
       "                      n_estimators=600, n_jobs=None, oob_score=False,\n",
       "                      random_state=None, verbose=0, warm_start=False)"
      ]
     },
     "execution_count": 76,
     "metadata": {},
     "output_type": "execute_result"
    }
   ],
   "source": [
    "rf_random.best_estimator_"
   ]
  },
  {
   "cell_type": "code",
   "execution_count": 77,
   "metadata": {},
   "outputs": [
    {
     "data": {
      "text/plain": [
       "(0.18477567674145426, 0.06767429829575794, 0.2609559220699036)"
      ]
     },
     "execution_count": 77,
     "metadata": {},
     "output_type": "execute_result"
    }
   ],
   "source": [
    "# let's see how these parameters performed\n",
    "# rf_h = RandomForestRegressor(rf_random.best_params_)\n",
    "model_rf_h = rf_random.best_estimator_\n",
    "y_pred_h_rf = model_rf_h.predict(X1_test)\n",
    "\n",
    "# let's see the error\n",
    "# Mean Absolute Error\n",
    "rf_h_MAE = mean_absolute_error(y_test, y_pred_h_rf)\n",
    "# Mean Squared Error\n",
    "rf_h_MSE = mean_squared_error(y_test, y_pred_h_rf)\n",
    "# root mean squared error\n",
    "rf_h_RMSE = m6_MSE**0.5\n",
    "\n",
    "# display\n",
    "rf_h_MAE, rf_h_MSE, rf_h_RMSE\n"
   ]
  },
  {
   "cell_type": "markdown",
   "metadata": {},
   "source": [
    "This is barely any different the the resutls we got from the values we had previously, but I will still use those values in future Random Forest Models with this data. Let's add it to the performance dataframe"
   ]
  },
  {
   "cell_type": "code",
   "execution_count": 78,
   "metadata": {
    "scrolled": true
   },
   "outputs": [
    {
     "data": {
      "text/html": [
       "<div>\n",
       "<style scoped>\n",
       "    .dataframe tbody tr th:only-of-type {\n",
       "        vertical-align: middle;\n",
       "    }\n",
       "\n",
       "    .dataframe tbody tr th {\n",
       "        vertical-align: top;\n",
       "    }\n",
       "\n",
       "    .dataframe thead th {\n",
       "        text-align: right;\n",
       "    }\n",
       "</style>\n",
       "<table border=\"1\" class=\"dataframe\">\n",
       "  <thead>\n",
       "    <tr style=\"text-align: right;\">\n",
       "      <th></th>\n",
       "      <th>Model</th>\n",
       "      <th>MAE</th>\n",
       "      <th>MSE</th>\n",
       "      <th>RMSE</th>\n",
       "      <th>Node_size</th>\n",
       "    </tr>\n",
       "  </thead>\n",
       "  <tbody>\n",
       "    <tr>\n",
       "      <th>4</th>\n",
       "      <td>Linear Regression 2</td>\n",
       "      <td>1.859726e-01</td>\n",
       "      <td>6.770457e-02</td>\n",
       "      <td>2.602010e-01</td>\n",
       "      <td>NaN</td>\n",
       "    </tr>\n",
       "    <tr>\n",
       "      <th>8</th>\n",
       "      <td>Random Forest Tune 1</td>\n",
       "      <td>1.839021e-01</td>\n",
       "      <td>6.798485e-02</td>\n",
       "      <td>2.607391e-01</td>\n",
       "      <td>26</td>\n",
       "    </tr>\n",
       "    <tr>\n",
       "      <th>1</th>\n",
       "      <td>Random Forest 1</td>\n",
       "      <td>1.847552e-01</td>\n",
       "      <td>6.807910e-02</td>\n",
       "      <td>2.609197e-01</td>\n",
       "      <td>NaN</td>\n",
       "    </tr>\n",
       "    <tr>\n",
       "      <th>3</th>\n",
       "      <td>Gradient Boost 1</td>\n",
       "      <td>1.847552e-01</td>\n",
       "      <td>6.807910e-02</td>\n",
       "      <td>2.609197e-01</td>\n",
       "      <td>NaN</td>\n",
       "    </tr>\n",
       "    <tr>\n",
       "      <th>5</th>\n",
       "      <td>Random Forest 2</td>\n",
       "      <td>1.847164e-01</td>\n",
       "      <td>6.809799e-02</td>\n",
       "      <td>2.609559e-01</td>\n",
       "      <td>NaN</td>\n",
       "    </tr>\n",
       "    <tr>\n",
       "      <th>6</th>\n",
       "      <td>Gradient Boost 2</td>\n",
       "      <td>1.847164e-01</td>\n",
       "      <td>6.809799e-02</td>\n",
       "      <td>2.609559e-01</td>\n",
       "      <td>NaN</td>\n",
       "    </tr>\n",
       "    <tr>\n",
       "      <th>9</th>\n",
       "      <td>Random Forest Hyper Tune</td>\n",
       "      <td>1.847757e-01</td>\n",
       "      <td>6.767430e-02</td>\n",
       "      <td>2.609559e-01</td>\n",
       "      <td>NaN</td>\n",
       "    </tr>\n",
       "    <tr>\n",
       "      <th>2</th>\n",
       "      <td>Dummy Model (average)</td>\n",
       "      <td>2.906511e-01</td>\n",
       "      <td>1.445166e-01</td>\n",
       "      <td>3.801533e-01</td>\n",
       "      <td>NaN</td>\n",
       "    </tr>\n",
       "    <tr>\n",
       "      <th>7</th>\n",
       "      <td>X Gradient Boost</td>\n",
       "      <td>4.628376e-01</td>\n",
       "      <td>3.046849e-01</td>\n",
       "      <td>5.519827e-01</td>\n",
       "      <td>NaN</td>\n",
       "    </tr>\n",
       "    <tr>\n",
       "      <th>0</th>\n",
       "      <td>Linear Regression</td>\n",
       "      <td>1.041380e+10</td>\n",
       "      <td>4.308612e+23</td>\n",
       "      <td>6.564002e+11</td>\n",
       "      <td>NaN</td>\n",
       "    </tr>\n",
       "  </tbody>\n",
       "</table>\n",
       "</div>"
      ],
      "text/plain": [
       "                      Model           MAE           MSE          RMSE  \\\n",
       "4       Linear Regression 2  1.859726e-01  6.770457e-02  2.602010e-01   \n",
       "8      Random Forest Tune 1  1.839021e-01  6.798485e-02  2.607391e-01   \n",
       "1           Random Forest 1  1.847552e-01  6.807910e-02  2.609197e-01   \n",
       "3          Gradient Boost 1  1.847552e-01  6.807910e-02  2.609197e-01   \n",
       "5           Random Forest 2  1.847164e-01  6.809799e-02  2.609559e-01   \n",
       "6          Gradient Boost 2  1.847164e-01  6.809799e-02  2.609559e-01   \n",
       "9  Random Forest Hyper Tune  1.847757e-01  6.767430e-02  2.609559e-01   \n",
       "2     Dummy Model (average)  2.906511e-01  1.445166e-01  3.801533e-01   \n",
       "7          X Gradient Boost  4.628376e-01  3.046849e-01  5.519827e-01   \n",
       "0         Linear Regression  1.041380e+10  4.308612e+23  6.564002e+11   \n",
       "\n",
       "  Node_size  \n",
       "4       NaN  \n",
       "8        26  \n",
       "1       NaN  \n",
       "3       NaN  \n",
       "5       NaN  \n",
       "6       NaN  \n",
       "9       NaN  \n",
       "2       NaN  \n",
       "7       NaN  \n",
       "0       NaN  "
      ]
     },
     "execution_count": 78,
     "metadata": {},
     "output_type": "execute_result"
    }
   ],
   "source": [
    "perform = perform.append({'Model':'Random Forest Hyper Tune', 'MAE':rf_h_MAE, 'MSE':rf_h_MSE, 'RMSE':rf_h_RMSE}, ignore_index=True)\n",
    "perform.sort_values('RMSE', ascending=True)"
   ]
  },
  {
   "cell_type": "markdown",
   "metadata": {},
   "source": [
    "#### 12. Grandient Boost Regression with more extensive Hyperparameter Tuning"
   ]
  },
  {
   "cell_type": "markdown",
   "metadata": {},
   "source": [
    "Do not run this again unless you have a long time to do so. It took 11 hours to run."
   ]
  },
  {
   "cell_type": "code",
   "execution_count": 80,
   "metadata": {},
   "outputs": [
    {
     "name": "stdout",
     "output_type": "stream",
     "text": [
      "{'n_estimators': [200, 400, 600, 800, 1000, 1200, 1400, 1600, 1800, 2000], 'learning_rate': [0.0001, 0.001, 0.01, 0.02, 0.04, 0.08, 0.1, 0.2, 0.4], 'max_features': ['auto', 'sqrt'], 'max_depth': [10, 20, 30, 40, 50, 60, 70, 80, 90, 100, 110, None], 'min_samples_split': [2, 5, 10, 26, 40], 'min_samples_leaf': [1, 5, 10, 26, 40]}\n"
     ]
    }
   ],
   "source": [
    "### create the grid of hyperparameters to use\n",
    "\n",
    "# Number of estimators in XGBoost\n",
    "n_estimators = [int(x) for x in np.linspace(start = 200, stop = 2000, num = 10)]\n",
    "# learning rate\n",
    "learn_rt = [0.0001, 0.001, 0.01, 0.02, 0.04, 0.08, 0.1, 0.2, 0.4]\n",
    "# Number of features to consider at every split\n",
    "max_features = ['auto', 'sqrt']\n",
    "# Maximum number of levels in tree\n",
    "max_depth = [int(x) for x in np.linspace(10, 110, num = 11)]\n",
    "max_depth.append(None)\n",
    "# Minimum number of samples required to split a node\n",
    "min_samples_split = [2, 5, 10, 26, 40]\n",
    "# Minimum number of samples required at each leaf node\n",
    "min_samples_leaf = [1, 5, 10, 26, 40]\n",
    "# Method of selecting samples for training each tree\n",
    "bootstrap = [True, False]\n",
    "# Create the random grid\n",
    "random_grid_gb = {'n_estimators': n_estimators, 'learning_rate': learn_rt, 'max_features': max_features,'max_depth': max_depth,\n",
    "               'min_samples_split': min_samples_split, 'min_samples_leaf': min_samples_leaf\n",
    "              }\n",
    "print(random_grid_gb)"
   ]
  },
  {
   "cell_type": "code",
   "execution_count": 81,
   "metadata": {},
   "outputs": [
    {
     "name": "stdout",
     "output_type": "stream",
     "text": [
      "Fitting 3 folds for each of 100 candidates, totalling 300 fits\n"
     ]
    },
    {
     "name": "stderr",
     "output_type": "stream",
     "text": [
      "[Parallel(n_jobs=-1)]: Using backend LokyBackend with 4 concurrent workers.\n",
      "[Parallel(n_jobs=-1)]: Done  33 tasks      | elapsed: 59.4min\n",
      "C:\\Users\\sjrek\\anaconda3\\lib\\site-packages\\joblib\\externals\\loky\\process_executor.py:706: UserWarning: A worker stopped while some jobs were given to the executor. This can be caused by a too short worker timeout or by a memory leak.\n",
      "  \"timeout or by a memory leak.\", UserWarning\n",
      "[Parallel(n_jobs=-1)]: Done 154 tasks      | elapsed: 318.9min\n",
      "[Parallel(n_jobs=-1)]: Done 300 out of 300 | elapsed: 665.1min finished\n"
     ]
    },
    {
     "data": {
      "text/plain": [
       "RandomizedSearchCV(cv=3, error_score=nan,\n",
       "                   estimator=GradientBoostingRegressor(alpha=0.9, ccp_alpha=0.0,\n",
       "                                                       criterion='friedman_mse',\n",
       "                                                       init=None,\n",
       "                                                       learning_rate=0.1,\n",
       "                                                       loss='ls', max_depth=3,\n",
       "                                                       max_features=None,\n",
       "                                                       max_leaf_nodes=None,\n",
       "                                                       min_impurity_decrease=0.0,\n",
       "                                                       min_impurity_split=None,\n",
       "                                                       min_samples_leaf=1,\n",
       "                                                       min_samples_split=2,\n",
       "                                                       min_weight_fraction_leaf=0.0,\n",
       "                                                       n_estimators=100,\n",
       "                                                       n_...\n",
       "                   param_distributions={'learning_rate': [0.0001, 0.001, 0.01,\n",
       "                                                          0.02, 0.04, 0.08, 0.1,\n",
       "                                                          0.2, 0.4],\n",
       "                                        'max_depth': [10, 20, 30, 40, 50, 60,\n",
       "                                                      70, 80, 90, 100, 110,\n",
       "                                                      None],\n",
       "                                        'max_features': ['auto', 'sqrt'],\n",
       "                                        'min_samples_leaf': [1, 5, 10, 26, 40],\n",
       "                                        'min_samples_split': [2, 5, 10, 26, 40],\n",
       "                                        'n_estimators': [200, 400, 600, 800,\n",
       "                                                         1000, 1200, 1400, 1600,\n",
       "                                                         1800, 2000]},\n",
       "                   pre_dispatch='2*n_jobs', random_state=33, refit=True,\n",
       "                   return_train_score=False, scoring=None, verbose=2)"
      ]
     },
     "execution_count": 81,
     "metadata": {},
     "output_type": "execute_result"
    }
   ],
   "source": [
    "## run the random search of that grid that we just created\n",
    "from sklearn.model_selection import RandomizedSearchCV\n",
    "\n",
    "# First create the base model to tune\n",
    "gbr = GradientBoostingRegressor()\n",
    "# Random search of parameters, using 3 fold cross validation, \n",
    "# search across 100 different combinations, and use all available cores\n",
    "gbr_random = RandomizedSearchCV(estimator = gbr, param_distributions = random_grid_gb, n_iter = 100, cv = 3, verbose=2, random_state=33, n_jobs = -1)\n",
    "# Fit the random search model\n",
    "gbr_random.fit(X1_train, y_train)"
   ]
  },
  {
   "cell_type": "code",
   "execution_count": 82,
   "metadata": {},
   "outputs": [
    {
     "data": {
      "text/plain": [
       "{'n_estimators': 600,\n",
       " 'min_samples_split': 26,\n",
       " 'min_samples_leaf': 1,\n",
       " 'max_features': 'sqrt',\n",
       " 'max_depth': 10,\n",
       " 'learning_rate': 0.02}"
      ]
     },
     "execution_count": 82,
     "metadata": {},
     "output_type": "execute_result"
    }
   ],
   "source": [
    "# print the best parameters\n",
    "gbr_random.best_params_"
   ]
  },
  {
   "cell_type": "code",
   "execution_count": 83,
   "metadata": {},
   "outputs": [
    {
     "data": {
      "text/plain": [
       "GradientBoostingRegressor(alpha=0.9, ccp_alpha=0.0, criterion='friedman_mse',\n",
       "                          init=None, learning_rate=0.02, loss='ls',\n",
       "                          max_depth=10, max_features='sqrt',\n",
       "                          max_leaf_nodes=None, min_impurity_decrease=0.0,\n",
       "                          min_impurity_split=None, min_samples_leaf=1,\n",
       "                          min_samples_split=26, min_weight_fraction_leaf=0.0,\n",
       "                          n_estimators=600, n_iter_no_change=None,\n",
       "                          presort='deprecated', random_state=None,\n",
       "                          subsample=1.0, tol=0.0001, validation_fraction=0.1,\n",
       "                          verbose=0, warm_start=False)"
      ]
     },
     "execution_count": 83,
     "metadata": {},
     "output_type": "execute_result"
    }
   ],
   "source": [
    "# print the best score\n",
    "gbr_random. best_estimator_"
   ]
  },
  {
   "cell_type": "code",
   "execution_count": 84,
   "metadata": {},
   "outputs": [
    {
     "data": {
      "text/plain": [
       "(0.1832013494353754, 0.06889463431642975, 0.2624778739559389)"
      ]
     },
     "execution_count": 84,
     "metadata": {},
     "output_type": "execute_result"
    }
   ],
   "source": [
    "# let's see how these parameters performed\n",
    "# rf_h = RandomForestRegressor(rf_random.best_params_)\n",
    "model_gb_h = gbr_random.best_estimator_\n",
    "y_pred_h_gb = model_gb_h.predict(X1_test)\n",
    "\n",
    "# let's see the error\n",
    "# Mean Absolute Error\n",
    "gb_h_MAE = mean_absolute_error(y_test, y_pred_h_gb)\n",
    "# Mean Squared Error\n",
    "gb_h_MSE = mean_squared_error(y_test, y_pred_h_gb)\n",
    "# root mean squared error\n",
    "gb_h_RMSE = gb_h_MSE**0.5\n",
    "\n",
    "# display\n",
    "gb_h_MAE, gb_h_MSE, gb_h_RMSE"
   ]
  },
  {
   "cell_type": "code",
   "execution_count": 85,
   "metadata": {},
   "outputs": [
    {
     "data": {
      "text/html": [
       "<div>\n",
       "<style scoped>\n",
       "    .dataframe tbody tr th:only-of-type {\n",
       "        vertical-align: middle;\n",
       "    }\n",
       "\n",
       "    .dataframe tbody tr th {\n",
       "        vertical-align: top;\n",
       "    }\n",
       "\n",
       "    .dataframe thead th {\n",
       "        text-align: right;\n",
       "    }\n",
       "</style>\n",
       "<table border=\"1\" class=\"dataframe\">\n",
       "  <thead>\n",
       "    <tr style=\"text-align: right;\">\n",
       "      <th></th>\n",
       "      <th>Model</th>\n",
       "      <th>MAE</th>\n",
       "      <th>MSE</th>\n",
       "      <th>RMSE</th>\n",
       "      <th>Node_size</th>\n",
       "    </tr>\n",
       "  </thead>\n",
       "  <tbody>\n",
       "    <tr>\n",
       "      <th>4</th>\n",
       "      <td>Linear Regression 2</td>\n",
       "      <td>1.859726e-01</td>\n",
       "      <td>6.770457e-02</td>\n",
       "      <td>2.602010e-01</td>\n",
       "      <td>NaN</td>\n",
       "    </tr>\n",
       "    <tr>\n",
       "      <th>8</th>\n",
       "      <td>Random Forest Tune 1</td>\n",
       "      <td>1.839021e-01</td>\n",
       "      <td>6.798485e-02</td>\n",
       "      <td>2.607391e-01</td>\n",
       "      <td>26</td>\n",
       "    </tr>\n",
       "    <tr>\n",
       "      <th>1</th>\n",
       "      <td>Random Forest 1</td>\n",
       "      <td>1.847552e-01</td>\n",
       "      <td>6.807910e-02</td>\n",
       "      <td>2.609197e-01</td>\n",
       "      <td>NaN</td>\n",
       "    </tr>\n",
       "    <tr>\n",
       "      <th>3</th>\n",
       "      <td>Gradient Boost 1</td>\n",
       "      <td>1.847552e-01</td>\n",
       "      <td>6.807910e-02</td>\n",
       "      <td>2.609197e-01</td>\n",
       "      <td>NaN</td>\n",
       "    </tr>\n",
       "    <tr>\n",
       "      <th>5</th>\n",
       "      <td>Random Forest 2</td>\n",
       "      <td>1.847164e-01</td>\n",
       "      <td>6.809799e-02</td>\n",
       "      <td>2.609559e-01</td>\n",
       "      <td>NaN</td>\n",
       "    </tr>\n",
       "    <tr>\n",
       "      <th>6</th>\n",
       "      <td>Gradient Boost 2</td>\n",
       "      <td>1.847164e-01</td>\n",
       "      <td>6.809799e-02</td>\n",
       "      <td>2.609559e-01</td>\n",
       "      <td>NaN</td>\n",
       "    </tr>\n",
       "    <tr>\n",
       "      <th>9</th>\n",
       "      <td>Random Forest Hyper Tune</td>\n",
       "      <td>1.847757e-01</td>\n",
       "      <td>6.767430e-02</td>\n",
       "      <td>2.609559e-01</td>\n",
       "      <td>NaN</td>\n",
       "    </tr>\n",
       "    <tr>\n",
       "      <th>10</th>\n",
       "      <td>Gradient Boost Hyper Tune</td>\n",
       "      <td>1.832013e-01</td>\n",
       "      <td>6.889463e-02</td>\n",
       "      <td>2.624779e-01</td>\n",
       "      <td>NaN</td>\n",
       "    </tr>\n",
       "    <tr>\n",
       "      <th>2</th>\n",
       "      <td>Dummy Model (average)</td>\n",
       "      <td>2.906511e-01</td>\n",
       "      <td>1.445166e-01</td>\n",
       "      <td>3.801533e-01</td>\n",
       "      <td>NaN</td>\n",
       "    </tr>\n",
       "    <tr>\n",
       "      <th>7</th>\n",
       "      <td>X Gradient Boost</td>\n",
       "      <td>4.628376e-01</td>\n",
       "      <td>3.046849e-01</td>\n",
       "      <td>5.519827e-01</td>\n",
       "      <td>NaN</td>\n",
       "    </tr>\n",
       "    <tr>\n",
       "      <th>0</th>\n",
       "      <td>Linear Regression</td>\n",
       "      <td>1.041380e+10</td>\n",
       "      <td>4.308612e+23</td>\n",
       "      <td>6.564002e+11</td>\n",
       "      <td>NaN</td>\n",
       "    </tr>\n",
       "  </tbody>\n",
       "</table>\n",
       "</div>"
      ],
      "text/plain": [
       "                        Model           MAE           MSE          RMSE  \\\n",
       "4         Linear Regression 2  1.859726e-01  6.770457e-02  2.602010e-01   \n",
       "8        Random Forest Tune 1  1.839021e-01  6.798485e-02  2.607391e-01   \n",
       "1             Random Forest 1  1.847552e-01  6.807910e-02  2.609197e-01   \n",
       "3            Gradient Boost 1  1.847552e-01  6.807910e-02  2.609197e-01   \n",
       "5             Random Forest 2  1.847164e-01  6.809799e-02  2.609559e-01   \n",
       "6            Gradient Boost 2  1.847164e-01  6.809799e-02  2.609559e-01   \n",
       "9    Random Forest Hyper Tune  1.847757e-01  6.767430e-02  2.609559e-01   \n",
       "10  Gradient Boost Hyper Tune  1.832013e-01  6.889463e-02  2.624779e-01   \n",
       "2       Dummy Model (average)  2.906511e-01  1.445166e-01  3.801533e-01   \n",
       "7            X Gradient Boost  4.628376e-01  3.046849e-01  5.519827e-01   \n",
       "0           Linear Regression  1.041380e+10  4.308612e+23  6.564002e+11   \n",
       "\n",
       "   Node_size  \n",
       "4        NaN  \n",
       "8         26  \n",
       "1        NaN  \n",
       "3        NaN  \n",
       "5        NaN  \n",
       "6        NaN  \n",
       "9        NaN  \n",
       "10       NaN  \n",
       "2        NaN  \n",
       "7        NaN  \n",
       "0        NaN  "
      ]
     },
     "execution_count": 85,
     "metadata": {},
     "output_type": "execute_result"
    }
   ],
   "source": [
    "# add these to the performance matrix\n",
    "perform = perform.append({'Model':'Gradient Boost Hyper Tune', 'MAE':gb_h_MAE, 'MSE':gb_h_MSE, 'RMSE':gb_h_RMSE}, ignore_index=True)\n",
    "perform.sort_values('RMSE', ascending=True)"
   ]
  },
  {
   "cell_type": "markdown",
   "metadata": {},
   "source": [
    "This is good to see that hyperparameter tuning didn't help Gradient Boosting much. Linear Regression still appears to be the best model. <br>\n",
    "We should probably consider ensemble model with Linear Regression and using Random Forest on the residuals."
   ]
  },
  {
   "cell_type": "markdown",
   "metadata": {},
   "source": [
    "## VI. Ensemble Model (Linear Reg + RF Reg)"
   ]
  },
  {
   "cell_type": "markdown",
   "metadata": {},
   "source": [
    "I will combine the linear regression and then run random forest regressor on the residuals from that model. <br>\n",
    "<br>\n",
    "First, let's look at the linear regression model that worked the best."
   ]
  },
  {
   "cell_type": "code",
   "execution_count": 87,
   "metadata": {
    "scrolled": true
   },
   "outputs": [
    {
     "data": {
      "text/plain": [
       "array([-2.27507470e-02,  6.52388662e-03,  1.07481061e-02, -1.16284885e-02,\n",
       "        2.92708620e-01,  7.48977827e-04, -1.02071449e-02,  1.41956141e-03,\n",
       "       -5.95399298e-04,  1.02344482e-04, -1.11384863e-01, -9.19237413e-03,\n",
       "       -1.07327850e-01, -5.87714147e-03, -4.64873661e-03, -2.01483678e-03,\n",
       "        1.79383729e-03,  3.28907161e-03,  1.64012965e-03, -1.48998647e-02,\n",
       "        2.67575994e-03,  6.06264189e-03,  8.47365784e-03, -7.24565003e-03,\n",
       "        4.57960092e-03,  3.32887452e-03, -1.59305439e-03, -6.38759523e-04,\n",
       "        1.24217241e-03,  4.59810737e-04,  1.31171960e+10,  1.28299256e+10,\n",
       "        1.09480335e+10,  1.07970061e+10,  1.22077542e+10,  1.29888509e+10,\n",
       "        1.19122372e+10,  8.82386212e+09,  1.16685073e+10,  1.37022327e+10,\n",
       "        6.51969712e+09,  7.16153693e+09])"
      ]
     },
     "execution_count": 87,
     "metadata": {},
     "output_type": "execute_result"
    }
   ],
   "source": [
    "lm5.coef_"
   ]
  },
  {
   "cell_type": "code",
   "execution_count": 95,
   "metadata": {},
   "outputs": [],
   "source": [
    "## make predictions on the test set\n",
    "forecast_train = lm5.predict(X1_train)"
   ]
  },
  {
   "cell_type": "code",
   "execution_count": 100,
   "metadata": {},
   "outputs": [],
   "source": [
    "# calculate residuals from that test set\n",
    "residual = y_train - forecast_train"
   ]
  },
  {
   "cell_type": "code",
   "execution_count": 101,
   "metadata": {},
   "outputs": [],
   "source": [
    "# feed residuals and x_train to RF Regressoor\n",
    "rf_res = RandomForestRegressor(min_samples_leaf=26)\n",
    "model11_rf = rf_res.fit(X1_train,residual)"
   ]
  },
  {
   "cell_type": "code",
   "execution_count": 103,
   "metadata": {},
   "outputs": [],
   "source": [
    "# use ensemble of Linear regressor and RF regressor on test data\n",
    "res_pred11_rf = rf_res.predict(X1_test)\n",
    "forecast_m11 = lm5.predict(X1_test) + res_pred11_rf"
   ]
  },
  {
   "cell_type": "code",
   "execution_count": 104,
   "metadata": {},
   "outputs": [
    {
     "data": {
      "text/html": [
       "<div>\n",
       "<style scoped>\n",
       "    .dataframe tbody tr th:only-of-type {\n",
       "        vertical-align: middle;\n",
       "    }\n",
       "\n",
       "    .dataframe tbody tr th {\n",
       "        vertical-align: top;\n",
       "    }\n",
       "\n",
       "    .dataframe thead th {\n",
       "        text-align: right;\n",
       "    }\n",
       "</style>\n",
       "<table border=\"1\" class=\"dataframe\">\n",
       "  <thead>\n",
       "    <tr style=\"text-align: right;\">\n",
       "      <th></th>\n",
       "      <th>Model</th>\n",
       "      <th>MAE</th>\n",
       "      <th>MSE</th>\n",
       "      <th>RMSE</th>\n",
       "      <th>Node_size</th>\n",
       "    </tr>\n",
       "  </thead>\n",
       "  <tbody>\n",
       "    <tr>\n",
       "      <th>11</th>\n",
       "      <td>Ensemble Linear + RF</td>\n",
       "      <td>1.821710e-01</td>\n",
       "      <td>6.680951e-02</td>\n",
       "      <td>2.584753e-01</td>\n",
       "      <td>NaN</td>\n",
       "    </tr>\n",
       "    <tr>\n",
       "      <th>4</th>\n",
       "      <td>Linear Regression 2</td>\n",
       "      <td>1.859726e-01</td>\n",
       "      <td>6.770457e-02</td>\n",
       "      <td>2.602010e-01</td>\n",
       "      <td>NaN</td>\n",
       "    </tr>\n",
       "    <tr>\n",
       "      <th>8</th>\n",
       "      <td>Random Forest Tune 1</td>\n",
       "      <td>1.839021e-01</td>\n",
       "      <td>6.798485e-02</td>\n",
       "      <td>2.607391e-01</td>\n",
       "      <td>26</td>\n",
       "    </tr>\n",
       "    <tr>\n",
       "      <th>1</th>\n",
       "      <td>Random Forest 1</td>\n",
       "      <td>1.847552e-01</td>\n",
       "      <td>6.807910e-02</td>\n",
       "      <td>2.609197e-01</td>\n",
       "      <td>NaN</td>\n",
       "    </tr>\n",
       "    <tr>\n",
       "      <th>3</th>\n",
       "      <td>Gradient Boost 1</td>\n",
       "      <td>1.847552e-01</td>\n",
       "      <td>6.807910e-02</td>\n",
       "      <td>2.609197e-01</td>\n",
       "      <td>NaN</td>\n",
       "    </tr>\n",
       "    <tr>\n",
       "      <th>5</th>\n",
       "      <td>Random Forest 2</td>\n",
       "      <td>1.847164e-01</td>\n",
       "      <td>6.809799e-02</td>\n",
       "      <td>2.609559e-01</td>\n",
       "      <td>NaN</td>\n",
       "    </tr>\n",
       "    <tr>\n",
       "      <th>6</th>\n",
       "      <td>Gradient Boost 2</td>\n",
       "      <td>1.847164e-01</td>\n",
       "      <td>6.809799e-02</td>\n",
       "      <td>2.609559e-01</td>\n",
       "      <td>NaN</td>\n",
       "    </tr>\n",
       "    <tr>\n",
       "      <th>9</th>\n",
       "      <td>Random Forest Hyper Tune</td>\n",
       "      <td>1.847757e-01</td>\n",
       "      <td>6.767430e-02</td>\n",
       "      <td>2.609559e-01</td>\n",
       "      <td>NaN</td>\n",
       "    </tr>\n",
       "    <tr>\n",
       "      <th>10</th>\n",
       "      <td>Gradient Boost Hyper Tune</td>\n",
       "      <td>1.832013e-01</td>\n",
       "      <td>6.889463e-02</td>\n",
       "      <td>2.624779e-01</td>\n",
       "      <td>NaN</td>\n",
       "    </tr>\n",
       "    <tr>\n",
       "      <th>2</th>\n",
       "      <td>Dummy Model (average)</td>\n",
       "      <td>2.906511e-01</td>\n",
       "      <td>1.445166e-01</td>\n",
       "      <td>3.801533e-01</td>\n",
       "      <td>NaN</td>\n",
       "    </tr>\n",
       "    <tr>\n",
       "      <th>7</th>\n",
       "      <td>X Gradient Boost</td>\n",
       "      <td>4.628376e-01</td>\n",
       "      <td>3.046849e-01</td>\n",
       "      <td>5.519827e-01</td>\n",
       "      <td>NaN</td>\n",
       "    </tr>\n",
       "    <tr>\n",
       "      <th>0</th>\n",
       "      <td>Linear Regression</td>\n",
       "      <td>1.041380e+10</td>\n",
       "      <td>4.308612e+23</td>\n",
       "      <td>6.564002e+11</td>\n",
       "      <td>NaN</td>\n",
       "    </tr>\n",
       "  </tbody>\n",
       "</table>\n",
       "</div>"
      ],
      "text/plain": [
       "                        Model           MAE           MSE          RMSE  \\\n",
       "11       Ensemble Linear + RF  1.821710e-01  6.680951e-02  2.584753e-01   \n",
       "4         Linear Regression 2  1.859726e-01  6.770457e-02  2.602010e-01   \n",
       "8        Random Forest Tune 1  1.839021e-01  6.798485e-02  2.607391e-01   \n",
       "1             Random Forest 1  1.847552e-01  6.807910e-02  2.609197e-01   \n",
       "3            Gradient Boost 1  1.847552e-01  6.807910e-02  2.609197e-01   \n",
       "5             Random Forest 2  1.847164e-01  6.809799e-02  2.609559e-01   \n",
       "6            Gradient Boost 2  1.847164e-01  6.809799e-02  2.609559e-01   \n",
       "9    Random Forest Hyper Tune  1.847757e-01  6.767430e-02  2.609559e-01   \n",
       "10  Gradient Boost Hyper Tune  1.832013e-01  6.889463e-02  2.624779e-01   \n",
       "2       Dummy Model (average)  2.906511e-01  1.445166e-01  3.801533e-01   \n",
       "7            X Gradient Boost  4.628376e-01  3.046849e-01  5.519827e-01   \n",
       "0           Linear Regression  1.041380e+10  4.308612e+23  6.564002e+11   \n",
       "\n",
       "   Node_size  \n",
       "11       NaN  \n",
       "4        NaN  \n",
       "8         26  \n",
       "1        NaN  \n",
       "3        NaN  \n",
       "5        NaN  \n",
       "6        NaN  \n",
       "9        NaN  \n",
       "10       NaN  \n",
       "2        NaN  \n",
       "7        NaN  \n",
       "0        NaN  "
      ]
     },
     "execution_count": 104,
     "metadata": {},
     "output_type": "execute_result"
    }
   ],
   "source": [
    "# calculate errors\n",
    "# Mean Absolute Error\n",
    "MAE11 = mean_absolute_error(y_test, forecast_m11)\n",
    "# Mean Squared Error\n",
    "MSE11 = mean_squared_error(y_test, forecast_m11)\n",
    "# root mean squared error\n",
    "RMSE11 = MSE11**0.5\n",
    "\n",
    "# append to the performance dataframe and print the DF to compare\n",
    "perform = perform.append({'Model':'Ensemble Linear + RF', 'MAE':MAE11, 'MSE':MSE11, 'RMSE':RMSE11}, ignore_index=True)\n",
    "perform.sort_values('RMSE', ascending=True)"
   ]
  },
  {
   "cell_type": "markdown",
   "metadata": {},
   "source": [
    "That improved performance and looks like the best model to use for prediction of Customer Lifetime Value"
   ]
  },
  {
   "cell_type": "markdown",
   "metadata": {},
   "source": [
    "## VII. Validation"
   ]
  },
  {
   "cell_type": "markdown",
   "metadata": {},
   "source": [
    "We'll validate those model scores, but doing a different test / train split. <br>\n",
    "The superior model should prevail no matter the split that was used to create it. "
   ]
  },
  {
   "cell_type": "code",
   "execution_count": 129,
   "metadata": {},
   "outputs": [],
   "source": [
    "# new performance dataframe to record scores\n",
    "valid = pd.DataFrame(columns=['Model', 'MAE', 'MSE', 'RMSE'])"
   ]
  },
  {
   "cell_type": "code",
   "execution_count": 130,
   "metadata": {},
   "outputs": [
    {
     "data": {
      "text/plain": [
       "(1.8148540856161584, 1.8200836301478314)"
      ]
     },
     "execution_count": 130,
     "metadata": {},
     "output_type": "execute_result"
    }
   ],
   "source": [
    "# redo the test / train split\n",
    "# let's scale the X values\n",
    "scaler1 = preprocessing.StandardScaler().fit(X1)\n",
    "X1_scaled=scaler1.transform(X1)\n",
    "\n",
    "# split the X and y values again - USING A DIFFERENT RANDOM STATE\n",
    "X2_train, X2_test, y2_train, y2_test = train_test_split(X1_scaled, y, test_size=0.20, random_state=33)\n",
    "# check the mean values of the y to make sure this is a good split\n",
    "y2_train.mean(), y2_test.mean()"
   ]
  },
  {
   "cell_type": "code",
   "execution_count": 131,
   "metadata": {},
   "outputs": [
    {
     "data": {
      "text/html": [
       "<div>\n",
       "<style scoped>\n",
       "    .dataframe tbody tr th:only-of-type {\n",
       "        vertical-align: middle;\n",
       "    }\n",
       "\n",
       "    .dataframe tbody tr th {\n",
       "        vertical-align: top;\n",
       "    }\n",
       "\n",
       "    .dataframe thead th {\n",
       "        text-align: right;\n",
       "    }\n",
       "</style>\n",
       "<table border=\"1\" class=\"dataframe\">\n",
       "  <thead>\n",
       "    <tr style=\"text-align: right;\">\n",
       "      <th></th>\n",
       "      <th>Model</th>\n",
       "      <th>MAE</th>\n",
       "      <th>MSE</th>\n",
       "      <th>RMSE</th>\n",
       "    </tr>\n",
       "  </thead>\n",
       "  <tbody>\n",
       "    <tr>\n",
       "      <th>0</th>\n",
       "      <td>Linear Regression</td>\n",
       "      <td>0.185567</td>\n",
       "      <td>0.069419</td>\n",
       "      <td>0.263475</td>\n",
       "    </tr>\n",
       "  </tbody>\n",
       "</table>\n",
       "</div>"
      ],
      "text/plain": [
       "               Model       MAE       MSE      RMSE\n",
       "0  Linear Regression  0.185567  0.069419  0.263475"
      ]
     },
     "execution_count": 131,
     "metadata": {},
     "output_type": "execute_result"
    }
   ],
   "source": [
    "# build the linear regression model\n",
    "lm12 = linear_model.LinearRegression()\n",
    "model12 = lm12.fit(X2_train,y2_train)\n",
    "# predicted results from the first model on the X_test values\n",
    "y12_pred = model12.predict(X2_test)\n",
    "\n",
    "# Mean Absolute Error\n",
    "MAE = mean_absolute_error(y2_test, y12_pred)\n",
    "# Mean Squared Error\n",
    "MSE = mean_squared_error(y2_test, y12_pred)\n",
    "# Root Mean Squared Error\n",
    "RMSE = MSE**0.5\n",
    "\n",
    "# add scores to new performance dataframe\n",
    "valid = valid.append({'Model':'Linear Regression', 'MAE':MAE, 'MSE':MSE, 'RMSE':RMSE}, ignore_index=True)\n",
    "valid.sort_values('RMSE', ascending=True)"
   ]
  },
  {
   "cell_type": "code",
   "execution_count": 132,
   "metadata": {},
   "outputs": [
    {
     "data": {
      "text/html": [
       "<div>\n",
       "<style scoped>\n",
       "    .dataframe tbody tr th:only-of-type {\n",
       "        vertical-align: middle;\n",
       "    }\n",
       "\n",
       "    .dataframe tbody tr th {\n",
       "        vertical-align: top;\n",
       "    }\n",
       "\n",
       "    .dataframe thead th {\n",
       "        text-align: right;\n",
       "    }\n",
       "</style>\n",
       "<table border=\"1\" class=\"dataframe\">\n",
       "  <thead>\n",
       "    <tr style=\"text-align: right;\">\n",
       "      <th></th>\n",
       "      <th>Model</th>\n",
       "      <th>MAE</th>\n",
       "      <th>MSE</th>\n",
       "      <th>RMSE</th>\n",
       "    </tr>\n",
       "  </thead>\n",
       "  <tbody>\n",
       "    <tr>\n",
       "      <th>1</th>\n",
       "      <td>Ensemble: Linear Reg + RF</td>\n",
       "      <td>0.182427</td>\n",
       "      <td>0.068368</td>\n",
       "      <td>0.261472</td>\n",
       "    </tr>\n",
       "    <tr>\n",
       "      <th>0</th>\n",
       "      <td>Linear Regression</td>\n",
       "      <td>0.185567</td>\n",
       "      <td>0.069419</td>\n",
       "      <td>0.263475</td>\n",
       "    </tr>\n",
       "  </tbody>\n",
       "</table>\n",
       "</div>"
      ],
      "text/plain": [
       "                       Model       MAE       MSE      RMSE\n",
       "1  Ensemble: Linear Reg + RF  0.182427  0.068368  0.261472\n",
       "0          Linear Regression  0.185567  0.069419  0.263475"
      ]
     },
     "execution_count": 132,
     "metadata": {},
     "output_type": "execute_result"
    }
   ],
   "source": [
    "# run the ensemble linear + RF and count the score\n",
    "\n",
    "## make predictions on the test set\n",
    "forecast_train = lm12.predict(X2_train)\n",
    "# calculate residuals from that test set\n",
    "residual = y2_train - forecast_train\n",
    "# feed residuals and x_train to RF Regressoor\n",
    "rf_res_12 = RandomForestRegressor(min_samples_leaf=26)\n",
    "model12_rf = rf_res_12.fit(X2_train,residual)\n",
    "\n",
    "\n",
    "# use ensemble of Linear regressor and RF regressor on test data\n",
    "res_pred12_rf = rf_res_12.predict(X2_test)\n",
    "forecast_m12 = lm12.predict(X2_test) + res_pred12_rf\n",
    "\n",
    "# calculate errors\n",
    "# Mean Absolute Error\n",
    "MAE = mean_absolute_error(y2_test, forecast_m12)\n",
    "# Mean Squared Error\n",
    "MSE = mean_squared_error(y2_test, forecast_m12)\n",
    "# Root Mean Squared Error\n",
    "RMSE = MSE**0.5\n",
    "\n",
    "# add scores to new performance dataframe\n",
    "valid = valid.append({'Model':'Ensemble: Linear Reg + RF', 'MAE':MAE, 'MSE':MSE, 'RMSE':RMSE}, ignore_index=True)\n",
    "valid.sort_values('RMSE', ascending=True)"
   ]
  },
  {
   "cell_type": "code",
   "execution_count": 133,
   "metadata": {},
   "outputs": [
    {
     "data": {
      "text/html": [
       "<div>\n",
       "<style scoped>\n",
       "    .dataframe tbody tr th:only-of-type {\n",
       "        vertical-align: middle;\n",
       "    }\n",
       "\n",
       "    .dataframe tbody tr th {\n",
       "        vertical-align: top;\n",
       "    }\n",
       "\n",
       "    .dataframe thead th {\n",
       "        text-align: right;\n",
       "    }\n",
       "</style>\n",
       "<table border=\"1\" class=\"dataframe\">\n",
       "  <thead>\n",
       "    <tr style=\"text-align: right;\">\n",
       "      <th></th>\n",
       "      <th>Model</th>\n",
       "      <th>MAE</th>\n",
       "      <th>MSE</th>\n",
       "      <th>RMSE</th>\n",
       "    </tr>\n",
       "  </thead>\n",
       "  <tbody>\n",
       "    <tr>\n",
       "      <th>2</th>\n",
       "      <td>Random Forest n=26</td>\n",
       "      <td>0.184347</td>\n",
       "      <td>0.069469</td>\n",
       "      <td>0.260956</td>\n",
       "    </tr>\n",
       "    <tr>\n",
       "      <th>1</th>\n",
       "      <td>Ensemble: Linear Reg + RF</td>\n",
       "      <td>0.182427</td>\n",
       "      <td>0.068368</td>\n",
       "      <td>0.261472</td>\n",
       "    </tr>\n",
       "    <tr>\n",
       "      <th>0</th>\n",
       "      <td>Linear Regression</td>\n",
       "      <td>0.185567</td>\n",
       "      <td>0.069419</td>\n",
       "      <td>0.263475</td>\n",
       "    </tr>\n",
       "  </tbody>\n",
       "</table>\n",
       "</div>"
      ],
      "text/plain": [
       "                       Model       MAE       MSE      RMSE\n",
       "2         Random Forest n=26  0.184347  0.069469  0.260956\n",
       "1  Ensemble: Linear Reg + RF  0.182427  0.068368  0.261472\n",
       "0          Linear Regression  0.185567  0.069419  0.263475"
      ]
     },
     "execution_count": 133,
     "metadata": {},
     "output_type": "execute_result"
    }
   ],
   "source": [
    "# run the RF Tune 1\n",
    "regr13 = RandomForestRegressor(min_samples_leaf=26, random_state=33)\n",
    "model13_rf = regr13.fit(X2_train, y2_train)\n",
    "y_pred13_rf = regr13.predict(X2_test)\n",
    "\n",
    "# Mean Absolute Error\n",
    "MAE = mean_absolute_error(y2_test, y_pred13_rf)\n",
    "# Mean Squared Error\n",
    "MSE = mean_squared_error(y2_test, y_pred13_rf)\n",
    "# root mean squared error\n",
    "RMSE = m6_MSE**0.5\n",
    "\n",
    "# add scores to new performance dataframe\n",
    "valid = valid.append({'Model':'Random Forest n=26', 'MAE':MAE, 'MSE':MSE, 'RMSE':RMSE}, ignore_index=True)\n",
    "valid.sort_values('RMSE', ascending=True)"
   ]
  },
  {
   "cell_type": "code",
   "execution_count": 134,
   "metadata": {},
   "outputs": [
    {
     "data": {
      "text/html": [
       "<div>\n",
       "<style scoped>\n",
       "    .dataframe tbody tr th:only-of-type {\n",
       "        vertical-align: middle;\n",
       "    }\n",
       "\n",
       "    .dataframe tbody tr th {\n",
       "        vertical-align: top;\n",
       "    }\n",
       "\n",
       "    .dataframe thead th {\n",
       "        text-align: right;\n",
       "    }\n",
       "</style>\n",
       "<table border=\"1\" class=\"dataframe\">\n",
       "  <thead>\n",
       "    <tr style=\"text-align: right;\">\n",
       "      <th></th>\n",
       "      <th>Model</th>\n",
       "      <th>MAE</th>\n",
       "      <th>MSE</th>\n",
       "      <th>RMSE</th>\n",
       "    </tr>\n",
       "  </thead>\n",
       "  <tbody>\n",
       "    <tr>\n",
       "      <th>2</th>\n",
       "      <td>Random Forest n=26</td>\n",
       "      <td>0.184347</td>\n",
       "      <td>0.069469</td>\n",
       "      <td>0.260956</td>\n",
       "    </tr>\n",
       "    <tr>\n",
       "      <th>3</th>\n",
       "      <td>Gradient Boost</td>\n",
       "      <td>0.184716</td>\n",
       "      <td>0.068098</td>\n",
       "      <td>0.260956</td>\n",
       "    </tr>\n",
       "    <tr>\n",
       "      <th>1</th>\n",
       "      <td>Ensemble: Linear Reg + RF</td>\n",
       "      <td>0.182427</td>\n",
       "      <td>0.068368</td>\n",
       "      <td>0.261472</td>\n",
       "    </tr>\n",
       "    <tr>\n",
       "      <th>0</th>\n",
       "      <td>Linear Regression</td>\n",
       "      <td>0.185567</td>\n",
       "      <td>0.069419</td>\n",
       "      <td>0.263475</td>\n",
       "    </tr>\n",
       "  </tbody>\n",
       "</table>\n",
       "</div>"
      ],
      "text/plain": [
       "                       Model       MAE       MSE      RMSE\n",
       "2         Random Forest n=26  0.184347  0.069469  0.260956\n",
       "3             Gradient Boost  0.184716  0.068098  0.260956\n",
       "1  Ensemble: Linear Reg + RF  0.182427  0.068368  0.261472\n",
       "0          Linear Regression  0.185567  0.069419  0.263475"
      ]
     },
     "execution_count": 134,
     "metadata": {},
     "output_type": "execute_result"
    }
   ],
   "source": [
    "# run the GB\n",
    "\n",
    "# create regressor\n",
    "reg14_gb = GradientBoostingRegressor(min_samples_leaf=40, random_state=0)\n",
    "model14_gb = reg14_gb.fit(X2_train, y2_train)\n",
    "# use regressor to predict on test data\n",
    "y_pred14_gb = reg14_gb.predict(X2_test)\n",
    "# compare test data for a score - Mean Absolute Error\n",
    "MAE = mean_absolute_error(y2_test, y_pred14_gb)\n",
    "# Mean Squared Error\n",
    "MSE = mean_squared_error(y2_test, y_pred14_gb)\n",
    "# root mean squared error\n",
    "RMSE = m7_MSE**0.5\n",
    "valid = valid.append({'Model':'Gradient Boost', 'MAE':m7_MAE, 'MSE':m7_MSE, 'RMSE':m7_RMSE}, ignore_index=True)\n",
    "valid.sort_values('RMSE', ascending=True)\n",
    "\n"
   ]
  },
  {
   "cell_type": "code",
   "execution_count": 135,
   "metadata": {},
   "outputs": [
    {
     "data": {
      "text/html": [
       "<div>\n",
       "<style scoped>\n",
       "    .dataframe tbody tr th:only-of-type {\n",
       "        vertical-align: middle;\n",
       "    }\n",
       "\n",
       "    .dataframe tbody tr th {\n",
       "        vertical-align: top;\n",
       "    }\n",
       "\n",
       "    .dataframe thead th {\n",
       "        text-align: right;\n",
       "    }\n",
       "</style>\n",
       "<table border=\"1\" class=\"dataframe\">\n",
       "  <thead>\n",
       "    <tr style=\"text-align: right;\">\n",
       "      <th></th>\n",
       "      <th>Model</th>\n",
       "      <th>MAE</th>\n",
       "      <th>MSE</th>\n",
       "      <th>RMSE</th>\n",
       "    </tr>\n",
       "  </thead>\n",
       "  <tbody>\n",
       "    <tr>\n",
       "      <th>2</th>\n",
       "      <td>Random Forest n=26</td>\n",
       "      <td>0.184347</td>\n",
       "      <td>0.069469</td>\n",
       "      <td>0.260956</td>\n",
       "    </tr>\n",
       "    <tr>\n",
       "      <th>3</th>\n",
       "      <td>Gradient Boost</td>\n",
       "      <td>0.184716</td>\n",
       "      <td>0.068098</td>\n",
       "      <td>0.260956</td>\n",
       "    </tr>\n",
       "    <tr>\n",
       "      <th>1</th>\n",
       "      <td>Ensemble: Linear Reg + RF</td>\n",
       "      <td>0.182427</td>\n",
       "      <td>0.068368</td>\n",
       "      <td>0.261472</td>\n",
       "    </tr>\n",
       "    <tr>\n",
       "      <th>0</th>\n",
       "      <td>Linear Regression</td>\n",
       "      <td>0.185567</td>\n",
       "      <td>0.069419</td>\n",
       "      <td>0.263475</td>\n",
       "    </tr>\n",
       "    <tr>\n",
       "      <th>4</th>\n",
       "      <td>X Gradient Boost</td>\n",
       "      <td>0.467911</td>\n",
       "      <td>0.311898</td>\n",
       "      <td>0.558478</td>\n",
       "    </tr>\n",
       "  </tbody>\n",
       "</table>\n",
       "</div>"
      ],
      "text/plain": [
       "                       Model       MAE       MSE      RMSE\n",
       "2         Random Forest n=26  0.184347  0.069469  0.260956\n",
       "3             Gradient Boost  0.184716  0.068098  0.260956\n",
       "1  Ensemble: Linear Reg + RF  0.182427  0.068368  0.261472\n",
       "0          Linear Regression  0.185567  0.069419  0.263475\n",
       "4           X Gradient Boost  0.467911  0.311898  0.558478"
      ]
     },
     "execution_count": 135,
     "metadata": {},
     "output_type": "execute_result"
    }
   ],
   "source": [
    "# run XGB\n",
    "\n",
    "# initiate the XGB Regressor\n",
    "xg_reg = xgb.XGBRegressor(objective ='reg:squarederror', colsample_bytree = 0.3, learning_rate = 0.1,\n",
    "                max_depth = 5, alpha = 10, n_estimators = 10)\n",
    "# fit the model\n",
    "xg_reg.fit(X2_train,y2_train)\n",
    "# predict on the model\n",
    "y_pred1_xgb = xg_reg.predict(X2_test)\n",
    "# get scores of the model\n",
    "m8_MAE = mean_absolute_error(y2_test, y_pred1_xgb)\n",
    "m8_MSE = mean_squared_error(y2_test, y_pred1_xgb)\n",
    "m8_RMSE = m8_MSE**0.5\n",
    "valid = valid.append({'Model':'X Gradient Boost', 'MAE':m8_MAE, 'MSE':m8_MSE, 'RMSE':m8_RMSE}, ignore_index=True)\n",
    "valid.sort_values('RMSE', ascending=True)"
   ]
  },
  {
   "cell_type": "markdown",
   "metadata": {},
   "source": [
    "#### The Ensemble model that performed the best with the previous test and train set did fairly well with the different train and test data. It still had the lowest MAE. Looks like a good model to choose. "
   ]
  },
  {
   "cell_type": "code",
   "execution_count": 136,
   "metadata": {},
   "outputs": [
    {
     "data": {
      "text/html": [
       "<div>\n",
       "<style scoped>\n",
       "    .dataframe tbody tr th:only-of-type {\n",
       "        vertical-align: middle;\n",
       "    }\n",
       "\n",
       "    .dataframe tbody tr th {\n",
       "        vertical-align: top;\n",
       "    }\n",
       "\n",
       "    .dataframe thead th {\n",
       "        text-align: right;\n",
       "    }\n",
       "</style>\n",
       "<table border=\"1\" class=\"dataframe\">\n",
       "  <thead>\n",
       "    <tr style=\"text-align: right;\">\n",
       "      <th></th>\n",
       "      <th>Model</th>\n",
       "      <th>MAE</th>\n",
       "      <th>MSE</th>\n",
       "      <th>RMSE</th>\n",
       "    </tr>\n",
       "  </thead>\n",
       "  <tbody>\n",
       "    <tr>\n",
       "      <th>1</th>\n",
       "      <td>Ensemble: Linear Reg + RF</td>\n",
       "      <td>0.182427</td>\n",
       "      <td>0.068368</td>\n",
       "      <td>0.261472</td>\n",
       "    </tr>\n",
       "    <tr>\n",
       "      <th>2</th>\n",
       "      <td>Random Forest n=26</td>\n",
       "      <td>0.184347</td>\n",
       "      <td>0.069469</td>\n",
       "      <td>0.260956</td>\n",
       "    </tr>\n",
       "    <tr>\n",
       "      <th>3</th>\n",
       "      <td>Gradient Boost</td>\n",
       "      <td>0.184716</td>\n",
       "      <td>0.068098</td>\n",
       "      <td>0.260956</td>\n",
       "    </tr>\n",
       "    <tr>\n",
       "      <th>0</th>\n",
       "      <td>Linear Regression</td>\n",
       "      <td>0.185567</td>\n",
       "      <td>0.069419</td>\n",
       "      <td>0.263475</td>\n",
       "    </tr>\n",
       "    <tr>\n",
       "      <th>4</th>\n",
       "      <td>X Gradient Boost</td>\n",
       "      <td>0.467911</td>\n",
       "      <td>0.311898</td>\n",
       "      <td>0.558478</td>\n",
       "    </tr>\n",
       "  </tbody>\n",
       "</table>\n",
       "</div>"
      ],
      "text/plain": [
       "                       Model       MAE       MSE      RMSE\n",
       "1  Ensemble: Linear Reg + RF  0.182427  0.068368  0.261472\n",
       "2         Random Forest n=26  0.184347  0.069469  0.260956\n",
       "3             Gradient Boost  0.184716  0.068098  0.260956\n",
       "0          Linear Regression  0.185567  0.069419  0.263475\n",
       "4           X Gradient Boost  0.467911  0.311898  0.558478"
      ]
     },
     "execution_count": 136,
     "metadata": {},
     "output_type": "execute_result"
    }
   ],
   "source": [
    "valid.sort_values('MAE', ascending=True)"
   ]
  },
  {
   "cell_type": "markdown",
   "metadata": {},
   "source": [
    "### I would go with that ensemble linear regression + random forest in boosted (sequential) fashion"
   ]
  },
  {
   "cell_type": "code",
   "execution_count": 111,
   "metadata": {},
   "outputs": [
    {
     "data": {
      "text/plain": [
       "array([3.24341535e-01, 4.08321801e-01, 5.14046691e-01, 6.47146442e-01,\n",
       "       8.14709101e-01, 1.02565799e+00, 1.29122691e+00, 1.62555837e+00,\n",
       "       2.04645674e+00, 2.57633639e+00, 3.24341535e+00, 4.08321801e+00,\n",
       "       5.14046691e+00, 6.47146442e+00, 8.14709101e+00, 1.02565799e+01,\n",
       "       1.29122691e+01, 1.62555837e+01, 2.04645674e+01, 2.57633639e+01,\n",
       "       3.24341535e+01, 4.08321801e+01, 5.14046691e+01, 6.47146442e+01,\n",
       "       8.14709101e+01, 1.02565799e+02, 1.29122691e+02, 1.62555837e+02,\n",
       "       2.04645674e+02, 2.57633639e+02, 3.24341535e+02, 4.08321801e+02,\n",
       "       5.14046691e+02, 6.47146442e+02, 8.14709101e+02, 1.02565799e+03])"
      ]
     },
     "execution_count": 111,
     "metadata": {},
     "output_type": "execute_result"
    },
    {
     "data": {
      "image/png": "[encoded data removed]",
      "text/plain": [
       "<Figure size 432x288 with 1 Axes>"
      ]
     },
     "metadata": {
      "needs_background": "light"
     },
     "output_type": "display_data"
    }
   ],
   "source": [
    "# plots the error as an exponential function\n",
    "x = np.array([0.1*i for i in range(36)])\n",
    "y1 = 10**x\n",
    "y2 = 10**(x+.122)\n",
    "difference = y2 - y1\n",
    "_ = plt.plot(x,difference)\n",
    "difference"
   ]
  },
  {
   "cell_type": "code",
   "execution_count": 177,
   "metadata": {},
   "outputs": [
    {
     "data": {
      "text/plain": [
       "{'first_total': -0.022750746996116573,\n",
       " 'Marketing_first': 0.006523886624658156,\n",
       " 'first_items': 0.010748106057485537,\n",
       " 'Vendor': -0.01162848848972585,\n",
       " 'first_tot_lg': 0.2927086197932447,\n",
       " 'boost': 0.0007489778265633023,\n",
       " 'custom': -0.010207144870600305,\n",
       " 'gmail.com': 0.0014195614103765179,\n",
       " 'hotmail.com': -0.000595399297693647,\n",
       " 'yahoo.com': 0.00010234448177038144,\n",
       " '1356615': -0.11138486338488328,\n",
       " '294517': -0.009192374133612737,\n",
       " 'web': -0.10732785039248068,\n",
       " 'BE523': -0.005877141467349583,\n",
       " 'BEM1003': -0.004648736613005582,\n",
       " 'BEM1006': -0.002014836777683056,\n",
       " 'BEM6001': 0.001793837288132328,\n",
       " 'BEM6003': 0.0032890716138842934,\n",
       " 'BEM6007': 0.001640129651457463,\n",
       " 'BES1006': -0.014899864747150849,\n",
       " 'BES1009': 0.0026757599399646025,\n",
       " 'BES1010': 0.006062641892770059,\n",
       " 'BES1011': 0.008473657843239295,\n",
       " 'ROUTEINS10': -0.0072456500313122126,\n",
       " 'other': 0.004579600921374914,\n",
       " 'Monday': 0.0033288745203481594,\n",
       " 'Sunday': -0.0015930543887089517,\n",
       " 'Thursday': -0.0006387595226665146,\n",
       " 'Tuesday': 0.0012421724149512727,\n",
       " 'Wednesday': 0.0004598107373862101,\n",
       " 'April': 13117195954.013851,\n",
       " 'August': 12829925625.63683,\n",
       " 'December': 10948033544.744184,\n",
       " 'February': 10797006062.442926,\n",
       " 'January': 12207754177.05144,\n",
       " 'July': 12988850859.504015,\n",
       " 'June': 11912237233.28915,\n",
       " 'March': 8823862124.017712,\n",
       " 'May': 11668507251.55702,\n",
       " 'November': 13702232688.078737,\n",
       " 'October': 6519697119.599128,\n",
       " 'September': 7161536929.89635}"
      ]
     },
     "execution_count": 177,
     "metadata": {},
     "output_type": "execute_result"
    }
   ],
   "source": [
    "# look at linear model for coefficients\n",
    "lin_coef = zip(X1.columns, lm5.coef_)\n",
    "dict(lin_coef)"
   ]
  },
  {
   "cell_type": "code",
   "execution_count": 178,
   "metadata": {},
   "outputs": [
    {
     "data": {
      "text/plain": [
       "1.8164931301945546"
      ]
     },
     "execution_count": 178,
     "metadata": {},
     "output_type": "execute_result"
    }
   ],
   "source": [
    "lm5.intercept_"
   ]
  },
  {
   "cell_type": "code",
   "execution_count": null,
   "metadata": {},
   "outputs": [],
   "source": []
  }
 ],
 "metadata": {
  "kernelspec": {
   "display_name": "Python 3",
   "language": "python",
   "name": "python3"
  },
  "language_info": {
   "codemirror_mode": {
    "name": "ipython",
    "version": 3
   },
   "file_extension": ".py",
   "mimetype": "text/x-python",
   "name": "python",
   "nbconvert_exporter": "python",
   "pygments_lexer": "ipython3",
   "version": "3.7.6"
  }
 },
 "nbformat": 4,
 "nbformat_minor": 4
}
