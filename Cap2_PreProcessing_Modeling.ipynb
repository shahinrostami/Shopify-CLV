{
 "cells": [
  {
   "cell_type": "markdown",
   "metadata": {},
   "source": [
    "### Goals of this notebook:\n",
    "### 1. Preprocesses the data to prepare for modeling\n",
    "### 2. Modeling using a number of different models\n"
   ]
  },
  {
   "cell_type": "code",
   "execution_count": 1,
   "metadata": {},
   "outputs": [],
   "source": [
    "#load python packages\n",
    "import os\n",
    "import pandas as pd\n",
    "import datetime\n",
    "import seaborn as sns\n",
    "import matplotlib.pyplot as plt\n",
    "import numpy as np\n",
    "from sklearn import preprocessing"
   ]
  },
  {
   "cell_type": "markdown",
   "metadata": {},
   "source": [
    "## I. Preprocessing\n",
    "We get the data ready to model by dropping some features, creating dummy variables for catagorical features, and scaling the features."
   ]
  },
  {
   "cell_type": "code",
   "execution_count": 2,
   "metadata": {},
   "outputs": [],
   "source": [
    "import pickle\n",
    "os.chdir(\"C:\\Springboard\\Github\\Capstone2_cust\\Intermediate_Data\")"
   ]
  },
  {
   "cell_type": "code",
   "execution_count": 3,
   "metadata": {},
   "outputs": [
    {
     "data": {
      "text/html": [
       "<div>\n",
       "<style scoped>\n",
       "    .dataframe tbody tr th:only-of-type {\n",
       "        vertical-align: middle;\n",
       "    }\n",
       "\n",
       "    .dataframe tbody tr th {\n",
       "        vertical-align: top;\n",
       "    }\n",
       "\n",
       "    .dataframe thead th {\n",
       "        text-align: right;\n",
       "    }\n",
       "</style>\n",
       "<table border=\"1\" class=\"dataframe\">\n",
       "  <thead>\n",
       "    <tr style=\"text-align: right;\">\n",
       "      <th></th>\n",
       "      <th>first_total</th>\n",
       "      <th>Marketing_first</th>\n",
       "      <th>first_items</th>\n",
       "      <th>first_order</th>\n",
       "      <th>server</th>\n",
       "      <th>Vendor</th>\n",
       "      <th>Source</th>\n",
       "      <th>Area_Code</th>\n",
       "      <th>Ship_Zip</th>\n",
       "      <th>lead_sku</th>\n",
       "      <th>weekday</th>\n",
       "      <th>mon</th>\n",
       "      <th>first_tot_lg</th>\n",
       "      <th>first_it_lg</th>\n",
       "    </tr>\n",
       "  </thead>\n",
       "  <tbody>\n",
       "    <tr>\n",
       "      <th>1</th>\n",
       "      <td>145.58</td>\n",
       "      <td>1</td>\n",
       "      <td>2</td>\n",
       "      <td>2019-11-26 21:44:16+00:00</td>\n",
       "      <td>custom</td>\n",
       "      <td>1.0</td>\n",
       "      <td>web</td>\n",
       "      <td>404</td>\n",
       "      <td>30087</td>\n",
       "      <td>other</td>\n",
       "      <td>Tuesday</td>\n",
       "      <td>November</td>\n",
       "      <td>2.163102</td>\n",
       "      <td>0.30103</td>\n",
       "    </tr>\n",
       "    <tr>\n",
       "      <th>2</th>\n",
       "      <td>137.55</td>\n",
       "      <td>0</td>\n",
       "      <td>5</td>\n",
       "      <td>2019-11-26 20:52:08+00:00</td>\n",
       "      <td>custom</td>\n",
       "      <td>1.0</td>\n",
       "      <td>web</td>\n",
       "      <td>845</td>\n",
       "      <td>12545</td>\n",
       "      <td>other</td>\n",
       "      <td>Tuesday</td>\n",
       "      <td>November</td>\n",
       "      <td>2.138461</td>\n",
       "      <td>0.69897</td>\n",
       "    </tr>\n",
       "    <tr>\n",
       "      <th>3</th>\n",
       "      <td>22.98</td>\n",
       "      <td>1</td>\n",
       "      <td>2</td>\n",
       "      <td>2019-11-26 18:12:04+00:00</td>\n",
       "      <td>custom</td>\n",
       "      <td>1.0</td>\n",
       "      <td>web</td>\n",
       "      <td>262</td>\n",
       "      <td>53402</td>\n",
       "      <td>ROUTEINS10</td>\n",
       "      <td>Tuesday</td>\n",
       "      <td>November</td>\n",
       "      <td>1.361350</td>\n",
       "      <td>0.30103</td>\n",
       "    </tr>\n",
       "    <tr>\n",
       "      <th>4</th>\n",
       "      <td>28.00</td>\n",
       "      <td>0</td>\n",
       "      <td>1</td>\n",
       "      <td>2019-08-07 18:14:49+00:00</td>\n",
       "      <td>custom</td>\n",
       "      <td>0.0</td>\n",
       "      <td>web</td>\n",
       "      <td>617</td>\n",
       "      <td>01983</td>\n",
       "      <td>BEM1003</td>\n",
       "      <td>Wednesday</td>\n",
       "      <td>August</td>\n",
       "      <td>1.447158</td>\n",
       "      <td>0.00000</td>\n",
       "    </tr>\n",
       "    <tr>\n",
       "      <th>5</th>\n",
       "      <td>12.00</td>\n",
       "      <td>1</td>\n",
       "      <td>1</td>\n",
       "      <td>2019-08-07 18:05:28+00:00</td>\n",
       "      <td>custom</td>\n",
       "      <td>0.0</td>\n",
       "      <td>web</td>\n",
       "      <td>740</td>\n",
       "      <td>43143</td>\n",
       "      <td>other</td>\n",
       "      <td>Wednesday</td>\n",
       "      <td>August</td>\n",
       "      <td>1.079181</td>\n",
       "      <td>0.00000</td>\n",
       "    </tr>\n",
       "    <tr>\n",
       "      <th>6</th>\n",
       "      <td>42.00</td>\n",
       "      <td>0</td>\n",
       "      <td>2</td>\n",
       "      <td>2019-08-07 03:45:52+00:00</td>\n",
       "      <td>custom</td>\n",
       "      <td>0.0</td>\n",
       "      <td>web</td>\n",
       "      <td>701</td>\n",
       "      <td>58801</td>\n",
       "      <td>BES1006</td>\n",
       "      <td>Wednesday</td>\n",
       "      <td>August</td>\n",
       "      <td>1.623249</td>\n",
       "      <td>0.30103</td>\n",
       "    </tr>\n",
       "    <tr>\n",
       "      <th>7</th>\n",
       "      <td>27.20</td>\n",
       "      <td>1</td>\n",
       "      <td>1</td>\n",
       "      <td>2019-08-06 22:00:54+00:00</td>\n",
       "      <td>custom</td>\n",
       "      <td>0.0</td>\n",
       "      <td>web</td>\n",
       "      <td>754</td>\n",
       "      <td>33026</td>\n",
       "      <td>BEM6001</td>\n",
       "      <td>Tuesday</td>\n",
       "      <td>August</td>\n",
       "      <td>1.434569</td>\n",
       "      <td>0.00000</td>\n",
       "    </tr>\n",
       "    <tr>\n",
       "      <th>8</th>\n",
       "      <td>22.00</td>\n",
       "      <td>1</td>\n",
       "      <td>2</td>\n",
       "      <td>2019-08-06 20:22:25+00:00</td>\n",
       "      <td>custom</td>\n",
       "      <td>0.0</td>\n",
       "      <td>web</td>\n",
       "      <td>unknown</td>\n",
       "      <td>01880</td>\n",
       "      <td>BES5001</td>\n",
       "      <td>Tuesday</td>\n",
       "      <td>August</td>\n",
       "      <td>1.342423</td>\n",
       "      <td>0.30103</td>\n",
       "    </tr>\n",
       "    <tr>\n",
       "      <th>9</th>\n",
       "      <td>100.00</td>\n",
       "      <td>1</td>\n",
       "      <td>5</td>\n",
       "      <td>2019-08-06 19:59:05+00:00</td>\n",
       "      <td>custom</td>\n",
       "      <td>0.0</td>\n",
       "      <td>web</td>\n",
       "      <td>617</td>\n",
       "      <td>01880</td>\n",
       "      <td>BEM1007</td>\n",
       "      <td>Tuesday</td>\n",
       "      <td>August</td>\n",
       "      <td>2.000000</td>\n",
       "      <td>0.69897</td>\n",
       "    </tr>\n",
       "    <tr>\n",
       "      <th>10</th>\n",
       "      <td>36.64</td>\n",
       "      <td>1</td>\n",
       "      <td>2</td>\n",
       "      <td>2019-08-06 19:14:49+00:00</td>\n",
       "      <td>custom</td>\n",
       "      <td>0.0</td>\n",
       "      <td>web</td>\n",
       "      <td>626</td>\n",
       "      <td>92887</td>\n",
       "      <td>BEM1007</td>\n",
       "      <td>Tuesday</td>\n",
       "      <td>August</td>\n",
       "      <td>1.563955</td>\n",
       "      <td>0.30103</td>\n",
       "    </tr>\n",
       "  </tbody>\n",
       "</table>\n",
       "</div>"
      ],
      "text/plain": [
       "    first_total  Marketing_first  first_items               first_order  \\\n",
       "1        145.58                1            2 2019-11-26 21:44:16+00:00   \n",
       "2        137.55                0            5 2019-11-26 20:52:08+00:00   \n",
       "3         22.98                1            2 2019-11-26 18:12:04+00:00   \n",
       "4         28.00                0            1 2019-08-07 18:14:49+00:00   \n",
       "5         12.00                1            1 2019-08-07 18:05:28+00:00   \n",
       "6         42.00                0            2 2019-08-07 03:45:52+00:00   \n",
       "7         27.20                1            1 2019-08-06 22:00:54+00:00   \n",
       "8         22.00                1            2 2019-08-06 20:22:25+00:00   \n",
       "9        100.00                1            5 2019-08-06 19:59:05+00:00   \n",
       "10        36.64                1            2 2019-08-06 19:14:49+00:00   \n",
       "\n",
       "    server  Vendor Source Area_Code Ship_Zip    lead_sku    weekday       mon  \\\n",
       "1   custom     1.0    web       404    30087       other    Tuesday  November   \n",
       "2   custom     1.0    web       845    12545       other    Tuesday  November   \n",
       "3   custom     1.0    web       262    53402  ROUTEINS10    Tuesday  November   \n",
       "4   custom     0.0    web       617    01983     BEM1003  Wednesday    August   \n",
       "5   custom     0.0    web       740    43143       other  Wednesday    August   \n",
       "6   custom     0.0    web       701    58801     BES1006  Wednesday    August   \n",
       "7   custom     0.0    web       754    33026     BEM6001    Tuesday    August   \n",
       "8   custom     0.0    web   unknown    01880     BES5001    Tuesday    August   \n",
       "9   custom     0.0    web       617    01880     BEM1007    Tuesday    August   \n",
       "10  custom     0.0    web       626    92887     BEM1007    Tuesday    August   \n",
       "\n",
       "    first_tot_lg  first_it_lg  \n",
       "1       2.163102      0.30103  \n",
       "2       2.138461      0.69897  \n",
       "3       1.361350      0.30103  \n",
       "4       1.447158      0.00000  \n",
       "5       1.079181      0.00000  \n",
       "6       1.623249      0.30103  \n",
       "7       1.434569      0.00000  \n",
       "8       1.342423      0.30103  \n",
       "9       2.000000      0.69897  \n",
       "10      1.563955      0.30103  "
      ]
     },
     "execution_count": 3,
     "metadata": {},
     "output_type": "execute_result"
    }
   ],
   "source": [
    "# load picked version of X\n",
    "X = pickle.load(open(\"X1.pkl\", \"rb\"))\n",
    "# look at the first 10 rows of this file\n",
    "X.head(10)"
   ]
  },
  {
   "cell_type": "markdown",
   "metadata": {},
   "source": [
    "That looks pretty good. Let's review what each column means: <br>\n",
    "- first_total: total $ spend on first order <br>\n",
    "- Marketing_first: whether they accept marketing on the first order <br>\n",
    "- first_items: number of items on first order <br>\n",
    "- first_order: date-time of first order <br>\n",
    "- server: domain name of the customer email server <br>\n",
    "- vendor: 0 = first order from company; 1 = first order from outside source <br>\n",
    "- Source: web or iphone\n",
    "- Area_Code: area code of order placed\n",
    "- Ship_Zip: zip code of shipping address\n",
    "- lead_sku: name of SKU that was lead item on purchase\n",
    "- weekday: day of week first order was placed\n",
    "- mon: month that first order was placed\n",
    "- first_tot_lg: log of first order total\n",
    "- first_it_lg: log of number of items in first order <br>\n",
    "<br>\n",
    "The values for some of these catagorical features need to be converted to numbers"
   ]
  },
  {
   "cell_type": "code",
   "execution_count": 4,
   "metadata": {},
   "outputs": [
    {
     "data": {
      "text/plain": [
       "web        33949\n",
       "1356615     5423\n",
       "294517       273\n",
       "457101        67\n",
       "580111        16\n",
       "412739         2\n",
       "Name: Source, dtype: int64"
      ]
     },
     "execution_count": 4,
     "metadata": {},
     "output_type": "execute_result"
    }
   ],
   "source": [
    "X['Source'].value_counts()"
   ]
  },
  {
   "cell_type": "code",
   "execution_count": 5,
   "metadata": {},
   "outputs": [],
   "source": [
    "# let's drop first order item log\n",
    "X.drop('first_it_lg', axis=1, inplace=True)"
   ]
  },
  {
   "cell_type": "code",
   "execution_count": 6,
   "metadata": {},
   "outputs": [
    {
     "name": "stdout",
     "output_type": "stream",
     "text": [
      "<class 'pandas.core.frame.DataFrame'>\n",
      "Int64Index: 39730 entries, 1 to 39770\n",
      "Data columns (total 13 columns):\n",
      " #   Column           Non-Null Count  Dtype              \n",
      "---  ------           --------------  -----              \n",
      " 0   first_total      39730 non-null  float64            \n",
      " 1   Marketing_first  39730 non-null  int64              \n",
      " 2   first_items      39730 non-null  int64              \n",
      " 3   first_order      39730 non-null  datetime64[ns, UTC]\n",
      " 4   server           39730 non-null  object             \n",
      " 5   Vendor           39730 non-null  float64            \n",
      " 6   Source           39730 non-null  object             \n",
      " 7   Area_Code        39730 non-null  object             \n",
      " 8   Ship_Zip         39730 non-null  object             \n",
      " 9   lead_sku         39730 non-null  object             \n",
      " 10  weekday          39730 non-null  object             \n",
      " 11  mon              39730 non-null  object             \n",
      " 12  first_tot_lg     39730 non-null  float64            \n",
      "dtypes: datetime64[ns, UTC](1), float64(3), int64(2), object(7)\n",
      "memory usage: 4.2+ MB\n"
     ]
    }
   ],
   "source": [
    "X.info()"
   ]
  },
  {
   "cell_type": "markdown",
   "metadata": {},
   "source": [
    "traditional regression can't handle date-time, so we'll drop that"
   ]
  },
  {
   "cell_type": "code",
   "execution_count": 7,
   "metadata": {},
   "outputs": [],
   "source": [
    "# drop date-time\n",
    "X.drop('first_order', axis=1, inplace=True)"
   ]
  },
  {
   "cell_type": "markdown",
   "metadata": {},
   "source": [
    "features that need dummy variables:\n",
    "- server\n",
    "- source\n",
    "- Area_Code\n",
    "- Ship_Zip\n",
    "- lead_sku\n",
    "- weekday\n",
    "- mon <br>\n",
    "<br>\n",
    "Let's look at the size of these"
   ]
  },
  {
   "cell_type": "code",
   "execution_count": 8,
   "metadata": {},
   "outputs": [
    {
     "data": {
      "text/plain": [
       "26"
      ]
     },
     "execution_count": 8,
     "metadata": {},
     "output_type": "execute_result"
    }
   ],
   "source": [
    "X['server'].nunique()"
   ]
  },
  {
   "cell_type": "code",
   "execution_count": 9,
   "metadata": {},
   "outputs": [
    {
     "data": {
      "text/plain": [
       "6"
      ]
     },
     "execution_count": 9,
     "metadata": {},
     "output_type": "execute_result"
    }
   ],
   "source": [
    "X['Source'].nunique()"
   ]
  },
  {
   "cell_type": "code",
   "execution_count": 10,
   "metadata": {},
   "outputs": [
    {
     "data": {
      "text/plain": [
       "373"
      ]
     },
     "execution_count": 10,
     "metadata": {},
     "output_type": "execute_result"
    }
   ],
   "source": [
    "X['Area_Code'].nunique()"
   ]
  },
  {
   "cell_type": "markdown",
   "metadata": {},
   "source": [
    "This is too man catagorical variables for this feature. I wonder if there are high concentrations of purchases in some zip codes that we could account for"
   ]
  },
  {
   "cell_type": "code",
   "execution_count": 11,
   "metadata": {},
   "outputs": [
    {
     "data": {
      "text/plain": [
       "unknown    21387\n",
       "949          273\n",
       "714          204\n",
       "720          161\n",
       "760          155\n",
       "310          148\n",
       "214          144\n",
       "512          144\n",
       "817          139\n",
       "801          135\n",
       "757          132\n",
       "917          131\n",
       "208          131\n",
       "503          130\n",
       "909          130\n",
       "916          129\n",
       "704          129\n",
       "360          128\n",
       "619          127\n",
       "303          121\n",
       "Name: Area_Code, dtype: int64"
      ]
     },
     "execution_count": 11,
     "metadata": {},
     "output_type": "execute_result"
    }
   ],
   "source": [
    "X['Area_Code'].value_counts().head(20)"
   ]
  },
  {
   "cell_type": "markdown",
   "metadata": {},
   "source": [
    "There are 40k customers, so the largest area code makes up 0.68% of total orders. I think this feature is too small and would add unnecessary dimensions. We will drop."
   ]
  },
  {
   "cell_type": "code",
   "execution_count": 12,
   "metadata": {},
   "outputs": [],
   "source": [
    "X.drop('Area_Code', axis=1, inplace=True)"
   ]
  },
  {
   "cell_type": "code",
   "execution_count": 13,
   "metadata": {
    "scrolled": true
   },
   "outputs": [
    {
     "data": {
      "text/plain": [
       "15930"
      ]
     },
     "execution_count": 13,
     "metadata": {},
     "output_type": "execute_result"
    }
   ],
   "source": [
    "X['Ship_Zip'].nunique()"
   ]
  },
  {
   "cell_type": "markdown",
   "metadata": {},
   "source": [
    "That is way too many features. Unless they are very concentrated in a few zip codes, we'll drop it."
   ]
  },
  {
   "cell_type": "code",
   "execution_count": 14,
   "metadata": {
    "scrolled": false
   },
   "outputs": [
    {
     "data": {
      "text/plain": [
       "92688      48\n",
       "92692      48\n",
       "unknown    48\n",
       "92691      46\n",
       "28532      41\n",
       "92694      40\n",
       "92630      39\n",
       "92627      38\n",
       "92656      31\n",
       "92679      29\n",
       "92677      27\n",
       "92675      25\n",
       "92672      24\n",
       "92626      23\n",
       "92592      22\n",
       "92629      22\n",
       "80013      22\n",
       "92660      21\n",
       "93551      20\n",
       "79936      20\n",
       "Name: Ship_Zip, dtype: int64"
      ]
     },
     "execution_count": 14,
     "metadata": {},
     "output_type": "execute_result"
    }
   ],
   "source": [
    "X['Ship_Zip'].value_counts().head(20)"
   ]
  },
  {
   "cell_type": "code",
   "execution_count": null,
   "metadata": {},
   "outputs": [],
   "source": []
  },
  {
   "cell_type": "code",
   "execution_count": 15,
   "metadata": {},
   "outputs": [],
   "source": [
    "# drop that feature\n",
    "X.drop('Ship_Zip', axis=1, inplace=True)"
   ]
  },
  {
   "cell_type": "code",
   "execution_count": 16,
   "metadata": {},
   "outputs": [
    {
     "data": {
      "text/plain": [
       "26"
      ]
     },
     "execution_count": 16,
     "metadata": {},
     "output_type": "execute_result"
    }
   ],
   "source": [
    "X['lead_sku'].nunique()"
   ]
  },
  {
   "cell_type": "markdown",
   "metadata": {},
   "source": [
    "We know how many variables for days of the week and month there are. This means we should see: <br>\n",
    "- server: 26\n",
    "- source: 6\n",
    "- lead_sku: 26\n",
    "- weekday: 7\n",
    "- mon: 12 <br>\n",
    "- total: 77 more freatures <br>\n",
    "<br>\n",
    "That seems reasonable"
   ]
  },
  {
   "cell_type": "code",
   "execution_count": 17,
   "metadata": {},
   "outputs": [],
   "source": [
    "# dummy for server ##\n",
    "dfs = X['server']\n",
    "dummy_server = pd.get_dummies(dfs)\n",
    "X = pd.concat([X.drop('server', axis=1), dummy_server], axis=1)"
   ]
  },
  {
   "cell_type": "code",
   "execution_count": 18,
   "metadata": {},
   "outputs": [],
   "source": [
    "# Dummy for Source\n",
    "dfs = X['Source']\n",
    "dummy_source = pd.get_dummies(dfs)\n",
    "X = pd.concat([X.drop('Source', axis=1), dummy_source], axis=1)"
   ]
  },
  {
   "cell_type": "code",
   "execution_count": 19,
   "metadata": {},
   "outputs": [],
   "source": [
    "# Dummy for lead_sku\n",
    "dfs = X['lead_sku']\n",
    "dummy_source = pd.get_dummies(dfs)\n",
    "X = pd.concat([X.drop('lead_sku', axis=1), dummy_source], axis=1)"
   ]
  },
  {
   "cell_type": "code",
   "execution_count": 20,
   "metadata": {},
   "outputs": [],
   "source": [
    "# Dummy for weekday\n",
    "dfs = X['weekday']\n",
    "dummy_source = pd.get_dummies(dfs)\n",
    "X = pd.concat([X.drop('weekday', axis=1), dummy_source], axis=1)"
   ]
  },
  {
   "cell_type": "code",
   "execution_count": 21,
   "metadata": {},
   "outputs": [
    {
     "data": {
      "text/html": [
       "<div>\n",
       "<style scoped>\n",
       "    .dataframe tbody tr th:only-of-type {\n",
       "        vertical-align: middle;\n",
       "    }\n",
       "\n",
       "    .dataframe tbody tr th {\n",
       "        vertical-align: top;\n",
       "    }\n",
       "\n",
       "    .dataframe thead th {\n",
       "        text-align: right;\n",
       "    }\n",
       "</style>\n",
       "<table border=\"1\" class=\"dataframe\">\n",
       "  <thead>\n",
       "    <tr style=\"text-align: right;\">\n",
       "      <th></th>\n",
       "      <th>first_total</th>\n",
       "      <th>Marketing_first</th>\n",
       "      <th>first_items</th>\n",
       "      <th>Vendor</th>\n",
       "      <th>first_tot_lg</th>\n",
       "      <th>aim.com</th>\n",
       "      <th>aol.com</th>\n",
       "      <th>att.net</th>\n",
       "      <th>bellsouth.net</th>\n",
       "      <th>charter.net</th>\n",
       "      <th>...</th>\n",
       "      <th>December</th>\n",
       "      <th>February</th>\n",
       "      <th>January</th>\n",
       "      <th>July</th>\n",
       "      <th>June</th>\n",
       "      <th>March</th>\n",
       "      <th>May</th>\n",
       "      <th>November</th>\n",
       "      <th>October</th>\n",
       "      <th>September</th>\n",
       "    </tr>\n",
       "  </thead>\n",
       "  <tbody>\n",
       "    <tr>\n",
       "      <th>1</th>\n",
       "      <td>145.58</td>\n",
       "      <td>1</td>\n",
       "      <td>2</td>\n",
       "      <td>1.0</td>\n",
       "      <td>2.163102</td>\n",
       "      <td>0</td>\n",
       "      <td>0</td>\n",
       "      <td>0</td>\n",
       "      <td>0</td>\n",
       "      <td>0</td>\n",
       "      <td>...</td>\n",
       "      <td>0</td>\n",
       "      <td>0</td>\n",
       "      <td>0</td>\n",
       "      <td>0</td>\n",
       "      <td>0</td>\n",
       "      <td>0</td>\n",
       "      <td>0</td>\n",
       "      <td>1</td>\n",
       "      <td>0</td>\n",
       "      <td>0</td>\n",
       "    </tr>\n",
       "    <tr>\n",
       "      <th>2</th>\n",
       "      <td>137.55</td>\n",
       "      <td>0</td>\n",
       "      <td>5</td>\n",
       "      <td>1.0</td>\n",
       "      <td>2.138461</td>\n",
       "      <td>0</td>\n",
       "      <td>0</td>\n",
       "      <td>0</td>\n",
       "      <td>0</td>\n",
       "      <td>0</td>\n",
       "      <td>...</td>\n",
       "      <td>0</td>\n",
       "      <td>0</td>\n",
       "      <td>0</td>\n",
       "      <td>0</td>\n",
       "      <td>0</td>\n",
       "      <td>0</td>\n",
       "      <td>0</td>\n",
       "      <td>1</td>\n",
       "      <td>0</td>\n",
       "      <td>0</td>\n",
       "    </tr>\n",
       "    <tr>\n",
       "      <th>3</th>\n",
       "      <td>22.98</td>\n",
       "      <td>1</td>\n",
       "      <td>2</td>\n",
       "      <td>1.0</td>\n",
       "      <td>1.361350</td>\n",
       "      <td>0</td>\n",
       "      <td>0</td>\n",
       "      <td>0</td>\n",
       "      <td>0</td>\n",
       "      <td>0</td>\n",
       "      <td>...</td>\n",
       "      <td>0</td>\n",
       "      <td>0</td>\n",
       "      <td>0</td>\n",
       "      <td>0</td>\n",
       "      <td>0</td>\n",
       "      <td>0</td>\n",
       "      <td>0</td>\n",
       "      <td>1</td>\n",
       "      <td>0</td>\n",
       "      <td>0</td>\n",
       "    </tr>\n",
       "    <tr>\n",
       "      <th>4</th>\n",
       "      <td>28.00</td>\n",
       "      <td>0</td>\n",
       "      <td>1</td>\n",
       "      <td>0.0</td>\n",
       "      <td>1.447158</td>\n",
       "      <td>0</td>\n",
       "      <td>0</td>\n",
       "      <td>0</td>\n",
       "      <td>0</td>\n",
       "      <td>0</td>\n",
       "      <td>...</td>\n",
       "      <td>0</td>\n",
       "      <td>0</td>\n",
       "      <td>0</td>\n",
       "      <td>0</td>\n",
       "      <td>0</td>\n",
       "      <td>0</td>\n",
       "      <td>0</td>\n",
       "      <td>0</td>\n",
       "      <td>0</td>\n",
       "      <td>0</td>\n",
       "    </tr>\n",
       "    <tr>\n",
       "      <th>5</th>\n",
       "      <td>12.00</td>\n",
       "      <td>1</td>\n",
       "      <td>1</td>\n",
       "      <td>0.0</td>\n",
       "      <td>1.079181</td>\n",
       "      <td>0</td>\n",
       "      <td>0</td>\n",
       "      <td>0</td>\n",
       "      <td>0</td>\n",
       "      <td>0</td>\n",
       "      <td>...</td>\n",
       "      <td>0</td>\n",
       "      <td>0</td>\n",
       "      <td>0</td>\n",
       "      <td>0</td>\n",
       "      <td>0</td>\n",
       "      <td>0</td>\n",
       "      <td>0</td>\n",
       "      <td>0</td>\n",
       "      <td>0</td>\n",
       "      <td>0</td>\n",
       "    </tr>\n",
       "    <tr>\n",
       "      <th>...</th>\n",
       "      <td>...</td>\n",
       "      <td>...</td>\n",
       "      <td>...</td>\n",
       "      <td>...</td>\n",
       "      <td>...</td>\n",
       "      <td>...</td>\n",
       "      <td>...</td>\n",
       "      <td>...</td>\n",
       "      <td>...</td>\n",
       "      <td>...</td>\n",
       "      <td>...</td>\n",
       "      <td>...</td>\n",
       "      <td>...</td>\n",
       "      <td>...</td>\n",
       "      <td>...</td>\n",
       "      <td>...</td>\n",
       "      <td>...</td>\n",
       "      <td>...</td>\n",
       "      <td>...</td>\n",
       "      <td>...</td>\n",
       "      <td>...</td>\n",
       "    </tr>\n",
       "    <tr>\n",
       "      <th>39766</th>\n",
       "      <td>27.98</td>\n",
       "      <td>0</td>\n",
       "      <td>2</td>\n",
       "      <td>1.0</td>\n",
       "      <td>1.446848</td>\n",
       "      <td>0</td>\n",
       "      <td>0</td>\n",
       "      <td>0</td>\n",
       "      <td>0</td>\n",
       "      <td>0</td>\n",
       "      <td>...</td>\n",
       "      <td>0</td>\n",
       "      <td>0</td>\n",
       "      <td>0</td>\n",
       "      <td>0</td>\n",
       "      <td>0</td>\n",
       "      <td>0</td>\n",
       "      <td>0</td>\n",
       "      <td>0</td>\n",
       "      <td>0</td>\n",
       "      <td>1</td>\n",
       "    </tr>\n",
       "    <tr>\n",
       "      <th>39767</th>\n",
       "      <td>59.97</td>\n",
       "      <td>0</td>\n",
       "      <td>2</td>\n",
       "      <td>1.0</td>\n",
       "      <td>1.777934</td>\n",
       "      <td>0</td>\n",
       "      <td>0</td>\n",
       "      <td>0</td>\n",
       "      <td>0</td>\n",
       "      <td>0</td>\n",
       "      <td>...</td>\n",
       "      <td>0</td>\n",
       "      <td>0</td>\n",
       "      <td>0</td>\n",
       "      <td>0</td>\n",
       "      <td>0</td>\n",
       "      <td>0</td>\n",
       "      <td>0</td>\n",
       "      <td>0</td>\n",
       "      <td>0</td>\n",
       "      <td>1</td>\n",
       "    </tr>\n",
       "    <tr>\n",
       "      <th>39768</th>\n",
       "      <td>54.97</td>\n",
       "      <td>1</td>\n",
       "      <td>2</td>\n",
       "      <td>1.0</td>\n",
       "      <td>1.740126</td>\n",
       "      <td>0</td>\n",
       "      <td>0</td>\n",
       "      <td>0</td>\n",
       "      <td>0</td>\n",
       "      <td>0</td>\n",
       "      <td>...</td>\n",
       "      <td>0</td>\n",
       "      <td>0</td>\n",
       "      <td>0</td>\n",
       "      <td>0</td>\n",
       "      <td>0</td>\n",
       "      <td>0</td>\n",
       "      <td>0</td>\n",
       "      <td>0</td>\n",
       "      <td>0</td>\n",
       "      <td>1</td>\n",
       "    </tr>\n",
       "    <tr>\n",
       "      <th>39769</th>\n",
       "      <td>90.68</td>\n",
       "      <td>0</td>\n",
       "      <td>3</td>\n",
       "      <td>1.0</td>\n",
       "      <td>1.957512</td>\n",
       "      <td>0</td>\n",
       "      <td>0</td>\n",
       "      <td>0</td>\n",
       "      <td>0</td>\n",
       "      <td>0</td>\n",
       "      <td>...</td>\n",
       "      <td>0</td>\n",
       "      <td>0</td>\n",
       "      <td>0</td>\n",
       "      <td>0</td>\n",
       "      <td>0</td>\n",
       "      <td>0</td>\n",
       "      <td>0</td>\n",
       "      <td>0</td>\n",
       "      <td>0</td>\n",
       "      <td>1</td>\n",
       "    </tr>\n",
       "    <tr>\n",
       "      <th>39770</th>\n",
       "      <td>25.00</td>\n",
       "      <td>0</td>\n",
       "      <td>1</td>\n",
       "      <td>0.0</td>\n",
       "      <td>1.397940</td>\n",
       "      <td>0</td>\n",
       "      <td>0</td>\n",
       "      <td>0</td>\n",
       "      <td>0</td>\n",
       "      <td>0</td>\n",
       "      <td>...</td>\n",
       "      <td>0</td>\n",
       "      <td>0</td>\n",
       "      <td>0</td>\n",
       "      <td>0</td>\n",
       "      <td>0</td>\n",
       "      <td>0</td>\n",
       "      <td>0</td>\n",
       "      <td>0</td>\n",
       "      <td>0</td>\n",
       "      <td>1</td>\n",
       "    </tr>\n",
       "  </tbody>\n",
       "</table>\n",
       "<p>39730 rows × 82 columns</p>\n",
       "</div>"
      ],
      "text/plain": [
       "       first_total  Marketing_first  first_items  Vendor  first_tot_lg  \\\n",
       "1           145.58                1            2     1.0      2.163102   \n",
       "2           137.55                0            5     1.0      2.138461   \n",
       "3            22.98                1            2     1.0      1.361350   \n",
       "4            28.00                0            1     0.0      1.447158   \n",
       "5            12.00                1            1     0.0      1.079181   \n",
       "...            ...              ...          ...     ...           ...   \n",
       "39766        27.98                0            2     1.0      1.446848   \n",
       "39767        59.97                0            2     1.0      1.777934   \n",
       "39768        54.97                1            2     1.0      1.740126   \n",
       "39769        90.68                0            3     1.0      1.957512   \n",
       "39770        25.00                0            1     0.0      1.397940   \n",
       "\n",
       "       aim.com  aol.com  att.net  bellsouth.net  charter.net  ...  December  \\\n",
       "1            0        0        0              0            0  ...         0   \n",
       "2            0        0        0              0            0  ...         0   \n",
       "3            0        0        0              0            0  ...         0   \n",
       "4            0        0        0              0            0  ...         0   \n",
       "5            0        0        0              0            0  ...         0   \n",
       "...        ...      ...      ...            ...          ...  ...       ...   \n",
       "39766        0        0        0              0            0  ...         0   \n",
       "39767        0        0        0              0            0  ...         0   \n",
       "39768        0        0        0              0            0  ...         0   \n",
       "39769        0        0        0              0            0  ...         0   \n",
       "39770        0        0        0              0            0  ...         0   \n",
       "\n",
       "       February  January  July  June  March  May  November  October  September  \n",
       "1             0        0     0     0      0    0         1        0          0  \n",
       "2             0        0     0     0      0    0         1        0          0  \n",
       "3             0        0     0     0      0    0         1        0          0  \n",
       "4             0        0     0     0      0    0         0        0          0  \n",
       "5             0        0     0     0      0    0         0        0          0  \n",
       "...         ...      ...   ...   ...    ...  ...       ...      ...        ...  \n",
       "39766         0        0     0     0      0    0         0        0          1  \n",
       "39767         0        0     0     0      0    0         0        0          1  \n",
       "39768         0        0     0     0      0    0         0        0          1  \n",
       "39769         0        0     0     0      0    0         0        0          1  \n",
       "39770         0        0     0     0      0    0         0        0          1  \n",
       "\n",
       "[39730 rows x 82 columns]"
      ]
     },
     "execution_count": 21,
     "metadata": {},
     "output_type": "execute_result"
    }
   ],
   "source": [
    "# Dummy for weekday\n",
    "dfs = X['mon']\n",
    "dummy_source = pd.get_dummies(dfs)\n",
    "X = pd.concat([X.drop('mon', axis=1), dummy_source], axis=1)\n",
    "X"
   ]
  },
  {
   "cell_type": "markdown",
   "metadata": {},
   "source": [
    "That looks good. Let's load Y."
   ]
  },
  {
   "cell_type": "code",
   "execution_count": 22,
   "metadata": {},
   "outputs": [
    {
     "data": {
      "text/plain": [
       "1     2.163102\n",
       "2     2.138461\n",
       "3     1.361350\n",
       "4     1.447158\n",
       "5     1.079181\n",
       "6     1.623249\n",
       "7     1.434569\n",
       "8     1.342423\n",
       "9     2.000000\n",
       "10    1.563955\n",
       "Name: life_lg, dtype: float64"
      ]
     },
     "execution_count": 22,
     "metadata": {},
     "output_type": "execute_result"
    }
   ],
   "source": [
    "# load picked version of X\n",
    "y = pickle.load(open(\"Y1.pkl\", \"rb\"))\n",
    "# look at the first 10 rows of this file\n",
    "y.head(10)"
   ]
  },
  {
   "cell_type": "code",
   "execution_count": 23,
   "metadata": {},
   "outputs": [],
   "source": [
    "# let's scale the X values\n",
    "# Here we use the StandardScaler() method of the preprocessing package, and then call the fit() method with parameter X \n",
    "scaler = preprocessing.StandardScaler().fit(X)\n",
    "# Declare a variable called X_scaled, and assign it the result of calling the transform() method with parameter X \n",
    "X_scaled=scaler.transform(X)"
   ]
  },
  {
   "cell_type": "code",
   "execution_count": 24,
   "metadata": {},
   "outputs": [],
   "source": [
    "# let's split the training and test sets\n",
    "from sklearn.model_selection import train_test_split\n",
    "\n",
    "# Get the 1-dimensional flattened array of our response variable y by calling the ravel() function on y\n",
    "y = y.ravel()\n",
    "\n",
    "# let's do the split\n",
    "X_train, X_test, y_train, y_test = train_test_split(X_scaled, y, test_size=0.20, random_state=1)"
   ]
  },
  {
   "cell_type": "code",
   "execution_count": 25,
   "metadata": {
    "scrolled": true
   },
   "outputs": [
    {
     "data": {
      "text/plain": [
       "(1.8158008483225205, 1.8162965793223824)"
      ]
     },
     "execution_count": 25,
     "metadata": {},
     "output_type": "execute_result"
    }
   ],
   "source": [
    "# let's quickly check that the Y means to make sure the data sets are similiar\n",
    "y_train.mean(), y_test.mean()"
   ]
  },
  {
   "cell_type": "markdown",
   "metadata": {},
   "source": [
    "Those look reasonably close. <br>\n",
    "<br>\n",
    "That is the end of preprocessing. Time to model. "
   ]
  },
  {
   "cell_type": "markdown",
   "metadata": {},
   "source": [
    "## II. Modeling\n",
    "We will try a few different models: <br>\n",
    "- Linear Regression\n",
    "- Random Forest Regressor\n",
    "- Dummy Model (assume every customer is average)\n",
    "- Gradient Boost Regression"
   ]
  },
  {
   "cell_type": "code",
   "execution_count": 26,
   "metadata": {},
   "outputs": [],
   "source": [
    "# create list to track model performance\n",
    "perform = pd.DataFrame(columns=['Model', 'MAE', 'MSE', 'RMSE'])"
   ]
  },
  {
   "cell_type": "markdown",
   "metadata": {},
   "source": [
    "#### Model 1: Linear Regression"
   ]
  },
  {
   "cell_type": "code",
   "execution_count": 27,
   "metadata": {},
   "outputs": [],
   "source": [
    "#first model from X-train\n",
    "from sklearn import linear_model\n",
    "from sklearn.metrics import explained_variance_score, mean_absolute_error, mean_squared_error\n",
    "lm = linear_model.LinearRegression()\n",
    "model = lm.fit(X_train,y_train)"
   ]
  },
  {
   "cell_type": "code",
   "execution_count": 28,
   "metadata": {},
   "outputs": [
    {
     "data": {
      "text/plain": [
       "50444183616.4365"
      ]
     },
     "execution_count": 28,
     "metadata": {},
     "output_type": "execute_result"
    }
   ],
   "source": [
    "# predicted results from the first model on the X_test values\n",
    "y_pred = model.predict(X_test)\n",
    "# Mean Absolute Error\n",
    "m1_MAE = mean_absolute_error(y_test, y_pred)\n",
    "m1_MAE"
   ]
  },
  {
   "cell_type": "code",
   "execution_count": 29,
   "metadata": {},
   "outputs": [
    {
     "data": {
      "text/plain": [
       "1.0109758020001125e+25"
      ]
     },
     "execution_count": 29,
     "metadata": {},
     "output_type": "execute_result"
    }
   ],
   "source": [
    "# Mean Squared Error\n",
    "m1_MSE = mean_squared_error(y_test, y_pred)\n",
    "m1_MSE"
   ]
  },
  {
   "cell_type": "markdown",
   "metadata": {},
   "source": [
    "These values seem extremely high. I want to look at some of the values in the model really quick."
   ]
  },
  {
   "cell_type": "code",
   "execution_count": 30,
   "metadata": {},
   "outputs": [
    {
     "name": "stdout",
     "output_type": "stream",
     "text": [
      "10088836725.066\n"
     ]
    }
   ],
   "source": [
    "print(lm.intercept_)"
   ]
  },
  {
   "cell_type": "markdown",
   "metadata": {},
   "source": [
    "That seems way off with linear regression. Let's see if Random Forest Regressor looks any better"
   ]
  },
  {
   "cell_type": "code",
   "execution_count": 31,
   "metadata": {},
   "outputs": [],
   "source": [
    "# root mean squared error\n",
    "m1_RMSE = m1_MSE**0.5"
   ]
  },
  {
   "cell_type": "code",
   "execution_count": 32,
   "metadata": {
    "scrolled": true
   },
   "outputs": [],
   "source": [
    "perform = perform.append({'Model':'Linear Regression', 'MAE':m1_MAE, 'MSE':m1_MSE, 'RMSE':m1_RMSE}, ignore_index=True)"
   ]
  },
  {
   "cell_type": "markdown",
   "metadata": {},
   "source": [
    "#### 2. Random Forest Regressor"
   ]
  },
  {
   "cell_type": "code",
   "execution_count": 33,
   "metadata": {},
   "outputs": [],
   "source": [
    "from sklearn.ensemble import RandomForestRegressor"
   ]
  },
  {
   "cell_type": "code",
   "execution_count": 34,
   "metadata": {},
   "outputs": [],
   "source": [
    "# using a minimum sample of 40 or 1/1000th of the total number of customers\n",
    "regr = RandomForestRegressor(min_samples_leaf=40, random_state=33)\n",
    "model_rf = regr.fit(X_train,y_train)\n",
    "y_pred_rf = regr.predict(X_test)"
   ]
  },
  {
   "cell_type": "code",
   "execution_count": 35,
   "metadata": {},
   "outputs": [
    {
     "data": {
      "text/plain": [
       "0.18474874822669013"
      ]
     },
     "execution_count": 35,
     "metadata": {},
     "output_type": "execute_result"
    }
   ],
   "source": [
    "# Mean Absolute Error\n",
    "m2_MAE = mean_absolute_error(y_test, y_pred_rf)\n",
    "m2_MAE"
   ]
  },
  {
   "cell_type": "code",
   "execution_count": 36,
   "metadata": {},
   "outputs": [
    {
     "data": {
      "text/plain": [
       "0.06807649032099493"
      ]
     },
     "execution_count": 36,
     "metadata": {},
     "output_type": "execute_result"
    }
   ],
   "source": [
    "# Mean Squared Error\n",
    "m2_MSE = mean_squared_error(y_test, y_pred_rf)\n",
    "m2_MSE"
   ]
  },
  {
   "cell_type": "code",
   "execution_count": 37,
   "metadata": {},
   "outputs": [
    {
     "data": {
      "text/plain": [
       "0.2609147184828693"
      ]
     },
     "execution_count": 37,
     "metadata": {},
     "output_type": "execute_result"
    }
   ],
   "source": [
    "# root mean squared error\n",
    "m2_RMSE = m2_MSE**0.5\n",
    "m2_RMSE"
   ]
  },
  {
   "cell_type": "markdown",
   "metadata": {},
   "source": [
    "That is so much better! <br>\n",
    "Let's look at the importance of each feature"
   ]
  },
  {
   "cell_type": "code",
   "execution_count": 38,
   "metadata": {},
   "outputs": [
    {
     "data": {
      "text/html": [
       "<div>\n",
       "<style scoped>\n",
       "    .dataframe tbody tr th:only-of-type {\n",
       "        vertical-align: middle;\n",
       "    }\n",
       "\n",
       "    .dataframe tbody tr th {\n",
       "        vertical-align: top;\n",
       "    }\n",
       "\n",
       "    .dataframe thead th {\n",
       "        text-align: right;\n",
       "    }\n",
       "</style>\n",
       "<table border=\"1\" class=\"dataframe\">\n",
       "  <thead>\n",
       "    <tr style=\"text-align: right;\">\n",
       "      <th></th>\n",
       "      <th>Importance</th>\n",
       "    </tr>\n",
       "  </thead>\n",
       "  <tbody>\n",
       "    <tr>\n",
       "      <th>first_tot_lg</th>\n",
       "      <td>0.510678</td>\n",
       "    </tr>\n",
       "    <tr>\n",
       "      <th>first_total</th>\n",
       "      <td>0.430523</td>\n",
       "    </tr>\n",
       "    <tr>\n",
       "      <th>November</th>\n",
       "      <td>0.011758</td>\n",
       "    </tr>\n",
       "    <tr>\n",
       "      <th>1356615</th>\n",
       "      <td>0.007362</td>\n",
       "    </tr>\n",
       "    <tr>\n",
       "      <th>first_items</th>\n",
       "      <td>0.003863</td>\n",
       "    </tr>\n",
       "    <tr>\n",
       "      <th>gmail.com</th>\n",
       "      <td>0.003772</td>\n",
       "    </tr>\n",
       "    <tr>\n",
       "      <th>December</th>\n",
       "      <td>0.002964</td>\n",
       "    </tr>\n",
       "    <tr>\n",
       "      <th>Marketing_first</th>\n",
       "      <td>0.002945</td>\n",
       "    </tr>\n",
       "    <tr>\n",
       "      <th>January</th>\n",
       "      <td>0.002182</td>\n",
       "    </tr>\n",
       "    <tr>\n",
       "      <th>July</th>\n",
       "      <td>0.002089</td>\n",
       "    </tr>\n",
       "    <tr>\n",
       "      <th>February</th>\n",
       "      <td>0.001909</td>\n",
       "    </tr>\n",
       "    <tr>\n",
       "      <th>ROUTEINS10</th>\n",
       "      <td>0.001543</td>\n",
       "    </tr>\n",
       "    <tr>\n",
       "      <th>April</th>\n",
       "      <td>0.001373</td>\n",
       "    </tr>\n",
       "    <tr>\n",
       "      <th>other</th>\n",
       "      <td>0.001326</td>\n",
       "    </tr>\n",
       "    <tr>\n",
       "      <th>Vendor</th>\n",
       "      <td>0.001307</td>\n",
       "    </tr>\n",
       "    <tr>\n",
       "      <th>June</th>\n",
       "      <td>0.001301</td>\n",
       "    </tr>\n",
       "    <tr>\n",
       "      <th>yahoo.com</th>\n",
       "      <td>0.001148</td>\n",
       "    </tr>\n",
       "    <tr>\n",
       "      <th>May</th>\n",
       "      <td>0.000947</td>\n",
       "    </tr>\n",
       "    <tr>\n",
       "      <th>Monday</th>\n",
       "      <td>0.000931</td>\n",
       "    </tr>\n",
       "    <tr>\n",
       "      <th>web</th>\n",
       "      <td>0.000898</td>\n",
       "    </tr>\n",
       "  </tbody>\n",
       "</table>\n",
       "</div>"
      ],
      "text/plain": [
       "                 Importance\n",
       "first_tot_lg       0.510678\n",
       "first_total        0.430523\n",
       "November           0.011758\n",
       "1356615            0.007362\n",
       "first_items        0.003863\n",
       "gmail.com          0.003772\n",
       "December           0.002964\n",
       "Marketing_first    0.002945\n",
       "January            0.002182\n",
       "July               0.002089\n",
       "February           0.001909\n",
       "ROUTEINS10         0.001543\n",
       "April              0.001373\n",
       "other              0.001326\n",
       "Vendor             0.001307\n",
       "June               0.001301\n",
       "yahoo.com          0.001148\n",
       "May                0.000947\n",
       "Monday             0.000931\n",
       "web                0.000898"
      ]
     },
     "execution_count": 38,
     "metadata": {},
     "output_type": "execute_result"
    }
   ],
   "source": [
    "coff_m2 = pd.DataFrame(model_rf.feature_importances_, X.columns, columns=['Importance'])\n",
    "coff_m2.sort_values('Importance', ascending=False).head(20)"
   ]
  },
  {
   "cell_type": "markdown",
   "metadata": {},
   "source": [
    "These are good see. <br>\n",
    "We may want to use these values to eliminate some variable from the regression model, but first let's compare the RMSE and AMSE to a dummy model that just assumes very customer is average "
   ]
  },
  {
   "cell_type": "code",
   "execution_count": 39,
   "metadata": {
    "scrolled": false
   },
   "outputs": [
    {
     "data": {
      "text/html": [
       "<div>\n",
       "<style scoped>\n",
       "    .dataframe tbody tr th:only-of-type {\n",
       "        vertical-align: middle;\n",
       "    }\n",
       "\n",
       "    .dataframe tbody tr th {\n",
       "        vertical-align: top;\n",
       "    }\n",
       "\n",
       "    .dataframe thead th {\n",
       "        text-align: right;\n",
       "    }\n",
       "</style>\n",
       "<table border=\"1\" class=\"dataframe\">\n",
       "  <thead>\n",
       "    <tr style=\"text-align: right;\">\n",
       "      <th></th>\n",
       "      <th>Importance</th>\n",
       "    </tr>\n",
       "  </thead>\n",
       "  <tbody>\n",
       "    <tr>\n",
       "      <th>BEM1007</th>\n",
       "      <td>0.0</td>\n",
       "    </tr>\n",
       "    <tr>\n",
       "      <th>me.com</th>\n",
       "      <td>0.0</td>\n",
       "    </tr>\n",
       "    <tr>\n",
       "      <th>msn.com</th>\n",
       "      <td>0.0</td>\n",
       "    </tr>\n",
       "    <tr>\n",
       "      <th>optonline.net</th>\n",
       "      <td>0.0</td>\n",
       "    </tr>\n",
       "    <tr>\n",
       "      <th>rocketmail.com</th>\n",
       "      <td>0.0</td>\n",
       "    </tr>\n",
       "    <tr>\n",
       "      <th>sbcglobal.net</th>\n",
       "      <td>0.0</td>\n",
       "    </tr>\n",
       "    <tr>\n",
       "      <th>vendor</th>\n",
       "      <td>0.0</td>\n",
       "    </tr>\n",
       "    <tr>\n",
       "      <th>mac.com</th>\n",
       "      <td>0.0</td>\n",
       "    </tr>\n",
       "    <tr>\n",
       "      <th>verizon.net</th>\n",
       "      <td>0.0</td>\n",
       "    </tr>\n",
       "    <tr>\n",
       "      <th>ymail.com</th>\n",
       "      <td>0.0</td>\n",
       "    </tr>\n",
       "    <tr>\n",
       "      <th>BES1005</th>\n",
       "      <td>0.0</td>\n",
       "    </tr>\n",
       "    <tr>\n",
       "      <th>412739</th>\n",
       "      <td>0.0</td>\n",
       "    </tr>\n",
       "    <tr>\n",
       "      <th>457101</th>\n",
       "      <td>0.0</td>\n",
       "    </tr>\n",
       "    <tr>\n",
       "      <th>580111</th>\n",
       "      <td>0.0</td>\n",
       "    </tr>\n",
       "    <tr>\n",
       "      <th>BEM1009</th>\n",
       "      <td>0.0</td>\n",
       "    </tr>\n",
       "    <tr>\n",
       "      <th>windstream.net</th>\n",
       "      <td>0.0</td>\n",
       "    </tr>\n",
       "    <tr>\n",
       "      <th>live.com</th>\n",
       "      <td>0.0</td>\n",
       "    </tr>\n",
       "    <tr>\n",
       "      <th>outlook.com</th>\n",
       "      <td>0.0</td>\n",
       "    </tr>\n",
       "    <tr>\n",
       "      <th>aim.com</th>\n",
       "      <td>0.0</td>\n",
       "    </tr>\n",
       "    <tr>\n",
       "      <th>BES5001</th>\n",
       "      <td>0.0</td>\n",
       "    </tr>\n",
       "    <tr>\n",
       "      <th>att.net</th>\n",
       "      <td>0.0</td>\n",
       "    </tr>\n",
       "    <tr>\n",
       "      <th>charter.net</th>\n",
       "      <td>0.0</td>\n",
       "    </tr>\n",
       "    <tr>\n",
       "      <th>cox.net</th>\n",
       "      <td>0.0</td>\n",
       "    </tr>\n",
       "    <tr>\n",
       "      <th>bellsouth.net</th>\n",
       "      <td>0.0</td>\n",
       "    </tr>\n",
       "    <tr>\n",
       "      <th>BES3003</th>\n",
       "      <td>0.0</td>\n",
       "    </tr>\n",
       "  </tbody>\n",
       "</table>\n",
       "</div>"
      ],
      "text/plain": [
       "                Importance\n",
       "BEM1007                0.0\n",
       "me.com                 0.0\n",
       "msn.com                0.0\n",
       "optonline.net          0.0\n",
       "rocketmail.com         0.0\n",
       "sbcglobal.net          0.0\n",
       "vendor                 0.0\n",
       "mac.com                0.0\n",
       "verizon.net            0.0\n",
       "ymail.com              0.0\n",
       "BES1005                0.0\n",
       "412739                 0.0\n",
       "457101                 0.0\n",
       "580111                 0.0\n",
       "BEM1009                0.0\n",
       "windstream.net         0.0\n",
       "live.com               0.0\n",
       "outlook.com            0.0\n",
       "aim.com                0.0\n",
       "BES5001                0.0\n",
       "att.net                0.0\n",
       "charter.net            0.0\n",
       "cox.net                0.0\n",
       "bellsouth.net          0.0\n",
       "BES3003                0.0"
      ]
     },
     "execution_count": 39,
     "metadata": {},
     "output_type": "execute_result"
    }
   ],
   "source": [
    "# find the least important values\n",
    "m2_unimportant = coff_m2.sort_values('Importance', ascending=True).head(25)\n",
    "m2_unimportant"
   ]
  },
  {
   "cell_type": "markdown",
   "metadata": {},
   "source": [
    "All of these features have literally no importance on this Random Forest Regressor. We will use these later to drop from the features so that we can build a model that works with the important features only and doesn't waste time on these features."
   ]
  },
  {
   "cell_type": "code",
   "execution_count": 40,
   "metadata": {},
   "outputs": [],
   "source": [
    "perform = perform.append({'Model':'Random Forest 1', 'MAE':m2_MAE, 'MSE':m2_MSE, 'RMSE':m2_RMSE}, ignore_index=True)"
   ]
  },
  {
   "cell_type": "markdown",
   "metadata": {},
   "source": [
    "#### 3. Dummy Model (average)"
   ]
  },
  {
   "cell_type": "code",
   "execution_count": 41,
   "metadata": {},
   "outputs": [
    {
     "data": {
      "text/plain": [
       "0.29065108266816125"
      ]
     },
     "execution_count": 41,
     "metadata": {},
     "output_type": "execute_result"
    }
   ],
   "source": [
    "# assume the model is the average of the training data (we know this value)\n",
    "y_pred_dm = np.full(y_test.size, y_train.mean())\n",
    "# Mean Absolute Error\n",
    "m3_MAE = mean_absolute_error(y_test, y_pred_dm)\n",
    "m3_MAE"
   ]
  },
  {
   "cell_type": "code",
   "execution_count": 42,
   "metadata": {},
   "outputs": [
    {
     "data": {
      "text/plain": [
       "0.14451655741084168"
      ]
     },
     "execution_count": 42,
     "metadata": {},
     "output_type": "execute_result"
    }
   ],
   "source": [
    "# Mean Squared Error\n",
    "m3_MSE = mean_squared_error(y_test, y_pred_dm)\n",
    "m3_MSE"
   ]
  },
  {
   "cell_type": "code",
   "execution_count": 43,
   "metadata": {},
   "outputs": [
    {
     "data": {
      "text/plain": [
       "0.38015333407829227"
      ]
     },
     "execution_count": 43,
     "metadata": {},
     "output_type": "execute_result"
    }
   ],
   "source": [
    "# root mean squared error\n",
    "m3_RMSE = m3_MSE**0.5\n",
    "m3_RMSE"
   ]
  },
  {
   "cell_type": "markdown",
   "metadata": {},
   "source": [
    "These are worse than the Random Forest Regressor, so that's a good thing"
   ]
  },
  {
   "cell_type": "code",
   "execution_count": 44,
   "metadata": {},
   "outputs": [
    {
     "data": {
      "text/plain": [
       "0.11923861559542298"
      ]
     },
     "execution_count": 44,
     "metadata": {},
     "output_type": "execute_result"
    }
   ],
   "source": [
    "# difference in root mean squared error between the two models\n",
    "diff = m3_RMSE - m2_RMSE\n",
    "diff"
   ]
  },
  {
   "cell_type": "code",
   "execution_count": 45,
   "metadata": {},
   "outputs": [
    {
     "data": {
      "text/plain": [
       "1.3159476582939336"
      ]
     },
     "execution_count": 45,
     "metadata": {},
     "output_type": "execute_result"
    }
   ],
   "source": [
    "# lifetime dollar value of that difference\n",
    "10**diff"
   ]
  },
  {
   "cell_type": "markdown",
   "metadata": {},
   "source": [
    "That is honestly not that impressive, but is still better than the dummy model. <br>\n",
    "<br>\n",
    "Let's see if we can use those results to improve the models after we try the Gradient Boosting Regression"
   ]
  },
  {
   "cell_type": "code",
   "execution_count": 46,
   "metadata": {},
   "outputs": [],
   "source": [
    "perform = perform.append({'Model':'Dummy Model (average)', 'MAE':m3_MAE, 'MSE':m3_MSE, 'RMSE':m3_RMSE}, ignore_index=True)"
   ]
  },
  {
   "cell_type": "markdown",
   "metadata": {},
   "source": [
    "#### 4. Gradient Boosting Regression"
   ]
  },
  {
   "cell_type": "code",
   "execution_count": 47,
   "metadata": {},
   "outputs": [],
   "source": [
    "from sklearn.ensemble import GradientBoostingRegressor"
   ]
  },
  {
   "cell_type": "code",
   "execution_count": 48,
   "metadata": {},
   "outputs": [
    {
     "data": {
      "text/plain": [
       "0.18474874822669013"
      ]
     },
     "execution_count": 48,
     "metadata": {},
     "output_type": "execute_result"
    }
   ],
   "source": [
    "# create regressor\n",
    "reg_gb = GradientBoostingRegressor(min_samples_leaf=40, random_state=0)\n",
    "# fit the regressor\n",
    "model_gb = reg_gb.fit(X_train,y_train)\n",
    "# use regressor to predict on test data\n",
    "y_pred_gb = regr.predict(X_test)\n",
    "# compare test data for a score - Mean Absolute Error\n",
    "m4_MAE = mean_absolute_error(y_test, y_pred_gb)\n",
    "m4_MAE"
   ]
  },
  {
   "cell_type": "code",
   "execution_count": 49,
   "metadata": {},
   "outputs": [
    {
     "data": {
      "text/plain": [
       "0.06807649032099493"
      ]
     },
     "execution_count": 49,
     "metadata": {},
     "output_type": "execute_result"
    }
   ],
   "source": [
    "# Mean Squared Error\n",
    "m4_MSE = mean_squared_error(y_test, y_pred_gb)\n",
    "m4_MSE"
   ]
  },
  {
   "cell_type": "code",
   "execution_count": 50,
   "metadata": {},
   "outputs": [
    {
     "data": {
      "text/plain": [
       "0.2609147184828693"
      ]
     },
     "execution_count": 50,
     "metadata": {},
     "output_type": "execute_result"
    }
   ],
   "source": [
    "# root mean squared error\n",
    "m4_RMSE = m4_MSE**0.5\n",
    "m4_RMSE"
   ]
  },
  {
   "cell_type": "markdown",
   "metadata": {},
   "source": [
    "These results are extremely good; they are very similar to the results from the Random Forest Regressor. We probably should improve these two models to get the best results. Let's look at the importance of each feature in the GB Regressor"
   ]
  },
  {
   "cell_type": "code",
   "execution_count": 51,
   "metadata": {
    "scrolled": false
   },
   "outputs": [
    {
     "data": {
      "text/html": [
       "<div>\n",
       "<style scoped>\n",
       "    .dataframe tbody tr th:only-of-type {\n",
       "        vertical-align: middle;\n",
       "    }\n",
       "\n",
       "    .dataframe tbody tr th {\n",
       "        vertical-align: top;\n",
       "    }\n",
       "\n",
       "    .dataframe thead th {\n",
       "        text-align: right;\n",
       "    }\n",
       "</style>\n",
       "<table border=\"1\" class=\"dataframe\">\n",
       "  <thead>\n",
       "    <tr style=\"text-align: right;\">\n",
       "      <th></th>\n",
       "      <th>Importance</th>\n",
       "    </tr>\n",
       "  </thead>\n",
       "  <tbody>\n",
       "    <tr>\n",
       "      <th>first_tot_lg</th>\n",
       "      <td>0.523446</td>\n",
       "    </tr>\n",
       "    <tr>\n",
       "      <th>first_total</th>\n",
       "      <td>0.424205</td>\n",
       "    </tr>\n",
       "    <tr>\n",
       "      <th>November</th>\n",
       "      <td>0.010217</td>\n",
       "    </tr>\n",
       "    <tr>\n",
       "      <th>1356615</th>\n",
       "      <td>0.006939</td>\n",
       "    </tr>\n",
       "    <tr>\n",
       "      <th>first_items</th>\n",
       "      <td>0.004168</td>\n",
       "    </tr>\n",
       "    <tr>\n",
       "      <th>294517</th>\n",
       "      <td>0.004014</td>\n",
       "    </tr>\n",
       "    <tr>\n",
       "      <th>457101</th>\n",
       "      <td>0.002968</td>\n",
       "    </tr>\n",
       "    <tr>\n",
       "      <th>July</th>\n",
       "      <td>0.002540</td>\n",
       "    </tr>\n",
       "    <tr>\n",
       "      <th>BES1011</th>\n",
       "      <td>0.002495</td>\n",
       "    </tr>\n",
       "    <tr>\n",
       "      <th>December</th>\n",
       "      <td>0.002075</td>\n",
       "    </tr>\n",
       "    <tr>\n",
       "      <th>September</th>\n",
       "      <td>0.001886</td>\n",
       "    </tr>\n",
       "    <tr>\n",
       "      <th>August</th>\n",
       "      <td>0.001499</td>\n",
       "    </tr>\n",
       "    <tr>\n",
       "      <th>other</th>\n",
       "      <td>0.001423</td>\n",
       "    </tr>\n",
       "    <tr>\n",
       "      <th>February</th>\n",
       "      <td>0.001276</td>\n",
       "    </tr>\n",
       "    <tr>\n",
       "      <th>custom</th>\n",
       "      <td>0.001168</td>\n",
       "    </tr>\n",
       "    <tr>\n",
       "      <th>BES1010</th>\n",
       "      <td>0.001147</td>\n",
       "    </tr>\n",
       "    <tr>\n",
       "      <th>October</th>\n",
       "      <td>0.001008</td>\n",
       "    </tr>\n",
       "    <tr>\n",
       "      <th>ROUTEINS10</th>\n",
       "      <td>0.000985</td>\n",
       "    </tr>\n",
       "    <tr>\n",
       "      <th>June</th>\n",
       "      <td>0.000936</td>\n",
       "    </tr>\n",
       "    <tr>\n",
       "      <th>January</th>\n",
       "      <td>0.000815</td>\n",
       "    </tr>\n",
       "  </tbody>\n",
       "</table>\n",
       "</div>"
      ],
      "text/plain": [
       "              Importance\n",
       "first_tot_lg    0.523446\n",
       "first_total     0.424205\n",
       "November        0.010217\n",
       "1356615         0.006939\n",
       "first_items     0.004168\n",
       "294517          0.004014\n",
       "457101          0.002968\n",
       "July            0.002540\n",
       "BES1011         0.002495\n",
       "December        0.002075\n",
       "September       0.001886\n",
       "August          0.001499\n",
       "other           0.001423\n",
       "February        0.001276\n",
       "custom          0.001168\n",
       "BES1010         0.001147\n",
       "October         0.001008\n",
       "ROUTEINS10      0.000985\n",
       "June            0.000936\n",
       "January         0.000815"
      ]
     },
     "execution_count": 51,
     "metadata": {},
     "output_type": "execute_result"
    }
   ],
   "source": [
    "coff_m4 = pd.DataFrame(model_gb.feature_importances_, X.columns, columns=['Importance'])\n",
    "coff_m4.sort_values('Importance', ascending=False).head(20)"
   ]
  },
  {
   "cell_type": "code",
   "execution_count": 52,
   "metadata": {},
   "outputs": [
    {
     "data": {
      "text/html": [
       "<div>\n",
       "<style scoped>\n",
       "    .dataframe tbody tr th:only-of-type {\n",
       "        vertical-align: middle;\n",
       "    }\n",
       "\n",
       "    .dataframe tbody tr th {\n",
       "        vertical-align: top;\n",
       "    }\n",
       "\n",
       "    .dataframe thead th {\n",
       "        text-align: right;\n",
       "    }\n",
       "</style>\n",
       "<table border=\"1\" class=\"dataframe\">\n",
       "  <thead>\n",
       "    <tr style=\"text-align: right;\">\n",
       "      <th></th>\n",
       "      <th>Importance</th>\n",
       "    </tr>\n",
       "  </thead>\n",
       "  <tbody>\n",
       "    <tr>\n",
       "      <th>BEM1007</th>\n",
       "      <td>0.0</td>\n",
       "    </tr>\n",
       "    <tr>\n",
       "      <th>vendor</th>\n",
       "      <td>0.0</td>\n",
       "    </tr>\n",
       "    <tr>\n",
       "      <th>verizon.net</th>\n",
       "      <td>0.0</td>\n",
       "    </tr>\n",
       "    <tr>\n",
       "      <th>windstream.net</th>\n",
       "      <td>0.0</td>\n",
       "    </tr>\n",
       "    <tr>\n",
       "      <th>yahoo.com</th>\n",
       "      <td>0.0</td>\n",
       "    </tr>\n",
       "    <tr>\n",
       "      <th>ymail.com</th>\n",
       "      <td>0.0</td>\n",
       "    </tr>\n",
       "    <tr>\n",
       "      <th>412739</th>\n",
       "      <td>0.0</td>\n",
       "    </tr>\n",
       "    <tr>\n",
       "      <th>BEM6008</th>\n",
       "      <td>0.0</td>\n",
       "    </tr>\n",
       "    <tr>\n",
       "      <th>BEM6728</th>\n",
       "      <td>0.0</td>\n",
       "    </tr>\n",
       "    <tr>\n",
       "      <th>BEM6729</th>\n",
       "      <td>0.0</td>\n",
       "    </tr>\n",
       "    <tr>\n",
       "      <th>sbcglobal.net</th>\n",
       "      <td>0.0</td>\n",
       "    </tr>\n",
       "    <tr>\n",
       "      <th>BEM6737</th>\n",
       "      <td>0.0</td>\n",
       "    </tr>\n",
       "    <tr>\n",
       "      <th>BEM6739</th>\n",
       "      <td>0.0</td>\n",
       "    </tr>\n",
       "    <tr>\n",
       "      <th>BES1005</th>\n",
       "      <td>0.0</td>\n",
       "    </tr>\n",
       "    <tr>\n",
       "      <th>BES3003</th>\n",
       "      <td>0.0</td>\n",
       "    </tr>\n",
       "    <tr>\n",
       "      <th>BES5001</th>\n",
       "      <td>0.0</td>\n",
       "    </tr>\n",
       "    <tr>\n",
       "      <th>ROUTEINS18</th>\n",
       "      <td>0.0</td>\n",
       "    </tr>\n",
       "    <tr>\n",
       "      <th>ROUTEINS19</th>\n",
       "      <td>0.0</td>\n",
       "    </tr>\n",
       "    <tr>\n",
       "      <th>ROUTEINS22</th>\n",
       "      <td>0.0</td>\n",
       "    </tr>\n",
       "    <tr>\n",
       "      <th>Friday</th>\n",
       "      <td>0.0</td>\n",
       "    </tr>\n",
       "    <tr>\n",
       "      <th>Saturday</th>\n",
       "      <td>0.0</td>\n",
       "    </tr>\n",
       "    <tr>\n",
       "      <th>BEM6738</th>\n",
       "      <td>0.0</td>\n",
       "    </tr>\n",
       "    <tr>\n",
       "      <th>rocketmail.com</th>\n",
       "      <td>0.0</td>\n",
       "    </tr>\n",
       "    <tr>\n",
       "      <th>580111</th>\n",
       "      <td>0.0</td>\n",
       "    </tr>\n",
       "    <tr>\n",
       "      <th>optonline.net</th>\n",
       "      <td>0.0</td>\n",
       "    </tr>\n",
       "    <tr>\n",
       "      <th>earthlink.net</th>\n",
       "      <td>0.0</td>\n",
       "    </tr>\n",
       "    <tr>\n",
       "      <th>charter.net</th>\n",
       "      <td>0.0</td>\n",
       "    </tr>\n",
       "    <tr>\n",
       "      <th>bellsouth.net</th>\n",
       "      <td>0.0</td>\n",
       "    </tr>\n",
       "    <tr>\n",
       "      <th>att.net</th>\n",
       "      <td>0.0</td>\n",
       "    </tr>\n",
       "    <tr>\n",
       "      <th>outlook.com</th>\n",
       "      <td>0.0</td>\n",
       "    </tr>\n",
       "    <tr>\n",
       "      <th>aim.com</th>\n",
       "      <td>0.0</td>\n",
       "    </tr>\n",
       "    <tr>\n",
       "      <th>hold</th>\n",
       "      <td>0.0</td>\n",
       "    </tr>\n",
       "    <tr>\n",
       "      <th>aol.com</th>\n",
       "      <td>0.0</td>\n",
       "    </tr>\n",
       "    <tr>\n",
       "      <th>icloud.com</th>\n",
       "      <td>0.0</td>\n",
       "    </tr>\n",
       "    <tr>\n",
       "      <th>live.com</th>\n",
       "      <td>0.0</td>\n",
       "    </tr>\n",
       "    <tr>\n",
       "      <th>mac.com</th>\n",
       "      <td>0.0</td>\n",
       "    </tr>\n",
       "    <tr>\n",
       "      <th>me.com</th>\n",
       "      <td>0.0</td>\n",
       "    </tr>\n",
       "    <tr>\n",
       "      <th>msn.com</th>\n",
       "      <td>0.0</td>\n",
       "    </tr>\n",
       "    <tr>\n",
       "      <th>comcast.net</th>\n",
       "      <td>0.0</td>\n",
       "    </tr>\n",
       "  </tbody>\n",
       "</table>\n",
       "</div>"
      ],
      "text/plain": [
       "                Importance\n",
       "BEM1007                0.0\n",
       "vendor                 0.0\n",
       "verizon.net            0.0\n",
       "windstream.net         0.0\n",
       "yahoo.com              0.0\n",
       "ymail.com              0.0\n",
       "412739                 0.0\n",
       "BEM6008                0.0\n",
       "BEM6728                0.0\n",
       "BEM6729                0.0\n",
       "sbcglobal.net          0.0\n",
       "BEM6737                0.0\n",
       "BEM6739                0.0\n",
       "BES1005                0.0\n",
       "BES3003                0.0\n",
       "BES5001                0.0\n",
       "ROUTEINS18             0.0\n",
       "ROUTEINS19             0.0\n",
       "ROUTEINS22             0.0\n",
       "Friday                 0.0\n",
       "Saturday               0.0\n",
       "BEM6738                0.0\n",
       "rocketmail.com         0.0\n",
       "580111                 0.0\n",
       "optonline.net          0.0\n",
       "earthlink.net          0.0\n",
       "charter.net            0.0\n",
       "bellsouth.net          0.0\n",
       "att.net                0.0\n",
       "outlook.com            0.0\n",
       "aim.com                0.0\n",
       "hold                   0.0\n",
       "aol.com                0.0\n",
       "icloud.com             0.0\n",
       "live.com               0.0\n",
       "mac.com                0.0\n",
       "me.com                 0.0\n",
       "msn.com                0.0\n",
       "comcast.net            0.0"
      ]
     },
     "execution_count": 52,
     "metadata": {},
     "output_type": "execute_result"
    }
   ],
   "source": [
    "# find the LEAST important features and eliminate those features from the X data set; then run the models again\n",
    "m4_unimportant = coff_m4.sort_values('Importance', ascending=True).head(39)\n",
    "m4_unimportant"
   ]
  },
  {
   "cell_type": "markdown",
   "metadata": {},
   "source": [
    "All of these features have literally no importance on this Gradient Boosting Regressor. We will use these to drop the features so that we can build a model that works with the important features only and doesn't waste time on these features."
   ]
  },
  {
   "cell_type": "code",
   "execution_count": 53,
   "metadata": {},
   "outputs": [
    {
     "data": {
      "text/html": [
       "<div>\n",
       "<style scoped>\n",
       "    .dataframe tbody tr th:only-of-type {\n",
       "        vertical-align: middle;\n",
       "    }\n",
       "\n",
       "    .dataframe tbody tr th {\n",
       "        vertical-align: top;\n",
       "    }\n",
       "\n",
       "    .dataframe thead th {\n",
       "        text-align: right;\n",
       "    }\n",
       "</style>\n",
       "<table border=\"1\" class=\"dataframe\">\n",
       "  <thead>\n",
       "    <tr style=\"text-align: right;\">\n",
       "      <th></th>\n",
       "      <th>Model</th>\n",
       "      <th>MAE</th>\n",
       "      <th>MSE</th>\n",
       "      <th>RMSE</th>\n",
       "    </tr>\n",
       "  </thead>\n",
       "  <tbody>\n",
       "    <tr>\n",
       "      <th>0</th>\n",
       "      <td>Linear Regression</td>\n",
       "      <td>5.044418e+10</td>\n",
       "      <td>1.010976e+25</td>\n",
       "      <td>3.179585e+12</td>\n",
       "    </tr>\n",
       "    <tr>\n",
       "      <th>1</th>\n",
       "      <td>Random Forest 1</td>\n",
       "      <td>1.847487e-01</td>\n",
       "      <td>6.807649e-02</td>\n",
       "      <td>2.609147e-01</td>\n",
       "    </tr>\n",
       "    <tr>\n",
       "      <th>2</th>\n",
       "      <td>Dummy Model (average)</td>\n",
       "      <td>2.906511e-01</td>\n",
       "      <td>1.445166e-01</td>\n",
       "      <td>3.801533e-01</td>\n",
       "    </tr>\n",
       "    <tr>\n",
       "      <th>3</th>\n",
       "      <td>Gradient Boost 1</td>\n",
       "      <td>1.847487e-01</td>\n",
       "      <td>6.807649e-02</td>\n",
       "      <td>2.609147e-01</td>\n",
       "    </tr>\n",
       "  </tbody>\n",
       "</table>\n",
       "</div>"
      ],
      "text/plain": [
       "                   Model           MAE           MSE          RMSE\n",
       "0      Linear Regression  5.044418e+10  1.010976e+25  3.179585e+12\n",
       "1        Random Forest 1  1.847487e-01  6.807649e-02  2.609147e-01\n",
       "2  Dummy Model (average)  2.906511e-01  1.445166e-01  3.801533e-01\n",
       "3       Gradient Boost 1  1.847487e-01  6.807649e-02  2.609147e-01"
      ]
     },
     "execution_count": 53,
     "metadata": {},
     "output_type": "execute_result"
    }
   ],
   "source": [
    "perform = perform.append({'Model':'Gradient Boost 1', 'MAE':m4_MAE, 'MSE':m4_MSE, 'RMSE':m4_RMSE}, ignore_index=True)\n",
    "perform"
   ]
  },
  {
   "cell_type": "markdown",
   "metadata": {},
   "source": [
    "### III. Remove unimportant features\n",
    "The results from the first round of modeling were good, but there was a lot of unimportant features that were still considered by the models. Let's eliminate those features and see if we the models perform better."
   ]
  },
  {
   "cell_type": "code",
   "execution_count": 54,
   "metadata": {
    "scrolled": true
   },
   "outputs": [
    {
     "data": {
      "text/html": [
       "<div>\n",
       "<style scoped>\n",
       "    .dataframe tbody tr th:only-of-type {\n",
       "        vertical-align: middle;\n",
       "    }\n",
       "\n",
       "    .dataframe tbody tr th {\n",
       "        vertical-align: top;\n",
       "    }\n",
       "\n",
       "    .dataframe thead th {\n",
       "        text-align: right;\n",
       "    }\n",
       "</style>\n",
       "<table border=\"1\" class=\"dataframe\">\n",
       "  <thead>\n",
       "    <tr style=\"text-align: right;\">\n",
       "      <th></th>\n",
       "      <th>first_total</th>\n",
       "      <th>Marketing_first</th>\n",
       "      <th>first_items</th>\n",
       "      <th>Vendor</th>\n",
       "      <th>first_tot_lg</th>\n",
       "      <th>custom</th>\n",
       "      <th>gmail.com</th>\n",
       "      <th>hotmail.com</th>\n",
       "      <th>1356615</th>\n",
       "      <th>294517</th>\n",
       "      <th>...</th>\n",
       "      <th>December</th>\n",
       "      <th>February</th>\n",
       "      <th>January</th>\n",
       "      <th>July</th>\n",
       "      <th>June</th>\n",
       "      <th>March</th>\n",
       "      <th>May</th>\n",
       "      <th>November</th>\n",
       "      <th>October</th>\n",
       "      <th>September</th>\n",
       "    </tr>\n",
       "  </thead>\n",
       "  <tbody>\n",
       "    <tr>\n",
       "      <th>1</th>\n",
       "      <td>145.58</td>\n",
       "      <td>1</td>\n",
       "      <td>2</td>\n",
       "      <td>1.0</td>\n",
       "      <td>2.163102</td>\n",
       "      <td>1</td>\n",
       "      <td>0</td>\n",
       "      <td>0</td>\n",
       "      <td>0</td>\n",
       "      <td>0</td>\n",
       "      <td>...</td>\n",
       "      <td>0</td>\n",
       "      <td>0</td>\n",
       "      <td>0</td>\n",
       "      <td>0</td>\n",
       "      <td>0</td>\n",
       "      <td>0</td>\n",
       "      <td>0</td>\n",
       "      <td>1</td>\n",
       "      <td>0</td>\n",
       "      <td>0</td>\n",
       "    </tr>\n",
       "    <tr>\n",
       "      <th>2</th>\n",
       "      <td>137.55</td>\n",
       "      <td>0</td>\n",
       "      <td>5</td>\n",
       "      <td>1.0</td>\n",
       "      <td>2.138461</td>\n",
       "      <td>1</td>\n",
       "      <td>0</td>\n",
       "      <td>0</td>\n",
       "      <td>0</td>\n",
       "      <td>0</td>\n",
       "      <td>...</td>\n",
       "      <td>0</td>\n",
       "      <td>0</td>\n",
       "      <td>0</td>\n",
       "      <td>0</td>\n",
       "      <td>0</td>\n",
       "      <td>0</td>\n",
       "      <td>0</td>\n",
       "      <td>1</td>\n",
       "      <td>0</td>\n",
       "      <td>0</td>\n",
       "    </tr>\n",
       "    <tr>\n",
       "      <th>3</th>\n",
       "      <td>22.98</td>\n",
       "      <td>1</td>\n",
       "      <td>2</td>\n",
       "      <td>1.0</td>\n",
       "      <td>1.361350</td>\n",
       "      <td>1</td>\n",
       "      <td>0</td>\n",
       "      <td>0</td>\n",
       "      <td>0</td>\n",
       "      <td>0</td>\n",
       "      <td>...</td>\n",
       "      <td>0</td>\n",
       "      <td>0</td>\n",
       "      <td>0</td>\n",
       "      <td>0</td>\n",
       "      <td>0</td>\n",
       "      <td>0</td>\n",
       "      <td>0</td>\n",
       "      <td>1</td>\n",
       "      <td>0</td>\n",
       "      <td>0</td>\n",
       "    </tr>\n",
       "    <tr>\n",
       "      <th>4</th>\n",
       "      <td>28.00</td>\n",
       "      <td>0</td>\n",
       "      <td>1</td>\n",
       "      <td>0.0</td>\n",
       "      <td>1.447158</td>\n",
       "      <td>1</td>\n",
       "      <td>0</td>\n",
       "      <td>0</td>\n",
       "      <td>0</td>\n",
       "      <td>0</td>\n",
       "      <td>...</td>\n",
       "      <td>0</td>\n",
       "      <td>0</td>\n",
       "      <td>0</td>\n",
       "      <td>0</td>\n",
       "      <td>0</td>\n",
       "      <td>0</td>\n",
       "      <td>0</td>\n",
       "      <td>0</td>\n",
       "      <td>0</td>\n",
       "      <td>0</td>\n",
       "    </tr>\n",
       "    <tr>\n",
       "      <th>5</th>\n",
       "      <td>12.00</td>\n",
       "      <td>1</td>\n",
       "      <td>1</td>\n",
       "      <td>0.0</td>\n",
       "      <td>1.079181</td>\n",
       "      <td>1</td>\n",
       "      <td>0</td>\n",
       "      <td>0</td>\n",
       "      <td>0</td>\n",
       "      <td>0</td>\n",
       "      <td>...</td>\n",
       "      <td>0</td>\n",
       "      <td>0</td>\n",
       "      <td>0</td>\n",
       "      <td>0</td>\n",
       "      <td>0</td>\n",
       "      <td>0</td>\n",
       "      <td>0</td>\n",
       "      <td>0</td>\n",
       "      <td>0</td>\n",
       "      <td>0</td>\n",
       "    </tr>\n",
       "    <tr>\n",
       "      <th>...</th>\n",
       "      <td>...</td>\n",
       "      <td>...</td>\n",
       "      <td>...</td>\n",
       "      <td>...</td>\n",
       "      <td>...</td>\n",
       "      <td>...</td>\n",
       "      <td>...</td>\n",
       "      <td>...</td>\n",
       "      <td>...</td>\n",
       "      <td>...</td>\n",
       "      <td>...</td>\n",
       "      <td>...</td>\n",
       "      <td>...</td>\n",
       "      <td>...</td>\n",
       "      <td>...</td>\n",
       "      <td>...</td>\n",
       "      <td>...</td>\n",
       "      <td>...</td>\n",
       "      <td>...</td>\n",
       "      <td>...</td>\n",
       "      <td>...</td>\n",
       "    </tr>\n",
       "    <tr>\n",
       "      <th>39766</th>\n",
       "      <td>27.98</td>\n",
       "      <td>0</td>\n",
       "      <td>2</td>\n",
       "      <td>1.0</td>\n",
       "      <td>1.446848</td>\n",
       "      <td>0</td>\n",
       "      <td>1</td>\n",
       "      <td>0</td>\n",
       "      <td>0</td>\n",
       "      <td>0</td>\n",
       "      <td>...</td>\n",
       "      <td>0</td>\n",
       "      <td>0</td>\n",
       "      <td>0</td>\n",
       "      <td>0</td>\n",
       "      <td>0</td>\n",
       "      <td>0</td>\n",
       "      <td>0</td>\n",
       "      <td>0</td>\n",
       "      <td>0</td>\n",
       "      <td>1</td>\n",
       "    </tr>\n",
       "    <tr>\n",
       "      <th>39767</th>\n",
       "      <td>59.97</td>\n",
       "      <td>0</td>\n",
       "      <td>2</td>\n",
       "      <td>1.0</td>\n",
       "      <td>1.777934</td>\n",
       "      <td>0</td>\n",
       "      <td>1</td>\n",
       "      <td>0</td>\n",
       "      <td>0</td>\n",
       "      <td>0</td>\n",
       "      <td>...</td>\n",
       "      <td>0</td>\n",
       "      <td>0</td>\n",
       "      <td>0</td>\n",
       "      <td>0</td>\n",
       "      <td>0</td>\n",
       "      <td>0</td>\n",
       "      <td>0</td>\n",
       "      <td>0</td>\n",
       "      <td>0</td>\n",
       "      <td>1</td>\n",
       "    </tr>\n",
       "    <tr>\n",
       "      <th>39768</th>\n",
       "      <td>54.97</td>\n",
       "      <td>1</td>\n",
       "      <td>2</td>\n",
       "      <td>1.0</td>\n",
       "      <td>1.740126</td>\n",
       "      <td>0</td>\n",
       "      <td>1</td>\n",
       "      <td>0</td>\n",
       "      <td>0</td>\n",
       "      <td>0</td>\n",
       "      <td>...</td>\n",
       "      <td>0</td>\n",
       "      <td>0</td>\n",
       "      <td>0</td>\n",
       "      <td>0</td>\n",
       "      <td>0</td>\n",
       "      <td>0</td>\n",
       "      <td>0</td>\n",
       "      <td>0</td>\n",
       "      <td>0</td>\n",
       "      <td>1</td>\n",
       "    </tr>\n",
       "    <tr>\n",
       "      <th>39769</th>\n",
       "      <td>90.68</td>\n",
       "      <td>0</td>\n",
       "      <td>3</td>\n",
       "      <td>1.0</td>\n",
       "      <td>1.957512</td>\n",
       "      <td>0</td>\n",
       "      <td>1</td>\n",
       "      <td>0</td>\n",
       "      <td>0</td>\n",
       "      <td>0</td>\n",
       "      <td>...</td>\n",
       "      <td>0</td>\n",
       "      <td>0</td>\n",
       "      <td>0</td>\n",
       "      <td>0</td>\n",
       "      <td>0</td>\n",
       "      <td>0</td>\n",
       "      <td>0</td>\n",
       "      <td>0</td>\n",
       "      <td>0</td>\n",
       "      <td>1</td>\n",
       "    </tr>\n",
       "    <tr>\n",
       "      <th>39770</th>\n",
       "      <td>25.00</td>\n",
       "      <td>0</td>\n",
       "      <td>1</td>\n",
       "      <td>0.0</td>\n",
       "      <td>1.397940</td>\n",
       "      <td>0</td>\n",
       "      <td>1</td>\n",
       "      <td>0</td>\n",
       "      <td>0</td>\n",
       "      <td>0</td>\n",
       "      <td>...</td>\n",
       "      <td>0</td>\n",
       "      <td>0</td>\n",
       "      <td>0</td>\n",
       "      <td>0</td>\n",
       "      <td>0</td>\n",
       "      <td>0</td>\n",
       "      <td>0</td>\n",
       "      <td>0</td>\n",
       "      <td>0</td>\n",
       "      <td>1</td>\n",
       "    </tr>\n",
       "  </tbody>\n",
       "</table>\n",
       "<p>39730 rows × 40 columns</p>\n",
       "</div>"
      ],
      "text/plain": [
       "       first_total  Marketing_first  first_items  Vendor  first_tot_lg  \\\n",
       "1           145.58                1            2     1.0      2.163102   \n",
       "2           137.55                0            5     1.0      2.138461   \n",
       "3            22.98                1            2     1.0      1.361350   \n",
       "4            28.00                0            1     0.0      1.447158   \n",
       "5            12.00                1            1     0.0      1.079181   \n",
       "...            ...              ...          ...     ...           ...   \n",
       "39766        27.98                0            2     1.0      1.446848   \n",
       "39767        59.97                0            2     1.0      1.777934   \n",
       "39768        54.97                1            2     1.0      1.740126   \n",
       "39769        90.68                0            3     1.0      1.957512   \n",
       "39770        25.00                0            1     0.0      1.397940   \n",
       "\n",
       "       custom  gmail.com  hotmail.com  1356615  294517  ...  December  \\\n",
       "1           1          0            0        0       0  ...         0   \n",
       "2           1          0            0        0       0  ...         0   \n",
       "3           1          0            0        0       0  ...         0   \n",
       "4           1          0            0        0       0  ...         0   \n",
       "5           1          0            0        0       0  ...         0   \n",
       "...       ...        ...          ...      ...     ...  ...       ...   \n",
       "39766       0          1            0        0       0  ...         0   \n",
       "39767       0          1            0        0       0  ...         0   \n",
       "39768       0          1            0        0       0  ...         0   \n",
       "39769       0          1            0        0       0  ...         0   \n",
       "39770       0          1            0        0       0  ...         0   \n",
       "\n",
       "       February  January  July  June  March  May  November  October  September  \n",
       "1             0        0     0     0      0    0         1        0          0  \n",
       "2             0        0     0     0      0    0         1        0          0  \n",
       "3             0        0     0     0      0    0         1        0          0  \n",
       "4             0        0     0     0      0    0         0        0          0  \n",
       "5             0        0     0     0      0    0         0        0          0  \n",
       "...         ...      ...   ...   ...    ...  ...       ...      ...        ...  \n",
       "39766         0        0     0     0      0    0         0        0          1  \n",
       "39767         0        0     0     0      0    0         0        0          1  \n",
       "39768         0        0     0     0      0    0         0        0          1  \n",
       "39769         0        0     0     0      0    0         0        0          1  \n",
       "39770         0        0     0     0      0    0         0        0          1  \n",
       "\n",
       "[39730 rows x 40 columns]"
      ]
     },
     "execution_count": 54,
     "metadata": {},
     "output_type": "execute_result"
    }
   ],
   "source": [
    "# create a list of the unimportant features\n",
    "unimport = list(set(m4_unimportant.index.tolist()) | set(m2_unimportant.index.tolist()))\n",
    "# remove unimportant features from Gradient Boosting\n",
    "X1 = X.drop(unimport, axis=1)\n",
    "X1"
   ]
  },
  {
   "cell_type": "markdown",
   "metadata": {},
   "source": [
    "That eliminated a lot of features and took us down to just 40 features! Excellent! <br>\n",
    "<br>\n",
    "Let's model with those features"
   ]
  },
  {
   "cell_type": "code",
   "execution_count": 55,
   "metadata": {},
   "outputs": [
    {
     "data": {
      "text/plain": [
       "(1.8158008483225205, 1.8162965793223824)"
      ]
     },
     "execution_count": 55,
     "metadata": {},
     "output_type": "execute_result"
    }
   ],
   "source": [
    "# let's scale the X values\n",
    "scaler1 = preprocessing.StandardScaler().fit(X1)\n",
    "X1_scaled=scaler1.transform(X1)\n",
    "\n",
    "# split the X and y values again\n",
    "X1_train, X1_test, y_train, y_test = train_test_split(X1_scaled, y, test_size=0.20, random_state=1)\n",
    "# check the mean values of the y to make sure this is a good split\n",
    "y_train.mean(), y_test.mean()\n"
   ]
  },
  {
   "cell_type": "markdown",
   "metadata": {},
   "source": [
    "#### 5. Linear regression on reduced feature data set"
   ]
  },
  {
   "cell_type": "code",
   "execution_count": 56,
   "metadata": {},
   "outputs": [],
   "source": [
    "# try standard linear regression on the data set with less features\n",
    "lm5 = linear_model.LinearRegression()\n",
    "model5 = lm5.fit(X1_train,y_train)"
   ]
  },
  {
   "cell_type": "code",
   "execution_count": 57,
   "metadata": {},
   "outputs": [],
   "source": [
    "# predicted results from the first model on the X_test values\n",
    "y5_pred = model5.predict(X1_test)\n",
    "# Mean Absolute Error\n",
    "m5_MAE = mean_absolute_error(y_test, y5_pred)"
   ]
  },
  {
   "cell_type": "code",
   "execution_count": 58,
   "metadata": {},
   "outputs": [],
   "source": [
    "# Mean Squared Error\n",
    "m5_MSE = mean_squared_error(y_test, y5_pred)"
   ]
  },
  {
   "cell_type": "code",
   "execution_count": 59,
   "metadata": {},
   "outputs": [],
   "source": [
    "# Root Mean Squared Error\n",
    "m5_RMSE = m5_MSE**0.5"
   ]
  },
  {
   "cell_type": "code",
   "execution_count": 60,
   "metadata": {
    "scrolled": true
   },
   "outputs": [
    {
     "data": {
      "text/html": [
       "<div>\n",
       "<style scoped>\n",
       "    .dataframe tbody tr th:only-of-type {\n",
       "        vertical-align: middle;\n",
       "    }\n",
       "\n",
       "    .dataframe tbody tr th {\n",
       "        vertical-align: top;\n",
       "    }\n",
       "\n",
       "    .dataframe thead th {\n",
       "        text-align: right;\n",
       "    }\n",
       "</style>\n",
       "<table border=\"1\" class=\"dataframe\">\n",
       "  <thead>\n",
       "    <tr style=\"text-align: right;\">\n",
       "      <th></th>\n",
       "      <th>Model</th>\n",
       "      <th>MAE</th>\n",
       "      <th>MSE</th>\n",
       "      <th>RMSE</th>\n",
       "    </tr>\n",
       "  </thead>\n",
       "  <tbody>\n",
       "    <tr>\n",
       "      <th>0</th>\n",
       "      <td>Linear Regression</td>\n",
       "      <td>5.044418e+10</td>\n",
       "      <td>1.010976e+25</td>\n",
       "      <td>3.179585e+12</td>\n",
       "    </tr>\n",
       "    <tr>\n",
       "      <th>1</th>\n",
       "      <td>Random Forest 1</td>\n",
       "      <td>1.847487e-01</td>\n",
       "      <td>6.807649e-02</td>\n",
       "      <td>2.609147e-01</td>\n",
       "    </tr>\n",
       "    <tr>\n",
       "      <th>2</th>\n",
       "      <td>Dummy Model (average)</td>\n",
       "      <td>2.906511e-01</td>\n",
       "      <td>1.445166e-01</td>\n",
       "      <td>3.801533e-01</td>\n",
       "    </tr>\n",
       "    <tr>\n",
       "      <th>3</th>\n",
       "      <td>Gradient Boost 1</td>\n",
       "      <td>1.847487e-01</td>\n",
       "      <td>6.807649e-02</td>\n",
       "      <td>2.609147e-01</td>\n",
       "    </tr>\n",
       "    <tr>\n",
       "      <th>4</th>\n",
       "      <td>Linear Regression 2</td>\n",
       "      <td>1.858921e-01</td>\n",
       "      <td>6.770492e-02</td>\n",
       "      <td>2.602017e-01</td>\n",
       "    </tr>\n",
       "  </tbody>\n",
       "</table>\n",
       "</div>"
      ],
      "text/plain": [
       "                   Model           MAE           MSE          RMSE\n",
       "0      Linear Regression  5.044418e+10  1.010976e+25  3.179585e+12\n",
       "1        Random Forest 1  1.847487e-01  6.807649e-02  2.609147e-01\n",
       "2  Dummy Model (average)  2.906511e-01  1.445166e-01  3.801533e-01\n",
       "3       Gradient Boost 1  1.847487e-01  6.807649e-02  2.609147e-01\n",
       "4    Linear Regression 2  1.858921e-01  6.770492e-02  2.602017e-01"
      ]
     },
     "execution_count": 60,
     "metadata": {},
     "output_type": "execute_result"
    }
   ],
   "source": [
    "perform = perform.append({'Model':'Linear Regression 2', 'MAE':m5_MAE, 'MSE':m5_MSE, 'RMSE':m5_RMSE}, ignore_index=True)\n",
    "perform"
   ]
  },
  {
   "cell_type": "markdown",
   "metadata": {},
   "source": [
    "This updated version of linear regression actually performed better than the first attempt at Random Forest Regression or Gradient Boost Regression. That's great to see that eliminating those features lead to such improvement."
   ]
  },
  {
   "cell_type": "markdown",
   "metadata": {},
   "source": [
    "#### 6. Random Forest Regression with reduced features"
   ]
  },
  {
   "cell_type": "code",
   "execution_count": 61,
   "metadata": {},
   "outputs": [],
   "source": [
    "# using a minimum sample of 40 or 1/1000th of the total number of customers\n",
    "regr1 = RandomForestRegressor(min_samples_leaf=40, random_state=33)\n",
    "model1_rf = regr.fit(X1_train,y_train)\n",
    "y_pred1_rf = regr.predict(X1_test)"
   ]
  },
  {
   "cell_type": "code",
   "execution_count": 62,
   "metadata": {
    "scrolled": true
   },
   "outputs": [
    {
     "data": {
      "text/html": [
       "<div>\n",
       "<style scoped>\n",
       "    .dataframe tbody tr th:only-of-type {\n",
       "        vertical-align: middle;\n",
       "    }\n",
       "\n",
       "    .dataframe tbody tr th {\n",
       "        vertical-align: top;\n",
       "    }\n",
       "\n",
       "    .dataframe thead th {\n",
       "        text-align: right;\n",
       "    }\n",
       "</style>\n",
       "<table border=\"1\" class=\"dataframe\">\n",
       "  <thead>\n",
       "    <tr style=\"text-align: right;\">\n",
       "      <th></th>\n",
       "      <th>Model</th>\n",
       "      <th>MAE</th>\n",
       "      <th>MSE</th>\n",
       "      <th>RMSE</th>\n",
       "    </tr>\n",
       "  </thead>\n",
       "  <tbody>\n",
       "    <tr>\n",
       "      <th>0</th>\n",
       "      <td>Linear Regression</td>\n",
       "      <td>5.044418e+10</td>\n",
       "      <td>1.010976e+25</td>\n",
       "      <td>3.179585e+12</td>\n",
       "    </tr>\n",
       "    <tr>\n",
       "      <th>1</th>\n",
       "      <td>Random Forest 1</td>\n",
       "      <td>1.847487e-01</td>\n",
       "      <td>6.807649e-02</td>\n",
       "      <td>2.609147e-01</td>\n",
       "    </tr>\n",
       "    <tr>\n",
       "      <th>2</th>\n",
       "      <td>Dummy Model (average)</td>\n",
       "      <td>2.906511e-01</td>\n",
       "      <td>1.445166e-01</td>\n",
       "      <td>3.801533e-01</td>\n",
       "    </tr>\n",
       "    <tr>\n",
       "      <th>3</th>\n",
       "      <td>Gradient Boost 1</td>\n",
       "      <td>1.847487e-01</td>\n",
       "      <td>6.807649e-02</td>\n",
       "      <td>2.609147e-01</td>\n",
       "    </tr>\n",
       "    <tr>\n",
       "      <th>4</th>\n",
       "      <td>Linear Regression 2</td>\n",
       "      <td>1.858921e-01</td>\n",
       "      <td>6.770492e-02</td>\n",
       "      <td>2.602017e-01</td>\n",
       "    </tr>\n",
       "    <tr>\n",
       "      <th>5</th>\n",
       "      <td>Random Forest 2</td>\n",
       "      <td>1.846553e-01</td>\n",
       "      <td>6.810615e-02</td>\n",
       "      <td>2.609715e-01</td>\n",
       "    </tr>\n",
       "  </tbody>\n",
       "</table>\n",
       "</div>"
      ],
      "text/plain": [
       "                   Model           MAE           MSE          RMSE\n",
       "0      Linear Regression  5.044418e+10  1.010976e+25  3.179585e+12\n",
       "1        Random Forest 1  1.847487e-01  6.807649e-02  2.609147e-01\n",
       "2  Dummy Model (average)  2.906511e-01  1.445166e-01  3.801533e-01\n",
       "3       Gradient Boost 1  1.847487e-01  6.807649e-02  2.609147e-01\n",
       "4    Linear Regression 2  1.858921e-01  6.770492e-02  2.602017e-01\n",
       "5        Random Forest 2  1.846553e-01  6.810615e-02  2.609715e-01"
      ]
     },
     "execution_count": 62,
     "metadata": {},
     "output_type": "execute_result"
    }
   ],
   "source": [
    "# Mean Absolute Error\n",
    "m6_MAE = mean_absolute_error(y_test, y_pred1_rf)\n",
    "# Mean Squared Error\n",
    "m6_MSE = mean_squared_error(y_test, y_pred1_rf)\n",
    "# root mean squared error\n",
    "m6_RMSE = m6_MSE**0.5\n",
    "# add to performance DF\n",
    "perform = perform.append({'Model':'Random Forest 2', 'MAE':m6_MAE, 'MSE':m6_MSE, 'RMSE':m6_RMSE}, ignore_index=True)\n",
    "perform\n"
   ]
  },
  {
   "cell_type": "markdown",
   "metadata": {},
   "source": [
    "these values look good, but similar to previous models"
   ]
  },
  {
   "cell_type": "markdown",
   "metadata": {},
   "source": [
    "#### 7. Gradient Boost with Reduced Features"
   ]
  },
  {
   "cell_type": "code",
   "execution_count": 63,
   "metadata": {
    "scrolled": true
   },
   "outputs": [
    {
     "data": {
      "text/html": [
       "<div>\n",
       "<style scoped>\n",
       "    .dataframe tbody tr th:only-of-type {\n",
       "        vertical-align: middle;\n",
       "    }\n",
       "\n",
       "    .dataframe tbody tr th {\n",
       "        vertical-align: top;\n",
       "    }\n",
       "\n",
       "    .dataframe thead th {\n",
       "        text-align: right;\n",
       "    }\n",
       "</style>\n",
       "<table border=\"1\" class=\"dataframe\">\n",
       "  <thead>\n",
       "    <tr style=\"text-align: right;\">\n",
       "      <th></th>\n",
       "      <th>Model</th>\n",
       "      <th>MAE</th>\n",
       "      <th>MSE</th>\n",
       "      <th>RMSE</th>\n",
       "    </tr>\n",
       "  </thead>\n",
       "  <tbody>\n",
       "    <tr>\n",
       "      <th>0</th>\n",
       "      <td>Linear Regression</td>\n",
       "      <td>5.044418e+10</td>\n",
       "      <td>1.010976e+25</td>\n",
       "      <td>3.179585e+12</td>\n",
       "    </tr>\n",
       "    <tr>\n",
       "      <th>1</th>\n",
       "      <td>Random Forest 1</td>\n",
       "      <td>1.847487e-01</td>\n",
       "      <td>6.807649e-02</td>\n",
       "      <td>2.609147e-01</td>\n",
       "    </tr>\n",
       "    <tr>\n",
       "      <th>2</th>\n",
       "      <td>Dummy Model (average)</td>\n",
       "      <td>2.906511e-01</td>\n",
       "      <td>1.445166e-01</td>\n",
       "      <td>3.801533e-01</td>\n",
       "    </tr>\n",
       "    <tr>\n",
       "      <th>3</th>\n",
       "      <td>Gradient Boost 1</td>\n",
       "      <td>1.847487e-01</td>\n",
       "      <td>6.807649e-02</td>\n",
       "      <td>2.609147e-01</td>\n",
       "    </tr>\n",
       "    <tr>\n",
       "      <th>4</th>\n",
       "      <td>Linear Regression 2</td>\n",
       "      <td>1.858921e-01</td>\n",
       "      <td>6.770492e-02</td>\n",
       "      <td>2.602017e-01</td>\n",
       "    </tr>\n",
       "    <tr>\n",
       "      <th>5</th>\n",
       "      <td>Random Forest 2</td>\n",
       "      <td>1.846553e-01</td>\n",
       "      <td>6.810615e-02</td>\n",
       "      <td>2.609715e-01</td>\n",
       "    </tr>\n",
       "    <tr>\n",
       "      <th>6</th>\n",
       "      <td>Gradient Boost 2</td>\n",
       "      <td>1.846553e-01</td>\n",
       "      <td>6.810615e-02</td>\n",
       "      <td>2.609715e-01</td>\n",
       "    </tr>\n",
       "  </tbody>\n",
       "</table>\n",
       "</div>"
      ],
      "text/plain": [
       "                   Model           MAE           MSE          RMSE\n",
       "0      Linear Regression  5.044418e+10  1.010976e+25  3.179585e+12\n",
       "1        Random Forest 1  1.847487e-01  6.807649e-02  2.609147e-01\n",
       "2  Dummy Model (average)  2.906511e-01  1.445166e-01  3.801533e-01\n",
       "3       Gradient Boost 1  1.847487e-01  6.807649e-02  2.609147e-01\n",
       "4    Linear Regression 2  1.858921e-01  6.770492e-02  2.602017e-01\n",
       "5        Random Forest 2  1.846553e-01  6.810615e-02  2.609715e-01\n",
       "6       Gradient Boost 2  1.846553e-01  6.810615e-02  2.609715e-01"
      ]
     },
     "execution_count": 63,
     "metadata": {},
     "output_type": "execute_result"
    }
   ],
   "source": [
    "# create regressor\n",
    "reg1_gb = GradientBoostingRegressor(min_samples_leaf=40, random_state=0)\n",
    "model1_gb = reg_gb.fit(X1_train,y_train)\n",
    "# use regressor to predict on test data\n",
    "y_pred1_gb = regr.predict(X1_test)\n",
    "# compare test data for a score - Mean Absolute Error\n",
    "m7_MAE = mean_absolute_error(y_test, y_pred1_gb)\n",
    "# Mean Squared Error\n",
    "m7_MSE = mean_squared_error(y_test, y_pred1_gb)\n",
    "# root mean squared error\n",
    "m7_RMSE = m7_MSE**0.5\n",
    "perform = perform.append({'Model':'Gradient Boost 2', 'MAE':m7_MAE, 'MSE':m7_MSE, 'RMSE':m7_RMSE}, ignore_index=True)\n",
    "perform\n"
   ]
  },
  {
   "cell_type": "markdown",
   "metadata": {},
   "source": [
    "These look like great models (except for the first Linear Regression). Let's see if tuning the hyperparameters can make them better."
   ]
  },
  {
   "cell_type": "markdown",
   "metadata": {},
   "source": [
    "## IV. Hyperparameter Tuning"
   ]
  },
  {
   "cell_type": "markdown",
   "metadata": {},
   "source": [
    "We took a guess at a good hyperparameter of 40 for the minimum number of leaves per node. That looked like a good start relative to the Linear Regression results. Instead, we should also consider multiple values for the hyperparameter for both the Gradient Boost and Random Forest Regressions"
   ]
  },
  {
   "cell_type": "markdown",
   "metadata": {},
   "source": [
    "#### 8. Random Forest with Hyperparameter Tuning"
   ]
  },
  {
   "cell_type": "code",
   "execution_count": 64,
   "metadata": {},
   "outputs": [
    {
     "data": {
      "text/html": [
       "<div>\n",
       "<style scoped>\n",
       "    .dataframe tbody tr th:only-of-type {\n",
       "        vertical-align: middle;\n",
       "    }\n",
       "\n",
       "    .dataframe tbody tr th {\n",
       "        vertical-align: top;\n",
       "    }\n",
       "\n",
       "    .dataframe thead th {\n",
       "        text-align: right;\n",
       "    }\n",
       "</style>\n",
       "<table border=\"1\" class=\"dataframe\">\n",
       "  <thead>\n",
       "    <tr style=\"text-align: right;\">\n",
       "      <th></th>\n",
       "      <th>Model</th>\n",
       "      <th>Node_size</th>\n",
       "      <th>MAE</th>\n",
       "      <th>MSE</th>\n",
       "      <th>RMSE</th>\n",
       "    </tr>\n",
       "  </thead>\n",
       "  <tbody>\n",
       "    <tr>\n",
       "      <th>0</th>\n",
       "      <td>Random Forest</td>\n",
       "      <td>926</td>\n",
       "      <td>0.192646</td>\n",
       "      <td>0.070500</td>\n",
       "      <td>0.265518</td>\n",
       "    </tr>\n",
       "    <tr>\n",
       "      <th>1</th>\n",
       "      <td>Random Forest</td>\n",
       "      <td>789</td>\n",
       "      <td>0.192539</td>\n",
       "      <td>0.070341</td>\n",
       "      <td>0.265218</td>\n",
       "    </tr>\n",
       "    <tr>\n",
       "      <th>2</th>\n",
       "      <td>Random Forest</td>\n",
       "      <td>584</td>\n",
       "      <td>0.191470</td>\n",
       "      <td>0.069895</td>\n",
       "      <td>0.264377</td>\n",
       "    </tr>\n",
       "    <tr>\n",
       "      <th>3</th>\n",
       "      <td>Random Forest</td>\n",
       "      <td>333</td>\n",
       "      <td>0.189634</td>\n",
       "      <td>0.069295</td>\n",
       "      <td>0.263239</td>\n",
       "    </tr>\n",
       "    <tr>\n",
       "      <th>4</th>\n",
       "      <td>Random Forest</td>\n",
       "      <td>72</td>\n",
       "      <td>0.185817</td>\n",
       "      <td>0.068375</td>\n",
       "      <td>0.261486</td>\n",
       "    </tr>\n",
       "    <tr>\n",
       "      <th>5</th>\n",
       "      <td>Random Forest</td>\n",
       "      <td>813</td>\n",
       "      <td>0.192565</td>\n",
       "      <td>0.070371</td>\n",
       "      <td>0.265276</td>\n",
       "    </tr>\n",
       "    <tr>\n",
       "      <th>6</th>\n",
       "      <td>Random Forest</td>\n",
       "      <td>131</td>\n",
       "      <td>0.187026</td>\n",
       "      <td>0.068551</td>\n",
       "      <td>0.261822</td>\n",
       "    </tr>\n",
       "    <tr>\n",
       "      <th>7</th>\n",
       "      <td>Random Forest</td>\n",
       "      <td>18</td>\n",
       "      <td>0.183426</td>\n",
       "      <td>0.068089</td>\n",
       "      <td>0.260938</td>\n",
       "    </tr>\n",
       "    <tr>\n",
       "      <th>8</th>\n",
       "      <td>Random Forest</td>\n",
       "      <td>56</td>\n",
       "      <td>0.185422</td>\n",
       "      <td>0.068304</td>\n",
       "      <td>0.261350</td>\n",
       "    </tr>\n",
       "    <tr>\n",
       "      <th>9</th>\n",
       "      <td>Random Forest</td>\n",
       "      <td>434</td>\n",
       "      <td>0.190761</td>\n",
       "      <td>0.069641</td>\n",
       "      <td>0.263897</td>\n",
       "    </tr>\n",
       "    <tr>\n",
       "      <th>10</th>\n",
       "      <td>Random Forest</td>\n",
       "      <td>28</td>\n",
       "      <td>0.183991</td>\n",
       "      <td>0.068002</td>\n",
       "      <td>0.260771</td>\n",
       "    </tr>\n",
       "    <tr>\n",
       "      <th>11</th>\n",
       "      <td>Random Forest</td>\n",
       "      <td>856</td>\n",
       "      <td>0.192544</td>\n",
       "      <td>0.070362</td>\n",
       "      <td>0.265259</td>\n",
       "    </tr>\n",
       "    <tr>\n",
       "      <th>12</th>\n",
       "      <td>Random Forest</td>\n",
       "      <td>299</td>\n",
       "      <td>0.189241</td>\n",
       "      <td>0.069145</td>\n",
       "      <td>0.262955</td>\n",
       "    </tr>\n",
       "    <tr>\n",
       "      <th>13</th>\n",
       "      <td>Random Forest</td>\n",
       "      <td>27</td>\n",
       "      <td>0.183901</td>\n",
       "      <td>0.067997</td>\n",
       "      <td>0.260763</td>\n",
       "    </tr>\n",
       "    <tr>\n",
       "      <th>14</th>\n",
       "      <td>Random Forest</td>\n",
       "      <td>163</td>\n",
       "      <td>0.187508</td>\n",
       "      <td>0.068684</td>\n",
       "      <td>0.262077</td>\n",
       "    </tr>\n",
       "    <tr>\n",
       "      <th>15</th>\n",
       "      <td>Random Forest</td>\n",
       "      <td>607</td>\n",
       "      <td>0.191560</td>\n",
       "      <td>0.069927</td>\n",
       "      <td>0.264438</td>\n",
       "    </tr>\n",
       "    <tr>\n",
       "      <th>16</th>\n",
       "      <td>Random Forest</td>\n",
       "      <td>63</td>\n",
       "      <td>0.185611</td>\n",
       "      <td>0.068341</td>\n",
       "      <td>0.261421</td>\n",
       "    </tr>\n",
       "    <tr>\n",
       "      <th>17</th>\n",
       "      <td>Random Forest</td>\n",
       "      <td>371</td>\n",
       "      <td>0.189939</td>\n",
       "      <td>0.069390</td>\n",
       "      <td>0.263419</td>\n",
       "    </tr>\n",
       "    <tr>\n",
       "      <th>18</th>\n",
       "      <td>Random Forest</td>\n",
       "      <td>421</td>\n",
       "      <td>0.190682</td>\n",
       "      <td>0.069611</td>\n",
       "      <td>0.263839</td>\n",
       "    </tr>\n",
       "    <tr>\n",
       "      <th>19</th>\n",
       "      <td>Random Forest</td>\n",
       "      <td>592</td>\n",
       "      <td>0.191487</td>\n",
       "      <td>0.069903</td>\n",
       "      <td>0.264391</td>\n",
       "    </tr>\n",
       "  </tbody>\n",
       "</table>\n",
       "</div>"
      ],
      "text/plain": [
       "            Model Node_size       MAE       MSE      RMSE\n",
       "0   Random Forest       926  0.192646  0.070500  0.265518\n",
       "1   Random Forest       789  0.192539  0.070341  0.265218\n",
       "2   Random Forest       584  0.191470  0.069895  0.264377\n",
       "3   Random Forest       333  0.189634  0.069295  0.263239\n",
       "4   Random Forest        72  0.185817  0.068375  0.261486\n",
       "5   Random Forest       813  0.192565  0.070371  0.265276\n",
       "6   Random Forest       131  0.187026  0.068551  0.261822\n",
       "7   Random Forest        18  0.183426  0.068089  0.260938\n",
       "8   Random Forest        56  0.185422  0.068304  0.261350\n",
       "9   Random Forest       434  0.190761  0.069641  0.263897\n",
       "10  Random Forest        28  0.183991  0.068002  0.260771\n",
       "11  Random Forest       856  0.192544  0.070362  0.265259\n",
       "12  Random Forest       299  0.189241  0.069145  0.262955\n",
       "13  Random Forest        27  0.183901  0.067997  0.260763\n",
       "14  Random Forest       163  0.187508  0.068684  0.262077\n",
       "15  Random Forest       607  0.191560  0.069927  0.264438\n",
       "16  Random Forest        63  0.185611  0.068341  0.261421\n",
       "17  Random Forest       371  0.189939  0.069390  0.263419\n",
       "18  Random Forest       421  0.190682  0.069611  0.263839\n",
       "19  Random Forest       592  0.191487  0.069903  0.264391"
      ]
     },
     "execution_count": 64,
     "metadata": {},
     "output_type": "execute_result"
    }
   ],
   "source": [
    "import random\n",
    "node_size = random.sample(range(10,1000), 20)\n",
    "\n",
    "perform_h = pd.DataFrame(columns=['Model', 'Node_size', 'MAE', 'MSE', 'RMSE'])\n",
    "\n",
    "# loops through the number of leaves\n",
    "for n in node_size:\n",
    "    reg_h = RandomForestRegressor(min_samples_leaf=n, random_state=33)\n",
    "    model_rf_h = reg_h.fit(X1_train,y_train)\n",
    "    y_pred1_rf_h = reg_h.predict(X1_test)\n",
    "    # Mean Absolute Error\n",
    "    MAE1 = mean_absolute_error(y_test, y_pred1_rf_h)\n",
    "    # Mean Squared Error\n",
    "    MSE1 = mean_squared_error(y_test, y_pred1_rf_h)\n",
    "    # root mean squared error\n",
    "    RMSE1 = MSE1**0.5\n",
    "    # add to performance DF\n",
    "    perform_h = perform_h.append({'Model':'Random Forest', 'Node_size':n, 'MAE':MAE1, 'MSE': MSE1, 'RMSE':RMSE1}, ignore_index=True)\n",
    "\n",
    "perform_h"
   ]
  },
  {
   "cell_type": "markdown",
   "metadata": {},
   "source": [
    "These all look extremely similiar, let's plot the results"
   ]
  },
  {
   "cell_type": "code",
   "execution_count": 65,
   "metadata": {
    "scrolled": true
   },
   "outputs": [
    {
     "data": {
      "image/png": "[encoded data removed]",
      "text/plain": [
       "<Figure size 432x288 with 1 Axes>"
      ]
     },
     "metadata": {
      "needs_background": "light"
     },
     "output_type": "display_data"
    }
   ],
   "source": [
    "# plot the minimum node size versus the RSME\n",
    "plt.scatter(perform_h['Node_size'], perform_h['RMSE'])\n",
    "plt.xlabel('Minimum Node size')\n",
    "plt.ylabel('RSME')\n",
    "plt.show()"
   ]
  },
  {
   "cell_type": "markdown",
   "metadata": {},
   "source": [
    "That looks like it trends downwards with smaller minimum node size, as it's allowed to fit the model more closely to the data. Let's try a different range of values to select from and iterate one more time on that hyperparameter"
   ]
  },
  {
   "cell_type": "code",
   "execution_count": 66,
   "metadata": {},
   "outputs": [
    {
     "data": {
      "text/html": [
       "<div>\n",
       "<style scoped>\n",
       "    .dataframe tbody tr th:only-of-type {\n",
       "        vertical-align: middle;\n",
       "    }\n",
       "\n",
       "    .dataframe tbody tr th {\n",
       "        vertical-align: top;\n",
       "    }\n",
       "\n",
       "    .dataframe thead th {\n",
       "        text-align: right;\n",
       "    }\n",
       "</style>\n",
       "<table border=\"1\" class=\"dataframe\">\n",
       "  <thead>\n",
       "    <tr style=\"text-align: right;\">\n",
       "      <th></th>\n",
       "      <th>Model</th>\n",
       "      <th>Node_size</th>\n",
       "      <th>MAE</th>\n",
       "      <th>MSE</th>\n",
       "      <th>RMSE</th>\n",
       "    </tr>\n",
       "  </thead>\n",
       "  <tbody>\n",
       "    <tr>\n",
       "      <th>0</th>\n",
       "      <td>Random Forest</td>\n",
       "      <td>926</td>\n",
       "      <td>0.192646</td>\n",
       "      <td>0.070500</td>\n",
       "      <td>0.265518</td>\n",
       "    </tr>\n",
       "    <tr>\n",
       "      <th>1</th>\n",
       "      <td>Random Forest</td>\n",
       "      <td>789</td>\n",
       "      <td>0.192539</td>\n",
       "      <td>0.070341</td>\n",
       "      <td>0.265218</td>\n",
       "    </tr>\n",
       "    <tr>\n",
       "      <th>2</th>\n",
       "      <td>Random Forest</td>\n",
       "      <td>584</td>\n",
       "      <td>0.191470</td>\n",
       "      <td>0.069895</td>\n",
       "      <td>0.264377</td>\n",
       "    </tr>\n",
       "    <tr>\n",
       "      <th>3</th>\n",
       "      <td>Random Forest</td>\n",
       "      <td>333</td>\n",
       "      <td>0.189634</td>\n",
       "      <td>0.069295</td>\n",
       "      <td>0.263239</td>\n",
       "    </tr>\n",
       "    <tr>\n",
       "      <th>4</th>\n",
       "      <td>Random Forest</td>\n",
       "      <td>72</td>\n",
       "      <td>0.185817</td>\n",
       "      <td>0.068375</td>\n",
       "      <td>0.261486</td>\n",
       "    </tr>\n",
       "    <tr>\n",
       "      <th>5</th>\n",
       "      <td>Random Forest</td>\n",
       "      <td>813</td>\n",
       "      <td>0.192565</td>\n",
       "      <td>0.070371</td>\n",
       "      <td>0.265276</td>\n",
       "    </tr>\n",
       "    <tr>\n",
       "      <th>6</th>\n",
       "      <td>Random Forest</td>\n",
       "      <td>131</td>\n",
       "      <td>0.187026</td>\n",
       "      <td>0.068551</td>\n",
       "      <td>0.261822</td>\n",
       "    </tr>\n",
       "    <tr>\n",
       "      <th>7</th>\n",
       "      <td>Random Forest</td>\n",
       "      <td>18</td>\n",
       "      <td>0.183426</td>\n",
       "      <td>0.068089</td>\n",
       "      <td>0.260938</td>\n",
       "    </tr>\n",
       "    <tr>\n",
       "      <th>8</th>\n",
       "      <td>Random Forest</td>\n",
       "      <td>56</td>\n",
       "      <td>0.185422</td>\n",
       "      <td>0.068304</td>\n",
       "      <td>0.261350</td>\n",
       "    </tr>\n",
       "    <tr>\n",
       "      <th>9</th>\n",
       "      <td>Random Forest</td>\n",
       "      <td>434</td>\n",
       "      <td>0.190761</td>\n",
       "      <td>0.069641</td>\n",
       "      <td>0.263897</td>\n",
       "    </tr>\n",
       "    <tr>\n",
       "      <th>10</th>\n",
       "      <td>Random Forest</td>\n",
       "      <td>28</td>\n",
       "      <td>0.183991</td>\n",
       "      <td>0.068002</td>\n",
       "      <td>0.260771</td>\n",
       "    </tr>\n",
       "    <tr>\n",
       "      <th>11</th>\n",
       "      <td>Random Forest</td>\n",
       "      <td>856</td>\n",
       "      <td>0.192544</td>\n",
       "      <td>0.070362</td>\n",
       "      <td>0.265259</td>\n",
       "    </tr>\n",
       "    <tr>\n",
       "      <th>12</th>\n",
       "      <td>Random Forest</td>\n",
       "      <td>299</td>\n",
       "      <td>0.189241</td>\n",
       "      <td>0.069145</td>\n",
       "      <td>0.262955</td>\n",
       "    </tr>\n",
       "    <tr>\n",
       "      <th>13</th>\n",
       "      <td>Random Forest</td>\n",
       "      <td>27</td>\n",
       "      <td>0.183901</td>\n",
       "      <td>0.067997</td>\n",
       "      <td>0.260763</td>\n",
       "    </tr>\n",
       "    <tr>\n",
       "      <th>14</th>\n",
       "      <td>Random Forest</td>\n",
       "      <td>163</td>\n",
       "      <td>0.187508</td>\n",
       "      <td>0.068684</td>\n",
       "      <td>0.262077</td>\n",
       "    </tr>\n",
       "    <tr>\n",
       "      <th>15</th>\n",
       "      <td>Random Forest</td>\n",
       "      <td>607</td>\n",
       "      <td>0.191560</td>\n",
       "      <td>0.069927</td>\n",
       "      <td>0.264438</td>\n",
       "    </tr>\n",
       "    <tr>\n",
       "      <th>16</th>\n",
       "      <td>Random Forest</td>\n",
       "      <td>63</td>\n",
       "      <td>0.185611</td>\n",
       "      <td>0.068341</td>\n",
       "      <td>0.261421</td>\n",
       "    </tr>\n",
       "    <tr>\n",
       "      <th>17</th>\n",
       "      <td>Random Forest</td>\n",
       "      <td>371</td>\n",
       "      <td>0.189939</td>\n",
       "      <td>0.069390</td>\n",
       "      <td>0.263419</td>\n",
       "    </tr>\n",
       "    <tr>\n",
       "      <th>18</th>\n",
       "      <td>Random Forest</td>\n",
       "      <td>421</td>\n",
       "      <td>0.190682</td>\n",
       "      <td>0.069611</td>\n",
       "      <td>0.263839</td>\n",
       "    </tr>\n",
       "    <tr>\n",
       "      <th>19</th>\n",
       "      <td>Random Forest</td>\n",
       "      <td>592</td>\n",
       "      <td>0.191487</td>\n",
       "      <td>0.069903</td>\n",
       "      <td>0.264391</td>\n",
       "    </tr>\n",
       "    <tr>\n",
       "      <th>20</th>\n",
       "      <td>Random Forest</td>\n",
       "      <td>19</td>\n",
       "      <td>0.183435</td>\n",
       "      <td>0.068044</td>\n",
       "      <td>0.260853</td>\n",
       "    </tr>\n",
       "    <tr>\n",
       "      <th>21</th>\n",
       "      <td>Random Forest</td>\n",
       "      <td>13</td>\n",
       "      <td>0.183026</td>\n",
       "      <td>0.068248</td>\n",
       "      <td>0.261242</td>\n",
       "    </tr>\n",
       "    <tr>\n",
       "      <th>22</th>\n",
       "      <td>Random Forest</td>\n",
       "      <td>21</td>\n",
       "      <td>0.183620</td>\n",
       "      <td>0.068030</td>\n",
       "      <td>0.260827</td>\n",
       "    </tr>\n",
       "    <tr>\n",
       "      <th>23</th>\n",
       "      <td>Random Forest</td>\n",
       "      <td>24</td>\n",
       "      <td>0.183764</td>\n",
       "      <td>0.068029</td>\n",
       "      <td>0.260824</td>\n",
       "    </tr>\n",
       "    <tr>\n",
       "      <th>24</th>\n",
       "      <td>Random Forest</td>\n",
       "      <td>20</td>\n",
       "      <td>0.183566</td>\n",
       "      <td>0.068055</td>\n",
       "      <td>0.260873</td>\n",
       "    </tr>\n",
       "    <tr>\n",
       "      <th>25</th>\n",
       "      <td>Random Forest</td>\n",
       "      <td>17</td>\n",
       "      <td>0.183368</td>\n",
       "      <td>0.068107</td>\n",
       "      <td>0.260972</td>\n",
       "    </tr>\n",
       "    <tr>\n",
       "      <th>26</th>\n",
       "      <td>Random Forest</td>\n",
       "      <td>28</td>\n",
       "      <td>0.183991</td>\n",
       "      <td>0.068002</td>\n",
       "      <td>0.260771</td>\n",
       "    </tr>\n",
       "    <tr>\n",
       "      <th>27</th>\n",
       "      <td>Random Forest</td>\n",
       "      <td>5</td>\n",
       "      <td>0.183033</td>\n",
       "      <td>0.069803</td>\n",
       "      <td>0.264202</td>\n",
       "    </tr>\n",
       "    <tr>\n",
       "      <th>28</th>\n",
       "      <td>Random Forest</td>\n",
       "      <td>23</td>\n",
       "      <td>0.183687</td>\n",
       "      <td>0.068021</td>\n",
       "      <td>0.260808</td>\n",
       "    </tr>\n",
       "    <tr>\n",
       "      <th>29</th>\n",
       "      <td>Random Forest</td>\n",
       "      <td>8</td>\n",
       "      <td>0.182656</td>\n",
       "      <td>0.068789</td>\n",
       "      <td>0.262276</td>\n",
       "    </tr>\n",
       "    <tr>\n",
       "      <th>30</th>\n",
       "      <td>Random Forest</td>\n",
       "      <td>25</td>\n",
       "      <td>0.183818</td>\n",
       "      <td>0.068022</td>\n",
       "      <td>0.260811</td>\n",
       "    </tr>\n",
       "    <tr>\n",
       "      <th>31</th>\n",
       "      <td>Random Forest</td>\n",
       "      <td>26</td>\n",
       "      <td>0.183825</td>\n",
       "      <td>0.067990</td>\n",
       "      <td>0.260749</td>\n",
       "    </tr>\n",
       "    <tr>\n",
       "      <th>32</th>\n",
       "      <td>Random Forest</td>\n",
       "      <td>12</td>\n",
       "      <td>0.182969</td>\n",
       "      <td>0.068289</td>\n",
       "      <td>0.261322</td>\n",
       "    </tr>\n",
       "    <tr>\n",
       "      <th>33</th>\n",
       "      <td>Random Forest</td>\n",
       "      <td>27</td>\n",
       "      <td>0.183901</td>\n",
       "      <td>0.067997</td>\n",
       "      <td>0.260763</td>\n",
       "    </tr>\n",
       "    <tr>\n",
       "      <th>34</th>\n",
       "      <td>Random Forest</td>\n",
       "      <td>10</td>\n",
       "      <td>0.182729</td>\n",
       "      <td>0.068442</td>\n",
       "      <td>0.261614</td>\n",
       "    </tr>\n",
       "    <tr>\n",
       "      <th>35</th>\n",
       "      <td>Random Forest</td>\n",
       "      <td>15</td>\n",
       "      <td>0.183200</td>\n",
       "      <td>0.068188</td>\n",
       "      <td>0.261128</td>\n",
       "    </tr>\n",
       "    <tr>\n",
       "      <th>36</th>\n",
       "      <td>Random Forest</td>\n",
       "      <td>11</td>\n",
       "      <td>0.182823</td>\n",
       "      <td>0.068342</td>\n",
       "      <td>0.261423</td>\n",
       "    </tr>\n",
       "    <tr>\n",
       "      <th>37</th>\n",
       "      <td>Random Forest</td>\n",
       "      <td>7</td>\n",
       "      <td>0.182801</td>\n",
       "      <td>0.069035</td>\n",
       "      <td>0.262746</td>\n",
       "    </tr>\n",
       "    <tr>\n",
       "      <th>38</th>\n",
       "      <td>Random Forest</td>\n",
       "      <td>22</td>\n",
       "      <td>0.183680</td>\n",
       "      <td>0.068042</td>\n",
       "      <td>0.260848</td>\n",
       "    </tr>\n",
       "    <tr>\n",
       "      <th>39</th>\n",
       "      <td>Random Forest</td>\n",
       "      <td>6</td>\n",
       "      <td>0.182845</td>\n",
       "      <td>0.069365</td>\n",
       "      <td>0.263372</td>\n",
       "    </tr>\n",
       "  </tbody>\n",
       "</table>\n",
       "</div>"
      ],
      "text/plain": [
       "            Model Node_size       MAE       MSE      RMSE\n",
       "0   Random Forest       926  0.192646  0.070500  0.265518\n",
       "1   Random Forest       789  0.192539  0.070341  0.265218\n",
       "2   Random Forest       584  0.191470  0.069895  0.264377\n",
       "3   Random Forest       333  0.189634  0.069295  0.263239\n",
       "4   Random Forest        72  0.185817  0.068375  0.261486\n",
       "5   Random Forest       813  0.192565  0.070371  0.265276\n",
       "6   Random Forest       131  0.187026  0.068551  0.261822\n",
       "7   Random Forest        18  0.183426  0.068089  0.260938\n",
       "8   Random Forest        56  0.185422  0.068304  0.261350\n",
       "9   Random Forest       434  0.190761  0.069641  0.263897\n",
       "10  Random Forest        28  0.183991  0.068002  0.260771\n",
       "11  Random Forest       856  0.192544  0.070362  0.265259\n",
       "12  Random Forest       299  0.189241  0.069145  0.262955\n",
       "13  Random Forest        27  0.183901  0.067997  0.260763\n",
       "14  Random Forest       163  0.187508  0.068684  0.262077\n",
       "15  Random Forest       607  0.191560  0.069927  0.264438\n",
       "16  Random Forest        63  0.185611  0.068341  0.261421\n",
       "17  Random Forest       371  0.189939  0.069390  0.263419\n",
       "18  Random Forest       421  0.190682  0.069611  0.263839\n",
       "19  Random Forest       592  0.191487  0.069903  0.264391\n",
       "20  Random Forest        19  0.183435  0.068044  0.260853\n",
       "21  Random Forest        13  0.183026  0.068248  0.261242\n",
       "22  Random Forest        21  0.183620  0.068030  0.260827\n",
       "23  Random Forest        24  0.183764  0.068029  0.260824\n",
       "24  Random Forest        20  0.183566  0.068055  0.260873\n",
       "25  Random Forest        17  0.183368  0.068107  0.260972\n",
       "26  Random Forest        28  0.183991  0.068002  0.260771\n",
       "27  Random Forest         5  0.183033  0.069803  0.264202\n",
       "28  Random Forest        23  0.183687  0.068021  0.260808\n",
       "29  Random Forest         8  0.182656  0.068789  0.262276\n",
       "30  Random Forest        25  0.183818  0.068022  0.260811\n",
       "31  Random Forest        26  0.183825  0.067990  0.260749\n",
       "32  Random Forest        12  0.182969  0.068289  0.261322\n",
       "33  Random Forest        27  0.183901  0.067997  0.260763\n",
       "34  Random Forest        10  0.182729  0.068442  0.261614\n",
       "35  Random Forest        15  0.183200  0.068188  0.261128\n",
       "36  Random Forest        11  0.182823  0.068342  0.261423\n",
       "37  Random Forest         7  0.182801  0.069035  0.262746\n",
       "38  Random Forest        22  0.183680  0.068042  0.260848\n",
       "39  Random Forest         6  0.182845  0.069365  0.263372"
      ]
     },
     "execution_count": 66,
     "metadata": {},
     "output_type": "execute_result"
    }
   ],
   "source": [
    "# much smaller minimum node size \n",
    "node_size = random.sample(range(5,30), 20)\n",
    "\n",
    "# we'll add on to the existing DF so we get a better look at the full curve\n",
    "\n",
    "# loops through the number of leaves\n",
    "for n in node_size:\n",
    "    reg_h = RandomForestRegressor(min_samples_leaf=n, random_state=33)\n",
    "    model_rf_h = reg_h.fit(X1_train,y_train)\n",
    "    y_pred1_rf_h = reg_h.predict(X1_test)\n",
    "    # Mean Absolute Error\n",
    "    MAE1 = mean_absolute_error(y_test, y_pred1_rf_h)\n",
    "    # Mean Squared Error\n",
    "    MSE1 = mean_squared_error(y_test, y_pred1_rf_h)\n",
    "    # root mean squared error\n",
    "    RMSE1 = MSE1**0.5\n",
    "    # add to performance DF\n",
    "    perform_h = perform_h.append({'Model':'Random Forest', 'Node_size':n, 'MAE':MAE1, 'MSE': MSE1, 'RMSE':RMSE1}, ignore_index=True)\n",
    "\n",
    "perform_h"
   ]
  },
  {
   "cell_type": "code",
   "execution_count": 67,
   "metadata": {
    "scrolled": false
   },
   "outputs": [
    {
     "data": {
      "image/png": "[encoded data removed]",
      "text/plain": [
       "<Figure size 432x288 with 1 Axes>"
      ]
     },
     "metadata": {
      "needs_background": "light"
     },
     "output_type": "display_data"
    }
   ],
   "source": [
    "# plot the minimum node size versus the RSME\n",
    "plt.scatter(perform_h['Node_size'], perform_h['RMSE'])\n",
    "plt.xlabel('Minimum Node size')\n",
    "plt.ylabel('RSME')\n",
    "plt.show()"
   ]
  },
  {
   "cell_type": "markdown",
   "metadata": {},
   "source": [
    "That is the dip that I wanted to see to consider a balance between under and over-fitting to the data. Let's find the best value."
   ]
  },
  {
   "cell_type": "code",
   "execution_count": 68,
   "metadata": {
    "scrolled": true
   },
   "outputs": [
    {
     "data": {
      "text/html": [
       "<div>\n",
       "<style scoped>\n",
       "    .dataframe tbody tr th:only-of-type {\n",
       "        vertical-align: middle;\n",
       "    }\n",
       "\n",
       "    .dataframe tbody tr th {\n",
       "        vertical-align: top;\n",
       "    }\n",
       "\n",
       "    .dataframe thead th {\n",
       "        text-align: right;\n",
       "    }\n",
       "</style>\n",
       "<table border=\"1\" class=\"dataframe\">\n",
       "  <thead>\n",
       "    <tr style=\"text-align: right;\">\n",
       "      <th></th>\n",
       "      <th>Model</th>\n",
       "      <th>Node_size</th>\n",
       "      <th>MAE</th>\n",
       "      <th>MSE</th>\n",
       "      <th>RMSE</th>\n",
       "    </tr>\n",
       "  </thead>\n",
       "  <tbody>\n",
       "    <tr>\n",
       "      <th>31</th>\n",
       "      <td>Random Forest</td>\n",
       "      <td>26</td>\n",
       "      <td>0.183825</td>\n",
       "      <td>0.067990</td>\n",
       "      <td>0.260749</td>\n",
       "    </tr>\n",
       "    <tr>\n",
       "      <th>33</th>\n",
       "      <td>Random Forest</td>\n",
       "      <td>27</td>\n",
       "      <td>0.183901</td>\n",
       "      <td>0.067997</td>\n",
       "      <td>0.260763</td>\n",
       "    </tr>\n",
       "    <tr>\n",
       "      <th>13</th>\n",
       "      <td>Random Forest</td>\n",
       "      <td>27</td>\n",
       "      <td>0.183901</td>\n",
       "      <td>0.067997</td>\n",
       "      <td>0.260763</td>\n",
       "    </tr>\n",
       "    <tr>\n",
       "      <th>26</th>\n",
       "      <td>Random Forest</td>\n",
       "      <td>28</td>\n",
       "      <td>0.183991</td>\n",
       "      <td>0.068002</td>\n",
       "      <td>0.260771</td>\n",
       "    </tr>\n",
       "    <tr>\n",
       "      <th>10</th>\n",
       "      <td>Random Forest</td>\n",
       "      <td>28</td>\n",
       "      <td>0.183991</td>\n",
       "      <td>0.068002</td>\n",
       "      <td>0.260771</td>\n",
       "    </tr>\n",
       "    <tr>\n",
       "      <th>28</th>\n",
       "      <td>Random Forest</td>\n",
       "      <td>23</td>\n",
       "      <td>0.183687</td>\n",
       "      <td>0.068021</td>\n",
       "      <td>0.260808</td>\n",
       "    </tr>\n",
       "    <tr>\n",
       "      <th>30</th>\n",
       "      <td>Random Forest</td>\n",
       "      <td>25</td>\n",
       "      <td>0.183818</td>\n",
       "      <td>0.068022</td>\n",
       "      <td>0.260811</td>\n",
       "    </tr>\n",
       "    <tr>\n",
       "      <th>23</th>\n",
       "      <td>Random Forest</td>\n",
       "      <td>24</td>\n",
       "      <td>0.183764</td>\n",
       "      <td>0.068029</td>\n",
       "      <td>0.260824</td>\n",
       "    </tr>\n",
       "    <tr>\n",
       "      <th>22</th>\n",
       "      <td>Random Forest</td>\n",
       "      <td>21</td>\n",
       "      <td>0.183620</td>\n",
       "      <td>0.068030</td>\n",
       "      <td>0.260827</td>\n",
       "    </tr>\n",
       "    <tr>\n",
       "      <th>38</th>\n",
       "      <td>Random Forest</td>\n",
       "      <td>22</td>\n",
       "      <td>0.183680</td>\n",
       "      <td>0.068042</td>\n",
       "      <td>0.260848</td>\n",
       "    </tr>\n",
       "  </tbody>\n",
       "</table>\n",
       "</div>"
      ],
      "text/plain": [
       "            Model Node_size       MAE       MSE      RMSE\n",
       "31  Random Forest        26  0.183825  0.067990  0.260749\n",
       "33  Random Forest        27  0.183901  0.067997  0.260763\n",
       "13  Random Forest        27  0.183901  0.067997  0.260763\n",
       "26  Random Forest        28  0.183991  0.068002  0.260771\n",
       "10  Random Forest        28  0.183991  0.068002  0.260771\n",
       "28  Random Forest        23  0.183687  0.068021  0.260808\n",
       "30  Random Forest        25  0.183818  0.068022  0.260811\n",
       "23  Random Forest        24  0.183764  0.068029  0.260824\n",
       "22  Random Forest        21  0.183620  0.068030  0.260827\n",
       "38  Random Forest        22  0.183680  0.068042  0.260848"
      ]
     },
     "execution_count": 68,
     "metadata": {},
     "output_type": "execute_result"
    }
   ],
   "source": [
    "perform_h.sort_values('RMSE', ascending=True).head(10)"
   ]
  },
  {
   "cell_type": "markdown",
   "metadata": {},
   "source": [
    "It looks like 26 is the best minimum node size for Random Forest Regression with this data"
   ]
  },
  {
   "cell_type": "code",
   "execution_count": null,
   "metadata": {},
   "outputs": [],
   "source": []
  },
  {
   "cell_type": "markdown",
   "metadata": {},
   "source": [
    "#### 9. Gradient Boosting with Hyperparameter Tuning"
   ]
  },
  {
   "cell_type": "markdown",
   "metadata": {},
   "source": [
    "Let's do the same hyperparameter tuning, but with Gradient Boosting. We may consider a different parameter to change for GB"
   ]
  },
  {
   "cell_type": "code",
   "execution_count": 69,
   "metadata": {},
   "outputs": [
    {
     "data": {
      "text/html": [
       "<div>\n",
       "<style scoped>\n",
       "    .dataframe tbody tr th:only-of-type {\n",
       "        vertical-align: middle;\n",
       "    }\n",
       "\n",
       "    .dataframe tbody tr th {\n",
       "        vertical-align: top;\n",
       "    }\n",
       "\n",
       "    .dataframe thead th {\n",
       "        text-align: right;\n",
       "    }\n",
       "</style>\n",
       "<table border=\"1\" class=\"dataframe\">\n",
       "  <thead>\n",
       "    <tr style=\"text-align: right;\">\n",
       "      <th></th>\n",
       "      <th>Model</th>\n",
       "      <th>Learning_rate</th>\n",
       "      <th>MAE</th>\n",
       "      <th>MSE</th>\n",
       "      <th>RMSE</th>\n",
       "    </tr>\n",
       "  </thead>\n",
       "  <tbody>\n",
       "    <tr>\n",
       "      <th>0</th>\n",
       "      <td>Gradient Boost</td>\n",
       "      <td>0.308899</td>\n",
       "      <td>0.184655</td>\n",
       "      <td>0.068106</td>\n",
       "      <td>0.260972</td>\n",
       "    </tr>\n",
       "    <tr>\n",
       "      <th>17</th>\n",
       "      <td>Gradient Boost</td>\n",
       "      <td>0.039540</td>\n",
       "      <td>0.184655</td>\n",
       "      <td>0.068106</td>\n",
       "      <td>0.260972</td>\n",
       "    </tr>\n",
       "    <tr>\n",
       "      <th>16</th>\n",
       "      <td>Gradient Boost</td>\n",
       "      <td>0.849102</td>\n",
       "      <td>0.184655</td>\n",
       "      <td>0.068106</td>\n",
       "      <td>0.260972</td>\n",
       "    </tr>\n",
       "    <tr>\n",
       "      <th>15</th>\n",
       "      <td>Gradient Boost</td>\n",
       "      <td>0.040345</td>\n",
       "      <td>0.184655</td>\n",
       "      <td>0.068106</td>\n",
       "      <td>0.260972</td>\n",
       "    </tr>\n",
       "    <tr>\n",
       "      <th>14</th>\n",
       "      <td>Gradient Boost</td>\n",
       "      <td>0.986303</td>\n",
       "      <td>0.184655</td>\n",
       "      <td>0.068106</td>\n",
       "      <td>0.260972</td>\n",
       "    </tr>\n",
       "    <tr>\n",
       "      <th>13</th>\n",
       "      <td>Gradient Boost</td>\n",
       "      <td>0.201691</td>\n",
       "      <td>0.184655</td>\n",
       "      <td>0.068106</td>\n",
       "      <td>0.260972</td>\n",
       "    </tr>\n",
       "    <tr>\n",
       "      <th>12</th>\n",
       "      <td>Gradient Boost</td>\n",
       "      <td>0.050485</td>\n",
       "      <td>0.184655</td>\n",
       "      <td>0.068106</td>\n",
       "      <td>0.260972</td>\n",
       "    </tr>\n",
       "    <tr>\n",
       "      <th>11</th>\n",
       "      <td>Gradient Boost</td>\n",
       "      <td>0.420240</td>\n",
       "      <td>0.184655</td>\n",
       "      <td>0.068106</td>\n",
       "      <td>0.260972</td>\n",
       "    </tr>\n",
       "    <tr>\n",
       "      <th>10</th>\n",
       "      <td>Gradient Boost</td>\n",
       "      <td>0.018922</td>\n",
       "      <td>0.184655</td>\n",
       "      <td>0.068106</td>\n",
       "      <td>0.260972</td>\n",
       "    </tr>\n",
       "    <tr>\n",
       "      <th>9</th>\n",
       "      <td>Gradient Boost</td>\n",
       "      <td>0.366527</td>\n",
       "      <td>0.184655</td>\n",
       "      <td>0.068106</td>\n",
       "      <td>0.260972</td>\n",
       "    </tr>\n",
       "  </tbody>\n",
       "</table>\n",
       "</div>"
      ],
      "text/plain": [
       "             Model  Learning_rate       MAE       MSE      RMSE\n",
       "0   Gradient Boost       0.308899  0.184655  0.068106  0.260972\n",
       "17  Gradient Boost       0.039540  0.184655  0.068106  0.260972\n",
       "16  Gradient Boost       0.849102  0.184655  0.068106  0.260972\n",
       "15  Gradient Boost       0.040345  0.184655  0.068106  0.260972\n",
       "14  Gradient Boost       0.986303  0.184655  0.068106  0.260972\n",
       "13  Gradient Boost       0.201691  0.184655  0.068106  0.260972\n",
       "12  Gradient Boost       0.050485  0.184655  0.068106  0.260972\n",
       "11  Gradient Boost       0.420240  0.184655  0.068106  0.260972\n",
       "10  Gradient Boost       0.018922  0.184655  0.068106  0.260972\n",
       "9   Gradient Boost       0.366527  0.184655  0.068106  0.260972"
      ]
     },
     "execution_count": 69,
     "metadata": {},
     "output_type": "execute_result"
    }
   ],
   "source": [
    "# much smaller minimum node size \n",
    "learn_rt = [random.random() for x in range(20)]\n",
    "\n",
    "# we'll add on to the existing DF so we get a better look at the full curve\n",
    "perform_gb = pd.DataFrame(columns=['Model', 'Learning_rate', 'MAE', 'MSE', 'RMSE'])\n",
    "\n",
    "# loops through the number of leaves\n",
    "for r in learn_rt:\n",
    "    reg_gb = GradientBoostingRegressor(learning_rate=r, random_state=0)\n",
    "    model_gb = reg_gb.fit(X1_train,y_train)\n",
    "    # use regressor to predict on test data\n",
    "    y_pred_gb = regr.predict(X1_test)\n",
    "    # Mean Absolute Error\n",
    "    MAE1 = mean_absolute_error(y_test, y_pred_gb)\n",
    "    # Mean Squared Error\n",
    "    MSE1 = mean_squared_error(y_test, y_pred_gb)\n",
    "    # root mean squared error\n",
    "    RMSE1 = MSE1**0.5\n",
    "    # add to performance DF\n",
    "    perform_gb = perform_gb.append({'Model':'Gradient Boost', 'Learning_rate':r, 'MAE':MAE1, 'MSE': MSE1, 'RMSE':RMSE1}, ignore_index=True)\n",
    "\n",
    "perform_gb.sort_values('RMSE', ascending=True).head(10)"
   ]
  },
  {
   "cell_type": "code",
   "execution_count": 70,
   "metadata": {},
   "outputs": [
    {
     "data": {
      "image/png": "[encoded data removed]",
      "text/plain": [
       "<Figure size 432x288 with 1 Axes>"
      ]
     },
     "metadata": {
      "needs_background": "light"
     },
     "output_type": "display_data"
    }
   ],
   "source": [
    "# plot the minimum node size versus the RSME\n",
    "plt.scatter(perform_gb['Learning_rate'], perform_gb['RMSE'])\n",
    "plt.xlabel('Learning Rate')\n",
    "plt.ylabel('RSME')\n",
    "plt.show()"
   ]
  },
  {
   "cell_type": "markdown",
   "metadata": {},
   "source": [
    "## V. More Extensive Hyperparameter Tuning"
   ]
  },
  {
   "cell_type": "markdown",
   "metadata": {},
   "source": [
    "In the previous section, we did some hyperparameter tuning, but this was just using a random search of one parameter. It may not even be the best parameter to tune. Instead, we will focus on doing a more extensive search in this section. We will form a grid for both Random Forest and Gradient Boosting. We will then using random search to pick out some points on that grid."
   ]
  },
  {
   "cell_type": "markdown",
   "metadata": {},
   "source": [
    "#### 10. Random Forest Regression with more extensive Hyperparameter Tuning"
   ]
  },
  {
   "cell_type": "code",
   "execution_count": 73,
   "metadata": {},
   "outputs": [
    {
     "name": "stdout",
     "output_type": "stream",
     "text": [
      "{'n_estimators': [200, 400, 600, 800, 1000, 1200, 1400, 1600, 1800, 2000], 'max_features': ['auto', 'sqrt'], 'max_depth': [10, 20, 30, 40, 50, 60, 70, 80, 90, 100, 110, None], 'min_samples_split': [10, 26, 40], 'min_samples_leaf': [10, 26, 40], 'bootstrap': [True, False]}\n"
     ]
    }
   ],
   "source": [
    "### create the grid of hyperparameters to use\n",
    "\n",
    "from sklearn.model_selection import RandomizedSearchCV\n",
    "# Number of trees in random forest\n",
    "n_estimators = [int(x) for x in np.linspace(start = 200, stop = 2000, num = 10)]\n",
    "# Number of features to consider at every split\n",
    "max_features = ['auto', 'sqrt']\n",
    "# Maximum number of levels in tree\n",
    "max_depth = [int(x) for x in np.linspace(10, 110, num = 11)]\n",
    "max_depth.append(None)\n",
    "# Minimum number of samples required to split a node\n",
    "min_samples_split = [10, 26, 40]\n",
    "# Minimum number of samples required at each leaf node\n",
    "min_samples_leaf = [10, 26, 40]\n",
    "# Method of selecting samples for training each tree\n",
    "bootstrap = [True, False]\n",
    "# Create the random grid\n",
    "random_grid = {'n_estimators': n_estimators,\n",
    "               'max_features': max_features,\n",
    "               'max_depth': max_depth,\n",
    "               'min_samples_split': min_samples_split,\n",
    "               'min_samples_leaf': min_samples_leaf,\n",
    "               'bootstrap': bootstrap}\n",
    "print(random_grid)\n"
   ]
  },
  {
   "cell_type": "code",
   "execution_count": 74,
   "metadata": {},
   "outputs": [
    {
     "name": "stdout",
     "output_type": "stream",
     "text": [
      "Fitting 3 folds for each of 100 candidates, totalling 300 fits\n"
     ]
    },
    {
     "name": "stderr",
     "output_type": "stream",
     "text": [
      "[Parallel(n_jobs=-1)]: Using backend LokyBackend with 4 concurrent workers.\n",
      "[Parallel(n_jobs=-1)]: Done  33 tasks      | elapsed: 16.7min\n",
      "[Parallel(n_jobs=-1)]: Done 154 tasks      | elapsed: 105.1min\n",
      "[Parallel(n_jobs=-1)]: Done 300 out of 300 | elapsed: 233.5min finished\n"
     ]
    },
    {
     "data": {
      "text/plain": [
       "RandomizedSearchCV(cv=3, error_score=nan,\n",
       "                   estimator=RandomForestRegressor(bootstrap=True,\n",
       "                                                   ccp_alpha=0.0,\n",
       "                                                   criterion='mse',\n",
       "                                                   max_depth=None,\n",
       "                                                   max_features='auto',\n",
       "                                                   max_leaf_nodes=None,\n",
       "                                                   max_samples=None,\n",
       "                                                   min_impurity_decrease=0.0,\n",
       "                                                   min_impurity_split=None,\n",
       "                                                   min_samples_leaf=1,\n",
       "                                                   min_samples_split=2,\n",
       "                                                   min_weight_fraction_leaf=0.0,\n",
       "                                                   n_estimators=100,\n",
       "                                                   n_jobs=None, oob_score=Fals...\n",
       "                   param_distributions={'bootstrap': [True, False],\n",
       "                                        'max_depth': [10, 20, 30, 40, 50, 60,\n",
       "                                                      70, 80, 90, 100, 110,\n",
       "                                                      None],\n",
       "                                        'max_features': ['auto', 'sqrt'],\n",
       "                                        'min_samples_leaf': [10, 26, 40],\n",
       "                                        'min_samples_split': [10, 26, 40],\n",
       "                                        'n_estimators': [200, 400, 600, 800,\n",
       "                                                         1000, 1200, 1400, 1600,\n",
       "                                                         1800, 2000]},\n",
       "                   pre_dispatch='2*n_jobs', random_state=33, refit=True,\n",
       "                   return_train_score=False, scoring=None, verbose=2)"
      ]
     },
     "execution_count": 74,
     "metadata": {},
     "output_type": "execute_result"
    }
   ],
   "source": [
    "## run the random search of that grid that we just created\n",
    "\n",
    "# First create the base model to tune\n",
    "rf = RandomForestRegressor()\n",
    "# Random search of parameters, using 3 fold cross validation, \n",
    "# search across 100 different combinations, and use all available cores\n",
    "rf_random = RandomizedSearchCV(estimator = rf, param_distributions = random_grid, n_iter = 100, cv = 3, verbose=2, random_state=33, n_jobs = -1)\n",
    "# Fit the random search model\n",
    "rf_random.fit(X1_train, y_train)\n"
   ]
  },
  {
   "cell_type": "code",
   "execution_count": 75,
   "metadata": {},
   "outputs": [
    {
     "data": {
      "text/plain": [
       "{'n_estimators': 1200,\n",
       " 'min_samples_split': 10,\n",
       " 'min_samples_leaf': 10,\n",
       " 'max_features': 'sqrt',\n",
       " 'max_depth': 20,\n",
       " 'bootstrap': False}"
      ]
     },
     "execution_count": 75,
     "metadata": {},
     "output_type": "execute_result"
    }
   ],
   "source": [
    "# print the best parameters\n",
    "rf_random.best_params_"
   ]
  },
  {
   "cell_type": "code",
   "execution_count": 78,
   "metadata": {},
   "outputs": [
    {
     "data": {
      "text/plain": [
       "RandomForestRegressor(bootstrap=False, ccp_alpha=0.0, criterion='mse',\n",
       "                      max_depth=20, max_features='sqrt', max_leaf_nodes=None,\n",
       "                      max_samples=None, min_impurity_decrease=0.0,\n",
       "                      min_impurity_split=None, min_samples_leaf=10,\n",
       "                      min_samples_split=10, min_weight_fraction_leaf=0.0,\n",
       "                      n_estimators=1200, n_jobs=None, oob_score=False,\n",
       "                      random_state=None, verbose=0, warm_start=False)"
      ]
     },
     "execution_count": 78,
     "metadata": {},
     "output_type": "execute_result"
    }
   ],
   "source": [
    "rf_random.best_estimator_"
   ]
  },
  {
   "cell_type": "code",
   "execution_count": 79,
   "metadata": {},
   "outputs": [
    {
     "data": {
      "text/plain": [
       "(0.18455484506737924, 0.06763656426139242, 0.26097154337047773)"
      ]
     },
     "execution_count": 79,
     "metadata": {},
     "output_type": "execute_result"
    }
   ],
   "source": [
    "# let's see how these parameters performed\n",
    "# rf_h = RandomForestRegressor(rf_random.best_params_)\n",
    "model_rf_h = rf_random.best_estimator_\n",
    "y_pred_h_rf = model_rf_h.predict(X1_test)\n",
    "\n",
    "# let's see the error\n",
    "# Mean Absolute Error\n",
    "rf_h_MAE = mean_absolute_error(y_test, y_pred_h_rf)\n",
    "# Mean Squared Error\n",
    "rf_h_MSE = mean_squared_error(y_test, y_pred_h_rf)\n",
    "# root mean squared error\n",
    "rf_h_RMSE = m6_MSE**0.5\n",
    "\n",
    "# display\n",
    "rf_h_MAE, rf_h_MSE, rf_h_RMSE\n"
   ]
  },
  {
   "cell_type": "markdown",
   "metadata": {},
   "source": [
    "This is barely any different the the resutls we got from the values we had previously, but I will still use those values in future Random Forest Models with this data."
   ]
  },
  {
   "cell_type": "markdown",
   "metadata": {},
   "source": [
    "#### 11. Grandient Boost Regression with more extensive Hyperparameter Tuning"
   ]
  },
  {
   "cell_type": "code",
   "execution_count": null,
   "metadata": {},
   "outputs": [],
   "source": []
  }
 ],
 "metadata": {
  "kernelspec": {
   "display_name": "Python 3",
   "language": "python",
   "name": "python3"
  },
  "language_info": {
   "codemirror_mode": {
    "name": "ipython",
    "version": 3
   },
   "file_extension": ".py",
   "mimetype": "text/x-python",
   "name": "python",
   "nbconvert_exporter": "python",
   "pygments_lexer": "ipython3",
   "version": "3.7.6"
  }
 },
 "nbformat": 4,
 "nbformat_minor": 4
}
