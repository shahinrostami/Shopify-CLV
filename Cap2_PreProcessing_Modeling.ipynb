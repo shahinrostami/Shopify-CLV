{
 "cells": [
  {
   "cell_type": "markdown",
   "metadata": {},
   "source": [
    "### Goals of this notebook:\n",
    "### 1. Preprocesses the data to prepare for modeling\n",
    "### 2. Modeling using a number of different models\n"
   ]
  },
  {
   "cell_type": "code",
   "execution_count": 53,
   "metadata": {},
   "outputs": [],
   "source": [
    "#load python packages\n",
    "import os\n",
    "import pandas as pd\n",
    "import datetime\n",
    "import seaborn as sns\n",
    "import matplotlib.pyplot as plt\n",
    "import numpy as np\n",
    "from sklearn import preprocessing"
   ]
  },
  {
   "cell_type": "markdown",
   "metadata": {},
   "source": [
    "## 1. Preprocessing\n",
    "We get the data ready to model by dropping some features, creating dummy variables for catagorical features, and scaling the features."
   ]
  },
  {
   "cell_type": "code",
   "execution_count": 54,
   "metadata": {},
   "outputs": [],
   "source": [
    "import pickle\n",
    "os.chdir(\"C:\\Springboard\\Github\\Capstone2_cust\\Intermediate_Data\")"
   ]
  },
  {
   "cell_type": "code",
   "execution_count": 55,
   "metadata": {},
   "outputs": [
    {
     "data": {
      "text/html": [
       "<div>\n",
       "<style scoped>\n",
       "    .dataframe tbody tr th:only-of-type {\n",
       "        vertical-align: middle;\n",
       "    }\n",
       "\n",
       "    .dataframe tbody tr th {\n",
       "        vertical-align: top;\n",
       "    }\n",
       "\n",
       "    .dataframe thead th {\n",
       "        text-align: right;\n",
       "    }\n",
       "</style>\n",
       "<table border=\"1\" class=\"dataframe\">\n",
       "  <thead>\n",
       "    <tr style=\"text-align: right;\">\n",
       "      <th></th>\n",
       "      <th>first_total</th>\n",
       "      <th>Marketing_first</th>\n",
       "      <th>first_items</th>\n",
       "      <th>first_order</th>\n",
       "      <th>server</th>\n",
       "      <th>Vendor</th>\n",
       "      <th>Source</th>\n",
       "      <th>Area_Code</th>\n",
       "      <th>Ship_Zip</th>\n",
       "      <th>lead_sku</th>\n",
       "      <th>weekday</th>\n",
       "      <th>mon</th>\n",
       "      <th>first_tot_lg</th>\n",
       "      <th>first_it_lg</th>\n",
       "    </tr>\n",
       "  </thead>\n",
       "  <tbody>\n",
       "    <tr>\n",
       "      <th>1</th>\n",
       "      <td>145.58</td>\n",
       "      <td>1</td>\n",
       "      <td>2</td>\n",
       "      <td>2019-11-26 21:44:16+00:00</td>\n",
       "      <td>custom</td>\n",
       "      <td>1.0</td>\n",
       "      <td>web</td>\n",
       "      <td>404</td>\n",
       "      <td>30087</td>\n",
       "      <td>other</td>\n",
       "      <td>Tuesday</td>\n",
       "      <td>November</td>\n",
       "      <td>2.163102</td>\n",
       "      <td>0.30103</td>\n",
       "    </tr>\n",
       "    <tr>\n",
       "      <th>2</th>\n",
       "      <td>137.55</td>\n",
       "      <td>0</td>\n",
       "      <td>5</td>\n",
       "      <td>2019-11-26 20:52:08+00:00</td>\n",
       "      <td>custom</td>\n",
       "      <td>1.0</td>\n",
       "      <td>web</td>\n",
       "      <td>845</td>\n",
       "      <td>12545</td>\n",
       "      <td>other</td>\n",
       "      <td>Tuesday</td>\n",
       "      <td>November</td>\n",
       "      <td>2.138461</td>\n",
       "      <td>0.69897</td>\n",
       "    </tr>\n",
       "    <tr>\n",
       "      <th>3</th>\n",
       "      <td>22.98</td>\n",
       "      <td>1</td>\n",
       "      <td>2</td>\n",
       "      <td>2019-11-26 18:12:04+00:00</td>\n",
       "      <td>custom</td>\n",
       "      <td>1.0</td>\n",
       "      <td>web</td>\n",
       "      <td>262</td>\n",
       "      <td>53402</td>\n",
       "      <td>ROUTEINS10</td>\n",
       "      <td>Tuesday</td>\n",
       "      <td>November</td>\n",
       "      <td>1.361350</td>\n",
       "      <td>0.30103</td>\n",
       "    </tr>\n",
       "    <tr>\n",
       "      <th>4</th>\n",
       "      <td>28.00</td>\n",
       "      <td>0</td>\n",
       "      <td>1</td>\n",
       "      <td>2019-08-07 18:14:49+00:00</td>\n",
       "      <td>custom</td>\n",
       "      <td>0.0</td>\n",
       "      <td>web</td>\n",
       "      <td>617</td>\n",
       "      <td>01983</td>\n",
       "      <td>BEM1003</td>\n",
       "      <td>Wednesday</td>\n",
       "      <td>August</td>\n",
       "      <td>1.447158</td>\n",
       "      <td>0.00000</td>\n",
       "    </tr>\n",
       "    <tr>\n",
       "      <th>5</th>\n",
       "      <td>12.00</td>\n",
       "      <td>1</td>\n",
       "      <td>1</td>\n",
       "      <td>2019-08-07 18:05:28+00:00</td>\n",
       "      <td>custom</td>\n",
       "      <td>0.0</td>\n",
       "      <td>web</td>\n",
       "      <td>740</td>\n",
       "      <td>43143</td>\n",
       "      <td>other</td>\n",
       "      <td>Wednesday</td>\n",
       "      <td>August</td>\n",
       "      <td>1.079181</td>\n",
       "      <td>0.00000</td>\n",
       "    </tr>\n",
       "    <tr>\n",
       "      <th>6</th>\n",
       "      <td>42.00</td>\n",
       "      <td>0</td>\n",
       "      <td>2</td>\n",
       "      <td>2019-08-07 03:45:52+00:00</td>\n",
       "      <td>custom</td>\n",
       "      <td>0.0</td>\n",
       "      <td>web</td>\n",
       "      <td>701</td>\n",
       "      <td>58801</td>\n",
       "      <td>BES1006</td>\n",
       "      <td>Wednesday</td>\n",
       "      <td>August</td>\n",
       "      <td>1.623249</td>\n",
       "      <td>0.30103</td>\n",
       "    </tr>\n",
       "    <tr>\n",
       "      <th>7</th>\n",
       "      <td>27.20</td>\n",
       "      <td>1</td>\n",
       "      <td>1</td>\n",
       "      <td>2019-08-06 22:00:54+00:00</td>\n",
       "      <td>custom</td>\n",
       "      <td>0.0</td>\n",
       "      <td>web</td>\n",
       "      <td>754</td>\n",
       "      <td>33026</td>\n",
       "      <td>BEM6001</td>\n",
       "      <td>Tuesday</td>\n",
       "      <td>August</td>\n",
       "      <td>1.434569</td>\n",
       "      <td>0.00000</td>\n",
       "    </tr>\n",
       "    <tr>\n",
       "      <th>8</th>\n",
       "      <td>22.00</td>\n",
       "      <td>1</td>\n",
       "      <td>2</td>\n",
       "      <td>2019-08-06 20:22:25+00:00</td>\n",
       "      <td>custom</td>\n",
       "      <td>0.0</td>\n",
       "      <td>web</td>\n",
       "      <td>unknown</td>\n",
       "      <td>01880</td>\n",
       "      <td>BES5001</td>\n",
       "      <td>Tuesday</td>\n",
       "      <td>August</td>\n",
       "      <td>1.342423</td>\n",
       "      <td>0.30103</td>\n",
       "    </tr>\n",
       "    <tr>\n",
       "      <th>9</th>\n",
       "      <td>100.00</td>\n",
       "      <td>1</td>\n",
       "      <td>5</td>\n",
       "      <td>2019-08-06 19:59:05+00:00</td>\n",
       "      <td>custom</td>\n",
       "      <td>0.0</td>\n",
       "      <td>web</td>\n",
       "      <td>617</td>\n",
       "      <td>01880</td>\n",
       "      <td>BEM1007</td>\n",
       "      <td>Tuesday</td>\n",
       "      <td>August</td>\n",
       "      <td>2.000000</td>\n",
       "      <td>0.69897</td>\n",
       "    </tr>\n",
       "    <tr>\n",
       "      <th>10</th>\n",
       "      <td>36.64</td>\n",
       "      <td>1</td>\n",
       "      <td>2</td>\n",
       "      <td>2019-08-06 19:14:49+00:00</td>\n",
       "      <td>custom</td>\n",
       "      <td>0.0</td>\n",
       "      <td>web</td>\n",
       "      <td>626</td>\n",
       "      <td>92887</td>\n",
       "      <td>BEM1007</td>\n",
       "      <td>Tuesday</td>\n",
       "      <td>August</td>\n",
       "      <td>1.563955</td>\n",
       "      <td>0.30103</td>\n",
       "    </tr>\n",
       "  </tbody>\n",
       "</table>\n",
       "</div>"
      ],
      "text/plain": [
       "    first_total  Marketing_first  first_items               first_order  \\\n",
       "1        145.58                1            2 2019-11-26 21:44:16+00:00   \n",
       "2        137.55                0            5 2019-11-26 20:52:08+00:00   \n",
       "3         22.98                1            2 2019-11-26 18:12:04+00:00   \n",
       "4         28.00                0            1 2019-08-07 18:14:49+00:00   \n",
       "5         12.00                1            1 2019-08-07 18:05:28+00:00   \n",
       "6         42.00                0            2 2019-08-07 03:45:52+00:00   \n",
       "7         27.20                1            1 2019-08-06 22:00:54+00:00   \n",
       "8         22.00                1            2 2019-08-06 20:22:25+00:00   \n",
       "9        100.00                1            5 2019-08-06 19:59:05+00:00   \n",
       "10        36.64                1            2 2019-08-06 19:14:49+00:00   \n",
       "\n",
       "    server  Vendor Source Area_Code Ship_Zip    lead_sku    weekday       mon  \\\n",
       "1   custom     1.0    web       404    30087       other    Tuesday  November   \n",
       "2   custom     1.0    web       845    12545       other    Tuesday  November   \n",
       "3   custom     1.0    web       262    53402  ROUTEINS10    Tuesday  November   \n",
       "4   custom     0.0    web       617    01983     BEM1003  Wednesday    August   \n",
       "5   custom     0.0    web       740    43143       other  Wednesday    August   \n",
       "6   custom     0.0    web       701    58801     BES1006  Wednesday    August   \n",
       "7   custom     0.0    web       754    33026     BEM6001    Tuesday    August   \n",
       "8   custom     0.0    web   unknown    01880     BES5001    Tuesday    August   \n",
       "9   custom     0.0    web       617    01880     BEM1007    Tuesday    August   \n",
       "10  custom     0.0    web       626    92887     BEM1007    Tuesday    August   \n",
       "\n",
       "    first_tot_lg  first_it_lg  \n",
       "1       2.163102      0.30103  \n",
       "2       2.138461      0.69897  \n",
       "3       1.361350      0.30103  \n",
       "4       1.447158      0.00000  \n",
       "5       1.079181      0.00000  \n",
       "6       1.623249      0.30103  \n",
       "7       1.434569      0.00000  \n",
       "8       1.342423      0.30103  \n",
       "9       2.000000      0.69897  \n",
       "10      1.563955      0.30103  "
      ]
     },
     "execution_count": 55,
     "metadata": {},
     "output_type": "execute_result"
    }
   ],
   "source": [
    "# load picked version of X\n",
    "X = pickle.load(open(\"X1.pkl\", \"rb\"))\n",
    "# look at the first 10 rows of this file\n",
    "X.head(10)"
   ]
  },
  {
   "cell_type": "markdown",
   "metadata": {},
   "source": [
    "That looks pretty good. Let's review what each column means: <br>\n",
    "- first_total: total $ spend on first order <br>\n",
    "- Marketing_first: whether they accept marketing on the first order <br>\n",
    "- first_items: number of items on first order <br>\n",
    "- first_order: date-time of first order <br>\n",
    "- server: domain name of the customer email server <br>\n",
    "- vendor: 0 = first order from company; 1 = first order from outside source <br>\n",
    "- Source: web or iphone\n",
    "- Area_Code: area code of order placed\n",
    "- Ship_Zip: zip code of shipping address\n",
    "- lead_sku: name of SKU that was lead item on purchase\n",
    "- weekday: day of week first order was placed\n",
    "- mon: month that first order was placed\n",
    "- first_tot_lg: log of first order total\n",
    "- first_it_lg: log of number of items in first order <br>\n",
    "<br>\n",
    "The values for some of these catagorical features need to be converted to numbers"
   ]
  },
  {
   "cell_type": "code",
   "execution_count": 56,
   "metadata": {},
   "outputs": [
    {
     "data": {
      "text/plain": [
       "web        33949\n",
       "1356615     5423\n",
       "294517       273\n",
       "457101        67\n",
       "580111        16\n",
       "412739         2\n",
       "Name: Source, dtype: int64"
      ]
     },
     "execution_count": 56,
     "metadata": {},
     "output_type": "execute_result"
    }
   ],
   "source": [
    "X['Source'].value_counts()"
   ]
  },
  {
   "cell_type": "code",
   "execution_count": 57,
   "metadata": {},
   "outputs": [],
   "source": [
    "# let's drop first order item log\n",
    "X.drop('first_it_lg', axis=1, inplace=True)"
   ]
  },
  {
   "cell_type": "code",
   "execution_count": 58,
   "metadata": {},
   "outputs": [
    {
     "name": "stdout",
     "output_type": "stream",
     "text": [
      "<class 'pandas.core.frame.DataFrame'>\n",
      "Int64Index: 39730 entries, 1 to 39770\n",
      "Data columns (total 13 columns):\n",
      " #   Column           Non-Null Count  Dtype              \n",
      "---  ------           --------------  -----              \n",
      " 0   first_total      39730 non-null  float64            \n",
      " 1   Marketing_first  39730 non-null  int64              \n",
      " 2   first_items      39730 non-null  int64              \n",
      " 3   first_order      39730 non-null  datetime64[ns, UTC]\n",
      " 4   server           39730 non-null  object             \n",
      " 5   Vendor           39730 non-null  float64            \n",
      " 6   Source           39730 non-null  object             \n",
      " 7   Area_Code        39730 non-null  object             \n",
      " 8   Ship_Zip         39730 non-null  object             \n",
      " 9   lead_sku         39730 non-null  object             \n",
      " 10  weekday          39730 non-null  object             \n",
      " 11  mon              39730 non-null  object             \n",
      " 12  first_tot_lg     39730 non-null  float64            \n",
      "dtypes: datetime64[ns, UTC](1), float64(3), int64(2), object(7)\n",
      "memory usage: 4.2+ MB\n"
     ]
    }
   ],
   "source": [
    "X.info()"
   ]
  },
  {
   "cell_type": "markdown",
   "metadata": {},
   "source": [
    "traditional regression can't handle date-time, so we'll drop that"
   ]
  },
  {
   "cell_type": "code",
   "execution_count": 59,
   "metadata": {},
   "outputs": [],
   "source": [
    "# drop date-time\n",
    "X.drop('first_order', axis=1, inplace=True)"
   ]
  },
  {
   "cell_type": "markdown",
   "metadata": {},
   "source": [
    "features that need dummy variables:\n",
    "- server\n",
    "- source\n",
    "- Area_Code\n",
    "- Ship_Zip\n",
    "- lead_sku\n",
    "- weekday\n",
    "- mon <br>\n",
    "<br>\n",
    "Let's look at the size of these"
   ]
  },
  {
   "cell_type": "code",
   "execution_count": 60,
   "metadata": {},
   "outputs": [
    {
     "data": {
      "text/plain": [
       "26"
      ]
     },
     "execution_count": 60,
     "metadata": {},
     "output_type": "execute_result"
    }
   ],
   "source": [
    "X['server'].nunique()"
   ]
  },
  {
   "cell_type": "code",
   "execution_count": 61,
   "metadata": {},
   "outputs": [
    {
     "data": {
      "text/plain": [
       "6"
      ]
     },
     "execution_count": 61,
     "metadata": {},
     "output_type": "execute_result"
    }
   ],
   "source": [
    "X['Source'].nunique()"
   ]
  },
  {
   "cell_type": "code",
   "execution_count": 62,
   "metadata": {},
   "outputs": [
    {
     "data": {
      "text/plain": [
       "373"
      ]
     },
     "execution_count": 62,
     "metadata": {},
     "output_type": "execute_result"
    }
   ],
   "source": [
    "X['Area_Code'].nunique()"
   ]
  },
  {
   "cell_type": "markdown",
   "metadata": {},
   "source": [
    "This is too man catagorical variables for this feature. I wonder if there are high concentrations of purchases in some zip codes that we could account for"
   ]
  },
  {
   "cell_type": "code",
   "execution_count": 63,
   "metadata": {},
   "outputs": [
    {
     "data": {
      "text/plain": [
       "unknown    21387\n",
       "949          273\n",
       "714          204\n",
       "720          161\n",
       "760          155\n",
       "310          148\n",
       "214          144\n",
       "512          144\n",
       "817          139\n",
       "801          135\n",
       "757          132\n",
       "917          131\n",
       "208          131\n",
       "909          130\n",
       "503          130\n",
       "704          129\n",
       "916          129\n",
       "360          128\n",
       "619          127\n",
       "480          121\n",
       "Name: Area_Code, dtype: int64"
      ]
     },
     "execution_count": 63,
     "metadata": {},
     "output_type": "execute_result"
    }
   ],
   "source": [
    "X['Area_Code'].value_counts().head(20)"
   ]
  },
  {
   "cell_type": "markdown",
   "metadata": {},
   "source": [
    "There are 40k customers, so the largest area code makes up 0.68% of total orders. I think this feature is too small and would add unnecessary dimensions. We will drop."
   ]
  },
  {
   "cell_type": "code",
   "execution_count": 64,
   "metadata": {},
   "outputs": [],
   "source": [
    "X.drop('Area_Code', axis=1, inplace=True)"
   ]
  },
  {
   "cell_type": "code",
   "execution_count": 65,
   "metadata": {
    "scrolled": true
   },
   "outputs": [
    {
     "data": {
      "text/plain": [
       "15930"
      ]
     },
     "execution_count": 65,
     "metadata": {},
     "output_type": "execute_result"
    }
   ],
   "source": [
    "X['Ship_Zip'].nunique()"
   ]
  },
  {
   "cell_type": "markdown",
   "metadata": {},
   "source": [
    "That is way too many features. Unless they are very concentrated in a few zip codes, we'll drop it."
   ]
  },
  {
   "cell_type": "code",
   "execution_count": 66,
   "metadata": {
    "scrolled": false
   },
   "outputs": [
    {
     "data": {
      "text/plain": [
       "92688      48\n",
       "92692      48\n",
       "unknown    48\n",
       "92691      46\n",
       "28532      41\n",
       "92694      40\n",
       "92630      39\n",
       "92627      38\n",
       "92656      31\n",
       "92679      29\n",
       "92677      27\n",
       "92675      25\n",
       "92672      24\n",
       "92626      23\n",
       "92629      22\n",
       "80013      22\n",
       "92592      22\n",
       "92660      21\n",
       "79936      20\n",
       "93551      20\n",
       "Name: Ship_Zip, dtype: int64"
      ]
     },
     "execution_count": 66,
     "metadata": {},
     "output_type": "execute_result"
    }
   ],
   "source": [
    "X['Ship_Zip'].value_counts().head(20)"
   ]
  },
  {
   "cell_type": "code",
   "execution_count": null,
   "metadata": {},
   "outputs": [],
   "source": []
  },
  {
   "cell_type": "code",
   "execution_count": 67,
   "metadata": {},
   "outputs": [],
   "source": [
    "# drop that feature\n",
    "X.drop('Ship_Zip', axis=1, inplace=True)"
   ]
  },
  {
   "cell_type": "code",
   "execution_count": 68,
   "metadata": {},
   "outputs": [
    {
     "data": {
      "text/plain": [
       "26"
      ]
     },
     "execution_count": 68,
     "metadata": {},
     "output_type": "execute_result"
    }
   ],
   "source": [
    "X['lead_sku'].nunique()"
   ]
  },
  {
   "cell_type": "markdown",
   "metadata": {},
   "source": [
    "We know how many variables for days of the week and month there are. This means we should see: <br>\n",
    "- server: 26\n",
    "- source: 6\n",
    "- lead_sku: 26\n",
    "- weekday: 7\n",
    "- mon: 12 <br>\n",
    "- total: 77 more freatures <br>\n",
    "<br>\n",
    "That seems reasonable"
   ]
  },
  {
   "cell_type": "code",
   "execution_count": 69,
   "metadata": {},
   "outputs": [],
   "source": [
    "# dummy for server ##\n",
    "dfs = X['server']\n",
    "dummy_server = pd.get_dummies(dfs)\n",
    "X = pd.concat([X.drop('server', axis=1), dummy_server], axis=1)"
   ]
  },
  {
   "cell_type": "code",
   "execution_count": 70,
   "metadata": {},
   "outputs": [],
   "source": [
    "# Dummy for Source\n",
    "dfs = X['Source']\n",
    "dummy_source = pd.get_dummies(dfs)\n",
    "X = pd.concat([X.drop('Source', axis=1), dummy_source], axis=1)"
   ]
  },
  {
   "cell_type": "code",
   "execution_count": 71,
   "metadata": {},
   "outputs": [],
   "source": [
    "# Dummy for lead_sku\n",
    "dfs = X['lead_sku']\n",
    "dummy_source = pd.get_dummies(dfs)\n",
    "X = pd.concat([X.drop('lead_sku', axis=1), dummy_source], axis=1)"
   ]
  },
  {
   "cell_type": "code",
   "execution_count": 72,
   "metadata": {},
   "outputs": [],
   "source": [
    "# Dummy for weekday\n",
    "dfs = X['weekday']\n",
    "dummy_source = pd.get_dummies(dfs)\n",
    "X = pd.concat([X.drop('weekday', axis=1), dummy_source], axis=1)"
   ]
  },
  {
   "cell_type": "code",
   "execution_count": 73,
   "metadata": {},
   "outputs": [
    {
     "data": {
      "text/html": [
       "<div>\n",
       "<style scoped>\n",
       "    .dataframe tbody tr th:only-of-type {\n",
       "        vertical-align: middle;\n",
       "    }\n",
       "\n",
       "    .dataframe tbody tr th {\n",
       "        vertical-align: top;\n",
       "    }\n",
       "\n",
       "    .dataframe thead th {\n",
       "        text-align: right;\n",
       "    }\n",
       "</style>\n",
       "<table border=\"1\" class=\"dataframe\">\n",
       "  <thead>\n",
       "    <tr style=\"text-align: right;\">\n",
       "      <th></th>\n",
       "      <th>first_total</th>\n",
       "      <th>Marketing_first</th>\n",
       "      <th>first_items</th>\n",
       "      <th>Vendor</th>\n",
       "      <th>first_tot_lg</th>\n",
       "      <th>aim.com</th>\n",
       "      <th>aol.com</th>\n",
       "      <th>att.net</th>\n",
       "      <th>bellsouth.net</th>\n",
       "      <th>charter.net</th>\n",
       "      <th>...</th>\n",
       "      <th>December</th>\n",
       "      <th>February</th>\n",
       "      <th>January</th>\n",
       "      <th>July</th>\n",
       "      <th>June</th>\n",
       "      <th>March</th>\n",
       "      <th>May</th>\n",
       "      <th>November</th>\n",
       "      <th>October</th>\n",
       "      <th>September</th>\n",
       "    </tr>\n",
       "  </thead>\n",
       "  <tbody>\n",
       "    <tr>\n",
       "      <th>1</th>\n",
       "      <td>145.58</td>\n",
       "      <td>1</td>\n",
       "      <td>2</td>\n",
       "      <td>1.0</td>\n",
       "      <td>2.163102</td>\n",
       "      <td>0</td>\n",
       "      <td>0</td>\n",
       "      <td>0</td>\n",
       "      <td>0</td>\n",
       "      <td>0</td>\n",
       "      <td>...</td>\n",
       "      <td>0</td>\n",
       "      <td>0</td>\n",
       "      <td>0</td>\n",
       "      <td>0</td>\n",
       "      <td>0</td>\n",
       "      <td>0</td>\n",
       "      <td>0</td>\n",
       "      <td>1</td>\n",
       "      <td>0</td>\n",
       "      <td>0</td>\n",
       "    </tr>\n",
       "    <tr>\n",
       "      <th>2</th>\n",
       "      <td>137.55</td>\n",
       "      <td>0</td>\n",
       "      <td>5</td>\n",
       "      <td>1.0</td>\n",
       "      <td>2.138461</td>\n",
       "      <td>0</td>\n",
       "      <td>0</td>\n",
       "      <td>0</td>\n",
       "      <td>0</td>\n",
       "      <td>0</td>\n",
       "      <td>...</td>\n",
       "      <td>0</td>\n",
       "      <td>0</td>\n",
       "      <td>0</td>\n",
       "      <td>0</td>\n",
       "      <td>0</td>\n",
       "      <td>0</td>\n",
       "      <td>0</td>\n",
       "      <td>1</td>\n",
       "      <td>0</td>\n",
       "      <td>0</td>\n",
       "    </tr>\n",
       "    <tr>\n",
       "      <th>3</th>\n",
       "      <td>22.98</td>\n",
       "      <td>1</td>\n",
       "      <td>2</td>\n",
       "      <td>1.0</td>\n",
       "      <td>1.361350</td>\n",
       "      <td>0</td>\n",
       "      <td>0</td>\n",
       "      <td>0</td>\n",
       "      <td>0</td>\n",
       "      <td>0</td>\n",
       "      <td>...</td>\n",
       "      <td>0</td>\n",
       "      <td>0</td>\n",
       "      <td>0</td>\n",
       "      <td>0</td>\n",
       "      <td>0</td>\n",
       "      <td>0</td>\n",
       "      <td>0</td>\n",
       "      <td>1</td>\n",
       "      <td>0</td>\n",
       "      <td>0</td>\n",
       "    </tr>\n",
       "    <tr>\n",
       "      <th>4</th>\n",
       "      <td>28.00</td>\n",
       "      <td>0</td>\n",
       "      <td>1</td>\n",
       "      <td>0.0</td>\n",
       "      <td>1.447158</td>\n",
       "      <td>0</td>\n",
       "      <td>0</td>\n",
       "      <td>0</td>\n",
       "      <td>0</td>\n",
       "      <td>0</td>\n",
       "      <td>...</td>\n",
       "      <td>0</td>\n",
       "      <td>0</td>\n",
       "      <td>0</td>\n",
       "      <td>0</td>\n",
       "      <td>0</td>\n",
       "      <td>0</td>\n",
       "      <td>0</td>\n",
       "      <td>0</td>\n",
       "      <td>0</td>\n",
       "      <td>0</td>\n",
       "    </tr>\n",
       "    <tr>\n",
       "      <th>5</th>\n",
       "      <td>12.00</td>\n",
       "      <td>1</td>\n",
       "      <td>1</td>\n",
       "      <td>0.0</td>\n",
       "      <td>1.079181</td>\n",
       "      <td>0</td>\n",
       "      <td>0</td>\n",
       "      <td>0</td>\n",
       "      <td>0</td>\n",
       "      <td>0</td>\n",
       "      <td>...</td>\n",
       "      <td>0</td>\n",
       "      <td>0</td>\n",
       "      <td>0</td>\n",
       "      <td>0</td>\n",
       "      <td>0</td>\n",
       "      <td>0</td>\n",
       "      <td>0</td>\n",
       "      <td>0</td>\n",
       "      <td>0</td>\n",
       "      <td>0</td>\n",
       "    </tr>\n",
       "    <tr>\n",
       "      <th>...</th>\n",
       "      <td>...</td>\n",
       "      <td>...</td>\n",
       "      <td>...</td>\n",
       "      <td>...</td>\n",
       "      <td>...</td>\n",
       "      <td>...</td>\n",
       "      <td>...</td>\n",
       "      <td>...</td>\n",
       "      <td>...</td>\n",
       "      <td>...</td>\n",
       "      <td>...</td>\n",
       "      <td>...</td>\n",
       "      <td>...</td>\n",
       "      <td>...</td>\n",
       "      <td>...</td>\n",
       "      <td>...</td>\n",
       "      <td>...</td>\n",
       "      <td>...</td>\n",
       "      <td>...</td>\n",
       "      <td>...</td>\n",
       "      <td>...</td>\n",
       "    </tr>\n",
       "    <tr>\n",
       "      <th>39766</th>\n",
       "      <td>27.98</td>\n",
       "      <td>0</td>\n",
       "      <td>2</td>\n",
       "      <td>1.0</td>\n",
       "      <td>1.446848</td>\n",
       "      <td>0</td>\n",
       "      <td>0</td>\n",
       "      <td>0</td>\n",
       "      <td>0</td>\n",
       "      <td>0</td>\n",
       "      <td>...</td>\n",
       "      <td>0</td>\n",
       "      <td>0</td>\n",
       "      <td>0</td>\n",
       "      <td>0</td>\n",
       "      <td>0</td>\n",
       "      <td>0</td>\n",
       "      <td>0</td>\n",
       "      <td>0</td>\n",
       "      <td>0</td>\n",
       "      <td>1</td>\n",
       "    </tr>\n",
       "    <tr>\n",
       "      <th>39767</th>\n",
       "      <td>59.97</td>\n",
       "      <td>0</td>\n",
       "      <td>2</td>\n",
       "      <td>1.0</td>\n",
       "      <td>1.777934</td>\n",
       "      <td>0</td>\n",
       "      <td>0</td>\n",
       "      <td>0</td>\n",
       "      <td>0</td>\n",
       "      <td>0</td>\n",
       "      <td>...</td>\n",
       "      <td>0</td>\n",
       "      <td>0</td>\n",
       "      <td>0</td>\n",
       "      <td>0</td>\n",
       "      <td>0</td>\n",
       "      <td>0</td>\n",
       "      <td>0</td>\n",
       "      <td>0</td>\n",
       "      <td>0</td>\n",
       "      <td>1</td>\n",
       "    </tr>\n",
       "    <tr>\n",
       "      <th>39768</th>\n",
       "      <td>54.97</td>\n",
       "      <td>1</td>\n",
       "      <td>2</td>\n",
       "      <td>1.0</td>\n",
       "      <td>1.740126</td>\n",
       "      <td>0</td>\n",
       "      <td>0</td>\n",
       "      <td>0</td>\n",
       "      <td>0</td>\n",
       "      <td>0</td>\n",
       "      <td>...</td>\n",
       "      <td>0</td>\n",
       "      <td>0</td>\n",
       "      <td>0</td>\n",
       "      <td>0</td>\n",
       "      <td>0</td>\n",
       "      <td>0</td>\n",
       "      <td>0</td>\n",
       "      <td>0</td>\n",
       "      <td>0</td>\n",
       "      <td>1</td>\n",
       "    </tr>\n",
       "    <tr>\n",
       "      <th>39769</th>\n",
       "      <td>90.68</td>\n",
       "      <td>0</td>\n",
       "      <td>3</td>\n",
       "      <td>1.0</td>\n",
       "      <td>1.957512</td>\n",
       "      <td>0</td>\n",
       "      <td>0</td>\n",
       "      <td>0</td>\n",
       "      <td>0</td>\n",
       "      <td>0</td>\n",
       "      <td>...</td>\n",
       "      <td>0</td>\n",
       "      <td>0</td>\n",
       "      <td>0</td>\n",
       "      <td>0</td>\n",
       "      <td>0</td>\n",
       "      <td>0</td>\n",
       "      <td>0</td>\n",
       "      <td>0</td>\n",
       "      <td>0</td>\n",
       "      <td>1</td>\n",
       "    </tr>\n",
       "    <tr>\n",
       "      <th>39770</th>\n",
       "      <td>25.00</td>\n",
       "      <td>0</td>\n",
       "      <td>1</td>\n",
       "      <td>0.0</td>\n",
       "      <td>1.397940</td>\n",
       "      <td>0</td>\n",
       "      <td>0</td>\n",
       "      <td>0</td>\n",
       "      <td>0</td>\n",
       "      <td>0</td>\n",
       "      <td>...</td>\n",
       "      <td>0</td>\n",
       "      <td>0</td>\n",
       "      <td>0</td>\n",
       "      <td>0</td>\n",
       "      <td>0</td>\n",
       "      <td>0</td>\n",
       "      <td>0</td>\n",
       "      <td>0</td>\n",
       "      <td>0</td>\n",
       "      <td>1</td>\n",
       "    </tr>\n",
       "  </tbody>\n",
       "</table>\n",
       "<p>39730 rows × 82 columns</p>\n",
       "</div>"
      ],
      "text/plain": [
       "       first_total  Marketing_first  first_items  Vendor  first_tot_lg  \\\n",
       "1           145.58                1            2     1.0      2.163102   \n",
       "2           137.55                0            5     1.0      2.138461   \n",
       "3            22.98                1            2     1.0      1.361350   \n",
       "4            28.00                0            1     0.0      1.447158   \n",
       "5            12.00                1            1     0.0      1.079181   \n",
       "...            ...              ...          ...     ...           ...   \n",
       "39766        27.98                0            2     1.0      1.446848   \n",
       "39767        59.97                0            2     1.0      1.777934   \n",
       "39768        54.97                1            2     1.0      1.740126   \n",
       "39769        90.68                0            3     1.0      1.957512   \n",
       "39770        25.00                0            1     0.0      1.397940   \n",
       "\n",
       "       aim.com  aol.com  att.net  bellsouth.net  charter.net  ...  December  \\\n",
       "1            0        0        0              0            0  ...         0   \n",
       "2            0        0        0              0            0  ...         0   \n",
       "3            0        0        0              0            0  ...         0   \n",
       "4            0        0        0              0            0  ...         0   \n",
       "5            0        0        0              0            0  ...         0   \n",
       "...        ...      ...      ...            ...          ...  ...       ...   \n",
       "39766        0        0        0              0            0  ...         0   \n",
       "39767        0        0        0              0            0  ...         0   \n",
       "39768        0        0        0              0            0  ...         0   \n",
       "39769        0        0        0              0            0  ...         0   \n",
       "39770        0        0        0              0            0  ...         0   \n",
       "\n",
       "       February  January  July  June  March  May  November  October  September  \n",
       "1             0        0     0     0      0    0         1        0          0  \n",
       "2             0        0     0     0      0    0         1        0          0  \n",
       "3             0        0     0     0      0    0         1        0          0  \n",
       "4             0        0     0     0      0    0         0        0          0  \n",
       "5             0        0     0     0      0    0         0        0          0  \n",
       "...         ...      ...   ...   ...    ...  ...       ...      ...        ...  \n",
       "39766         0        0     0     0      0    0         0        0          1  \n",
       "39767         0        0     0     0      0    0         0        0          1  \n",
       "39768         0        0     0     0      0    0         0        0          1  \n",
       "39769         0        0     0     0      0    0         0        0          1  \n",
       "39770         0        0     0     0      0    0         0        0          1  \n",
       "\n",
       "[39730 rows x 82 columns]"
      ]
     },
     "execution_count": 73,
     "metadata": {},
     "output_type": "execute_result"
    }
   ],
   "source": [
    "# Dummy for weekday\n",
    "dfs = X['mon']\n",
    "dummy_source = pd.get_dummies(dfs)\n",
    "X = pd.concat([X.drop('mon', axis=1), dummy_source], axis=1)\n",
    "X"
   ]
  },
  {
   "cell_type": "markdown",
   "metadata": {},
   "source": [
    "That looks good. Let's load Y."
   ]
  },
  {
   "cell_type": "code",
   "execution_count": 74,
   "metadata": {},
   "outputs": [
    {
     "data": {
      "text/plain": [
       "1     2.163102\n",
       "2     2.138461\n",
       "3     1.361350\n",
       "4     1.447158\n",
       "5     1.079181\n",
       "6     1.623249\n",
       "7     1.434569\n",
       "8     1.342423\n",
       "9     2.000000\n",
       "10    1.563955\n",
       "Name: life_lg, dtype: float64"
      ]
     },
     "execution_count": 74,
     "metadata": {},
     "output_type": "execute_result"
    }
   ],
   "source": [
    "# load picked version of X\n",
    "y = pickle.load(open(\"Y1.pkl\", \"rb\"))\n",
    "# look at the first 10 rows of this file\n",
    "y.head(10)"
   ]
  },
  {
   "cell_type": "code",
   "execution_count": 75,
   "metadata": {},
   "outputs": [],
   "source": [
    "# let's scale the X values\n",
    "# Here we use the StandardScaler() method of the preprocessing package, and then call the fit() method with parameter X \n",
    "scaler = preprocessing.StandardScaler().fit(X)\n",
    "# Declare a variable called X_scaled, and assign it the result of calling the transform() method with parameter X \n",
    "X_scaled=scaler.transform(X)"
   ]
  },
  {
   "cell_type": "code",
   "execution_count": 76,
   "metadata": {},
   "outputs": [],
   "source": [
    "# let's split the training and test sets\n",
    "from sklearn.model_selection import train_test_split\n",
    "\n",
    "# Get the 1-dimensional flattened array of our response variable y by calling the ravel() function on y\n",
    "y = y.ravel()\n",
    "\n",
    "# let's do the split\n",
    "X_train, X_test, y_train, y_test = train_test_split(X_scaled, y, test_size=0.20, random_state=1)"
   ]
  },
  {
   "cell_type": "code",
   "execution_count": 77,
   "metadata": {
    "scrolled": true
   },
   "outputs": [
    {
     "data": {
      "text/plain": [
       "(1.8158008483225205, 1.8162965793223824)"
      ]
     },
     "execution_count": 77,
     "metadata": {},
     "output_type": "execute_result"
    }
   ],
   "source": [
    "# let's quickly check that the Y means to make sure the data sets are similiar\n",
    "y_train.mean(), y_test.mean()"
   ]
  },
  {
   "cell_type": "markdown",
   "metadata": {},
   "source": [
    "Those look reasonably close. <br>\n",
    "<br>\n",
    "That is the end of preprocessing. Time to model. "
   ]
  },
  {
   "cell_type": "markdown",
   "metadata": {},
   "source": [
    "## 2. Modeling\n",
    "We will try a few different models: <br>\n",
    "- Linear Regression\n",
    "- Random Forest Regressor\n",
    "- Dummy Model (assume every customer is average)"
   ]
  },
  {
   "cell_type": "markdown",
   "metadata": {},
   "source": [
    "#### Model 1: Linear Regression"
   ]
  },
  {
   "cell_type": "code",
   "execution_count": 78,
   "metadata": {},
   "outputs": [],
   "source": [
    "#first model from X-train\n",
    "from sklearn import linear_model\n",
    "from sklearn.metrics import explained_variance_score, mean_absolute_error, mean_squared_error\n",
    "lm = linear_model.LinearRegression()\n",
    "model = lm.fit(X_train,y_train)"
   ]
  },
  {
   "cell_type": "code",
   "execution_count": 79,
   "metadata": {},
   "outputs": [
    {
     "data": {
      "text/plain": [
       "50444183616.4365"
      ]
     },
     "execution_count": 79,
     "metadata": {},
     "output_type": "execute_result"
    }
   ],
   "source": [
    "# predicted results from the first model on the X_test values\n",
    "y_pred = model.predict(X_test)\n",
    "# Mean Absolute Error\n",
    "m1_MAE = mean_absolute_error(y_test, y_pred)\n",
    "m1_MAE"
   ]
  },
  {
   "cell_type": "code",
   "execution_count": 80,
   "metadata": {},
   "outputs": [
    {
     "data": {
      "text/plain": [
       "1.0109758020001125e+25"
      ]
     },
     "execution_count": 80,
     "metadata": {},
     "output_type": "execute_result"
    }
   ],
   "source": [
    "# Mean Squared Error\n",
    "m1_MSE = mean_squared_error(y_test, y_pred)\n",
    "m1_MSE"
   ]
  },
  {
   "cell_type": "markdown",
   "metadata": {},
   "source": [
    "These values seem extremely high. I want to look at some of the values in the model really quick."
   ]
  },
  {
   "cell_type": "code",
   "execution_count": 81,
   "metadata": {},
   "outputs": [
    {
     "name": "stdout",
     "output_type": "stream",
     "text": [
      "10088836725.066\n"
     ]
    }
   ],
   "source": [
    "print(lm.intercept_)"
   ]
  },
  {
   "cell_type": "markdown",
   "metadata": {},
   "source": [
    "That seems way off with linear regression. Let's see if Random Forest Regressor looks any better"
   ]
  },
  {
   "cell_type": "markdown",
   "metadata": {},
   "source": [
    "#### 2. Random Forest Regressor"
   ]
  },
  {
   "cell_type": "code",
   "execution_count": 82,
   "metadata": {},
   "outputs": [],
   "source": [
    "from sklearn.ensemble import RandomForestRegressor"
   ]
  },
  {
   "cell_type": "code",
   "execution_count": 83,
   "metadata": {},
   "outputs": [],
   "source": [
    "# using a minimum sample of 40 or 1/1000th of the total number of customers\n",
    "regr = RandomForestRegressor(min_samples_leaf=40, random_state=33)\n",
    "model_rf = regr.fit(X_train,y_train)\n",
    "y_pred_rf = regr.predict(X_test)"
   ]
  },
  {
   "cell_type": "code",
   "execution_count": 84,
   "metadata": {},
   "outputs": [
    {
     "data": {
      "text/plain": [
       "0.18474874822669013"
      ]
     },
     "execution_count": 84,
     "metadata": {},
     "output_type": "execute_result"
    }
   ],
   "source": [
    "# Mean Absolute Error\n",
    "m2_MAE = mean_absolute_error(y_test, y_pred_rf)\n",
    "m2_MAE"
   ]
  },
  {
   "cell_type": "code",
   "execution_count": 85,
   "metadata": {},
   "outputs": [
    {
     "data": {
      "text/plain": [
       "0.06807649032099493"
      ]
     },
     "execution_count": 85,
     "metadata": {},
     "output_type": "execute_result"
    }
   ],
   "source": [
    "# Mean Squared Error\n",
    "m2_MSE = mean_squared_error(y_test, y_pred_rf)\n",
    "m2_MSE"
   ]
  },
  {
   "cell_type": "code",
   "execution_count": 87,
   "metadata": {},
   "outputs": [
    {
     "data": {
      "text/plain": [
       "0.2609147184828693"
      ]
     },
     "execution_count": 87,
     "metadata": {},
     "output_type": "execute_result"
    }
   ],
   "source": [
    "# root mean squared error\n",
    "m2_RMSE = m2_MSE**0.5\n",
    "m2_RMSE"
   ]
  },
  {
   "cell_type": "markdown",
   "metadata": {},
   "source": [
    "That is so much better! <br>\n",
    "Let's look at the importance of each feature"
   ]
  },
  {
   "cell_type": "code",
   "execution_count": 88,
   "metadata": {},
   "outputs": [
    {
     "data": {
      "text/html": [
       "<div>\n",
       "<style scoped>\n",
       "    .dataframe tbody tr th:only-of-type {\n",
       "        vertical-align: middle;\n",
       "    }\n",
       "\n",
       "    .dataframe tbody tr th {\n",
       "        vertical-align: top;\n",
       "    }\n",
       "\n",
       "    .dataframe thead th {\n",
       "        text-align: right;\n",
       "    }\n",
       "</style>\n",
       "<table border=\"1\" class=\"dataframe\">\n",
       "  <thead>\n",
       "    <tr style=\"text-align: right;\">\n",
       "      <th></th>\n",
       "      <th>Importance</th>\n",
       "    </tr>\n",
       "  </thead>\n",
       "  <tbody>\n",
       "    <tr>\n",
       "      <th>first_tot_lg</th>\n",
       "      <td>0.510678</td>\n",
       "    </tr>\n",
       "    <tr>\n",
       "      <th>first_total</th>\n",
       "      <td>0.430523</td>\n",
       "    </tr>\n",
       "    <tr>\n",
       "      <th>November</th>\n",
       "      <td>0.011758</td>\n",
       "    </tr>\n",
       "    <tr>\n",
       "      <th>1356615</th>\n",
       "      <td>0.007362</td>\n",
       "    </tr>\n",
       "    <tr>\n",
       "      <th>first_items</th>\n",
       "      <td>0.003863</td>\n",
       "    </tr>\n",
       "    <tr>\n",
       "      <th>gmail.com</th>\n",
       "      <td>0.003772</td>\n",
       "    </tr>\n",
       "    <tr>\n",
       "      <th>December</th>\n",
       "      <td>0.002964</td>\n",
       "    </tr>\n",
       "    <tr>\n",
       "      <th>Marketing_first</th>\n",
       "      <td>0.002945</td>\n",
       "    </tr>\n",
       "    <tr>\n",
       "      <th>January</th>\n",
       "      <td>0.002182</td>\n",
       "    </tr>\n",
       "    <tr>\n",
       "      <th>July</th>\n",
       "      <td>0.002089</td>\n",
       "    </tr>\n",
       "    <tr>\n",
       "      <th>February</th>\n",
       "      <td>0.001909</td>\n",
       "    </tr>\n",
       "    <tr>\n",
       "      <th>ROUTEINS10</th>\n",
       "      <td>0.001543</td>\n",
       "    </tr>\n",
       "    <tr>\n",
       "      <th>April</th>\n",
       "      <td>0.001373</td>\n",
       "    </tr>\n",
       "    <tr>\n",
       "      <th>other</th>\n",
       "      <td>0.001326</td>\n",
       "    </tr>\n",
       "    <tr>\n",
       "      <th>Vendor</th>\n",
       "      <td>0.001307</td>\n",
       "    </tr>\n",
       "    <tr>\n",
       "      <th>June</th>\n",
       "      <td>0.001301</td>\n",
       "    </tr>\n",
       "    <tr>\n",
       "      <th>yahoo.com</th>\n",
       "      <td>0.001148</td>\n",
       "    </tr>\n",
       "    <tr>\n",
       "      <th>May</th>\n",
       "      <td>0.000947</td>\n",
       "    </tr>\n",
       "    <tr>\n",
       "      <th>Monday</th>\n",
       "      <td>0.000931</td>\n",
       "    </tr>\n",
       "    <tr>\n",
       "      <th>web</th>\n",
       "      <td>0.000898</td>\n",
       "    </tr>\n",
       "  </tbody>\n",
       "</table>\n",
       "</div>"
      ],
      "text/plain": [
       "                 Importance\n",
       "first_tot_lg       0.510678\n",
       "first_total        0.430523\n",
       "November           0.011758\n",
       "1356615            0.007362\n",
       "first_items        0.003863\n",
       "gmail.com          0.003772\n",
       "December           0.002964\n",
       "Marketing_first    0.002945\n",
       "January            0.002182\n",
       "July               0.002089\n",
       "February           0.001909\n",
       "ROUTEINS10         0.001543\n",
       "April              0.001373\n",
       "other              0.001326\n",
       "Vendor             0.001307\n",
       "June               0.001301\n",
       "yahoo.com          0.001148\n",
       "May                0.000947\n",
       "Monday             0.000931\n",
       "web                0.000898"
      ]
     },
     "execution_count": 88,
     "metadata": {},
     "output_type": "execute_result"
    }
   ],
   "source": [
    "coff_m2 = pd.DataFrame(model_rf.feature_importances_, X.columns, columns=['Importance'])\n",
    "coff_m2.sort_values('Importance', ascending=False).head(20)"
   ]
  },
  {
   "cell_type": "markdown",
   "metadata": {},
   "source": [
    "These are good see. <br>\n",
    "We may want to use these values to eliminate some variable from the regression model, but first let's compare the RMSE and AMSE to a dummy model that just assumes very customer is average "
   ]
  },
  {
   "cell_type": "markdown",
   "metadata": {},
   "source": [
    "#### 3. Dummy Model (average)"
   ]
  },
  {
   "cell_type": "code",
   "execution_count": 89,
   "metadata": {},
   "outputs": [
    {
     "data": {
      "text/plain": [
       "0.29065108266816125"
      ]
     },
     "execution_count": 89,
     "metadata": {},
     "output_type": "execute_result"
    }
   ],
   "source": [
    "# assume the model is the average of the training data (we know this value)\n",
    "y_pred_dm = np.full(y_test.size, y_train.mean())\n",
    "# Mean Absolute Error\n",
    "m3_MAE = mean_absolute_error(y_test, y_pred_dm)\n",
    "m3_MAE"
   ]
  },
  {
   "cell_type": "code",
   "execution_count": 90,
   "metadata": {},
   "outputs": [
    {
     "data": {
      "text/plain": [
       "0.14451655741084168"
      ]
     },
     "execution_count": 90,
     "metadata": {},
     "output_type": "execute_result"
    }
   ],
   "source": [
    "# Mean Squared Error\n",
    "m3_MSE = mean_squared_error(y_test, y_pred_dm)\n",
    "m3_MSE"
   ]
  },
  {
   "cell_type": "code",
   "execution_count": 91,
   "metadata": {},
   "outputs": [
    {
     "data": {
      "text/plain": [
       "0.38015333407829227"
      ]
     },
     "execution_count": 91,
     "metadata": {},
     "output_type": "execute_result"
    }
   ],
   "source": [
    "# root mean squared error\n",
    "m3_RMSE = m3_MSE**0.5\n",
    "m3_RMSE"
   ]
  },
  {
   "cell_type": "markdown",
   "metadata": {},
   "source": [
    "These are worse than the Random Forest Regressor, so that's a good thing"
   ]
  },
  {
   "cell_type": "code",
   "execution_count": 92,
   "metadata": {},
   "outputs": [
    {
     "data": {
      "text/plain": [
       "0.11923861559542298"
      ]
     },
     "execution_count": 92,
     "metadata": {},
     "output_type": "execute_result"
    }
   ],
   "source": [
    "# difference in root mean squared error between the two models\n",
    "diff = m3_RMSE - m2_RMSE\n",
    "diff"
   ]
  },
  {
   "cell_type": "code",
   "execution_count": 93,
   "metadata": {},
   "outputs": [
    {
     "data": {
      "text/plain": [
       "1.3159476582939336"
      ]
     },
     "execution_count": 93,
     "metadata": {},
     "output_type": "execute_result"
    }
   ],
   "source": [
    "# lifetime dollar value of that difference\n",
    "10**diff"
   ]
  },
  {
   "cell_type": "markdown",
   "metadata": {},
   "source": [
    "That is honestly not that impressive, but is still better than the dummy model."
   ]
  },
  {
   "cell_type": "code",
   "execution_count": null,
   "metadata": {},
   "outputs": [],
   "source": []
  }
 ],
 "metadata": {
  "kernelspec": {
   "display_name": "Python 3",
   "language": "python",
   "name": "python3"
  },
  "language_info": {
   "codemirror_mode": {
    "name": "ipython",
    "version": 3
   },
   "file_extension": ".py",
   "mimetype": "text/x-python",
   "name": "python",
   "nbconvert_exporter": "python",
   "pygments_lexer": "ipython3",
   "version": "3.7.6"
  }
 },
 "nbformat": 4,
 "nbformat_minor": 4
}
